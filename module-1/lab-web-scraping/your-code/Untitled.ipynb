{
 "cells": [
  {
   "cell_type": "code",
   "execution_count": 1,
   "metadata": {},
   "outputs": [],
   "source": [
    "import requests\n",
    "from bs4 import BeautifulSoup as bs"
   ]
  },
  {
   "cell_type": "code",
   "execution_count": 2,
   "metadata": {},
   "outputs": [
    {
     "name": "stdout",
     "output_type": "stream",
     "text": [
      "Defaulting to user installation because normal site-packages is not writeable\n",
      "Requirement already satisfied: beautifulsoup4 in /home/sromero/.local/lib/python3.6/site-packages (4.9.0)\n",
      "Requirement already satisfied: soupsieve>1.2 in /home/sromero/.local/lib/python3.6/site-packages (from beautifulsoup4) (2.0)\n"
     ]
    }
   ],
   "source": [
    "!pip3 install beautifulsoup4"
   ]
  },
  {
   "cell_type": "code",
   "execution_count": 3,
   "metadata": {},
   "outputs": [],
   "source": [
    "url= \"https://es.wikipedia.org/wiki/Videoconsola\""
   ]
  },
  {
   "cell_type": "code",
   "execution_count": 4,
   "metadata": {
    "scrolled": true
   },
   "outputs": [],
   "source": [
    "html=requests.get(url).content \n",
    "soup=bs(html, 'lxml')"
   ]
  },
  {
   "cell_type": "code",
   "execution_count": 5,
   "metadata": {},
   "outputs": [
    {
     "data": {
      "text/plain": [
       "bs4.BeautifulSoup"
      ]
     },
     "execution_count": 5,
     "metadata": {},
     "output_type": "execute_result"
    }
   ],
   "source": [
    "type(soup)\n"
   ]
  },
  {
   "cell_type": "code",
   "execution_count": 6,
   "metadata": {},
   "outputs": [
    {
     "data": {
      "text/plain": [
       "bs4.element.Tag"
      ]
     },
     "execution_count": 6,
     "metadata": {},
     "output_type": "execute_result"
    }
   ],
   "source": [
    "table=soup.find_all('table', {'class':'wikitable'})[0]  # primera y unica tabla\n",
    "type(table)"
   ]
  },
  {
   "cell_type": "code",
   "execution_count": 7,
   "metadata": {},
   "outputs": [
    {
     "data": {
      "text/plain": [
       "[<tr>\n",
       " <td valign=\"top\">\n",
       " <p><b>Generación</b>\n",
       " </p>\n",
       " </td>\n",
       " <th>\n",
       " <p>Periodo\n",
       " </p>\n",
       " </th>\n",
       " <th>\n",
       " <p>Bits\n",
       " </p>\n",
       " </th>\n",
       " <th>\n",
       " <p>Principales consolas\n",
       " </p>\n",
       " </th></tr>,\n",
       " <tr>\n",
       " <td><a href=\"/wiki/Videoconsolas_de_primera_generaci%C3%B3n\" title=\"Videoconsolas de primera generación\">Primera generación</a>\n",
       " </td>\n",
       " <td><a href=\"/wiki/1972\" title=\"1972\">1972</a>-<a href=\"/wiki/1976\" title=\"1976\">1976</a>\n",
       " </td>\n",
       " <td><a href=\"/wiki/4_bits\" title=\"4 bits\">4 bits</a>\n",
       " </td>\n",
       " <td><a href=\"/wiki/Magnavox_Odyssey\" title=\"Magnavox Odyssey\">Magnavox Odyssey</a>, <a href=\"/wiki/Coleco_Telstar\" title=\"Coleco Telstar\">Coleco Telstar</a>, <a class=\"mw-redirect\" href=\"/wiki/TV-Game_6\" title=\"TV-Game 6\">TV-Game 6</a>\n",
       " </td></tr>,\n",
       " <tr>\n",
       " <td><a href=\"/wiki/Videoconsolas_de_segunda_generaci%C3%B3n\" title=\"Videoconsolas de segunda generación\">Segunda generación</a>\n",
       " </td>\n",
       " <td><a href=\"/wiki/1976\" title=\"1976\">1976</a>-<a href=\"/wiki/1983\" title=\"1983\">1983</a>\n",
       " </td>\n",
       " <td><a href=\"/wiki/8_bits\" title=\"8 bits\">8 bits</a>\n",
       " </td>\n",
       " <td><a href=\"/wiki/Fairchild_Channel_F\" title=\"Fairchild Channel F\">Fairchild Channel F</a>, <a href=\"/wiki/Atari_2600\" title=\"Atari 2600\">Atari 2600</a>, <a href=\"/wiki/Magnavox_Odyssey%C2%B2\" title=\"Magnavox Odyssey²\">Magnavox Odyssey²</a>, Bally Astrocade, <a href=\"/wiki/Intellivision\" title=\"Intellivision\">Intellivision</a>, <a href=\"/wiki/Atari_5200\" title=\"Atari 5200\">Atari 5200</a>, <a href=\"/wiki/Vectrex\" title=\"Vectrex\">Vectrex</a>, <a href=\"/wiki/Arcadia_2001\" title=\"Arcadia 2001\">Arcadia 2001</a>, <a href=\"/wiki/ColecoVision\" title=\"ColecoVision\">ColecoVision</a>\n",
       " </td></tr>,\n",
       " <tr>\n",
       " <td><a href=\"/wiki/Videoconsolas_de_tercera_generaci%C3%B3n\" title=\"Videoconsolas de tercera generación\">Tercera generación</a>\n",
       " </td>\n",
       " <td><a href=\"/wiki/1983\" title=\"1983\">1983</a>-<a href=\"/wiki/1987\" title=\"1987\">1987</a>\n",
       " </td>\n",
       " <td><a href=\"/wiki/8_bits\" title=\"8 bits\">8 bits</a>\n",
       " </td>\n",
       " <td><a href=\"/wiki/Atari_7800\" title=\"Atari 7800\">Atari 7800</a>, <a href=\"/wiki/Nintendo_Entertainment_System\" title=\"Nintendo Entertainment System\">Nintendo Entertainment System</a>, <a class=\"mw-redirect\" href=\"/wiki/Sega_Master_System\" title=\"Sega Master System\">Sega Master System</a>, PV-1000, <a href=\"/wiki/Epoch_Cassette_Vision\" title=\"Epoch Cassette Vision\">Epoch Cassette Vision</a>, Supergame VG 3000, <a href=\"/wiki/SG-1000\" title=\"SG-1000\">Sega SG-1000</a>\n",
       " </td></tr>,\n",
       " <tr>\n",
       " <td><a href=\"/wiki/Videoconsolas_de_cuarta_generaci%C3%B3n\" title=\"Videoconsolas de cuarta generación\">Cuarta generación</a>\n",
       " </td>\n",
       " <td><a href=\"/wiki/1987\" title=\"1987\">1987</a>-<a href=\"/wiki/1993\" title=\"1993\">1993</a>\n",
       " </td>\n",
       " <td><a href=\"/wiki/16_bits\" title=\"16 bits\">16 bits</a>\n",
       " </td>\n",
       " <td><a class=\"mw-redirect\" href=\"/wiki/Sega_Mega_Drive\" title=\"Sega Mega Drive\">Sega Mega Drive</a>, <a href=\"/wiki/Neo-Geo\" title=\"Neo-Geo\">Neo-Geo</a>, <a href=\"/wiki/Neo_Geo_CD\" title=\"Neo Geo CD\">Neo Geo CD</a>, <a class=\"mw-redirect\" href=\"/wiki/Super_Nintendo_Entertainment_System\" title=\"Super Nintendo Entertainment System\">Super Nintendo Entertainment System</a>, <a href=\"/wiki/PC_Engine\" title=\"PC Engine\">TurboGrafx-16/PC Engine</a>, <a href=\"/wiki/CD-TV\" title=\"CD-TV\">CD-TV</a>, <a href=\"/wiki/CD-i\" title=\"CD-i\">CD-i</a>, <a href=\"/wiki/Super_A%27Can\" title=\"Super A'Can\">Super A'Can</a>\n",
       " </td></tr>,\n",
       " <tr>\n",
       " <td><a href=\"/wiki/Videoconsolas_de_quinta_generaci%C3%B3n\" title=\"Videoconsolas de quinta generación\">Quinta generación</a>\n",
       " </td>\n",
       " <td><a href=\"/wiki/1993\" title=\"1993\">1993</a>-<a href=\"/wiki/1998\" title=\"1998\">1998</a><sup class=\"reference separada\" id=\"cite_ref-4\"><a href=\"#cite_note-4\"><span class=\"corchete-llamada\">[</span>4<span class=\"corchete-llamada\">]</span></a></sup>​\n",
       " </td>\n",
       " <td><a href=\"/wiki/32_bits\" title=\"32 bits\">32 bits</a> y<br/><a href=\"/wiki/64_bits\" title=\"64 bits\">64 bits</a>\n",
       " </td>\n",
       " <td><a href=\"/wiki/3DO_Interactive_Multiplayer\" title=\"3DO Interactive Multiplayer\">3DO</a>, <a href=\"/wiki/AmigaCD32\" title=\"AmigaCD32\">AmigaCD32</a>, <a href=\"/wiki/Atari_Jaguar\" title=\"Atari Jaguar\">Atari Jaguar</a>, <a href=\"/wiki/Sega_Saturn\" title=\"Sega Saturn\">Sega Saturn</a>, <a href=\"/wiki/Virtual_Boy\" title=\"Virtual Boy\">Virtual Boy</a>, <a href=\"/wiki/PlayStation\" title=\"PlayStation\">PlayStation</a>, <a href=\"/wiki/Nintendo_64\" title=\"Nintendo 64\">Nintendo 64</a>, <a href=\"/wiki/Apple_Pippin\" title=\"Apple Pippin\">Apple Pippin</a>, <a href=\"/wiki/Casio_Loopy\" title=\"Casio Loopy\">Casio Loopy</a>, <a href=\"/wiki/PC-FX\" title=\"PC-FX\">PC-FX</a>, <a href=\"/wiki/Playdia\" title=\"Playdia\">Playdia</a>, <a href=\"/wiki/FM_Towns_Marty\" title=\"FM Towns Marty\">FM Towns Marty</a>\n",
       " </td></tr>,\n",
       " <tr>\n",
       " <td><a href=\"/wiki/Videoconsolas_de_sexta_generaci%C3%B3n\" title=\"Videoconsolas de sexta generación\">Sexta generación</a>\n",
       " </td>\n",
       " <td><a href=\"/wiki/1998\" title=\"1998\">1998</a>-<a href=\"/wiki/2005\" title=\"2005\">2005</a>\n",
       " </td>\n",
       " <td><a href=\"/wiki/128_bits\" title=\"128 bits\">128 bits</a>\n",
       " </td>\n",
       " <td><a class=\"mw-redirect\" href=\"/wiki/Sega_Dreamcast\" title=\"Sega Dreamcast\">Sega Dreamcast</a>, <a href=\"/wiki/PlayStation_2\" title=\"PlayStation 2\">PlayStation 2</a>, <a href=\"/wiki/Xbox\" title=\"Xbox\">Xbox</a> y <a href=\"/wiki/Nintendo_GameCube\" title=\"Nintendo GameCube\">Nintendo GameCube</a>\n",
       " </td></tr>,\n",
       " <tr>\n",
       " <td><a href=\"/wiki/Videoconsolas_de_s%C3%A9ptima_generaci%C3%B3n\" title=\"Videoconsolas de séptima generación\">Séptima generación</a>\n",
       " </td>\n",
       " <td><a href=\"/wiki/2005\" title=\"2005\">2005</a>-<a href=\"/wiki/2012\" title=\"2012\">2012</a>\n",
       " </td>\n",
       " <td>\n",
       " </td>\n",
       " <td><a href=\"/wiki/Xbox_360\" title=\"Xbox 360\">Xbox 360</a>, <a href=\"/wiki/PlayStation_3\" title=\"PlayStation 3\">PlayStation 3</a>, <a href=\"/wiki/Wii\" title=\"Wii\">Wii</a>\n",
       " </td></tr>,\n",
       " <tr>\n",
       " <td><a href=\"/wiki/Videoconsolas_de_octava_generaci%C3%B3n\" title=\"Videoconsolas de octava generación\">Octava generación</a>\n",
       " </td>\n",
       " <td><a href=\"/wiki/2012\" title=\"2012\">2012</a>-\n",
       " <p>2020\n",
       " </p>\n",
       " </td>\n",
       " <td>\n",
       " </td>\n",
       " <td><a href=\"/wiki/Wii_U\" title=\"Wii U\">Wii U</a>, <a href=\"/wiki/PlayStation_4\" title=\"PlayStation 4\">PlayStation 4</a>, <a href=\"/wiki/Xbox_One\" title=\"Xbox One\">Xbox One</a> y <a href=\"/wiki/Nintendo_Switch\" title=\"Nintendo Switch\">Nintendo Switch</a>\n",
       " </td></tr>]"
      ]
     },
     "execution_count": 7,
     "metadata": {},
     "output_type": "execute_result"
    }
   ],
   "source": [
    "rows=table.find_all('tr')\n",
    "rows"
   ]
  },
  {
   "cell_type": "code",
   "execution_count": 8,
   "metadata": {},
   "outputs": [
    {
     "data": {
      "text/plain": [
       "[['Generación',\n",
       "  '',\n",
       "  '',\n",
       "  '',\n",
       "  'Periodo',\n",
       "  '',\n",
       "  '',\n",
       "  '',\n",
       "  'Bits',\n",
       "  '',\n",
       "  '',\n",
       "  '',\n",
       "  'Principales consolas'],\n",
       " ['Primera generación',\n",
       "  '',\n",
       "  '1972-1976',\n",
       "  '',\n",
       "  '4 bits',\n",
       "  '',\n",
       "  'Magnavox Odyssey, Coleco Telstar, TV-Game 6'],\n",
       " ['Segunda generación',\n",
       "  '',\n",
       "  '1976-1983',\n",
       "  '',\n",
       "  '8 bits',\n",
       "  '',\n",
       "  'Fairchild Channel F, Atari 2600, Magnavox Odyssey², Bally Astrocade, Intellivision, Atari 5200, Vectrex, Arcadia 2001, ColecoVision'],\n",
       " ['Tercera generación',\n",
       "  '',\n",
       "  '1983-1987',\n",
       "  '',\n",
       "  '8 bits',\n",
       "  '',\n",
       "  'Atari 7800, Nintendo Entertainment System, Sega Master System, PV-1000, Epoch Cassette Vision, Supergame VG 3000, Sega SG-1000'],\n",
       " ['Cuarta generación',\n",
       "  '',\n",
       "  '1987-1993',\n",
       "  '',\n",
       "  '16 bits',\n",
       "  '',\n",
       "  \"Sega Mega Drive, Neo-Geo, Neo Geo CD, Super Nintendo Entertainment System, TurboGrafx-16/PC Engine, CD-TV, CD-i, Super A'Can\"],\n",
       " ['Quinta generación',\n",
       "  '',\n",
       "  '1993-1998[4]\\u200b',\n",
       "  '',\n",
       "  '32 bits y64 bits',\n",
       "  '',\n",
       "  '3DO, AmigaCD32, Atari Jaguar, Sega Saturn, Virtual Boy, PlayStation, Nintendo 64, Apple Pippin, Casio Loopy, PC-FX, Playdia, FM Towns Marty'],\n",
       " ['Sexta generación',\n",
       "  '',\n",
       "  '1998-2005',\n",
       "  '',\n",
       "  '128 bits',\n",
       "  '',\n",
       "  'Sega Dreamcast, PlayStation 2, Xbox y Nintendo GameCube'],\n",
       " ['Séptima generación',\n",
       "  '',\n",
       "  '2005-2012',\n",
       "  '',\n",
       "  '',\n",
       "  '',\n",
       "  'Xbox 360, PlayStation 3, Wii'],\n",
       " ['Octava generación',\n",
       "  '',\n",
       "  '2012-',\n",
       "  '2020',\n",
       "  '',\n",
       "  '',\n",
       "  '',\n",
       "  '',\n",
       "  'Wii U, PlayStation 4, Xbox One y Nintendo Switch']]"
      ]
     },
     "execution_count": 8,
     "metadata": {},
     "output_type": "execute_result"
    }
   ],
   "source": [
    "rows=[r.text.strip().split('\\n') for r in rows]\n",
    "rows"
   ]
  },
  {
   "cell_type": "code",
   "execution_count": null,
   "metadata": {},
   "outputs": [],
   "source": []
  }
 ],
 "metadata": {
  "kernelspec": {
   "display_name": "Python 3",
   "language": "python",
   "name": "python3"
  },
  "language_info": {
   "codemirror_mode": {
    "name": "ipython",
    "version": 3
   },
   "file_extension": ".py",
   "mimetype": "text/x-python",
   "name": "python",
   "nbconvert_exporter": "python",
   "pygments_lexer": "ipython3",
   "version": "3.6.9"
  }
 },
 "nbformat": 4,
 "nbformat_minor": 4
}
