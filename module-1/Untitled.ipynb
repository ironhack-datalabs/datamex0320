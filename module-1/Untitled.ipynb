{
 "cells": [
  {
   "cell_type": "code",
   "execution_count": 5,
   "metadata": {},
   "outputs": [],
   "source": [
    "import requests\n",
    "from bs4 import BeautifulSoup as bs"
   ]
  },
  {
   "cell_type": "code",
   "execution_count": 6,
   "metadata": {},
   "outputs": [],
   "source": [
    "url = 'https://es.wikipedia.org/wiki/Videoconsola'\n",
    "res=requests.get(url)"
   ]
  },
  {
   "cell_type": "code",
   "execution_count": 7,
   "metadata": {},
   "outputs": [],
   "source": [
    "data=res.text\n",
    "soup=bs(data, 'html.parser')"
   ]
  },
  {
   "cell_type": "code",
   "execution_count": 29,
   "metadata": {},
   "outputs": [
    {
     "data": {
      "text/plain": [
       "<table class=\"wikitable sortable\" style=\"width:500px; font-size:95%;\">\n",
       "<tbody><tr>\n",
       "<th>Fabricante\n",
       "</th>\n",
       "<th>Consola\n",
       "</th>\n",
       "<th>Lanzamiento\n",
       "</th>\n",
       "<th data-sort-type=\"number\">Unidades vendidas\n",
       "</th></tr>\n",
       "<tr>\n",
       "<td><a href=\"/wiki/Nintendo\" title=\"Nintendo\">Nintendo</a>\n",
       "</td>\n",
       "<td><a href=\"/wiki/Nintendo_DS\" title=\"Nintendo DS\">Nintendo DS</a>\n",
       "</td>\n",
       "<td>2 de diciembre de 2004\n",
       "</td>\n",
       "<td align=\"right\">32,990,000<sup class=\"reference separada\" id=\"cite_ref-nintendosales_20-8\"><a href=\"#cite_note-nintendosales-20\"><span class=\"corchete-llamada\">[</span>19<span class=\"corchete-llamada\">]</span></a></sup>​\n",
       "</td></tr>\n",
       "<tr>\n",
       "<td>Nintendo\n",
       "</td>\n",
       "<td><a href=\"/wiki/Game_Boy\" title=\"Game Boy\">Game Boy</a> and <a href=\"/wiki/Game_Boy_Color\" title=\"Game Boy Color\">Game Boy Color</a>\n",
       "</td>\n",
       "<td>21 de abril de 1989\n",
       "</td>\n",
       "<td align=\"right\">32,470,000<sup class=\"reference separada\" id=\"cite_ref-nintendosales_20-9\"><a href=\"#cite_note-nintendosales-20\"><span class=\"corchete-llamada\">[</span>19<span class=\"corchete-llamada\">]</span></a></sup>​\n",
       "</td></tr>\n",
       "<tr>\n",
       "<td>Nintendo\n",
       "</td>\n",
       "<td><a href=\"/wiki/Nintendo_3DS\" title=\"Nintendo 3DS\">Nintendo 3DS</a>\n",
       "</td>\n",
       "<td>26 de febrero de 2011\n",
       "</td>\n",
       "<td align=\"right\">24,700,000<sup class=\"reference separada\" id=\"cite_ref-nintendosales_20-10\"><a href=\"#cite_note-nintendosales-20\"><span class=\"corchete-llamada\">[</span>19<span class=\"corchete-llamada\">]</span></a></sup>​\n",
       "</td></tr>\n",
       "<tr>\n",
       "<td>Sony\n",
       "</td>\n",
       "<td>PlayStation 2\n",
       "</td>\n",
       "<td>4 de marzo de 2000\n",
       "</td>\n",
       "<td align=\"right\">21,454,325<sup class=\"reference separada\" id=\"cite_ref-53\"><a href=\"#cite_note-53\"><span class=\"corchete-llamada\">[</span>49<span class=\"corchete-llamada\">]</span></a></sup>​\n",
       "</td></tr>\n",
       "<tr>\n",
       "<td>Nintendo\n",
       "</td>\n",
       "<td><a href=\"/wiki/Nintendo_Entertainment_System\" title=\"Nintendo Entertainment System\">Famicom</a> (NES)\n",
       "</td>\n",
       "<td>15 de julio de 1983\n",
       "</td>\n",
       "<td align=\"right\">19,350,000<sup class=\"reference separada\" id=\"cite_ref-nintendosales_20-11\"><a href=\"#cite_note-nintendosales-20\"><span class=\"corchete-llamada\">[</span>19<span class=\"corchete-llamada\">]</span></a></sup>​\n",
       "</td></tr>\n",
       "<tr>\n",
       "<td>Nintendo\n",
       "</td>\n",
       "<td><a class=\"mw-redirect\" href=\"/wiki/Super_Nintendo_Entertainment_System\" title=\"Super Nintendo Entertainment System\">Super Famicom</a> (Super NES)\n",
       "</td>\n",
       "<td>21 de noviembre de 1990\n",
       "</td>\n",
       "<td align=\"right\">17,170,000<sup class=\"reference separada\" id=\"cite_ref-nintendosales_20-12\"><a href=\"#cite_note-nintendosales-20\"><span class=\"corchete-llamada\">[</span>19<span class=\"corchete-llamada\">]</span></a></sup>​\n",
       "</td></tr>\n",
       "<tr>\n",
       "<td>Nintendo\n",
       "</td>\n",
       "<td><a href=\"/wiki/Game_Boy_Advance\" title=\"Game Boy Advance\">Game Boy Advance</a>\n",
       "</td>\n",
       "<td>21 de febrero de 2001\n",
       "</td>\n",
       "<td align=\"right\">16,960,000<sup class=\"reference separada\" id=\"cite_ref-nintendosales_20-13\"><a href=\"#cite_note-nintendosales-20\"><span class=\"corchete-llamada\">[</span>19<span class=\"corchete-llamada\">]</span></a></sup>​\n",
       "</td></tr>\n",
       "<tr>\n",
       "<td>Sony\n",
       "</td>\n",
       "<td><a href=\"/wiki/PlayStation_Portable\" title=\"PlayStation Portable\">PlayStation Portable</a>\n",
       "</td>\n",
       "<td>12 de diciembre de 2004\n",
       "</td>\n",
       "<td align=\"right\">16,867,853<sup class=\"reference separada\" id=\"cite_ref-JapanSales2011_54-0\"><a href=\"#cite_note-JapanSales2011-54\"><span class=\"corchete-llamada\">[</span>50<span class=\"corchete-llamada\">]</span></a></sup>​\n",
       "</td></tr>\n",
       "<tr>\n",
       "<td>Nintendo\n",
       "</td>\n",
       "<td><a href=\"/wiki/Wii\" title=\"Wii\">Wii</a>\n",
       "</td>\n",
       "<td>2 de diciembre de 2006\n",
       "</td>\n",
       "<td align=\"right\">12,750,000<sup class=\"reference separada\" id=\"cite_ref-nintendosales_20-14\"><a href=\"#cite_note-nintendosales-20\"><span class=\"corchete-llamada\">[</span>19<span class=\"corchete-llamada\">]</span></a></sup>​\n",
       "</td></tr>\n",
       "<tr>\n",
       "<td>Nintendo\n",
       "</td>\n",
       "<td><a href=\"/wiki/Nintendo_Switch\" title=\"Nintendo Switch\">Nintendo Switch</a>\n",
       "</td>\n",
       "<td>3 de marzo de 2017\n",
       "</td>\n",
       "<td align=\"right\">Más de 10,000,000\n",
       "</td></tr>\n",
       "<tr>\n",
       "<td><a class=\"mw-redirect\" href=\"/wiki/NEC\" title=\"NEC\">NEC</a>\n",
       "</td>\n",
       "<td><a class=\"mw-redirect\" href=\"/wiki/TurboGrafx-16\" title=\"TurboGrafx-16\">PC Engine</a> (TurboGrafx-16)\n",
       "</td>\n",
       "<td>30 de octubre de 1987\n",
       "</td>\n",
       "<td align=\"right\">8,000,000<sup class=\"reference separada\" id=\"cite_ref-55\"><a href=\"#cite_note-55\"><span class=\"corchete-llamada\">[</span>51<span class=\"corchete-llamada\">]</span></a></sup>​\n",
       "</td></tr>\n",
       "<tr>\n",
       "<td>Sony\n",
       "</td>\n",
       "<td><a href=\"/wiki/PlayStation_4\" title=\"PlayStation 4\">PlayStation 4</a>\n",
       "</td>\n",
       "<td>22 de febrero de 2014\n",
       "</td>\n",
       "<td align=\"right\">8,506,964<sup class=\"reference separada\" id=\"cite_ref-famitsu_56-0\"><a href=\"#cite_note-famitsu-56\"><span class=\"corchete-llamada\">[</span>52<span class=\"corchete-llamada\">]</span></a></sup>​\n",
       "</td></tr>\n",
       "<tr>\n",
       "<td>Sony\n",
       "</td>\n",
       "<td><a href=\"/wiki/PlayStation_Vita\" title=\"PlayStation Vita\">PlayStation Vita</a>\n",
       "</td>\n",
       "<td>17 de diciembre de 2011\n",
       "</td>\n",
       "<td align=\"right\">5,643,626<sup class=\"reference separada\" id=\"cite_ref-famitsu_56-1\"><a href=\"#cite_note-famitsu-56\"><span class=\"corchete-llamada\">[</span>52<span class=\"corchete-llamada\">]</span></a></sup>​\n",
       "</td></tr>\n",
       "<tr>\n",
       "<td>Nintendo\n",
       "</td>\n",
       "<td><a href=\"/wiki/Nintendo_64\" title=\"Nintendo 64\">Nintendo 64</a>\n",
       "</td>\n",
       "<td>23 de junio de 1996\n",
       "</td>\n",
       "<td align=\"right\">5,540,000<sup class=\"reference separada\" id=\"cite_ref-nintendosales_20-15\"><a href=\"#cite_note-nintendosales-20\"><span class=\"corchete-llamada\">[</span>19<span class=\"corchete-llamada\">]</span></a></sup>​\n",
       "</td></tr>\n",
       "<tr>\n",
       "<td><a href=\"/wiki/Sega\" title=\"Sega\">Sega</a>\n",
       "</td>\n",
       "<td><a href=\"/wiki/Sega_Saturn\" title=\"Sega Saturn\">Sega Saturn</a>\n",
       "</td>\n",
       "<td>22 de noviembre de 1994\n",
       "</td>\n",
       "<td align=\"right\">5,000,000<sup>[<i><a href=\"/wiki/Wikipedia:Verificabilidad\" title=\"Wikipedia:Verificabilidad\">cita requerida</a></i>]</sup>\n",
       "</td></tr>\n",
       "<tr>\n",
       "<td>Nintendo\n",
       "</td>\n",
       "<td><a href=\"/wiki/Nintendo_Switch\" title=\"Nintendo Switch\">Nintendo Switch</a>\n",
       "</td>\n",
       "<td>3 de marzo de 2017\n",
       "</td>\n",
       "<td align=\"right\">4,380,000<sup class=\"reference separada\" id=\"cite_ref-nintendosales_20-16\"><a href=\"#cite_note-nintendosales-20\"><span class=\"corchete-llamada\">[</span>19<span class=\"corchete-llamada\">]</span></a></sup>​\n",
       "</td></tr>\n",
       "<tr>\n",
       "<td>Nintendo\n",
       "</td>\n",
       "<td><a href=\"/wiki/Nintendo_GameCube\" title=\"Nintendo GameCube\">Nintendo GameCube</a>\n",
       "</td>\n",
       "<td>14 de septiembre de 2001\n",
       "</td>\n",
       "<td align=\"right\">4,040,000<sup class=\"reference separada\" id=\"cite_ref-nintendosales_20-17\"><a href=\"#cite_note-nintendosales-20\"><span class=\"corchete-llamada\">[</span>19<span class=\"corchete-llamada\">]</span></a></sup>​\n",
       "</td></tr>\n",
       "<tr>\n",
       "<td>Sega\n",
       "</td>\n",
       "<td><a href=\"/wiki/Mega_Drive\" title=\"Mega Drive\">Mega Drive</a>\n",
       "</td>\n",
       "<td>29 de octubre de 1988\n",
       "</td>\n",
       "<td align=\"right\">3,580,000<sup class=\"reference separada\" id=\"cite_ref-57\"><a href=\"#cite_note-57\"><span class=\"corchete-llamada\">[</span>53<span class=\"corchete-llamada\">]</span></a></sup>​\n",
       "</td></tr>\n",
       "<tr>\n",
       "<td>Nintendo\n",
       "</td>\n",
       "<td><a href=\"/wiki/Wii_U\" title=\"Wii U\">Wii U</a>\n",
       "</td>\n",
       "<td>8 de diciembre de 2012\n",
       "</td>\n",
       "<td align=\"right\">3,340,000<sup class=\"reference separada\" id=\"cite_ref-nintendosales_20-18\"><a href=\"#cite_note-nintendosales-20\"><span class=\"corchete-llamada\">[</span>19<span class=\"corchete-llamada\">]</span></a></sup>​\n",
       "</td></tr>\n",
       "<tr>\n",
       "<td>Sega\n",
       "</td>\n",
       "<td><a href=\"/wiki/Dreamcast\" title=\"Dreamcast\">Dreamcast</a>\n",
       "</td>\n",
       "<td>27 de noviembre de 1998\n",
       "</td>\n",
       "<td align=\"right\">2,320,000<sup class=\"reference separada\" id=\"cite_ref-58\"><a href=\"#cite_note-58\"><span class=\"corchete-llamada\">[</span>54<span class=\"corchete-llamada\">]</span></a></sup>​\n",
       "</td></tr>\n",
       "<tr>\n",
       "<td><a href=\"/wiki/Microsoft\" title=\"Microsoft\">Microsoft</a>\n",
       "</td>\n",
       "<td><a href=\"/wiki/Xbox_360\" title=\"Xbox 360\">Xbox 360</a>\n",
       "</td>\n",
       "<td>10 de diciembre de 2005\n",
       "</td>\n",
       "<td align=\"right\">1,448,665<sup class=\"reference separada\" id=\"cite_ref-JapanSales2011_54-1\"><a href=\"#cite_note-JapanSales2011-54\"><span class=\"corchete-llamada\">[</span>50<span class=\"corchete-llamada\">]</span></a></sup>​\n",
       "</td></tr>\n",
       "<tr>\n",
       "<td>Sega\n",
       "</td>\n",
       "<td><a class=\"mw-redirect\" href=\"/wiki/Master_System\" title=\"Master System\">Sega Mark III</a> (Master System)\n",
       "</td>\n",
       "<td>20 de octubre de 1985\n",
       "</td>\n",
       "<td align=\"right\">1,000,000<sup class=\"reference separada\" id=\"cite_ref-59\"><a href=\"#cite_note-59\"><span class=\"corchete-llamada\">[</span>55<span class=\"corchete-llamada\">]</span></a></sup>​\n",
       "</td></tr>\n",
       "<tr>\n",
       "<td>Microsoft\n",
       "</td>\n",
       "<td><a href=\"/wiki/Xbox_One\" title=\"Xbox One\">Xbox One</a>\n",
       "</td>\n",
       "<td>4 de septiembre de 2014\n",
       "</td>\n",
       "<td align=\"right\">87,592<sup class=\"reference separada\" id=\"cite_ref-famitsu_56-2\"><a href=\"#cite_note-famitsu-56\"><span class=\"corchete-llamada\">[</span>52<span class=\"corchete-llamada\">]</span></a></sup>​\n",
       "</td></tr></tbody></table>"
      ]
     },
     "execution_count": 29,
     "metadata": {},
     "output_type": "execute_result"
    }
   ],
   "source": [
    "tables=soup.find_all('table')\n",
    "japon=soup.find_all('table')[-5]\n",
    "japon"
   ]
  },
  {
   "cell_type": "code",
   "execution_count": 28,
   "metadata": {},
   "outputs": [
    {
     "data": {
      "text/plain": [
       "'Nintendo'"
      ]
     },
     "execution_count": 28,
     "metadata": {},
     "output_type": "execute_result"
    }
   ],
   "source": [
    "elem=ultima.find_all('a')[0].text\n",
    "elem"
   ]
  },
  {
   "cell_type": "code",
   "execution_count": 52,
   "metadata": {},
   "outputs": [
    {
     "ename": "AttributeError",
     "evalue": "'NoneType' object has no attribute 'text'",
     "output_type": "error",
     "traceback": [
      "\u001b[0;31m---------------------------------------------------------------------------\u001b[0m",
      "\u001b[0;31mAttributeError\u001b[0m                            Traceback (most recent call last)",
      "\u001b[0;32m<ipython-input-52-8dd7dcbf514e>\u001b[0m in \u001b[0;36m<module>\u001b[0;34m\u001b[0m\n\u001b[1;32m      5\u001b[0m \u001b[0;31m#    print(fila)\u001b[0m\u001b[0;34m\u001b[0m\u001b[0;34m\u001b[0m\u001b[0;34m\u001b[0m\u001b[0m\n\u001b[1;32m      6\u001b[0m     \u001b[0;32mif\u001b[0m \u001b[0mlen\u001b[0m\u001b[0;34m(\u001b[0m\u001b[0mfila\u001b[0m\u001b[0;34m)\u001b[0m\u001b[0;34m>\u001b[0m\u001b[0;36m0\u001b[0m\u001b[0;34m:\u001b[0m\u001b[0;34m\u001b[0m\u001b[0;34m\u001b[0m\u001b[0m\n\u001b[0;32m----> 7\u001b[0;31m         fabricante={'Consola': fila[0].find('a').text.strip(),\n\u001b[0m\u001b[1;32m      8\u001b[0m               \u001b[0;34m'Lanzamiento'\u001b[0m\u001b[0;34m:\u001b[0m\u001b[0;34m(\u001b[0m\u001b[0mfila\u001b[0m\u001b[0;34m[\u001b[0m\u001b[0;36m1\u001b[0m\u001b[0;34m]\u001b[0m\u001b[0;34m.\u001b[0m\u001b[0mtext\u001b[0m\u001b[0;34m)\u001b[0m\u001b[0;34m,\u001b[0m\u001b[0;34m\u001b[0m\u001b[0;34m\u001b[0m\u001b[0m\n\u001b[1;32m      9\u001b[0m               'Unidades vendidas':(fila[3].text),}\n",
      "\u001b[0;31mAttributeError\u001b[0m: 'NoneType' object has no attribute 'text'"
     ]
    }
   ],
   "source": [
    "ventas_japon=[]\n",
    "\n",
    "for f in japon.find_all('tr'):  # lista de filas de la tabla\n",
    "    fila=[e for e in f.find_all('td')]  # elementos dentro de la fila\n",
    "#    print(fila)\n",
    "    if len(fila)>0:\n",
    "        fabricante={'Consola': fila[0].find('a').text.strip(),\n",
    "              'Lanzamiento':(fila[1].text),\n",
    "              'Unidades vendidas':(fila[3].text),}\n",
    "        ventas_japon.append(fabricante)\n",
    "        \n",
    "ventas_japon"
   ]
  },
  {
   "cell_type": "code",
   "execution_count": 50,
   "metadata": {},
   "outputs": [
    {
     "name": "stdout",
     "output_type": "stream",
     "text": [
      "<a href=\"/wiki/Game_Boy\" title=\"Game Boy\">Game Boy</a>\n"
     ]
    }
   ],
   "source": [
    "print(fila[1].find('a'))  "
   ]
  },
  {
   "cell_type": "code",
   "execution_count": 51,
   "metadata": {},
   "outputs": [
    {
     "name": "stdout",
     "output_type": "stream",
     "text": [
      "[<td>Nintendo\n",
      "</td>, <td><a href=\"/wiki/Game_Boy\" title=\"Game Boy\">Game Boy</a> and <a href=\"/wiki/Game_Boy_Color\" title=\"Game Boy Color\">Game Boy Color</a>\n",
      "</td>, <td>21 de abril de 1989\n",
      "</td>, <td align=\"right\">32,470,000<sup class=\"reference separada\" id=\"cite_ref-nintendosales_20-9\"><a href=\"#cite_note-nintendosales-20\"><span class=\"corchete-llamada\">[</span>19<span class=\"corchete-llamada\">]</span></a></sup>​\n",
      "</td>]\n"
     ]
    }
   ],
   "source": [
    "print(fila)"
   ]
  },
  {
   "cell_type": "code",
   "execution_count": null,
   "metadata": {},
   "outputs": [],
   "source": []
  }
 ],
 "metadata": {
  "kernelspec": {
   "display_name": "Python 3",
   "language": "python",
   "name": "python3"
  },
  "language_info": {
   "codemirror_mode": {
    "name": "ipython",
    "version": 3
   },
   "file_extension": ".py",
   "mimetype": "text/x-python",
   "name": "python",
   "nbconvert_exporter": "python",
   "pygments_lexer": "ipython3",
   "version": "3.7.7"
  }
 },
 "nbformat": 4,
 "nbformat_minor": 4
}
