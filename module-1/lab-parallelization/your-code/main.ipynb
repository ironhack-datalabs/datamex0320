{
 "cells": [
  {
   "cell_type": "markdown",
   "metadata": {},
   "source": [
    "# Parallelization Lab\n",
    "\n",
    "In this lab, you will be leveraging several concepts you have learned to obtain a list of links from a web page and crawl and index the pages referenced by those links - both sequentially and in parallel. Follow the steps below to complete the lab."
   ]
  },
  {
   "cell_type": "markdown",
   "metadata": {},
   "source": [
    "## Step 1: Use the requests library to retrieve the content from the URL below."
   ]
  },
  {
   "cell_type": "code",
   "execution_count": 1,
   "metadata": {},
   "outputs": [],
   "source": [
    "import requests\n",
    "\n",
    "url = 'https://en.wikipedia.org/wiki/Data_science'"
   ]
  },
  {
   "cell_type": "code",
   "execution_count": 2,
   "metadata": {},
   "outputs": [],
   "source": [
    "html = requests.get(url).content"
   ]
  },
  {
   "cell_type": "markdown",
   "metadata": {},
   "source": [
    "## Step 2: Use BeautifulSoup to extract a list of all the unique links on the page."
   ]
  },
  {
   "cell_type": "code",
   "execution_count": 3,
   "metadata": {},
   "outputs": [],
   "source": [
    "from bs4 import BeautifulSoup\n",
    "import re\n",
    "import pandas as pd"
   ]
  },
  {
   "cell_type": "code",
   "execution_count": 4,
   "metadata": {
    "scrolled": true
   },
   "outputs": [
    {
     "data": {
      "text/html": [
       "<div>\n",
       "<style scoped>\n",
       "    .dataframe tbody tr th:only-of-type {\n",
       "        vertical-align: middle;\n",
       "    }\n",
       "\n",
       "    .dataframe tbody tr th {\n",
       "        vertical-align: top;\n",
       "    }\n",
       "\n",
       "    .dataframe thead th {\n",
       "        text-align: right;\n",
       "    }\n",
       "</style>\n",
       "<table border=\"1\" class=\"dataframe\">\n",
       "  <thead>\n",
       "    <tr style=\"text-align: right;\">\n",
       "      <th></th>\n",
       "      <th>links</th>\n",
       "    </tr>\n",
       "  </thead>\n",
       "  <tbody>\n",
       "    <tr>\n",
       "      <td>0</td>\n",
       "      <td>http://courses.csail.mit.edu/18.337/2015/docs/...</td>\n",
       "    </tr>\n",
       "    <tr>\n",
       "      <td>1</td>\n",
       "      <td>http://www2.isye.gatech.edu/~jeffwu/presentati...</td>\n",
       "    </tr>\n",
       "    <tr>\n",
       "      <td>2</td>\n",
       "      <td>#cite_note-36</td>\n",
       "    </tr>\n",
       "    <tr>\n",
       "      <td>3</td>\n",
       "      <td>/wiki/Canonical_correlation</td>\n",
       "    </tr>\n",
       "    <tr>\n",
       "      <td>4</td>\n",
       "      <td>/wiki/Hierarchical_clustering</td>\n",
       "    </tr>\n",
       "    <tr>\n",
       "      <td>5</td>\n",
       "      <td>/wiki/Wikipedia:File_Upload_Wizard</td>\n",
       "    </tr>\n",
       "    <tr>\n",
       "      <td>6</td>\n",
       "      <td>https://ru.wikipedia.org/wiki/%D0%9D%D0%B0%D1%...</td>\n",
       "    </tr>\n",
       "    <tr>\n",
       "      <td>7</td>\n",
       "      <td>#cite_note-19</td>\n",
       "    </tr>\n",
       "    <tr>\n",
       "      <td>8</td>\n",
       "      <td>/wiki/Special:RecentChanges</td>\n",
       "    </tr>\n",
       "    <tr>\n",
       "      <td>9</td>\n",
       "      <td>/wiki/Artificial_neural_network</td>\n",
       "    </tr>\n",
       "  </tbody>\n",
       "</table>\n",
       "</div>"
      ],
      "text/plain": [
       "                                               links\n",
       "0  http://courses.csail.mit.edu/18.337/2015/docs/...\n",
       "1  http://www2.isye.gatech.edu/~jeffwu/presentati...\n",
       "2                                      #cite_note-36\n",
       "3                        /wiki/Canonical_correlation\n",
       "4                      /wiki/Hierarchical_clustering\n",
       "5                 /wiki/Wikipedia:File_Upload_Wizard\n",
       "6  https://ru.wikipedia.org/wiki/%D0%9D%D0%B0%D1%...\n",
       "7                                      #cite_note-19\n",
       "8                        /wiki/Special:RecentChanges\n",
       "9                    /wiki/Artificial_neural_network"
      ]
     },
     "execution_count": 4,
     "metadata": {},
     "output_type": "execute_result"
    }
   ],
   "source": [
    "soup = BeautifulSoup(html, \"lxml\")\n",
    "links = soup.find_all('a')\n",
    "set(links)\n",
    "links_list = []\n",
    "for link in set(links):\n",
    "    match = re.findall('(href=\"(.*?)\")',str(link)) \n",
    "    if match:\n",
    "        links_list.append(re.sub('(href=)','',(match[0])[1]))\n",
    "df_links = pd.DataFrame(links_list.copy(),columns = ['links'])\n",
    "df_links.head(10)"
   ]
  },
  {
   "cell_type": "markdown",
   "metadata": {},
   "source": [
    "## Step 3: Use list comprehensions with conditions to clean the link list.\n",
    "\n",
    "There are two types of links, absolute and relative. Absolute links have the full URL and begin with http while relative links begin with a forward slash (/) and point to an internal page within the wikipedia.org domain. Clean the respective types of URLs as follows.\n",
    "\n",
    "- Absolute Links: Create a list of these and remove any that contain a percentage sign (%).\n",
    "- Relativel Links: Create a list of these, add the domain to the link so that you have the full URL, and remove any that contain a percentage sign (%).\n",
    "- Combine the list of absolute and relative links and ensure there are no duplicates."
   ]
  },
  {
   "cell_type": "code",
   "execution_count": 5,
   "metadata": {},
   "outputs": [],
   "source": [
    "domain = 'http://wikipedia.org'"
   ]
  },
  {
   "cell_type": "code",
   "execution_count": 6,
   "metadata": {},
   "outputs": [],
   "source": [
    "Absolute_links = [s for l in links_list for s in l.split() if ('https://' in s and '%'not in s) ]\n",
    "Relative_links = [('{}{}'.format(domain,s)) for l in links_list for s in l.split() if ('https://'not in s and '%'not in s) ]"
   ]
  },
  {
   "cell_type": "code",
   "execution_count": 7,
   "metadata": {},
   "outputs": [
    {
     "data": {
      "text/html": [
       "<div>\n",
       "<style scoped>\n",
       "    .dataframe tbody tr th:only-of-type {\n",
       "        vertical-align: middle;\n",
       "    }\n",
       "\n",
       "    .dataframe tbody tr th {\n",
       "        vertical-align: top;\n",
       "    }\n",
       "\n",
       "    .dataframe thead th {\n",
       "        text-align: right;\n",
       "    }\n",
       "</style>\n",
       "<table border=\"1\" class=\"dataframe\">\n",
       "  <thead>\n",
       "    <tr style=\"text-align: right;\">\n",
       "      <th></th>\n",
       "      <th>Relative Links</th>\n",
       "      <th>Absolute_links</th>\n",
       "    </tr>\n",
       "  </thead>\n",
       "  <tbody>\n",
       "    <tr>\n",
       "      <td>0</td>\n",
       "      <td>http://wikipedia.orghttp://courses.csail.mit.e...</td>\n",
       "      <td>https://it.wikipedia.org/wiki/Scienza_dei_dati</td>\n",
       "    </tr>\n",
       "    <tr>\n",
       "      <td>1</td>\n",
       "      <td>http://wikipedia.orghttp://www2.isye.gatech.ed...</td>\n",
       "      <td>https://www.forbes.com/sites/peterpham/2015/08...</td>\n",
       "    </tr>\n",
       "    <tr>\n",
       "      <td>2</td>\n",
       "      <td>http://wikipedia.org#cite_note-36</td>\n",
       "      <td>https://www.wikidata.org/wiki/Special:EntityPa...</td>\n",
       "    </tr>\n",
       "    <tr>\n",
       "      <td>3</td>\n",
       "      <td>http://wikipedia.org/wiki/Canonical_correlation</td>\n",
       "      <td>https://www.worldcat.org/oclc/489990740</td>\n",
       "    </tr>\n",
       "    <tr>\n",
       "      <td>4</td>\n",
       "      <td>http://wikipedia.org/wiki/Hierarchical_clustering</td>\n",
       "      <td>https://www.springer.com/book/9784431702085</td>\n",
       "    </tr>\n",
       "    <tr>\n",
       "      <td>5</td>\n",
       "      <td>http://wikipedia.org/wiki/Wikipedia:File_Uploa...</td>\n",
       "      <td>https://www.mediawiki.org/</td>\n",
       "    </tr>\n",
       "    <tr>\n",
       "      <td>6</td>\n",
       "      <td>http://wikipedia.org#cite_note-19</td>\n",
       "      <td>https://foundation.wikimedia.org/wiki/Cookie_s...</td>\n",
       "    </tr>\n",
       "    <tr>\n",
       "      <td>7</td>\n",
       "      <td>http://wikipedia.org/wiki/Special:RecentChanges</td>\n",
       "      <td>https://www.forbes.com/sites/gilpress/2013/05/...</td>\n",
       "    </tr>\n",
       "    <tr>\n",
       "      <td>8</td>\n",
       "      <td>http://wikipedia.org/wiki/Artificial_neural_ne...</td>\n",
       "      <td>https://donate.wikimedia.org/wiki/Special:Fund...</td>\n",
       "    </tr>\n",
       "    <tr>\n",
       "      <td>9</td>\n",
       "      <td>http://wikipedia.org/wiki/Recurrent_neural_net...</td>\n",
       "      <td>https://id.wikipedia.org/wiki/Ilmu_data</td>\n",
       "    </tr>\n",
       "  </tbody>\n",
       "</table>\n",
       "</div>"
      ],
      "text/plain": [
       "                                      Relative Links  \\\n",
       "0  http://wikipedia.orghttp://courses.csail.mit.e...   \n",
       "1  http://wikipedia.orghttp://www2.isye.gatech.ed...   \n",
       "2                  http://wikipedia.org#cite_note-36   \n",
       "3    http://wikipedia.org/wiki/Canonical_correlation   \n",
       "4  http://wikipedia.org/wiki/Hierarchical_clustering   \n",
       "5  http://wikipedia.org/wiki/Wikipedia:File_Uploa...   \n",
       "6                  http://wikipedia.org#cite_note-19   \n",
       "7    http://wikipedia.org/wiki/Special:RecentChanges   \n",
       "8  http://wikipedia.org/wiki/Artificial_neural_ne...   \n",
       "9  http://wikipedia.org/wiki/Recurrent_neural_net...   \n",
       "\n",
       "                                      Absolute_links  \n",
       "0     https://it.wikipedia.org/wiki/Scienza_dei_dati  \n",
       "1  https://www.forbes.com/sites/peterpham/2015/08...  \n",
       "2  https://www.wikidata.org/wiki/Special:EntityPa...  \n",
       "3            https://www.worldcat.org/oclc/489990740  \n",
       "4        https://www.springer.com/book/9784431702085  \n",
       "5                         https://www.mediawiki.org/  \n",
       "6  https://foundation.wikimedia.org/wiki/Cookie_s...  \n",
       "7  https://www.forbes.com/sites/gilpress/2013/05/...  \n",
       "8  https://donate.wikimedia.org/wiki/Special:Fund...  \n",
       "9            https://id.wikipedia.org/wiki/Ilmu_data  "
      ]
     },
     "execution_count": 7,
     "metadata": {},
     "output_type": "execute_result"
    }
   ],
   "source": [
    "all_links = Absolute_links + Relative_links\n",
    "df_both_links = pd.DataFrame({'Relative Links':Relative_links[:57],'Absolute_links':Absolute_links[:57]})\n",
    "df_both_links.head(10)"
   ]
  },
  {
   "cell_type": "markdown",
   "metadata": {},
   "source": [
    "## Step 4: Use the os library to create a folder called *wikipedia* and make that the current working directory."
   ]
  },
  {
   "cell_type": "code",
   "execution_count": 8,
   "metadata": {},
   "outputs": [],
   "source": [
    "import os.path"
   ]
  },
  {
   "cell_type": "code",
   "execution_count": 9,
   "metadata": {},
   "outputs": [],
   "source": [
    "try:\n",
    "    #os.makedirs(\"wikipedia\")        #Crea el dir   \n",
    "    os.chdir('./wikipedia')         #Cambia el directorio de trabajo actual\n",
    "    os.getcwd()                     #Muestra el directorio de trabajo actual\n",
    "except FileExistsError:\n",
    "    pass"
   ]
  },
  {
   "cell_type": "markdown",
   "metadata": {},
   "source": [
    "## Step 5: Write a function called index_page that accepts a link and does the following.\n",
    "\n",
    "- Tries to request the content of the page referenced by that link.\n",
    "- Slugifies the filename using the `slugify` function from the [python-slugify](https://pypi.org/project/python-slugify/) library and adds a .html file extension.\n",
    "    - If you don't already have the python-slugify library installed, you can pip install it as follows: `$ pip install python-slugify`.\n",
    "    - To import the slugify function, you would do the following: `from slugify import slugify`.\n",
    "    - You can then slugify a link as follows `slugify(link)`.\n",
    "- Creates a file in the wikipedia folder using the slugified filename and writes the contents of the page to the file.\n",
    "- If an exception occurs during the process above, just `pass`."
   ]
  },
  {
   "cell_type": "code",
   "execution_count": 10,
   "metadata": {},
   "outputs": [],
   "source": [
    "#!pip install python-slugify\n",
    "from slugify import slugify"
   ]
  },
  {
   "cell_type": "code",
   "execution_count": 11,
   "metadata": {},
   "outputs": [],
   "source": [
    "def index_page(link):\n",
    "    try:\n",
    "        html = requests.get(link).content\n",
    "        slugy = slugify(link)\n",
    "        FileName = os.path.join('',\"{}.html\".format(slugy))\n",
    "        #file1 = open(FileName, \"w\") \n",
    "\n",
    "        #file1.write(str(html))\n",
    "        #file1.close()\n",
    "        with open(FileName, \"w+\") as f:\n",
    "            f.write(str(html))\n",
    "    except:\n",
    "        pass    "
   ]
  },
  {
   "cell_type": "markdown",
   "metadata": {},
   "source": [
    "## Step 6: Sequentially loop through the list of links, running the index_page function each time.\n",
    "\n",
    "Remember to include `%%time` at the beginning of the cell so that it measures the time it takes for the cell to run."
   ]
  },
  {
   "cell_type": "code",
   "execution_count": 12,
   "metadata": {},
   "outputs": [
    {
     "name": "stdout",
     "output_type": "stream",
     "text": [
      "Wall time: 45.5 s\n"
     ]
    }
   ],
   "source": [
    "%%time\n",
    "for e in Absolute_links:\n",
    "    index_page(e)"
   ]
  },
  {
   "cell_type": "markdown",
   "metadata": {},
   "source": [
    "## Step 7: Perform the page indexing in parallel and note the difference in performance.\n",
    "\n",
    "Remember to include `%%time` at the beginning of the cell so that it measures the time it takes for the cell to run."
   ]
  },
  {
   "cell_type": "code",
   "execution_count": 13,
   "metadata": {},
   "outputs": [],
   "source": [
    "import multiprocessing"
   ]
  },
  {
   "cell_type": "code",
   "execution_count": null,
   "metadata": {},
   "outputs": [],
   "source": [
    "%%time\n",
    "pool = multiprocessing.Pool()\n",
    "result = pool.map(index_page, Absolute_links)\n",
    "pool.terminate()"
   ]
  },
  {
   "cell_type": "code",
   "execution_count": null,
   "metadata": {},
   "outputs": [],
   "source": []
  }
 ],
 "metadata": {
  "kernelspec": {
   "display_name": "Python 3",
   "language": "python",
   "name": "python3"
  },
  "language_info": {
   "codemirror_mode": {
    "name": "ipython",
    "version": 3
   },
   "file_extension": ".py",
   "mimetype": "text/x-python",
   "name": "python",
   "nbconvert_exporter": "python",
   "pygments_lexer": "ipython3",
   "version": "3.7.4"
  }
 },
 "nbformat": 4,
 "nbformat_minor": 2
}
