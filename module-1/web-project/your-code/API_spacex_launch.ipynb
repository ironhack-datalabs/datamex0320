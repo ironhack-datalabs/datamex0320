{
 "cells": [
  {
   "cell_type": "code",
   "execution_count": 1,
   "metadata": {},
   "outputs": [],
   "source": [
    "import pandas as pd\n",
    "import re\n",
    "import numpy as np\n",
    "import requests\n",
    "import json\n",
    "from pandas.io.json import json_normalize\n"
   ]
  },
  {
   "cell_type": "code",
   "execution_count": 2,
   "metadata": {},
   "outputs": [
    {
     "name": "stdout",
     "output_type": "stream",
     "text": [
      "{\"project_name\":\"SpaceX-API\",\"version\":\"3.1.0\",\"project_link\":\"https://github.com/r-spacex/SpaceX-API\",\"docs\":\"https://documenter.getpostman.com/view/2025350/RWaEzAiG\",\"organization\":\"r/SpaceX\",\"organization_link\":\"https://github.com/r-spacex\",\"description\":\"Open Source REST API for rocket, core, capsule, pad, and launch data, created and maintained by the developers of the r/SpaceX organization\"}\n"
     ]
    },
    {
     "name": "stderr",
     "output_type": "stream",
     "text": [
      "  % Total    % Received % Xferd  Average Speed   Time    Time     Time  Current\n",
      "                                 Dload  Upload   Total   Spent    Left  Speed\n",
      "\n",
      "  0     0    0     0    0     0      0      0 --:--:-- --:--:-- --:--:--     0\n",
      "  0     0    0     0    0     0      0      0 --:--:-- --:--:-- --:--:--     0\n",
      "100   400    0   400    0     0   1072      0 --:--:-- --:--:-- --:--:--  1069\n"
     ]
    }
   ],
   "source": [
    "!curl https://api.spacexdata.com/v3"
   ]
  },
  {
   "cell_type": "code",
   "execution_count": 3,
   "metadata": {},
   "outputs": [],
   "source": [
    "url = \"https://api.spacexdata.com/v3/launches\""
   ]
  },
  {
   "cell_type": "code",
   "execution_count": 4,
   "metadata": {},
   "outputs": [],
   "source": [
    "payload = {}\n",
    "headers= {}\n",
    "response = requests.request(\"GET\", url, headers=headers, data = payload)"
   ]
  },
  {
   "cell_type": "code",
   "execution_count": 5,
   "metadata": {},
   "outputs": [
    {
     "data": {
      "text/plain": [
       "<Response [200]>"
      ]
     },
     "execution_count": 5,
     "metadata": {},
     "output_type": "execute_result"
    }
   ],
   "source": [
    "response"
   ]
  },
  {
   "cell_type": "code",
   "execution_count": 6,
   "metadata": {},
   "outputs": [],
   "source": [
    "results = response.json()\n",
    "flattened_data = json_normalize(results)"
   ]
  },
  {
   "cell_type": "code",
   "execution_count": 7,
   "metadata": {},
   "outputs": [
    {
     "data": {
      "text/html": [
       "<div>\n",
       "<style scoped>\n",
       "    .dataframe tbody tr th:only-of-type {\n",
       "        vertical-align: middle;\n",
       "    }\n",
       "\n",
       "    .dataframe tbody tr th {\n",
       "        vertical-align: top;\n",
       "    }\n",
       "\n",
       "    .dataframe thead th {\n",
       "        text-align: right;\n",
       "    }\n",
       "</style>\n",
       "<table border=\"1\" class=\"dataframe\">\n",
       "  <thead>\n",
       "    <tr style=\"text-align: right;\">\n",
       "      <th></th>\n",
       "      <th>flight_number</th>\n",
       "      <th>mission_name</th>\n",
       "      <th>mission_id</th>\n",
       "      <th>upcoming</th>\n",
       "      <th>launch_year</th>\n",
       "      <th>launch_date_unix</th>\n",
       "      <th>launch_date_utc</th>\n",
       "      <th>launch_date_local</th>\n",
       "      <th>is_tentative</th>\n",
       "      <th>tentative_max_precision</th>\n",
       "      <th>...</th>\n",
       "      <th>timeline.stage2_rp1_loading</th>\n",
       "      <th>timeline.seco-3</th>\n",
       "      <th>timeline.seco-4</th>\n",
       "      <th>last_date_update</th>\n",
       "      <th>last_ll_launch_date</th>\n",
       "      <th>last_ll_update</th>\n",
       "      <th>last_wiki_launch_date</th>\n",
       "      <th>last_wiki_revision</th>\n",
       "      <th>last_wiki_update</th>\n",
       "      <th>launch_date_source</th>\n",
       "    </tr>\n",
       "  </thead>\n",
       "  <tbody>\n",
       "    <tr>\n",
       "      <td>0</td>\n",
       "      <td>1</td>\n",
       "      <td>FalconSat</td>\n",
       "      <td>[]</td>\n",
       "      <td>False</td>\n",
       "      <td>2006</td>\n",
       "      <td>1143239400</td>\n",
       "      <td>2006-03-24T22:30:00.000Z</td>\n",
       "      <td>2006-03-25T10:30:00+12:00</td>\n",
       "      <td>False</td>\n",
       "      <td>hour</td>\n",
       "      <td>...</td>\n",
       "      <td>NaN</td>\n",
       "      <td>NaN</td>\n",
       "      <td>NaN</td>\n",
       "      <td>NaN</td>\n",
       "      <td>NaN</td>\n",
       "      <td>NaN</td>\n",
       "      <td>NaN</td>\n",
       "      <td>NaN</td>\n",
       "      <td>NaN</td>\n",
       "      <td>NaN</td>\n",
       "    </tr>\n",
       "    <tr>\n",
       "      <td>1</td>\n",
       "      <td>2</td>\n",
       "      <td>DemoSat</td>\n",
       "      <td>[]</td>\n",
       "      <td>False</td>\n",
       "      <td>2007</td>\n",
       "      <td>1174439400</td>\n",
       "      <td>2007-03-21T01:10:00.000Z</td>\n",
       "      <td>2007-03-21T13:10:00+12:00</td>\n",
       "      <td>False</td>\n",
       "      <td>hour</td>\n",
       "      <td>...</td>\n",
       "      <td>NaN</td>\n",
       "      <td>NaN</td>\n",
       "      <td>NaN</td>\n",
       "      <td>NaN</td>\n",
       "      <td>NaN</td>\n",
       "      <td>NaN</td>\n",
       "      <td>NaN</td>\n",
       "      <td>NaN</td>\n",
       "      <td>NaN</td>\n",
       "      <td>NaN</td>\n",
       "    </tr>\n",
       "    <tr>\n",
       "      <td>2</td>\n",
       "      <td>3</td>\n",
       "      <td>Trailblazer</td>\n",
       "      <td>[]</td>\n",
       "      <td>False</td>\n",
       "      <td>2008</td>\n",
       "      <td>1217648040</td>\n",
       "      <td>2008-08-02T03:34:00.000Z</td>\n",
       "      <td>2008-08-02T15:34:00+12:00</td>\n",
       "      <td>False</td>\n",
       "      <td>hour</td>\n",
       "      <td>...</td>\n",
       "      <td>NaN</td>\n",
       "      <td>NaN</td>\n",
       "      <td>NaN</td>\n",
       "      <td>NaN</td>\n",
       "      <td>NaN</td>\n",
       "      <td>NaN</td>\n",
       "      <td>NaN</td>\n",
       "      <td>NaN</td>\n",
       "      <td>NaN</td>\n",
       "      <td>NaN</td>\n",
       "    </tr>\n",
       "    <tr>\n",
       "      <td>3</td>\n",
       "      <td>4</td>\n",
       "      <td>RatSat</td>\n",
       "      <td>[]</td>\n",
       "      <td>False</td>\n",
       "      <td>2008</td>\n",
       "      <td>1222643700</td>\n",
       "      <td>2008-09-28T23:15:00.000Z</td>\n",
       "      <td>2008-09-28T11:15:00+12:00</td>\n",
       "      <td>False</td>\n",
       "      <td>hour</td>\n",
       "      <td>...</td>\n",
       "      <td>NaN</td>\n",
       "      <td>NaN</td>\n",
       "      <td>NaN</td>\n",
       "      <td>NaN</td>\n",
       "      <td>NaN</td>\n",
       "      <td>NaN</td>\n",
       "      <td>NaN</td>\n",
       "      <td>NaN</td>\n",
       "      <td>NaN</td>\n",
       "      <td>NaN</td>\n",
       "    </tr>\n",
       "    <tr>\n",
       "      <td>4</td>\n",
       "      <td>5</td>\n",
       "      <td>RazakSat</td>\n",
       "      <td>[]</td>\n",
       "      <td>False</td>\n",
       "      <td>2009</td>\n",
       "      <td>1247456100</td>\n",
       "      <td>2009-07-13T03:35:00.000Z</td>\n",
       "      <td>2009-07-13T15:35:00+12:00</td>\n",
       "      <td>False</td>\n",
       "      <td>hour</td>\n",
       "      <td>...</td>\n",
       "      <td>NaN</td>\n",
       "      <td>NaN</td>\n",
       "      <td>NaN</td>\n",
       "      <td>NaN</td>\n",
       "      <td>NaN</td>\n",
       "      <td>NaN</td>\n",
       "      <td>NaN</td>\n",
       "      <td>NaN</td>\n",
       "      <td>NaN</td>\n",
       "      <td>NaN</td>\n",
       "    </tr>\n",
       "  </tbody>\n",
       "</table>\n",
       "<p>5 rows × 99 columns</p>\n",
       "</div>"
      ],
      "text/plain": [
       "   flight_number mission_name mission_id  upcoming launch_year  \\\n",
       "0              1    FalconSat         []     False        2006   \n",
       "1              2      DemoSat         []     False        2007   \n",
       "2              3  Trailblazer         []     False        2008   \n",
       "3              4       RatSat         []     False        2008   \n",
       "4              5     RazakSat         []     False        2009   \n",
       "\n",
       "   launch_date_unix           launch_date_utc          launch_date_local  \\\n",
       "0        1143239400  2006-03-24T22:30:00.000Z  2006-03-25T10:30:00+12:00   \n",
       "1        1174439400  2007-03-21T01:10:00.000Z  2007-03-21T13:10:00+12:00   \n",
       "2        1217648040  2008-08-02T03:34:00.000Z  2008-08-02T15:34:00+12:00   \n",
       "3        1222643700  2008-09-28T23:15:00.000Z  2008-09-28T11:15:00+12:00   \n",
       "4        1247456100  2009-07-13T03:35:00.000Z  2009-07-13T15:35:00+12:00   \n",
       "\n",
       "   is_tentative tentative_max_precision  ...  timeline.stage2_rp1_loading  \\\n",
       "0         False                    hour  ...                          NaN   \n",
       "1         False                    hour  ...                          NaN   \n",
       "2         False                    hour  ...                          NaN   \n",
       "3         False                    hour  ...                          NaN   \n",
       "4         False                    hour  ...                          NaN   \n",
       "\n",
       "   timeline.seco-3 timeline.seco-4 last_date_update last_ll_launch_date  \\\n",
       "0              NaN             NaN              NaN                 NaN   \n",
       "1              NaN             NaN              NaN                 NaN   \n",
       "2              NaN             NaN              NaN                 NaN   \n",
       "3              NaN             NaN              NaN                 NaN   \n",
       "4              NaN             NaN              NaN                 NaN   \n",
       "\n",
       "  last_ll_update  last_wiki_launch_date last_wiki_revision last_wiki_update  \\\n",
       "0            NaN                    NaN                NaN              NaN   \n",
       "1            NaN                    NaN                NaN              NaN   \n",
       "2            NaN                    NaN                NaN              NaN   \n",
       "3            NaN                    NaN                NaN              NaN   \n",
       "4            NaN                    NaN                NaN              NaN   \n",
       "\n",
       "  launch_date_source  \n",
       "0                NaN  \n",
       "1                NaN  \n",
       "2                NaN  \n",
       "3                NaN  \n",
       "4                NaN  \n",
       "\n",
       "[5 rows x 99 columns]"
      ]
     },
     "execution_count": 7,
     "metadata": {},
     "output_type": "execute_result"
    }
   ],
   "source": [
    "#107 rows x 99 columns\n",
    "flattened_data.head()"
   ]
  },
  {
   "cell_type": "code",
   "execution_count": 8,
   "metadata": {},
   "outputs": [
    {
     "data": {
      "text/plain": [
       "Index(['flight_number', 'mission_name', 'mission_id', 'upcoming',\n",
       "       'launch_year', 'launch_date_unix', 'launch_date_utc',\n",
       "       'launch_date_local', 'is_tentative', 'tentative_max_precision', 'tbd',\n",
       "       'launch_window', 'ships', 'launch_success', 'details',\n",
       "       'static_fire_date_utc', 'static_fire_date_unix', 'crew',\n",
       "       'rocket.rocket_id', 'rocket.rocket_name', 'rocket.rocket_type',\n",
       "       'rocket.first_stage.cores', 'rocket.second_stage.block',\n",
       "       'rocket.second_stage.payloads', 'rocket.fairings.reused',\n",
       "       'rocket.fairings.recovery_attempt', 'rocket.fairings.recovered',\n",
       "       'rocket.fairings.ship', 'telemetry.flight_club', 'launch_site.site_id',\n",
       "       'launch_site.site_name', 'launch_site.site_name_long',\n",
       "       'launch_failure_details.time', 'launch_failure_details.altitude',\n",
       "       'launch_failure_details.reason', 'links.mission_patch',\n",
       "       'links.mission_patch_small', 'links.reddit_campaign',\n",
       "       'links.reddit_launch', 'links.reddit_recovery', 'links.reddit_media',\n",
       "       'links.presskit', 'links.article_link', 'links.wikipedia',\n",
       "       'links.video_link', 'links.youtube_id', 'links.flickr_images',\n",
       "       'timeline.webcast_liftoff', 'rocket.fairings',\n",
       "       'timeline.go_for_prop_loading', 'timeline.rp1_loading',\n",
       "       'timeline.stage1_lox_loading', 'timeline.stage2_lox_loading',\n",
       "       'timeline.engine_chill', 'timeline.prelaunch_checks',\n",
       "       'timeline.propellant_pressurization', 'timeline.go_for_launch',\n",
       "       'timeline.ignition', 'timeline.liftoff', 'timeline.maxq',\n",
       "       'timeline.meco', 'timeline.stage_sep', 'timeline.second_stage_ignition',\n",
       "       'timeline.seco-1', 'timeline.dragon_separation',\n",
       "       'timeline.dragon_solar_deploy', 'timeline.dragon_bay_door_deploy',\n",
       "       'timeline.fairing_deploy', 'timeline.payload_deploy',\n",
       "       'timeline.second_stage_restart', 'timeline.seco-2',\n",
       "       'timeline.webcast_launch', 'timeline.payload_deploy_1',\n",
       "       'timeline.payload_deploy_2', 'timeline.first_stage_boostback_burn',\n",
       "       'timeline.first_stage_entry_burn', 'timeline.first_stage_landing',\n",
       "       'timeline', 'timeline.beco', 'timeline.side_core_sep',\n",
       "       'timeline.side_core_boostback', 'timeline.center_stage_sep',\n",
       "       'timeline.center_core_boostback', 'timeline.side_core_entry_burn',\n",
       "       'timeline.center_core_entry_burn', 'timeline.side_core_landing',\n",
       "       'timeline.center_core_landing', 'timeline.first_stage_landing_burn',\n",
       "       'timeline.stage1_rp1_loading', 'timeline.stage2_rp1_loading',\n",
       "       'timeline.seco-3', 'timeline.seco-4', 'last_date_update',\n",
       "       'last_ll_launch_date', 'last_ll_update', 'last_wiki_launch_date',\n",
       "       'last_wiki_revision', 'last_wiki_update', 'launch_date_source'],\n",
       "      dtype='object')"
      ]
     },
     "execution_count": 8,
     "metadata": {},
     "output_type": "execute_result"
    }
   ],
   "source": [
    "flattened_data.columns"
   ]
  },
  {
   "cell_type": "code",
   "execution_count": 9,
   "metadata": {},
   "outputs": [],
   "source": [
    "df_compatible = flattened_data[['flight_number','launch_date_utc','launch_site.site_name','rocket.rocket_name','rocket.second_stage.payloads','launch_success','rocket.first_stage.cores']]"
   ]
  },
  {
   "cell_type": "code",
   "execution_count": 10,
   "metadata": {
    "scrolled": true
   },
   "outputs": [
    {
     "data": {
      "text/html": [
       "<div>\n",
       "<style scoped>\n",
       "    .dataframe tbody tr th:only-of-type {\n",
       "        vertical-align: middle;\n",
       "    }\n",
       "\n",
       "    .dataframe tbody tr th {\n",
       "        vertical-align: top;\n",
       "    }\n",
       "\n",
       "    .dataframe thead th {\n",
       "        text-align: right;\n",
       "    }\n",
       "</style>\n",
       "<table border=\"1\" class=\"dataframe\">\n",
       "  <thead>\n",
       "    <tr style=\"text-align: right;\">\n",
       "      <th></th>\n",
       "      <th>flight_number</th>\n",
       "      <th>launch_date_utc</th>\n",
       "      <th>launch_site.site_name</th>\n",
       "      <th>rocket.rocket_name</th>\n",
       "      <th>rocket.second_stage.payloads</th>\n",
       "      <th>launch_success</th>\n",
       "      <th>rocket.first_stage.cores</th>\n",
       "    </tr>\n",
       "  </thead>\n",
       "  <tbody>\n",
       "    <tr>\n",
       "      <td>0</td>\n",
       "      <td>1</td>\n",
       "      <td>2006-03-24T22:30:00.000Z</td>\n",
       "      <td>Kwajalein Atoll</td>\n",
       "      <td>Falcon 1</td>\n",
       "      <td>[{'payload_id': 'FalconSAT-2', 'norad_id': [],...</td>\n",
       "      <td>False</td>\n",
       "      <td>[{'core_serial': 'Merlin1A', 'flight': 1, 'blo...</td>\n",
       "    </tr>\n",
       "    <tr>\n",
       "      <td>1</td>\n",
       "      <td>2</td>\n",
       "      <td>2007-03-21T01:10:00.000Z</td>\n",
       "      <td>Kwajalein Atoll</td>\n",
       "      <td>Falcon 1</td>\n",
       "      <td>[{'payload_id': 'DemoSAT', 'norad_id': [], 're...</td>\n",
       "      <td>False</td>\n",
       "      <td>[{'core_serial': 'Merlin2A', 'flight': 1, 'blo...</td>\n",
       "    </tr>\n",
       "    <tr>\n",
       "      <td>2</td>\n",
       "      <td>3</td>\n",
       "      <td>2008-08-02T03:34:00.000Z</td>\n",
       "      <td>Kwajalein Atoll</td>\n",
       "      <td>Falcon 1</td>\n",
       "      <td>[{'payload_id': 'Trailblazer', 'norad_id': [],...</td>\n",
       "      <td>False</td>\n",
       "      <td>[{'core_serial': 'Merlin1C', 'flight': 1, 'blo...</td>\n",
       "    </tr>\n",
       "    <tr>\n",
       "      <td>3</td>\n",
       "      <td>4</td>\n",
       "      <td>2008-09-28T23:15:00.000Z</td>\n",
       "      <td>Kwajalein Atoll</td>\n",
       "      <td>Falcon 1</td>\n",
       "      <td>[{'payload_id': 'RatSat', 'norad_id': [33393],...</td>\n",
       "      <td>True</td>\n",
       "      <td>[{'core_serial': 'Merlin2C', 'flight': 1, 'blo...</td>\n",
       "    </tr>\n",
       "    <tr>\n",
       "      <td>4</td>\n",
       "      <td>5</td>\n",
       "      <td>2009-07-13T03:35:00.000Z</td>\n",
       "      <td>Kwajalein Atoll</td>\n",
       "      <td>Falcon 1</td>\n",
       "      <td>[{'payload_id': 'RazakSAT', 'norad_id': [35578...</td>\n",
       "      <td>True</td>\n",
       "      <td>[{'core_serial': 'Merlin3C', 'flight': 1, 'blo...</td>\n",
       "    </tr>\n",
       "  </tbody>\n",
       "</table>\n",
       "</div>"
      ],
      "text/plain": [
       "   flight_number           launch_date_utc launch_site.site_name  \\\n",
       "0              1  2006-03-24T22:30:00.000Z       Kwajalein Atoll   \n",
       "1              2  2007-03-21T01:10:00.000Z       Kwajalein Atoll   \n",
       "2              3  2008-08-02T03:34:00.000Z       Kwajalein Atoll   \n",
       "3              4  2008-09-28T23:15:00.000Z       Kwajalein Atoll   \n",
       "4              5  2009-07-13T03:35:00.000Z       Kwajalein Atoll   \n",
       "\n",
       "  rocket.rocket_name                       rocket.second_stage.payloads  \\\n",
       "0           Falcon 1  [{'payload_id': 'FalconSAT-2', 'norad_id': [],...   \n",
       "1           Falcon 1  [{'payload_id': 'DemoSAT', 'norad_id': [], 're...   \n",
       "2           Falcon 1  [{'payload_id': 'Trailblazer', 'norad_id': [],...   \n",
       "3           Falcon 1  [{'payload_id': 'RatSat', 'norad_id': [33393],...   \n",
       "4           Falcon 1  [{'payload_id': 'RazakSAT', 'norad_id': [35578...   \n",
       "\n",
       "  launch_success                           rocket.first_stage.cores  \n",
       "0          False  [{'core_serial': 'Merlin1A', 'flight': 1, 'blo...  \n",
       "1          False  [{'core_serial': 'Merlin2A', 'flight': 1, 'blo...  \n",
       "2          False  [{'core_serial': 'Merlin1C', 'flight': 1, 'blo...  \n",
       "3           True  [{'core_serial': 'Merlin2C', 'flight': 1, 'blo...  \n",
       "4           True  [{'core_serial': 'Merlin3C', 'flight': 1, 'blo...  "
      ]
     },
     "execution_count": 10,
     "metadata": {},
     "output_type": "execute_result"
    }
   ],
   "source": [
    "df_compatible.head()"
   ]
  },
  {
   "cell_type": "code",
   "execution_count": 11,
   "metadata": {
    "scrolled": true
   },
   "outputs": [],
   "source": [
    "#Creating a data frame\n",
    "column_names = ['Flight Number', 'Date','Time (UTC)','Booster Version','Launch Site','Payload','Payload Mass (kg)','Orbit','Customer','Mission Outcome','Landing Outcome']\n",
    "df_compatible_API = pd.DataFrame(columns = column_names)"
   ]
  },
  {
   "cell_type": "code",
   "execution_count": 12,
   "metadata": {},
   "outputs": [],
   "source": [
    "#First column\n",
    "df_compatible_API['Flight Number']=df_compatible['flight_number']"
   ]
  },
  {
   "cell_type": "code",
   "execution_count": 13,
   "metadata": {},
   "outputs": [],
   "source": [
    "#2° Column\n",
    "df_compatible_API['Date']=df_compatible['launch_date_utc'].apply(lambda x: (str(x).split('T'))[0])"
   ]
  },
  {
   "cell_type": "code",
   "execution_count": 14,
   "metadata": {},
   "outputs": [],
   "source": [
    "#3° Column\n",
    "df_compatible_API['Time (UTC)']=df_compatible['launch_date_utc'].apply(lambda x: (re.search('.{2}:.{2}:\\w+',x))[0])"
   ]
  },
  {
   "cell_type": "code",
   "execution_count": 15,
   "metadata": {},
   "outputs": [],
   "source": [
    "#4° Column\n",
    "df_compatible_API['Launch Site']=df_compatible['launch_site.site_name']"
   ]
  },
  {
   "cell_type": "code",
   "execution_count": 16,
   "metadata": {},
   "outputs": [],
   "source": [
    "#5° Column\n",
    "df_compatible_API['Booster Version']=df_compatible['rocket.rocket_name']"
   ]
  },
  {
   "cell_type": "code",
   "execution_count": 17,
   "metadata": {},
   "outputs": [],
   "source": [
    "#6° Column\n",
    "def get_x(x):\n",
    "    for l in x:\n",
    "        return list(l.values())[0]\n",
    "df_compatible_API['Payload']=df_compatible['rocket.second_stage.payloads'].apply(get_x)"
   ]
  },
  {
   "cell_type": "code",
   "execution_count": 18,
   "metadata": {},
   "outputs": [],
   "source": [
    "#7° Column\n",
    "def get_x(x):\n",
    "    for l in x:\n",
    "        return list(l.values())[8]\n",
    "df_compatible_API['Payload Mass (kg)']=df_compatible['rocket.second_stage.payloads'].apply(get_x)"
   ]
  },
  {
   "cell_type": "code",
   "execution_count": 19,
   "metadata": {},
   "outputs": [],
   "source": [
    "#8° Column\n",
    "def get_x(x):\n",
    "    for l in x:\n",
    "        return list(l.values())[9]\n",
    "df_compatible_API['Orbit']=df_compatible['rocket.second_stage.payloads'].apply(get_x)"
   ]
  },
  {
   "cell_type": "code",
   "execution_count": 20,
   "metadata": {},
   "outputs": [],
   "source": [
    "#9° Column\n",
    "def get_x(x):\n",
    "    for l in x:\n",
    "        return list(l.values())[3]\n",
    "df_compatible_API['Customer']=df_compatible['rocket.second_stage.payloads'].apply(get_x)"
   ]
  },
  {
   "cell_type": "code",
   "execution_count": 21,
   "metadata": {},
   "outputs": [],
   "source": [
    "df_compatible_API['Customer']=df_compatible_API['Customer'].apply(lambda x: str(x).replace('[',''))\n",
    "df_compatible_API['Customer']=df_compatible_API['Customer'].apply(lambda x: x.replace(']',''))"
   ]
  },
  {
   "cell_type": "code",
   "execution_count": 22,
   "metadata": {},
   "outputs": [],
   "source": [
    "df_compatible_API['Mission Outcome']=df_compatible['launch_success']"
   ]
  },
  {
   "cell_type": "code",
   "execution_count": 23,
   "metadata": {},
   "outputs": [],
   "source": [
    "#10° Column\n",
    "def get_x(x):    \n",
    "    return list(x[0].values())[6]\n",
    "df_compatible_API['Landing Outcome']=df_compatible['rocket.first_stage.cores'].apply(get_x)"
   ]
  },
  {
   "cell_type": "code",
   "execution_count": 24,
   "metadata": {
    "scrolled": true
   },
   "outputs": [
    {
     "data": {
      "text/html": [
       "<div>\n",
       "<style scoped>\n",
       "    .dataframe tbody tr th:only-of-type {\n",
       "        vertical-align: middle;\n",
       "    }\n",
       "\n",
       "    .dataframe tbody tr th {\n",
       "        vertical-align: top;\n",
       "    }\n",
       "\n",
       "    .dataframe thead th {\n",
       "        text-align: right;\n",
       "    }\n",
       "</style>\n",
       "<table border=\"1\" class=\"dataframe\">\n",
       "  <thead>\n",
       "    <tr style=\"text-align: right;\">\n",
       "      <th></th>\n",
       "      <th>Flight Number</th>\n",
       "      <th>Date</th>\n",
       "      <th>Time (UTC)</th>\n",
       "      <th>Booster Version</th>\n",
       "      <th>Launch Site</th>\n",
       "      <th>Payload</th>\n",
       "      <th>Payload Mass (kg)</th>\n",
       "      <th>Orbit</th>\n",
       "      <th>Customer</th>\n",
       "      <th>Mission Outcome</th>\n",
       "      <th>Landing Outcome</th>\n",
       "    </tr>\n",
       "  </thead>\n",
       "  <tbody>\n",
       "    <tr>\n",
       "      <td>0</td>\n",
       "      <td>1</td>\n",
       "      <td>2006-03-24</td>\n",
       "      <td>22:30:00</td>\n",
       "      <td>Falcon 1</td>\n",
       "      <td>Kwajalein Atoll</td>\n",
       "      <td>FalconSAT-2</td>\n",
       "      <td>43.0</td>\n",
       "      <td>LEO</td>\n",
       "      <td>'DARPA'</td>\n",
       "      <td>False</td>\n",
       "      <td>None</td>\n",
       "    </tr>\n",
       "    <tr>\n",
       "      <td>1</td>\n",
       "      <td>2</td>\n",
       "      <td>2007-03-21</td>\n",
       "      <td>01:10:00</td>\n",
       "      <td>Falcon 1</td>\n",
       "      <td>Kwajalein Atoll</td>\n",
       "      <td>DemoSAT</td>\n",
       "      <td>NaN</td>\n",
       "      <td>LEO</td>\n",
       "      <td>'DARPA'</td>\n",
       "      <td>False</td>\n",
       "      <td>None</td>\n",
       "    </tr>\n",
       "    <tr>\n",
       "      <td>2</td>\n",
       "      <td>3</td>\n",
       "      <td>2008-08-02</td>\n",
       "      <td>03:34:00</td>\n",
       "      <td>Falcon 1</td>\n",
       "      <td>Kwajalein Atoll</td>\n",
       "      <td>Trailblazer</td>\n",
       "      <td>NaN</td>\n",
       "      <td>LEO</td>\n",
       "      <td>'NASA'</td>\n",
       "      <td>False</td>\n",
       "      <td>None</td>\n",
       "    </tr>\n",
       "    <tr>\n",
       "      <td>3</td>\n",
       "      <td>4</td>\n",
       "      <td>2008-09-28</td>\n",
       "      <td>23:15:00</td>\n",
       "      <td>Falcon 1</td>\n",
       "      <td>Kwajalein Atoll</td>\n",
       "      <td>RatSat</td>\n",
       "      <td>363.0</td>\n",
       "      <td>LEO</td>\n",
       "      <td>'SpaceX'</td>\n",
       "      <td>True</td>\n",
       "      <td>None</td>\n",
       "    </tr>\n",
       "    <tr>\n",
       "      <td>4</td>\n",
       "      <td>5</td>\n",
       "      <td>2009-07-13</td>\n",
       "      <td>03:35:00</td>\n",
       "      <td>Falcon 1</td>\n",
       "      <td>Kwajalein Atoll</td>\n",
       "      <td>RazakSAT</td>\n",
       "      <td>440.0</td>\n",
       "      <td>LEO</td>\n",
       "      <td>'ATSB'</td>\n",
       "      <td>True</td>\n",
       "      <td>None</td>\n",
       "    </tr>\n",
       "  </tbody>\n",
       "</table>\n",
       "</div>"
      ],
      "text/plain": [
       "   Flight Number        Date Time (UTC) Booster Version      Launch Site  \\\n",
       "0              1  2006-03-24   22:30:00        Falcon 1  Kwajalein Atoll   \n",
       "1              2  2007-03-21   01:10:00        Falcon 1  Kwajalein Atoll   \n",
       "2              3  2008-08-02   03:34:00        Falcon 1  Kwajalein Atoll   \n",
       "3              4  2008-09-28   23:15:00        Falcon 1  Kwajalein Atoll   \n",
       "4              5  2009-07-13   03:35:00        Falcon 1  Kwajalein Atoll   \n",
       "\n",
       "       Payload  Payload Mass (kg) Orbit  Customer Mission Outcome  \\\n",
       "0  FalconSAT-2               43.0   LEO   'DARPA'           False   \n",
       "1      DemoSAT                NaN   LEO   'DARPA'           False   \n",
       "2  Trailblazer                NaN   LEO    'NASA'           False   \n",
       "3       RatSat              363.0   LEO  'SpaceX'            True   \n",
       "4     RazakSAT              440.0   LEO    'ATSB'            True   \n",
       "\n",
       "  Landing Outcome  \n",
       "0            None  \n",
       "1            None  \n",
       "2            None  \n",
       "3            None  \n",
       "4            None  "
      ]
     },
     "execution_count": 24,
     "metadata": {},
     "output_type": "execute_result"
    }
   ],
   "source": [
    "df_compatible_API.head()"
   ]
  },
  {
   "cell_type": "code",
   "execution_count": 25,
   "metadata": {},
   "outputs": [],
   "source": [
    "#df_compatible_API.to_csv(r'df_API_Spacex.csv', index = False)"
   ]
  },
  {
   "cell_type": "code",
   "execution_count": null,
   "metadata": {},
   "outputs": [],
   "source": [
    "#https://docs.spacexdata.com/?version=latest#02badaab-e03e-40c8-ab20-3bc76d95d401\n",
    "      "
   ]
  }
 ],
 "metadata": {
  "kernelspec": {
   "display_name": "Python 3",
   "language": "python",
   "name": "python3"
  },
  "language_info": {
   "codemirror_mode": {
    "name": "ipython",
    "version": 3
   },
   "file_extension": ".py",
   "mimetype": "text/x-python",
   "name": "python",
   "nbconvert_exporter": "python",
   "pygments_lexer": "ipython3",
   "version": "3.7.4"
  }
 },
 "nbformat": 4,
 "nbformat_minor": 2
}
