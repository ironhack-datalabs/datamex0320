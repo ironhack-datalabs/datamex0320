{
 "cells": [
  {
   "cell_type": "markdown",
   "metadata": {},
   "source": [
    "# Working with RSS Feeds Lab\n",
    "\n",
    "Complete the following set of exercises to solidify your knowledge of parsing RSS feeds and extracting information from them."
   ]
  },
  {
   "cell_type": "code",
   "execution_count": 1,
   "metadata": {},
   "outputs": [],
   "source": [
    "#!pip install feedparser\n",
    "import feedparser"
   ]
  },
  {
   "cell_type": "markdown",
   "metadata": {},
   "source": [
    "### 1. Use feedparser to parse the following RSS feed URL."
   ]
  },
  {
   "cell_type": "code",
   "execution_count": 2,
   "metadata": {},
   "outputs": [],
   "source": [
    "url = 'http://feeds.feedburner.com/oreilly/radar/atom'"
   ]
  },
  {
   "cell_type": "code",
   "execution_count": 3,
   "metadata": {},
   "outputs": [],
   "source": [
    "feedburner = feedparser.parse(url)"
   ]
  },
  {
   "cell_type": "code",
   "execution_count": 4,
   "metadata": {},
   "outputs": [
    {
     "data": {
      "text/plain": [
       "{'title': 'Radar',\n",
       " 'title_detail': {'type': 'text/plain',\n",
       "  'language': None,\n",
       "  'base': 'http://feeds.feedburner.com/oreilly/radar/atom',\n",
       "  'value': 'Radar'},\n",
       " 'links': [{'rel': 'alternate',\n",
       "   'type': 'text/html',\n",
       "   'href': 'https://www.oreilly.com/radar'},\n",
       "  {'rel': 'self',\n",
       "   'type': 'application/rss+xml',\n",
       "   'href': 'http://feeds.feedburner.com/oreilly/radar/atom'},\n",
       "  {'rel': 'hub',\n",
       "   'href': 'http://pubsubhubbub.appspot.com/',\n",
       "   'type': 'text/html'}],\n",
       " 'link': 'https://www.oreilly.com/radar',\n",
       " 'subtitle': 'Now, next, and beyond: Tracking need-to-know trends at the intersection of business and technology',\n",
       " 'subtitle_detail': {'type': 'text/html',\n",
       "  'language': None,\n",
       "  'base': 'http://feeds.feedburner.com/oreilly/radar/atom',\n",
       "  'value': 'Now, next, and beyond: Tracking need-to-know trends at the intersection of business and technology'},\n",
       " 'updated': 'Wed, 08 Apr 2020 11:48:28 +0000',\n",
       " 'updated_parsed': time.struct_time(tm_year=2020, tm_mon=4, tm_mday=8, tm_hour=11, tm_min=48, tm_sec=28, tm_wday=2, tm_yday=99, tm_isdst=0),\n",
       " 'language': 'en-US',\n",
       " 'sy_updateperiod': 'hourly',\n",
       " 'sy_updatefrequency': '1',\n",
       " 'generator_detail': {'name': 'https://wordpress.org/?v=5.3.2'},\n",
       " 'generator': 'https://wordpress.org/?v=5.3.2',\n",
       " 'feedburner_info': {'uri': 'oreilly/radar/atom'},\n",
       " 'geo_lat': '38.393314',\n",
       " 'geo_long': '-122.836667',\n",
       " 'feedburner_emailserviceid': 'oreilly/radar/atom',\n",
       " 'feedburner_feedburnerhostname': 'https://feedburner.google.com'}"
      ]
     },
     "execution_count": 4,
     "metadata": {},
     "output_type": "execute_result"
    }
   ],
   "source": [
    "feedburner['feed']"
   ]
  },
  {
   "cell_type": "markdown",
   "metadata": {},
   "source": [
    "### 2. Obtain a list of components (keys) that are available for this feed."
   ]
  },
  {
   "cell_type": "code",
   "execution_count": 5,
   "metadata": {},
   "outputs": [
    {
     "data": {
      "text/plain": [
       "['feed',\n",
       " 'entries',\n",
       " 'bozo',\n",
       " 'headers',\n",
       " 'etag',\n",
       " 'updated',\n",
       " 'updated_parsed',\n",
       " 'href',\n",
       " 'status',\n",
       " 'encoding',\n",
       " 'version',\n",
       " 'namespaces']"
      ]
     },
     "execution_count": 5,
     "metadata": {},
     "output_type": "execute_result"
    }
   ],
   "source": [
    "components = list(feedburner.keys())\n",
    "components"
   ]
  },
  {
   "cell_type": "markdown",
   "metadata": {},
   "source": [
    "### 3. Obtain a list of components (keys) that are available for the *feed* component of this RSS feed."
   ]
  },
  {
   "cell_type": "code",
   "execution_count": 6,
   "metadata": {},
   "outputs": [
    {
     "data": {
      "text/plain": [
       "['title',\n",
       " 'title_detail',\n",
       " 'links',\n",
       " 'link',\n",
       " 'subtitle',\n",
       " 'subtitle_detail',\n",
       " 'updated',\n",
       " 'updated_parsed',\n",
       " 'language',\n",
       " 'sy_updateperiod',\n",
       " 'sy_updatefrequency',\n",
       " 'generator_detail',\n",
       " 'generator',\n",
       " 'feedburner_info',\n",
       " 'geo_lat',\n",
       " 'geo_long',\n",
       " 'feedburner_emailserviceid',\n",
       " 'feedburner_feedburnerhostname']"
      ]
     },
     "execution_count": 6,
     "metadata": {},
     "output_type": "execute_result"
    }
   ],
   "source": [
    "feed_keys = list(feedburner.feed.keys())\n",
    "feed_keys"
   ]
  },
  {
   "cell_type": "markdown",
   "metadata": {},
   "source": [
    "### 4. Extract and print the feed title, subtitle, author, and link."
   ]
  },
  {
   "cell_type": "code",
   "execution_count": 7,
   "metadata": {},
   "outputs": [
    {
     "data": {
      "text/plain": [
       "'Radar'"
      ]
     },
     "metadata": {},
     "output_type": "display_data"
    },
    {
     "data": {
      "text/plain": [
       "'Now, next, and beyond: Tracking need-to-know trends at the intersection of business and technology'"
      ]
     },
     "metadata": {},
     "output_type": "display_data"
    },
    {
     "data": {
      "text/plain": [
       "'https://www.oreilly.com/radar'"
      ]
     },
     "metadata": {},
     "output_type": "display_data"
    }
   ],
   "source": [
    "f_title = feedburner.feed.title\n",
    "f_sub_title = feedburner.feed.subtitle\n",
    "f_link = feedburner.feed.link\n",
    "display(f_title, f_sub_title,f_link)"
   ]
  },
  {
   "cell_type": "code",
   "execution_count": 8,
   "metadata": {},
   "outputs": [
    {
     "data": {
      "text/plain": [
       "{'Cynthia Owens',\n",
       " 'George Fairbanks',\n",
       " 'Hugo Bowne-Anderson',\n",
       " 'Jenn Webb',\n",
       " 'Kai Holnes',\n",
       " 'Mac Slocum',\n",
       " 'Mark Richards',\n",
       " 'Martin Fowler',\n",
       " 'Mary Poppendieck',\n",
       " 'Mike Loukides',\n",
       " 'Nat Torkington',\n",
       " 'Pamela Rucker',\n",
       " 'Peter Skomoroch and Mike Loukides',\n",
       " 'Rachel Laycock and Neal Ford',\n",
       " 'Rita J. King',\n",
       " 'Roger Magoulas and Steve Swoyer',\n",
       " 'Tim O’Reilly'}"
      ]
     },
     "metadata": {},
     "output_type": "display_data"
    }
   ],
   "source": [
    "authors = set([a.author for a in feedburner.entries])\n",
    "display(authors)"
   ]
  },
  {
   "cell_type": "markdown",
   "metadata": {},
   "source": [
    "### 5. Count the number of entries that are contained in this RSS feed."
   ]
  },
  {
   "cell_type": "code",
   "execution_count": 9,
   "metadata": {
    "scrolled": true
   },
   "outputs": [
    {
     "data": {
      "text/plain": [
       "19"
      ]
     },
     "execution_count": 9,
     "metadata": {},
     "output_type": "execute_result"
    }
   ],
   "source": [
    "len(feedburner.entries[0].keys())"
   ]
  },
  {
   "cell_type": "markdown",
   "metadata": {},
   "source": [
    "### 6. Obtain a list of components (keys) available for an entry.\n",
    "\n",
    "*Hint: Remember to index first before requesting the keys*"
   ]
  },
  {
   "cell_type": "code",
   "execution_count": 10,
   "metadata": {},
   "outputs": [
    {
     "data": {
      "text/plain": [
       "['title',\n",
       " 'title_detail',\n",
       " 'links',\n",
       " 'link',\n",
       " 'comments',\n",
       " 'published',\n",
       " 'published_parsed',\n",
       " 'authors',\n",
       " 'author',\n",
       " 'author_detail',\n",
       " 'tags',\n",
       " 'id',\n",
       " 'guidislink',\n",
       " 'summary',\n",
       " 'summary_detail',\n",
       " 'content',\n",
       " 'wfw_commentrss',\n",
       " 'slash_comments',\n",
       " 'feedburner_origlink']"
      ]
     },
     "execution_count": 10,
     "metadata": {},
     "output_type": "execute_result"
    }
   ],
   "source": [
    "list(feedburner.entries[0].keys())"
   ]
  },
  {
   "cell_type": "markdown",
   "metadata": {},
   "source": [
    "### 7. Extract a list of entry titles."
   ]
  },
  {
   "cell_type": "code",
   "execution_count": 11,
   "metadata": {},
   "outputs": [
    {
     "data": {
      "text/plain": [
       "{'10 ways to get untapped talent in your organization to contribute',\n",
       " '3 ways to confront modern business challenges',\n",
       " '5 key areas for tech leaders to watch in 2020',\n",
       " '6 trends framing the state of AI and ML',\n",
       " 'AI adoption in the enterprise 2020',\n",
       " 'An enterprise vision is your company’s North Star',\n",
       " 'Architecture.Next: Invalidating old axioms',\n",
       " 'Four short links: 1 April 2020',\n",
       " 'Four short links: 10 March 2020',\n",
       " 'Four short links: 11 March 2020',\n",
       " 'Four short links: 12 March 2020',\n",
       " 'Four short links: 13 February 2020',\n",
       " 'Four short links: 13 March 2020',\n",
       " 'Four short links: 14 February 2020',\n",
       " 'Four short links: 16 March 2020',\n",
       " 'Four short links: 17 February 2020',\n",
       " 'Four short links: 17 March 2020',\n",
       " 'Four short links: 18 February 2020',\n",
       " 'Four short links: 18 March 2020',\n",
       " 'Four short links: 19 February 2020',\n",
       " 'Four short links: 19 March 2020',\n",
       " 'Four short links: 2 April 2020',\n",
       " 'Four short links: 2 March 2020',\n",
       " 'Four short links: 20 February 2020',\n",
       " 'Four short links: 20 March 2020',\n",
       " 'Four short links: 22 February 2020',\n",
       " 'Four short links: 23 March 2020',\n",
       " 'Four short links: 24 February 2020',\n",
       " 'Four short links: 24 March 2020',\n",
       " 'Four short links: 25 February 2020',\n",
       " 'Four short links: 26 February 2020',\n",
       " 'Four short links: 27 February 2020',\n",
       " 'Four short links: 28 February 2020',\n",
       " 'Four short links: 3 April 2020',\n",
       " 'Four short links: 3 March 2020',\n",
       " 'Four short links: 31 March 2020',\n",
       " 'Four short links: 4 March 2020',\n",
       " 'Four short links: 5 March 2020',\n",
       " 'Four short links: 6 April 2020',\n",
       " 'Four short links: 6 March 2020',\n",
       " 'Four short links: 7 April 2020',\n",
       " 'Four short links: 8 April 2020',\n",
       " 'Four short links: 9 March 2020',\n",
       " 'From the trenches: Rachel Laycock',\n",
       " 'Governance and Discovery',\n",
       " 'Great leaders inspire innovation and creativity from within their workforces',\n",
       " 'Highlights from the O’Reilly Software Architecture Conference in New York 2020',\n",
       " 'Intellectual control',\n",
       " 'It’s an unprecedented crisis: 8 things to do right now',\n",
       " 'Leaders need to mobilize change-ready workforces',\n",
       " 'Radar trends to watch: March 2020',\n",
       " 'Remembering Freeman Dyson',\n",
       " 'Sometimes I draw',\n",
       " 'Strong leaders forge an intersection of knowledge and experience',\n",
       " 'The death of Agile?',\n",
       " 'The elephant in the architecture',\n",
       " 'The state of data quality in 2020',\n",
       " 'The unreasonable importance of data preparation',\n",
       " 'What you need to know about product management for AI',\n",
       " 'Where do great architectures come from?'}"
      ]
     },
     "execution_count": 11,
     "metadata": {},
     "output_type": "execute_result"
    }
   ],
   "source": [
    "set([a.title for a in feedburner.entries])"
   ]
  },
  {
   "cell_type": "markdown",
   "metadata": {},
   "source": [
    "### 8. Calculate the percentage of \"Four short links\" entry titles."
   ]
  },
  {
   "cell_type": "code",
   "execution_count": 12,
   "metadata": {},
   "outputs": [
    {
     "data": {
      "text/plain": [
       "60.0"
      ]
     },
     "execution_count": 12,
     "metadata": {},
     "output_type": "execute_result"
    }
   ],
   "source": [
    "import re\n",
    "titles = list([a.title for a in feedburner.entries])\n",
    "Four_sl = []\n",
    "for a in titles:\n",
    "    if len(re.findall('(Four)',a))>0:\n",
    "        Four_sl.append(re.findall('(Four)',a))\n",
    "percentage = (len(Four_sl)/len(titles))*100\n",
    "percentage"
   ]
  },
  {
   "cell_type": "markdown",
   "metadata": {},
   "source": [
    "### 9. Create a Pandas data frame from the feed's entries."
   ]
  },
  {
   "cell_type": "code",
   "execution_count": 13,
   "metadata": {},
   "outputs": [],
   "source": [
    "import pandas as pd"
   ]
  },
  {
   "cell_type": "code",
   "execution_count": 14,
   "metadata": {},
   "outputs": [
    {
     "data": {
      "text/html": [
       "<div>\n",
       "<style scoped>\n",
       "    .dataframe tbody tr th:only-of-type {\n",
       "        vertical-align: middle;\n",
       "    }\n",
       "\n",
       "    .dataframe tbody tr th {\n",
       "        vertical-align: top;\n",
       "    }\n",
       "\n",
       "    .dataframe thead th {\n",
       "        text-align: right;\n",
       "    }\n",
       "</style>\n",
       "<table border=\"1\" class=\"dataframe\">\n",
       "  <thead>\n",
       "    <tr style=\"text-align: right;\">\n",
       "      <th></th>\n",
       "      <th>title</th>\n",
       "      <th>title_detail</th>\n",
       "      <th>links</th>\n",
       "      <th>link</th>\n",
       "      <th>comments</th>\n",
       "      <th>published</th>\n",
       "      <th>published_parsed</th>\n",
       "      <th>authors</th>\n",
       "      <th>author</th>\n",
       "      <th>author_detail</th>\n",
       "      <th>tags</th>\n",
       "      <th>id</th>\n",
       "      <th>guidislink</th>\n",
       "      <th>summary</th>\n",
       "      <th>summary_detail</th>\n",
       "      <th>content</th>\n",
       "      <th>wfw_commentrss</th>\n",
       "      <th>slash_comments</th>\n",
       "      <th>feedburner_origlink</th>\n",
       "    </tr>\n",
       "  </thead>\n",
       "  <tbody>\n",
       "    <tr>\n",
       "      <td>0</td>\n",
       "      <td>Four short links: 8 April 2020</td>\n",
       "      <td>{'type': 'text/plain', 'language': None, 'base...</td>\n",
       "      <td>[{'rel': 'alternate', 'type': 'text/html', 'hr...</td>\n",
       "      <td>http://feedproxy.google.com/~r/oreilly/radar/a...</td>\n",
       "      <td>https://www.oreilly.com/radar/four-short-links...</td>\n",
       "      <td>Wed, 08 Apr 2020 11:48:28 +0000</td>\n",
       "      <td>(2020, 4, 8, 11, 48, 28, 2, 99, 0)</td>\n",
       "      <td>[{'name': 'Nat Torkington'}]</td>\n",
       "      <td>Nat Torkington</td>\n",
       "      <td>{'name': 'Nat Torkington'}</td>\n",
       "      <td>[{'term': 'Four Short Links', 'scheme': None, ...</td>\n",
       "      <td>https://www.oreilly.com/radar/?p=12611</td>\n",
       "      <td>False</td>\n",
       "      <td>System Design for Advanced Beginners &amp;#8212; a...</td>\n",
       "      <td>{'type': 'text/html', 'language': None, 'base'...</td>\n",
       "      <td>[{'type': 'text/html', 'language': None, 'base...</td>\n",
       "      <td>https://www.oreilly.com/radar/four-short-links...</td>\n",
       "      <td>0</td>\n",
       "      <td>https://www.oreilly.com/radar/four-short-links...</td>\n",
       "    </tr>\n",
       "    <tr>\n",
       "      <td>1</td>\n",
       "      <td>Four short links: 7 April 2020</td>\n",
       "      <td>{'type': 'text/plain', 'language': None, 'base...</td>\n",
       "      <td>[{'rel': 'alternate', 'type': 'text/html', 'hr...</td>\n",
       "      <td>http://feedproxy.google.com/~r/oreilly/radar/a...</td>\n",
       "      <td>https://www.oreilly.com/radar/four-short-links...</td>\n",
       "      <td>Tue, 07 Apr 2020 11:45:13 +0000</td>\n",
       "      <td>(2020, 4, 7, 11, 45, 13, 1, 98, 0)</td>\n",
       "      <td>[{'name': 'Nat Torkington'}]</td>\n",
       "      <td>Nat Torkington</td>\n",
       "      <td>{'name': 'Nat Torkington'}</td>\n",
       "      <td>[{'term': 'Four Short Links', 'scheme': None, ...</td>\n",
       "      <td>https://www.oreilly.com/radar/?p=12606</td>\n",
       "      <td>False</td>\n",
       "      <td>locust &amp;#8212; open source load testing tool: ...</td>\n",
       "      <td>{'type': 'text/html', 'language': None, 'base'...</td>\n",
       "      <td>[{'type': 'text/html', 'language': None, 'base...</td>\n",
       "      <td>https://www.oreilly.com/radar/four-short-links...</td>\n",
       "      <td>0</td>\n",
       "      <td>https://www.oreilly.com/radar/four-short-links...</td>\n",
       "    </tr>\n",
       "    <tr>\n",
       "      <td>2</td>\n",
       "      <td>Governance and Discovery</td>\n",
       "      <td>{'type': 'text/plain', 'language': None, 'base...</td>\n",
       "      <td>[{'rel': 'alternate', 'type': 'text/html', 'hr...</td>\n",
       "      <td>http://feedproxy.google.com/~r/oreilly/radar/a...</td>\n",
       "      <td>https://www.oreilly.com/radar/governance-and-d...</td>\n",
       "      <td>Mon, 06 Apr 2020 19:09:29 +0000</td>\n",
       "      <td>(2020, 4, 6, 19, 9, 29, 0, 97, 0)</td>\n",
       "      <td>[{'name': 'Mike Loukides'}]</td>\n",
       "      <td>Mike Loukides</td>\n",
       "      <td>{'name': 'Mike Loukides'}</td>\n",
       "      <td>[{'term': 'Radar Column', 'scheme': None, 'lab...</td>\n",
       "      <td>https://www.oreilly.com/radar/?p=12594</td>\n",
       "      <td>False</td>\n",
       "      <td>Data Governance sounds like a candidate for th...</td>\n",
       "      <td>{'type': 'text/html', 'language': None, 'base'...</td>\n",
       "      <td>[{'type': 'text/html', 'language': None, 'base...</td>\n",
       "      <td>https://www.oreilly.com/radar/governance-and-d...</td>\n",
       "      <td>0</td>\n",
       "      <td>https://www.oreilly.com/radar/governance-and-d...</td>\n",
       "    </tr>\n",
       "    <tr>\n",
       "      <td>3</td>\n",
       "      <td>Four short links: 6 April 2020</td>\n",
       "      <td>{'type': 'text/plain', 'language': None, 'base...</td>\n",
       "      <td>[{'rel': 'alternate', 'type': 'text/html', 'hr...</td>\n",
       "      <td>http://feedproxy.google.com/~r/oreilly/radar/a...</td>\n",
       "      <td>https://www.oreilly.com/radar/four-short-links...</td>\n",
       "      <td>Mon, 06 Apr 2020 11:53:01 +0000</td>\n",
       "      <td>(2020, 4, 6, 11, 53, 1, 0, 97, 0)</td>\n",
       "      <td>[{'name': 'Nat Torkington'}]</td>\n",
       "      <td>Nat Torkington</td>\n",
       "      <td>{'name': 'Nat Torkington'}</td>\n",
       "      <td>[{'term': 'Four Short Links', 'scheme': None, ...</td>\n",
       "      <td>https://www.oreilly.com/radar/?p=12590</td>\n",
       "      <td>False</td>\n",
       "      <td>Rufus &amp;#8212; Create bootable USB drives the e...</td>\n",
       "      <td>{'type': 'text/html', 'language': None, 'base'...</td>\n",
       "      <td>[{'type': 'text/html', 'language': None, 'base...</td>\n",
       "      <td>https://www.oreilly.com/radar/four-short-links...</td>\n",
       "      <td>0</td>\n",
       "      <td>https://www.oreilly.com/radar/four-short-links...</td>\n",
       "    </tr>\n",
       "    <tr>\n",
       "      <td>4</td>\n",
       "      <td>Four short links: 3 April 2020</td>\n",
       "      <td>{'type': 'text/plain', 'language': None, 'base...</td>\n",
       "      <td>[{'rel': 'alternate', 'type': 'text/html', 'hr...</td>\n",
       "      <td>http://feedproxy.google.com/~r/oreilly/radar/a...</td>\n",
       "      <td>https://www.oreilly.com/radar/four-short-links...</td>\n",
       "      <td>Fri, 03 Apr 2020 11:59:08 +0000</td>\n",
       "      <td>(2020, 4, 3, 11, 59, 8, 4, 94, 0)</td>\n",
       "      <td>[{'name': 'Nat Torkington'}]</td>\n",
       "      <td>Nat Torkington</td>\n",
       "      <td>{'name': 'Nat Torkington'}</td>\n",
       "      <td>[{'term': 'Four Short Links', 'scheme': None, ...</td>\n",
       "      <td>https://www.oreilly.com/radar/?p=12585</td>\n",
       "      <td>False</td>\n",
       "      <td>The Zero Trust Learning Curve (Palo Alto Netwo...</td>\n",
       "      <td>{'type': 'text/html', 'language': None, 'base'...</td>\n",
       "      <td>[{'type': 'text/html', 'language': None, 'base...</td>\n",
       "      <td>https://www.oreilly.com/radar/four-short-links...</td>\n",
       "      <td>0</td>\n",
       "      <td>https://www.oreilly.com/radar/four-short-links...</td>\n",
       "    </tr>\n",
       "  </tbody>\n",
       "</table>\n",
       "</div>"
      ],
      "text/plain": [
       "                            title  \\\n",
       "0  Four short links: 8 April 2020   \n",
       "1  Four short links: 7 April 2020   \n",
       "2        Governance and Discovery   \n",
       "3  Four short links: 6 April 2020   \n",
       "4  Four short links: 3 April 2020   \n",
       "\n",
       "                                        title_detail  \\\n",
       "0  {'type': 'text/plain', 'language': None, 'base...   \n",
       "1  {'type': 'text/plain', 'language': None, 'base...   \n",
       "2  {'type': 'text/plain', 'language': None, 'base...   \n",
       "3  {'type': 'text/plain', 'language': None, 'base...   \n",
       "4  {'type': 'text/plain', 'language': None, 'base...   \n",
       "\n",
       "                                               links  \\\n",
       "0  [{'rel': 'alternate', 'type': 'text/html', 'hr...   \n",
       "1  [{'rel': 'alternate', 'type': 'text/html', 'hr...   \n",
       "2  [{'rel': 'alternate', 'type': 'text/html', 'hr...   \n",
       "3  [{'rel': 'alternate', 'type': 'text/html', 'hr...   \n",
       "4  [{'rel': 'alternate', 'type': 'text/html', 'hr...   \n",
       "\n",
       "                                                link  \\\n",
       "0  http://feedproxy.google.com/~r/oreilly/radar/a...   \n",
       "1  http://feedproxy.google.com/~r/oreilly/radar/a...   \n",
       "2  http://feedproxy.google.com/~r/oreilly/radar/a...   \n",
       "3  http://feedproxy.google.com/~r/oreilly/radar/a...   \n",
       "4  http://feedproxy.google.com/~r/oreilly/radar/a...   \n",
       "\n",
       "                                            comments  \\\n",
       "0  https://www.oreilly.com/radar/four-short-links...   \n",
       "1  https://www.oreilly.com/radar/four-short-links...   \n",
       "2  https://www.oreilly.com/radar/governance-and-d...   \n",
       "3  https://www.oreilly.com/radar/four-short-links...   \n",
       "4  https://www.oreilly.com/radar/four-short-links...   \n",
       "\n",
       "                         published                    published_parsed  \\\n",
       "0  Wed, 08 Apr 2020 11:48:28 +0000  (2020, 4, 8, 11, 48, 28, 2, 99, 0)   \n",
       "1  Tue, 07 Apr 2020 11:45:13 +0000  (2020, 4, 7, 11, 45, 13, 1, 98, 0)   \n",
       "2  Mon, 06 Apr 2020 19:09:29 +0000   (2020, 4, 6, 19, 9, 29, 0, 97, 0)   \n",
       "3  Mon, 06 Apr 2020 11:53:01 +0000   (2020, 4, 6, 11, 53, 1, 0, 97, 0)   \n",
       "4  Fri, 03 Apr 2020 11:59:08 +0000   (2020, 4, 3, 11, 59, 8, 4, 94, 0)   \n",
       "\n",
       "                        authors          author               author_detail  \\\n",
       "0  [{'name': 'Nat Torkington'}]  Nat Torkington  {'name': 'Nat Torkington'}   \n",
       "1  [{'name': 'Nat Torkington'}]  Nat Torkington  {'name': 'Nat Torkington'}   \n",
       "2   [{'name': 'Mike Loukides'}]   Mike Loukides   {'name': 'Mike Loukides'}   \n",
       "3  [{'name': 'Nat Torkington'}]  Nat Torkington  {'name': 'Nat Torkington'}   \n",
       "4  [{'name': 'Nat Torkington'}]  Nat Torkington  {'name': 'Nat Torkington'}   \n",
       "\n",
       "                                                tags  \\\n",
       "0  [{'term': 'Four Short Links', 'scheme': None, ...   \n",
       "1  [{'term': 'Four Short Links', 'scheme': None, ...   \n",
       "2  [{'term': 'Radar Column', 'scheme': None, 'lab...   \n",
       "3  [{'term': 'Four Short Links', 'scheme': None, ...   \n",
       "4  [{'term': 'Four Short Links', 'scheme': None, ...   \n",
       "\n",
       "                                       id  guidislink  \\\n",
       "0  https://www.oreilly.com/radar/?p=12611       False   \n",
       "1  https://www.oreilly.com/radar/?p=12606       False   \n",
       "2  https://www.oreilly.com/radar/?p=12594       False   \n",
       "3  https://www.oreilly.com/radar/?p=12590       False   \n",
       "4  https://www.oreilly.com/radar/?p=12585       False   \n",
       "\n",
       "                                             summary  \\\n",
       "0  System Design for Advanced Beginners &#8212; a...   \n",
       "1  locust &#8212; open source load testing tool: ...   \n",
       "2  Data Governance sounds like a candidate for th...   \n",
       "3  Rufus &#8212; Create bootable USB drives the e...   \n",
       "4  The Zero Trust Learning Curve (Palo Alto Netwo...   \n",
       "\n",
       "                                      summary_detail  \\\n",
       "0  {'type': 'text/html', 'language': None, 'base'...   \n",
       "1  {'type': 'text/html', 'language': None, 'base'...   \n",
       "2  {'type': 'text/html', 'language': None, 'base'...   \n",
       "3  {'type': 'text/html', 'language': None, 'base'...   \n",
       "4  {'type': 'text/html', 'language': None, 'base'...   \n",
       "\n",
       "                                             content  \\\n",
       "0  [{'type': 'text/html', 'language': None, 'base...   \n",
       "1  [{'type': 'text/html', 'language': None, 'base...   \n",
       "2  [{'type': 'text/html', 'language': None, 'base...   \n",
       "3  [{'type': 'text/html', 'language': None, 'base...   \n",
       "4  [{'type': 'text/html', 'language': None, 'base...   \n",
       "\n",
       "                                      wfw_commentrss slash_comments  \\\n",
       "0  https://www.oreilly.com/radar/four-short-links...              0   \n",
       "1  https://www.oreilly.com/radar/four-short-links...              0   \n",
       "2  https://www.oreilly.com/radar/governance-and-d...              0   \n",
       "3  https://www.oreilly.com/radar/four-short-links...              0   \n",
       "4  https://www.oreilly.com/radar/four-short-links...              0   \n",
       "\n",
       "                                 feedburner_origlink  \n",
       "0  https://www.oreilly.com/radar/four-short-links...  \n",
       "1  https://www.oreilly.com/radar/four-short-links...  \n",
       "2  https://www.oreilly.com/radar/governance-and-d...  \n",
       "3  https://www.oreilly.com/radar/four-short-links...  \n",
       "4  https://www.oreilly.com/radar/four-short-links...  "
      ]
     },
     "execution_count": 14,
     "metadata": {},
     "output_type": "execute_result"
    }
   ],
   "source": [
    "#list(feedburner.entries[0].keys())\n",
    "df = pd.DataFrame(feedburner.entries)\n",
    "df.head()"
   ]
  },
  {
   "cell_type": "markdown",
   "metadata": {},
   "source": [
    "### 10. Count the number of entries per author and sort them in descending order."
   ]
  },
  {
   "cell_type": "code",
   "execution_count": 15,
   "metadata": {},
   "outputs": [
    {
     "data": {
      "text/html": [
       "<div>\n",
       "<style scoped>\n",
       "    .dataframe tbody tr th:only-of-type {\n",
       "        vertical-align: middle;\n",
       "    }\n",
       "\n",
       "    .dataframe tbody tr th {\n",
       "        vertical-align: top;\n",
       "    }\n",
       "\n",
       "    .dataframe thead th {\n",
       "        text-align: right;\n",
       "    }\n",
       "</style>\n",
       "<table border=\"1\" class=\"dataframe\">\n",
       "  <thead>\n",
       "    <tr style=\"text-align: right;\">\n",
       "      <th></th>\n",
       "      <th>author</th>\n",
       "      <th>entries</th>\n",
       "    </tr>\n",
       "  </thead>\n",
       "  <tbody>\n",
       "    <tr>\n",
       "      <td>10</td>\n",
       "      <td>Nat Torkington</td>\n",
       "      <td>36</td>\n",
       "    </tr>\n",
       "    <tr>\n",
       "      <td>15</td>\n",
       "      <td>Roger Magoulas and Steve Swoyer</td>\n",
       "      <td>4</td>\n",
       "    </tr>\n",
       "    <tr>\n",
       "      <td>3</td>\n",
       "      <td>Jenn Webb</td>\n",
       "      <td>4</td>\n",
       "    </tr>\n",
       "    <tr>\n",
       "      <td>9</td>\n",
       "      <td>Mike Loukides</td>\n",
       "      <td>3</td>\n",
       "    </tr>\n",
       "    <tr>\n",
       "      <td>0</td>\n",
       "      <td>Cynthia Owens</td>\n",
       "      <td>1</td>\n",
       "    </tr>\n",
       "    <tr>\n",
       "      <td>14</td>\n",
       "      <td>Rita J. King</td>\n",
       "      <td>1</td>\n",
       "    </tr>\n",
       "    <tr>\n",
       "      <td>13</td>\n",
       "      <td>Rachel Laycock and Neal Ford</td>\n",
       "      <td>1</td>\n",
       "    </tr>\n",
       "    <tr>\n",
       "      <td>12</td>\n",
       "      <td>Peter Skomoroch and Mike Loukides</td>\n",
       "      <td>1</td>\n",
       "    </tr>\n",
       "    <tr>\n",
       "      <td>11</td>\n",
       "      <td>Pamela Rucker</td>\n",
       "      <td>1</td>\n",
       "    </tr>\n",
       "    <tr>\n",
       "      <td>8</td>\n",
       "      <td>Mary Poppendieck</td>\n",
       "      <td>1</td>\n",
       "    </tr>\n",
       "    <tr>\n",
       "      <td>1</td>\n",
       "      <td>George Fairbanks</td>\n",
       "      <td>1</td>\n",
       "    </tr>\n",
       "    <tr>\n",
       "      <td>7</td>\n",
       "      <td>Martin Fowler</td>\n",
       "      <td>1</td>\n",
       "    </tr>\n",
       "    <tr>\n",
       "      <td>6</td>\n",
       "      <td>Mark Richards</td>\n",
       "      <td>1</td>\n",
       "    </tr>\n",
       "    <tr>\n",
       "      <td>5</td>\n",
       "      <td>Mac Slocum</td>\n",
       "      <td>1</td>\n",
       "    </tr>\n",
       "    <tr>\n",
       "      <td>4</td>\n",
       "      <td>Kai Holnes</td>\n",
       "      <td>1</td>\n",
       "    </tr>\n",
       "    <tr>\n",
       "      <td>2</td>\n",
       "      <td>Hugo Bowne-Anderson</td>\n",
       "      <td>1</td>\n",
       "    </tr>\n",
       "    <tr>\n",
       "      <td>16</td>\n",
       "      <td>Tim O’Reilly</td>\n",
       "      <td>1</td>\n",
       "    </tr>\n",
       "  </tbody>\n",
       "</table>\n",
       "</div>"
      ],
      "text/plain": [
       "                               author  entries\n",
       "10                     Nat Torkington       36\n",
       "15    Roger Magoulas and Steve Swoyer        4\n",
       "3                           Jenn Webb        4\n",
       "9                       Mike Loukides        3\n",
       "0                       Cynthia Owens        1\n",
       "14                       Rita J. King        1\n",
       "13       Rachel Laycock and Neal Ford        1\n",
       "12  Peter Skomoroch and Mike Loukides        1\n",
       "11                      Pamela Rucker        1\n",
       "8                    Mary Poppendieck        1\n",
       "1                    George Fairbanks        1\n",
       "7                       Martin Fowler        1\n",
       "6                       Mark Richards        1\n",
       "5                          Mac Slocum        1\n",
       "4                          Kai Holnes        1\n",
       "2                 Hugo Bowne-Anderson        1\n",
       "16                       Tim O’Reilly        1"
      ]
     },
     "execution_count": 15,
     "metadata": {},
     "output_type": "execute_result"
    }
   ],
   "source": [
    "authors = df.groupby('author', as_index=False).agg({'title':'count'})\n",
    "authors.columns = ['author', 'entries']\n",
    "authors.sort_values('entries', ascending=False)"
   ]
  },
  {
   "cell_type": "markdown",
   "metadata": {},
   "source": [
    "### 11. Add a new column to the data frame that contains the length (number of characters) of each entry title. Return a data frame that contains the title, author, and title length of each entry in descending order (longest title length at the top)."
   ]
  },
  {
   "cell_type": "code",
   "execution_count": 16,
   "metadata": {},
   "outputs": [
    {
     "data": {
      "text/html": [
       "<div>\n",
       "<style scoped>\n",
       "    .dataframe tbody tr th:only-of-type {\n",
       "        vertical-align: middle;\n",
       "    }\n",
       "\n",
       "    .dataframe tbody tr th {\n",
       "        vertical-align: top;\n",
       "    }\n",
       "\n",
       "    .dataframe thead th {\n",
       "        text-align: right;\n",
       "    }\n",
       "</style>\n",
       "<table border=\"1\" class=\"dataframe\">\n",
       "  <thead>\n",
       "    <tr style=\"text-align: right;\">\n",
       "      <th></th>\n",
       "      <th>title</th>\n",
       "      <th>author</th>\n",
       "      <th>title_length</th>\n",
       "    </tr>\n",
       "  </thead>\n",
       "  <tbody>\n",
       "    <tr>\n",
       "      <td>40</td>\n",
       "      <td>Highlights from the O’Reilly Software Architec...</td>\n",
       "      <td>Mac Slocum</td>\n",
       "      <td>78</td>\n",
       "    </tr>\n",
       "    <tr>\n",
       "      <td>14</td>\n",
       "      <td>Great leaders inspire innovation and creativit...</td>\n",
       "      <td>Jenn Webb</td>\n",
       "      <td>76</td>\n",
       "    </tr>\n",
       "    <tr>\n",
       "      <td>52</td>\n",
       "      <td>10 ways to get untapped talent in your organiz...</td>\n",
       "      <td>Pamela Rucker</td>\n",
       "      <td>65</td>\n",
       "    </tr>\n",
       "    <tr>\n",
       "      <td>15</td>\n",
       "      <td>Strong leaders forge an intersection of knowle...</td>\n",
       "      <td>Jenn Webb</td>\n",
       "      <td>64</td>\n",
       "    </tr>\n",
       "    <tr>\n",
       "      <td>20</td>\n",
       "      <td>It’s an unprecedented crisis: 8 things to do r...</td>\n",
       "      <td>Cynthia Owens</td>\n",
       "      <td>54</td>\n",
       "    </tr>\n",
       "  </tbody>\n",
       "</table>\n",
       "</div>"
      ],
      "text/plain": [
       "                                                title         author  \\\n",
       "40  Highlights from the O’Reilly Software Architec...     Mac Slocum   \n",
       "14  Great leaders inspire innovation and creativit...      Jenn Webb   \n",
       "52  10 ways to get untapped talent in your organiz...  Pamela Rucker   \n",
       "15  Strong leaders forge an intersection of knowle...      Jenn Webb   \n",
       "20  It’s an unprecedented crisis: 8 things to do r...  Cynthia Owens   \n",
       "\n",
       "    title_length  \n",
       "40            78  \n",
       "14            76  \n",
       "52            65  \n",
       "15            64  \n",
       "20            54  "
      ]
     },
     "execution_count": 16,
     "metadata": {},
     "output_type": "execute_result"
    }
   ],
   "source": [
    "df['title_length'] = df['title'].apply(len)\n",
    "df[['title', 'author', 'title_length']].sort_values('title_length', ascending=False).head()"
   ]
  },
  {
   "cell_type": "markdown",
   "metadata": {},
   "source": [
    "### 12. Create a list of entry titles whose summary includes the phrase \"machine learning.\""
   ]
  },
  {
   "cell_type": "code",
   "execution_count": 19,
   "metadata": {},
   "outputs": [],
   "source": [
    "def search(x):\n",
    "    match = re.search('machine learning',x)\n",
    "    if match:\n",
    "        return 'Has'\n",
    "    else:\n",
    "        return 'No'\n",
    "df['Has text'] = df.summary.apply(search)"
   ]
  },
  {
   "cell_type": "code",
   "execution_count": 20,
   "metadata": {},
   "outputs": [
    {
     "data": {
      "text/html": [
       "<div>\n",
       "<style scoped>\n",
       "    .dataframe tbody tr th:only-of-type {\n",
       "        vertical-align: middle;\n",
       "    }\n",
       "\n",
       "    .dataframe tbody tr th {\n",
       "        vertical-align: top;\n",
       "    }\n",
       "\n",
       "    .dataframe thead th {\n",
       "        text-align: right;\n",
       "    }\n",
       "</style>\n",
       "<table border=\"1\" class=\"dataframe\">\n",
       "  <thead>\n",
       "    <tr style=\"text-align: right;\">\n",
       "      <th></th>\n",
       "      <th>title</th>\n",
       "      <th>Has text</th>\n",
       "      <th>summary</th>\n",
       "    </tr>\n",
       "  </thead>\n",
       "  <tbody>\n",
       "    <tr>\n",
       "      <td>8</td>\n",
       "      <td>What you need to know about product management...</td>\n",
       "      <td>Has</td>\n",
       "      <td>If you’re already a software product manager (...</td>\n",
       "    </tr>\n",
       "    <tr>\n",
       "      <td>58</td>\n",
       "      <td>Four short links: 13 February 2020</td>\n",
       "      <td>Has</td>\n",
       "      <td>Ofcom To Regulate UK Internet &amp;#8212; The regu...</td>\n",
       "    </tr>\n",
       "  </tbody>\n",
       "</table>\n",
       "</div>"
      ],
      "text/plain": [
       "                                                title Has text  \\\n",
       "8   What you need to know about product management...      Has   \n",
       "58                 Four short links: 13 February 2020      Has   \n",
       "\n",
       "                                              summary  \n",
       "8   If you’re already a software product manager (...  \n",
       "58  Ofcom To Regulate UK Internet &#8212; The regu...  "
      ]
     },
     "metadata": {},
     "output_type": "display_data"
    }
   ],
   "source": [
    "list_sum1 = df[['title','Has text','summary']]\n",
    "list_sum2 = list_sum1[df['Has text'] == 'Has']\n",
    "\n",
    "display(list_sum2)"
   ]
  }
 ],
 "metadata": {
  "kernelspec": {
   "display_name": "Python 3",
   "language": "python",
   "name": "python3"
  },
  "language_info": {
   "codemirror_mode": {
    "name": "ipython",
    "version": 3
   },
   "file_extension": ".py",
   "mimetype": "text/x-python",
   "name": "python",
   "nbconvert_exporter": "python",
   "pygments_lexer": "ipython3",
   "version": "3.7.4"
  }
 },
 "nbformat": 4,
 "nbformat_minor": 2
}
