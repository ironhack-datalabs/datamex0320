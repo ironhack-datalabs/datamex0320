{
 "cells": [
  {
   "cell_type": "code",
   "execution_count": 2,
   "metadata": {},
   "outputs": [],
   "source": [
    "import numpy as np\n"
   ]
  },
  {
   "cell_type": "code",
   "execution_count": 3,
   "metadata": {},
   "outputs": [
    {
     "name": "stdout",
     "output_type": "stream",
     "text": [
      "[[[0.13716489 0.58425735 0.20874817 0.1967259  0.1084873 ]\n",
      "  [0.72554532 0.38772315 0.74943138 0.51121028 0.25422456]\n",
      "  [0.33844387 0.1535054  0.28969763 0.81380849 0.26497951]]\n",
      "\n",
      " [[0.09853393 0.83266753 0.52294198 0.62799798 0.42876458]\n",
      "  [0.56843509 0.48712624 0.95709679 0.71818195 0.97004326]\n",
      "  [0.67600088 0.60471127 0.04394069 0.74673705 0.66346359]]]\n",
      "[[[1. 1.]\n",
      "  [1. 1.]\n",
      "  [1. 1.]]\n",
      "\n",
      " [[1. 1.]\n",
      "  [1. 1.]\n",
      "  [1. 1.]]\n",
      "\n",
      " [[1. 1.]\n",
      "  [1. 1.]\n",
      "  [1. 1.]]\n",
      "\n",
      " [[1. 1.]\n",
      "  [1. 1.]\n",
      "  [1. 1.]]\n",
      "\n",
      " [[1. 1.]\n",
      "  [1. 1.]\n",
      "  [1. 1.]]]\n"
     ]
    }
   ],
   "source": [
    "a=np.random.random((2,3,5))\n",
    "print(a)\n",
    "b= np.ones((5, 3, 2))\n",
    "print(b)\n"
   ]
  },
  {
   "cell_type": "code",
   "execution_count": 4,
   "metadata": {},
   "outputs": [
    {
     "name": "stdout",
     "output_type": "stream",
     "text": [
      "[[[1. 1. 1. 1. 1.]\n",
      "  [1. 1. 1. 1. 1.]\n",
      "  [1. 1. 1. 1. 1.]]\n",
      "\n",
      " [[1. 1. 1. 1. 1.]\n",
      "  [1. 1. 1. 1. 1.]\n",
      "  [1. 1. 1. 1. 1.]]]\n"
     ]
    }
   ],
   "source": [
    "c=b.T\n",
    "print(c)"
   ]
  },
  {
   "cell_type": "code",
   "execution_count": 8,
   "metadata": {},
   "outputs": [
    {
     "name": "stdout",
     "output_type": "stream",
     "text": [
      "[[[1.13716489 1.58425735 1.20874817 1.1967259  1.1084873 ]\n",
      "  [1.72554532 1.38772315 1.74943138 1.51121028 1.25422456]\n",
      "  [1.33844387 1.1535054  1.28969763 1.81380849 1.26497951]]\n",
      "\n",
      " [[1.09853393 1.83266753 1.52294198 1.62799798 1.42876458]\n",
      "  [1.56843509 1.48712624 1.95709679 1.71818195 1.97004326]\n",
      "  [1.67600088 1.60471127 1.04394069 1.74673705 1.66346359]]]\n"
     ]
    }
   ],
   "source": [
    "\n",
    "d= np.add(a,c)\n",
    "print(d)"
   ]
  },
  {
   "cell_type": "code",
   "execution_count": 6,
   "metadata": {},
   "outputs": [
    {
     "name": "stderr",
     "output_type": "stream",
     "text": [
      "/Users/enrique/opt/anaconda3/lib/python3.7/site-packages/ipykernel_launcher.py:1: DeprecationWarning: elementwise comparison failed; this will raise an error in the future.\n",
      "  \"\"\"Entry point for launching an IPython kernel.\n"
     ]
    },
    {
     "data": {
      "text/plain": [
       "False"
      ]
     },
     "execution_count": 6,
     "metadata": {},
     "output_type": "execute_result"
    }
   ],
   "source": [
    "#a==b o bien np.array_equal(a, b)"
   ]
  },
  {
   "cell_type": "code",
   "execution_count": 9,
   "metadata": {},
   "outputs": [
    {
     "name": "stdout",
     "output_type": "stream",
     "text": [
      "[[[0.13716489 0.58425735 0.20874817 0.1967259  0.1084873 ]\n",
      "  [0.72554532 0.38772315 0.74943138 0.51121028 0.25422456]\n",
      "  [0.33844387 0.1535054  0.28969763 0.81380849 0.26497951]]\n",
      "\n",
      " [[0.09853393 0.83266753 0.52294198 0.62799798 0.42876458]\n",
      "  [0.56843509 0.48712624 0.95709679 0.71818195 0.97004326]\n",
      "  [0.67600088 0.60471127 0.04394069 0.74673705 0.66346359]]]\n",
      "[[[1.13716489 1.58425735 1.20874817 1.1967259  1.1084873 ]\n",
      "  [1.72554532 1.38772315 1.74943138 1.51121028 1.25422456]\n",
      "  [1.33844387 1.1535054  1.28969763 1.81380849 1.26497951]]\n",
      "\n",
      " [[1.09853393 1.83266753 1.52294198 1.62799798 1.42876458]\n",
      "  [1.56843509 1.48712624 1.95709679 1.71818195 1.97004326]\n",
      "  [1.67600088 1.60471127 1.04394069 1.74673705 1.66346359]]]\n"
     ]
    }
   ],
   "source": [
    "print(a)\n",
    "print(d)"
   ]
  },
  {
   "cell_type": "code",
   "execution_count": 10,
   "metadata": {},
   "outputs": [
    {
     "name": "stdout",
     "output_type": "stream",
     "text": [
      "[[[0.13716489 0.58425735 0.20874817 0.1967259  0.1084873 ]\n",
      "  [0.72554532 0.38772315 0.74943138 0.51121028 0.25422456]\n",
      "  [0.33844387 0.1535054  0.28969763 0.81380849 0.26497951]]\n",
      "\n",
      " [[0.09853393 0.83266753 0.52294198 0.62799798 0.42876458]\n",
      "  [0.56843509 0.48712624 0.95709679 0.71818195 0.97004326]\n",
      "  [0.67600088 0.60471127 0.04394069 0.74673705 0.66346359]]]\n"
     ]
    }
   ],
   "source": [
    "e= a*c\n",
    "print(e)"
   ]
  },
  {
   "cell_type": "code",
   "execution_count": 11,
   "metadata": {},
   "outputs": [
    {
     "name": "stdout",
     "output_type": "stream",
     "text": [
      "1.9700432612719267\n",
      "1.0439406938476314\n",
      "1.4890198669007575\n"
     ]
    }
   ],
   "source": [
    "d_max= d.max()\n",
    "d_min= d.min()\n",
    "d_mean= d.mean()\n",
    "print(d_max)\n",
    "print(d_min)\n",
    "print(d_mean)"
   ]
  },
  {
   "cell_type": "code",
   "execution_count": 21,
   "metadata": {},
   "outputs": [
    {
     "name": "stdout",
     "output_type": "stream",
     "text": [
      "[[[0.13716489 0.58425735 0.20874817 0.1967259  0.1084873 ]\n",
      "  [0.72554532 0.38772315 0.74943138 0.51121028 0.25422456]\n",
      "  [0.33844387 0.1535054  0.28969763 0.81380849 0.26497951]]\n",
      "\n",
      " [[0.09853393 0.83266753 0.52294198 0.62799798 0.42876458]\n",
      "  [0.56843509 0.48712624 0.95709679 0.71818195 0.97004326]\n",
      "  [0.67600088 0.60471127 0.04394069 0.74673705 0.66346359]]]\n"
     ]
    }
   ],
   "source": [
    "d.shape\n",
    "f= np.empty((2, 3, 5))\n",
    "print(f)"
   ]
  },
  {
   "cell_type": "markdown",
   "metadata": {},
   "source": [
    " \"\"\"\n",
    "#16. Populate the values in f. For each value in d, if it's larger than d_min but smaller than d_mean, assign 25 to the corresponding value in f.\n",
    "If a value in d is larger than d_mean but smaller than d_max, assign 75 to the corresponding value in f.\n",
    "If a value equals to d_mean, assign 50 to the corresponding value in f.\n",
    "Assign 0 to the corresponding value(s) in f for d_min in d.\n",
    "Assign 100 to the corresponding value(s) in f for d_max in d.\n",
    "In the end, f should have only the following values: 0, 25, 50, 75, and 100.\n",
    "Note: you don't have to use Numpy in this question.\n",
    "\"\"\"\n",
    "\n"
   ]
  },
  {
   "cell_type": "code",
   "execution_count": 28,
   "metadata": {},
   "outputs": [
    {
     "name": "stdout",
     "output_type": "stream",
     "text": [
      "[[[ 25.  75.  25.  25.  25.]\n",
      "  [ 75.  25.  75.  75.  25.]\n",
      "  [ 25.  25.  25.  75.  25.]]\n",
      "\n",
      " [[ 25.  75.  75.  75.  25.]\n",
      "  [ 75.  25.  75.  75. 100.]\n",
      "  [ 75.  75.   0.  75.  75.]]]\n",
      "[[[1.13716489 1.58425735 1.20874817 1.1967259  1.1084873 ]\n",
      "  [1.72554532 1.38772315 1.74943138 1.51121028 1.25422456]\n",
      "  [1.33844387 1.1535054  1.28969763 1.81380849 1.26497951]]\n",
      "\n",
      " [[1.09853393 1.83266753 1.52294198 1.62799798 1.42876458]\n",
      "  [1.56843509 1.48712624 1.95709679 1.71818195 1.97004326]\n",
      "  [1.67600088 1.60471127 1.04394069 1.74673705 1.66346359]]]\n"
     ]
    }
   ],
   "source": [
    "#range para moverme en las entradas de dim.\n",
    "#d[z,y,x] me agarra toda bolsa\n",
    "#() de d_min(), etc ya no son necesarios una vez declarados, ya los tenía guardados arriba\n",
    "#antes en d[z,y,x] tenía x y por cada f[z,y,x] tenía f pero eso no era agarrarme a todos los de la bolsa.. era modificar uno contínuamente y no tenía sentido\n",
    "for z in range(2):\n",
    "    for y in range(3):\n",
    "        for x in range(5):\n",
    "            if d[z,y,x]>d_min and d[z,y,x]<d_mean:\n",
    "                f[z, y,x]=25\n",
    "            elif d_mean<d[z,y,x] and d[z,y,x]<d_max:\n",
    "                f[z,y,x]=75\n",
    "            elif d[z,y,x]==d_max:\n",
    "                f[z,y,x]=100\n",
    "            elif d[z,y,x]==d_min:\n",
    "                f[z,y,x]=0\n",
    "            elif d[z,y,x]==d_mean:\n",
    "                f[z,y,x]=50\n",
    "            \n",
    "print(f)\n",
    "print(d)\n",
    "            "
   ]
  },
  {
   "cell_type": "code",
   "execution_count": 44,
   "metadata": {},
   "outputs": [
    {
     "name": "stdout",
     "output_type": "stream",
     "text": [
      "[[['B', 'C', 'B', 'B', 'B'], ['C', 'B', 'C', 'C', 'B'], ['B', 'B', 'B', 'C', 'B']], [['B', 'C', 'C', 'C', 'B'], ['C', 'B', 'C', 'C', 'E'], ['C', 'C', '0', 'C', 'C']]]\n",
      "[[['B' 'C' 'B' 'B' 'B']\n",
      "  ['C' 'B' 'C' 'C' 'B']\n",
      "  ['B' 'B' 'B' 'C' 'B']]\n",
      "\n",
      " [['B' 'C' 'C' 'C' 'B']\n",
      "  ['C' 'B' 'C' 'C' 'E']\n",
      "  ['C' 'C' '0' 'C' 'C']]]\n"
     ]
    }
   ],
   "source": [
    "#ejercicio 18\n",
    "#no cambiar las letras sino la estructura: cambiar f`s:\n",
    "#con cambio de f a g list indices must be integers\n",
    "g= f.tolist()\n",
    "for z in range(2):\n",
    "    for y in range(3):\n",
    "        for x in range(5):\n",
    "            if d[z,y,x]>d_min and d[z,y,x]<d_mean:\n",
    "                g[z][y][x]= \"B\"\n",
    "            elif d_mean<d[z,y,x] and d[z,y,x]<d_max:\n",
    "                g[z][y][x]=\"C\"\n",
    "            elif d[z,y,x]==d_max:\n",
    "                g[z][y][x]=\"E\"\n",
    "            elif d[z,y,x]==d_min:\n",
    "                g[z][y][x]=\"0\"\n",
    "            elif d[z,y,x]==d_mean:\n",
    "                g[z][y][x]=\"C\"\n",
    "print(g)\n",
    "\n",
    "# con lógica de: var =np.array(lst_lst)\n",
    "h= np.array(g)\n",
    "print(h)"
   ]
  },
  {
   "cell_type": "code",
   "execution_count": null,
   "metadata": {},
   "outputs": [],
   "source": []
  },
  {
   "cell_type": "code",
   "execution_count": null,
   "metadata": {},
   "outputs": [],
   "source": []
  }
 ],
 "metadata": {
  "kernelspec": {
   "display_name": "Python 3",
   "language": "python",
   "name": "python3"
  }
 },
 "nbformat": 4,
 "nbformat_minor": 2
}
