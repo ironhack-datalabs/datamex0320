{
 "cells": [
  {
   "cell_type": "code",
   "execution_count": 1,
   "metadata": {},
   "outputs": [],
   "source": [
    "import numpy as np"
   ]
  },
  {
   "cell_type": "code",
   "execution_count": 4,
   "metadata": {},
   "outputs": [
    {
     "name": "stdout",
     "output_type": "stream",
     "text": [
      "1.16.5\n"
     ]
    }
   ],
   "source": [
    "print(np.version.version)"
   ]
  },
  {
   "cell_type": "code",
   "execution_count": 5,
   "metadata": {},
   "outputs": [],
   "source": [
    "a = np.random.random((2,3,5))"
   ]
  },
  {
   "cell_type": "code",
   "execution_count": 6,
   "metadata": {
    "scrolled": false
   },
   "outputs": [
    {
     "name": "stdout",
     "output_type": "stream",
     "text": [
      "[[[0.04304314 0.48450602 0.14728973 0.59553443 0.64720027]\n",
      "  [0.95275509 0.31900123 0.20822716 0.57114019 0.21086558]\n",
      "  [0.03325049 0.89843796 0.22065892 0.53468347 0.48438536]]\n",
      "\n",
      " [[0.87874169 0.06090788 0.959649   0.59415717 0.64868342]\n",
      "  [0.30450419 0.39118212 0.83841137 0.52614343 0.87593297]\n",
      "  [0.35134413 0.98521593 0.03152951 0.70856712 0.44650183]]]\n"
     ]
    }
   ],
   "source": [
    "print(a)"
   ]
  },
  {
   "cell_type": "code",
   "execution_count": 8,
   "metadata": {},
   "outputs": [],
   "source": [
    "b = np.full((5,2,3), 1)"
   ]
  },
  {
   "cell_type": "code",
   "execution_count": 9,
   "metadata": {
    "scrolled": false
   },
   "outputs": [
    {
     "name": "stdout",
     "output_type": "stream",
     "text": [
      "[[[1 1 1]\n",
      "  [1 1 1]]\n",
      "\n",
      " [[1 1 1]\n",
      "  [1 1 1]]\n",
      "\n",
      " [[1 1 1]\n",
      "  [1 1 1]]\n",
      "\n",
      " [[1 1 1]\n",
      "  [1 1 1]]\n",
      "\n",
      " [[1 1 1]\n",
      "  [1 1 1]]]\n"
     ]
    }
   ],
   "source": [
    "print(b)"
   ]
  },
  {
   "cell_type": "code",
   "execution_count": 10,
   "metadata": {},
   "outputs": [
    {
     "name": "stdout",
     "output_type": "stream",
     "text": [
      "False\n"
     ]
    }
   ],
   "source": [
    "if b.shape == a.shape:\n",
    "        print(True)\n",
    "else:\n",
    "        print(False) "
   ]
  },
  {
   "cell_type": "code",
   "execution_count": 11,
   "metadata": {
    "scrolled": true
   },
   "outputs": [
    {
     "ename": "ValueError",
     "evalue": "operands could not be broadcast together with shapes (2,3,5) (5,2,3) ",
     "output_type": "error",
     "traceback": [
      "\u001b[1;31m---------------------------------------------------------------------------\u001b[0m",
      "\u001b[1;31mValueError\u001b[0m                                Traceback (most recent call last)",
      "\u001b[1;32m<ipython-input-11-e7ce5a3baffc>\u001b[0m in \u001b[0;36m<module>\u001b[1;34m\u001b[0m\n\u001b[1;32m----> 1\u001b[1;33m \u001b[0mprint\u001b[0m\u001b[1;33m(\u001b[0m\u001b[0mnp\u001b[0m\u001b[1;33m.\u001b[0m\u001b[0madd\u001b[0m\u001b[1;33m(\u001b[0m\u001b[0ma\u001b[0m\u001b[1;33m,\u001b[0m \u001b[0mb\u001b[0m\u001b[1;33m)\u001b[0m\u001b[1;33m)\u001b[0m\u001b[1;33m\u001b[0m\u001b[1;33m\u001b[0m\u001b[0m\n\u001b[0m\u001b[0;32m      2\u001b[0m \u001b[0mprint\u001b[0m\u001b[1;33m(\u001b[0m\u001b[1;34m'a + b :operands could not be broadcast together with shapes (2,3,5) (5,2,3)'\u001b[0m\u001b[1;33m)\u001b[0m\u001b[1;33m\u001b[0m\u001b[1;33m\u001b[0m\u001b[0m\n",
      "\u001b[1;31mValueError\u001b[0m: operands could not be broadcast together with shapes (2,3,5) (5,2,3) "
     ]
    }
   ],
   "source": [
    "print(np.add(a, b))\n",
    "print('a + b :operands could not be broadcast together with shapes (2,3,5) (5,2,3)')"
   ]
  },
  {
   "cell_type": "code",
   "execution_count": 12,
   "metadata": {},
   "outputs": [
    {
     "name": "stdout",
     "output_type": "stream",
     "text": [
      "(2, 3, 5)\n"
     ]
    }
   ],
   "source": [
    "c = b.reshape(2,3,5)\n",
    "print(c.shape)"
   ]
  },
  {
   "cell_type": "code",
   "execution_count": 13,
   "metadata": {},
   "outputs": [
    {
     "name": "stdout",
     "output_type": "stream",
     "text": [
      "[[[1.04304314 1.48450602 1.14728973 1.59553443 1.64720027]\n",
      "  [1.95275509 1.31900123 1.20822716 1.57114019 1.21086558]\n",
      "  [1.03325049 1.89843796 1.22065892 1.53468347 1.48438536]]\n",
      "\n",
      " [[1.87874169 1.06090788 1.959649   1.59415717 1.64868342]\n",
      "  [1.30450419 1.39118212 1.83841137 1.52614343 1.87593297]\n",
      "  [1.35134413 1.98521593 1.03152951 1.70856712 1.44650183]]]\n",
      "Yes, arrays with same structures sizes\n"
     ]
    }
   ],
   "source": [
    "d = np.add(a,c)\n",
    "print(d)\n",
    "print('Yes, arrays with same structures sizes')"
   ]
  },
  {
   "cell_type": "code",
   "execution_count": 14,
   "metadata": {},
   "outputs": [
    {
     "name": "stdout",
     "output_type": "stream",
     "text": [
      "\n",
      " [[[0.04304314 0.48450602 0.14728973 0.59553443 0.64720027]\n",
      "  [0.95275509 0.31900123 0.20822716 0.57114019 0.21086558]\n",
      "  [0.03325049 0.89843796 0.22065892 0.53468347 0.48438536]]\n",
      "\n",
      " [[0.87874169 0.06090788 0.959649   0.59415717 0.64868342]\n",
      "  [0.30450419 0.39118212 0.83841137 0.52614343 0.87593297]\n",
      "  [0.35134413 0.98521593 0.03152951 0.70856712 0.44650183]]]\n",
      "\n",
      " [[[1.04304314 1.48450602 1.14728973 1.59553443 1.64720027]\n",
      "  [1.95275509 1.31900123 1.20822716 1.57114019 1.21086558]\n",
      "  [1.03325049 1.89843796 1.22065892 1.53468347 1.48438536]]\n",
      "\n",
      " [[1.87874169 1.06090788 1.959649   1.59415717 1.64868342]\n",
      "  [1.30450419 1.39118212 1.83841137 1.52614343 1.87593297]\n",
      "  [1.35134413 1.98521593 1.03152951 1.70856712 1.44650183]]]\n",
      "each value in array \"a\" is + 1, this value comes from array \"c\".\n"
     ]
    }
   ],
   "source": [
    "print('\\n',a)\n",
    "print('\\n',d)\n",
    "print('each value in array \"a\" is + 1, this value comes from array \"c\".')"
   ]
  },
  {
   "cell_type": "code",
   "execution_count": 15,
   "metadata": {},
   "outputs": [],
   "source": [
    "e = np.multiply(a, c)"
   ]
  },
  {
   "cell_type": "code",
   "execution_count": 16,
   "metadata": {
    "scrolled": false
   },
   "outputs": [
    {
     "name": "stdout",
     "output_type": "stream",
     "text": [
      "[[[0.04304314 0.48450602 0.14728973 0.59553443 0.64720027]\n",
      "  [0.95275509 0.31900123 0.20822716 0.57114019 0.21086558]\n",
      "  [0.03325049 0.89843796 0.22065892 0.53468347 0.48438536]]\n",
      "\n",
      " [[0.87874169 0.06090788 0.959649   0.59415717 0.64868342]\n",
      "  [0.30450419 0.39118212 0.83841137 0.52614343 0.87593297]\n",
      "  [0.35134413 0.98521593 0.03152951 0.70856712 0.44650183]]]\n",
      "[[[ True  True  True  True  True]\n",
      "  [ True  True  True  True  True]\n",
      "  [ True  True  True  True  True]]\n",
      "\n",
      " [[ True  True  True  True  True]\n",
      "  [ True  True  True  True  True]\n",
      "  [ True  True  True  True  True]]]\n"
     ]
    }
   ],
   "source": [
    "print(e)\n",
    "print(e==a)"
   ]
  },
  {
   "cell_type": "code",
   "execution_count": 31,
   "metadata": {},
   "outputs": [],
   "source": [
    "d_max = np.max(d)\n",
    "d_min = np.min(d)\n",
    "d_mean = np.mean(d)"
   ]
  },
  {
   "cell_type": "code",
   "execution_count": 36,
   "metadata": {
    "scrolled": true
   },
   "outputs": [
    {
     "name": "stdout",
     "output_type": "stream",
     "text": [
      "[[[0.04304314 0.48450602 0.14728973 0.59553443 0.64720027]\n",
      "  [0.95275509 0.31900123 0.20822716 0.57114019 0.21086558]\n",
      "  [0.03325049 0.89843796 0.22065892 0.53468347 0.48438536]]\n",
      "\n",
      " [[0.87874169 0.06090788 0.959649   0.59415717 0.64868342]\n",
      "  [0.30450419 0.39118212 0.83841137 0.52614343 0.87593297]\n",
      "  [0.35134413 0.98521593 0.03152951 0.70856712 0.44650183]]]\n"
     ]
    }
   ],
   "source": [
    "f = np.empty([2,3,5])\n",
    "print(f)"
   ]
  },
  {
   "cell_type": "code",
   "execution_count": 40,
   "metadata": {
    "scrolled": true
   },
   "outputs": [
    {
     "name": "stdout",
     "output_type": "stream",
     "text": [
      "[[[ 25  25  25  75  75]\n",
      "  [ 75  25  25  75  25]\n",
      "  [ 25  75  25  75  25]]\n",
      "\n",
      " [[ 75  25  75  75  75]\n",
      "  [ 25  25  75  75  75]\n",
      "  [ 25 100  25  75  25]]]\n"
     ]
    }
   ],
   "source": [
    "for x in range(2):\n",
    "        for y in range(3):\n",
    "                for z in range(5):\n",
    "                        if d[x,y,z] == d_max:\n",
    "                                f[x,y,z] = 100\n",
    "                        elif d[x,y,z] < d_max and d[x,y,z] > d_mean:\n",
    "                                f[x,y,z] = 75\n",
    "                        elif  d[x,y,z] == d_mean:\n",
    "                                f[x,y,z] = 50\n",
    "                        elif d[x,y,z] > d_min and d[x,y,z] < d_mean:\n",
    "                                f[x,y,z] = 25\n",
    "                        elif d[x,y,z] == d_min:\n",
    "                                f[x,y,z] = 25\n",
    "print(f.astype(int))"
   ]
  },
  {
   "cell_type": "code",
   "execution_count": 44,
   "metadata": {},
   "outputs": [
    {
     "name": "stdout",
     "output_type": "stream",
     "text": [
      "[[['B' 'B' 'B' 'D' 'D']\n",
      "  ['D' 'B' 'B' 'D' 'B']\n",
      "  ['B' 'D' 'B' 'D' 'B']]\n",
      "\n",
      " [['D' 'B' 'D' 'D' 'D']\n",
      "  ['B' 'B' 'D' 'D' 'D']\n",
      "  ['B' 'E' 'A' 'D' 'B']]]\n"
     ]
    }
   ],
   "source": [
    "f2 = f.tolist()\n",
    "for x in range(2):\n",
    "        for y in range(3):\n",
    "                for z in range(5):\n",
    "                        if d[x,y,z] == d_max:\n",
    "                                f2[x][y][z] = 'E'\n",
    "                        elif d[x,y,z] < d_max and d[x,y,z] > d_mean:\n",
    "                                f2[x][y][z] = 'D'\n",
    "                        elif  d[x,y,z] == d_mean:\n",
    "                                f2[x][y][z] = 'C'\n",
    "                        elif d[x,y,z] > d_min and d[x,y,z] < d_mean:\n",
    "                                f2[x][y][z] = 'B'\n",
    "                        elif d[x,y,z] == d_min:\n",
    "                                f2[x][y][z] = 'A'\n",
    "f2 = np.array(f2)\n",
    "print(f2)"
   ]
  },
  {
   "cell_type": "code",
   "execution_count": null,
   "metadata": {},
   "outputs": [],
   "source": []
  },
  {
   "cell_type": "code",
   "execution_count": null,
   "metadata": {},
   "outputs": [],
   "source": []
  }
 ],
 "metadata": {
  "kernelspec": {
   "display_name": "Python 3",
   "language": "python",
   "name": "python3"
  },
  "language_info": {
   "codemirror_mode": {
    "name": "ipython",
    "version": 3
   },
   "file_extension": ".py",
   "mimetype": "text/x-python",
   "name": "python",
   "nbconvert_exporter": "python",
   "pygments_lexer": "ipython3",
   "version": "3.7.4"
  }
 },
 "nbformat": 4,
 "nbformat_minor": 2
}
