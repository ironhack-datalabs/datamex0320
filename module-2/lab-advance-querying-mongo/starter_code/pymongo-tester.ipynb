{
 "cells": [
  {
   "cell_type": "code",
   "execution_count": null,
   "metadata": {},
   "outputs": [],
   "source": [
    "#import pymongo\n",
    "#cliente = pymongo.MongoClient()\n",
    "#cliente.list_databases.names()\n",
    "\n",
    "#nueva_base = cliente.nueva_base\n",
    "#nueva_base.list_collection_names()\n",
    "\n",
    "#db.createCollection('test');"
   ]
  },
  {
   "cell_type": "code",
   "execution_count": 1,
   "metadata": {},
   "outputs": [],
   "source": [
    "import pymongo"
   ]
  },
  {
   "cell_type": "code",
   "execution_count": 2,
   "metadata": {},
   "outputs": [],
   "source": [
    "cliente = pymongo.MongoClient()"
   ]
  },
  {
   "cell_type": "code",
   "execution_count": 15,
   "metadata": {},
   "outputs": [
    {
     "data": {
      "text/plain": [
       "['Test', 'admin', 'config', 'local', 'nueva_db']"
      ]
     },
     "execution_count": 15,
     "metadata": {},
     "output_type": "execute_result"
    }
   ],
   "source": [
    "cliente.list_database_names()"
   ]
  },
  {
   "cell_type": "code",
   "execution_count": 16,
   "metadata": {},
   "outputs": [],
   "source": [
    "nueva_base2 = cliente.nueva_base2"
   ]
  },
  {
   "cell_type": "code",
   "execution_count": 18,
   "metadata": {},
   "outputs": [
    {
     "data": {
      "text/plain": [
       "['Test', 'admin', 'config', 'local', 'nueva_db']"
      ]
     },
     "execution_count": 18,
     "metadata": {},
     "output_type": "execute_result"
    }
   ],
   "source": [
    "cliente.list_database_names()"
   ]
  },
  {
   "cell_type": "code",
   "execution_count": 19,
   "metadata": {},
   "outputs": [],
   "source": [
    "coleccion = nueva_base2.coleccion"
   ]
  },
  {
   "cell_type": "code",
   "execution_count": 20,
   "metadata": {},
   "outputs": [
    {
     "data": {
      "text/plain": [
       "[]"
      ]
     },
     "execution_count": 20,
     "metadata": {},
     "output_type": "execute_result"
    }
   ],
   "source": [
    "nueva_base2.list_collection_names()"
   ]
  },
  {
   "cell_type": "code",
   "execution_count": 21,
   "metadata": {},
   "outputs": [
    {
     "data": {
      "text/plain": [
       "<pymongo.results.InsertOneResult at 0x107d5f280>"
      ]
     },
     "execution_count": 21,
     "metadata": {},
     "output_type": "execute_result"
    }
   ],
   "source": [
    "dic1 = {'nombre':'Juan', 'edad':27}\n",
    "\n",
    "coleccion.insert_one(dic1)"
   ]
  },
  {
   "cell_type": "code",
   "execution_count": 22,
   "metadata": {},
   "outputs": [
    {
     "data": {
      "text/plain": [
       "[{'_id': ObjectId('5e98fec6a359803eff02b8d8'), 'nombre': 'Juan', 'edad': 27}]"
      ]
     },
     "execution_count": 22,
     "metadata": {},
     "output_type": "execute_result"
    }
   ],
   "source": [
    "list(coleccion.find())"
   ]
  },
  {
   "cell_type": "code",
   "execution_count": 24,
   "metadata": {},
   "outputs": [
    {
     "data": {
      "text/plain": [
       "['Test', 'admin', 'config', 'local', 'nueva_base2', 'nueva_db']"
      ]
     },
     "execution_count": 24,
     "metadata": {},
     "output_type": "execute_result"
    }
   ],
   "source": [
    "cliente.list_database_names()"
   ]
  },
  {
   "cell_type": "code",
   "execution_count": 25,
   "metadata": {},
   "outputs": [
    {
     "data": {
      "text/plain": [
       "['coleccion']"
      ]
     },
     "execution_count": 25,
     "metadata": {},
     "output_type": "execute_result"
    }
   ],
   "source": [
    "nueva_base2.list_collection_names()"
   ]
  },
  {
   "cell_type": "code",
   "execution_count": 27,
   "metadata": {},
   "outputs": [
    {
     "data": {
      "text/plain": [
       "[{'_id': ObjectId('5e98fec6a359803eff02b8d8'), 'nombre': 'Juan', 'edad': 27}]"
      ]
     },
     "execution_count": 27,
     "metadata": {},
     "output_type": "execute_result"
    }
   ],
   "source": [
    "list(coleccion.find())"
   ]
  },
  {
   "cell_type": "code",
   "execution_count": 28,
   "metadata": {},
   "outputs": [
    {
     "data": {
      "text/plain": [
       "<pymongo.results.InsertOneResult at 0x1093dc9b0>"
      ]
     },
     "execution_count": 28,
     "metadata": {},
     "output_type": "execute_result"
    }
   ],
   "source": [
    "dic2 = {'nombre':'anai', 'edad':24}\n",
    "coleccion.insert_one(dic2)"
   ]
  },
  {
   "cell_type": "code",
   "execution_count": 29,
   "metadata": {},
   "outputs": [
    {
     "data": {
      "text/plain": [
       "[{'_id': ObjectId('5e98fec6a359803eff02b8d8'), 'nombre': 'Juan', 'edad': 27},\n",
       " {'_id': ObjectId('5e99030aa359803eff02b8d9'), 'nombre': 'anai', 'edad': 24}]"
      ]
     },
     "execution_count": 29,
     "metadata": {},
     "output_type": "execute_result"
    }
   ],
   "source": [
    "list(coleccion.find())"
   ]
  },
  {
   "cell_type": "code",
   "execution_count": 32,
   "metadata": {},
   "outputs": [
    {
     "data": {
      "text/plain": [
       "[{'_id': ObjectId('5e98fec6a359803eff02b8d8'), 'nombre': 'Juan', 'edad': 27},\n",
       " {'_id': ObjectId('5e99030aa359803eff02b8d9'), 'nombre': 'anai', 'edad': 24},\n",
       " {'_id': ObjectId('5e99034ba359803eff02b8da'), 'nombre': 'Angel', 'edad': 30}]"
      ]
     },
     "execution_count": 32,
     "metadata": {},
     "output_type": "execute_result"
    }
   ],
   "source": [
    "dic3 = {'nombre':'Angel', 'edad':30}\n",
    "coleccion.insert_one(dic3)\n",
    "list(coleccion.find())"
   ]
  },
  {
   "cell_type": "code",
   "execution_count": 34,
   "metadata": {},
   "outputs": [
    {
     "data": {
      "text/plain": [
       "[{'_id': ObjectId('5e98fec6a359803eff02b8d8'), 'nombre': 'Juan', 'edad': 27},\n",
       " {'_id': ObjectId('5e99030aa359803eff02b8d9'), 'nombre': 'anai', 'edad': 24},\n",
       " {'_id': ObjectId('5e99034ba359803eff02b8da'), 'nombre': 'Angel', 'edad': 30},\n",
       " {'_id': ObjectId('5e9903a2a359803eff02b8db'), 'nombre': 'Diana', 'edad': 25}]"
      ]
     },
     "execution_count": 34,
     "metadata": {},
     "output_type": "execute_result"
    }
   ],
   "source": [
    "dic4 = {'nombre':'Diana', 'edad':25}\n",
    "coleccion.insert_one(dic4)\n",
    "list(coleccion.find())"
   ]
  },
  {
   "cell_type": "code",
   "execution_count": 35,
   "metadata": {},
   "outputs": [
    {
     "data": {
      "text/plain": [
       "[{'_id': ObjectId('5e98fec6a359803eff02b8d8'), 'nombre': 'Juan', 'edad': 27},\n",
       " {'_id': ObjectId('5e99030aa359803eff02b8d9'), 'nombre': 'anai', 'edad': 24},\n",
       " {'_id': ObjectId('5e99034ba359803eff02b8da'), 'nombre': 'Angel', 'edad': 30},\n",
       " {'_id': ObjectId('5e9903a2a359803eff02b8db'), 'nombre': 'Diana', 'edad': 25},\n",
       " {'_id': ObjectId('5e9903fda359803eff02b8dc'), 'nombre': 'Belen', 'edad': 20}]"
      ]
     },
     "execution_count": 35,
     "metadata": {},
     "output_type": "execute_result"
    }
   ],
   "source": [
    "dic5 = {'nombre':'Belen', 'edad':20 }\n",
    "coleccion.insert_one(dic5)\n",
    "list(coleccion.find())"
   ]
  },
  {
   "cell_type": "code",
   "execution_count": 39,
   "metadata": {},
   "outputs": [
    {
     "data": {
      "text/plain": [
       "['coleccion']"
      ]
     },
     "execution_count": 39,
     "metadata": {},
     "output_type": "execute_result"
    }
   ],
   "source": [
    "nueva_base2.list_collection_names()"
   ]
  },
  {
   "cell_type": "code",
   "execution_count": 40,
   "metadata": {},
   "outputs": [
    {
     "data": {
      "text/plain": [
       "[{'_id': ObjectId('5e98fec6a359803eff02b8d8'), 'nombre': 'Juan', 'edad': 27},\n",
       " {'_id': ObjectId('5e99030aa359803eff02b8d9'), 'nombre': 'anai', 'edad': 24},\n",
       " {'_id': ObjectId('5e99034ba359803eff02b8da'), 'nombre': 'Angel', 'edad': 30},\n",
       " {'_id': ObjectId('5e9903a2a359803eff02b8db'), 'nombre': 'Diana', 'edad': 25},\n",
       " {'_id': ObjectId('5e9903fda359803eff02b8dc'), 'nombre': 'Belen', 'edad': 20}]"
      ]
     },
     "execution_count": 40,
     "metadata": {},
     "output_type": "execute_result"
    }
   ],
   "source": [
    "list(coleccion.find())"
   ]
  },
  {
   "cell_type": "code",
   "execution_count": 41,
   "metadata": {},
   "outputs": [
    {
     "data": {
      "text/plain": [
       "[{'_id': ObjectId('5e98fec6a359803eff02b8d8'), 'nombre': 'Juan', 'edad': 27},\n",
       " {'_id': ObjectId('5e99030aa359803eff02b8d9'), 'nombre': 'anai', 'edad': 24},\n",
       " {'_id': ObjectId('5e99034ba359803eff02b8da'), 'nombre': 'Angel', 'edad': 30}]"
      ]
     },
     "execution_count": 41,
     "metadata": {},
     "output_type": "execute_result"
    }
   ],
   "source": [
    "list(coleccion.find().limit(3))"
   ]
  },
  {
   "cell_type": "code",
   "execution_count": 42,
   "metadata": {},
   "outputs": [
    {
     "data": {
      "text/plain": [
       "<pymongo.results.InsertOneResult at 0x10a0c2960>"
      ]
     },
     "execution_count": 42,
     "metadata": {},
     "output_type": "execute_result"
    }
   ],
   "source": [
    "coleccion.insert_one({'_id':1, 'nombre':'José Juan', 'edad':28})"
   ]
  },
  {
   "cell_type": "code",
   "execution_count": 46,
   "metadata": {},
   "outputs": [
    {
     "data": {
      "text/plain": [
       "[{'_id': ObjectId('5e98fec6a359803eff02b8d8'), 'nombre': 'Juan', 'edad': 27},\n",
       " {'_id': ObjectId('5e99030aa359803eff02b8d9'), 'nombre': 'anai', 'edad': 24},\n",
       " {'_id': ObjectId('5e99034ba359803eff02b8da'), 'nombre': 'Angel', 'edad': 30},\n",
       " {'_id': ObjectId('5e9903a2a359803eff02b8db'), 'nombre': 'Diana', 'edad': 25},\n",
       " {'_id': ObjectId('5e9903fda359803eff02b8dc'), 'nombre': 'Belen', 'edad': 20},\n",
       " {'_id': 1, 'nombre': 'José Juan', 'edad': 28}]"
      ]
     },
     "execution_count": 46,
     "metadata": {},
     "output_type": "execute_result"
    }
   ],
   "source": [
    "list(coleccion.find())"
   ]
  },
  {
   "cell_type": "code",
   "execution_count": 47,
   "metadata": {},
   "outputs": [
    {
     "data": {
      "text/plain": [
       "<pymongo.results.InsertOneResult at 0x10a0b6e10>"
      ]
     },
     "execution_count": 47,
     "metadata": {},
     "output_type": "execute_result"
    }
   ],
   "source": [
    "coleccion.insert_one({'_id':2, 'nombre':'Yona', 'edad':35})"
   ]
  },
  {
   "cell_type": "code",
   "execution_count": 48,
   "metadata": {},
   "outputs": [
    {
     "data": {
      "text/plain": [
       "[{'_id': ObjectId('5e98fec6a359803eff02b8d8'), 'nombre': 'Juan', 'edad': 27},\n",
       " {'_id': ObjectId('5e99030aa359803eff02b8d9'), 'nombre': 'anai', 'edad': 24},\n",
       " {'_id': ObjectId('5e99034ba359803eff02b8da'), 'nombre': 'Angel', 'edad': 30},\n",
       " {'_id': ObjectId('5e9903a2a359803eff02b8db'), 'nombre': 'Diana', 'edad': 25},\n",
       " {'_id': ObjectId('5e9903fda359803eff02b8dc'), 'nombre': 'Belen', 'edad': 20},\n",
       " {'_id': 1, 'nombre': 'José Juan', 'edad': 28},\n",
       " {'_id': 2, 'nombre': 'Yona', 'edad': 35}]"
      ]
     },
     "execution_count": 48,
     "metadata": {},
     "output_type": "execute_result"
    }
   ],
   "source": [
    "list(coleccion.find())"
   ]
  },
  {
   "cell_type": "code",
   "execution_count": 49,
   "metadata": {},
   "outputs": [
    {
     "data": {
      "text/plain": [
       "7"
      ]
     },
     "execution_count": 49,
     "metadata": {},
     "output_type": "execute_result"
    }
   ],
   "source": [
    "len(list(coleccion.find()))"
   ]
  },
  {
   "cell_type": "code",
   "execution_count": 54,
   "metadata": {},
   "outputs": [
    {
     "data": {
      "text/plain": [
       "[{'_id': ObjectId('5e98fec6a359803eff02b8d8'), 'nombre': 'Juan', 'edad': 27},\n",
       " {'_id': ObjectId('5e99030aa359803eff02b8d9'), 'nombre': 'anai', 'edad': 24},\n",
       " {'_id': ObjectId('5e99034ba359803eff02b8da'), 'nombre': 'Angel', 'edad': 30},\n",
       " {'_id': ObjectId('5e9903a2a359803eff02b8db'), 'nombre': 'Diana', 'edad': 25}]"
      ]
     },
     "execution_count": 54,
     "metadata": {},
     "output_type": "execute_result"
    }
   ],
   "source": [
    "list(coleccion.find().limit(4))"
   ]
  },
  {
   "cell_type": "code",
   "execution_count": 55,
   "metadata": {},
   "outputs": [
    {
     "data": {
      "text/plain": [
       "7"
      ]
     },
     "execution_count": 55,
     "metadata": {},
     "output_type": "execute_result"
    }
   ],
   "source": [
    "len(list(coleccion.find()))"
   ]
  },
  {
   "cell_type": "code",
   "execution_count": 58,
   "metadata": {},
   "outputs": [
    {
     "data": {
      "text/plain": [
       "<pymongo.results.InsertManyResult at 0x10a0eef50>"
      ]
     },
     "execution_count": 58,
     "metadata": {},
     "output_type": "execute_result"
    }
   ],
   "source": [
    "coleccion.insert_many([\n",
    "                    {'_id':3,'nombre':'Esteban', 'edad':45, 'altura':1.7},\n",
    "                    {'_id':4,'nombre':'Alicia', 'edad':34, 'altura':1.5},\n",
    "                    {'_id':5,'nombre':'Luz', 'edad':18, 'altura':1.65}\n",
    "])"
   ]
  },
  {
   "cell_type": "code",
   "execution_count": 59,
   "metadata": {},
   "outputs": [
    {
     "data": {
      "text/plain": [
       "[{'_id': ObjectId('5e98fec6a359803eff02b8d8'), 'nombre': 'Juan', 'edad': 27},\n",
       " {'_id': ObjectId('5e99030aa359803eff02b8d9'), 'nombre': 'anai', 'edad': 24},\n",
       " {'_id': ObjectId('5e99034ba359803eff02b8da'), 'nombre': 'Angel', 'edad': 30},\n",
       " {'_id': ObjectId('5e9903a2a359803eff02b8db'), 'nombre': 'Diana', 'edad': 25},\n",
       " {'_id': ObjectId('5e9903fda359803eff02b8dc'), 'nombre': 'Belen', 'edad': 20},\n",
       " {'_id': 1, 'nombre': 'José Juan', 'edad': 28},\n",
       " {'_id': 2, 'nombre': 'Yona', 'edad': 35},\n",
       " {'_id': 3, 'nombre': 'Esteban', 'edad': 45, 'altura': 1.7},\n",
       " {'_id': 4, 'nombre': 'Alicia', 'edad': 34, 'altura': 1.5},\n",
       " {'_id': 5, 'nombre': 'Luz', 'edad': 18, 'altura': 1.65}]"
      ]
     },
     "execution_count": 59,
     "metadata": {},
     "output_type": "execute_result"
    }
   ],
   "source": [
    "list(coleccion.find())"
   ]
  },
  {
   "cell_type": "code",
   "execution_count": 61,
   "metadata": {},
   "outputs": [
    {
     "data": {
      "text/plain": [
       "[{'_id': 1, 'nombre': 'José Juan', 'edad': 28}]"
      ]
     },
     "execution_count": 61,
     "metadata": {},
     "output_type": "execute_result"
    }
   ],
   "source": [
    "list(coleccion.find({'edad':28}))"
   ]
  },
  {
   "cell_type": "code",
   "execution_count": 63,
   "metadata": {},
   "outputs": [
    {
     "data": {
      "text/plain": [
       "[{'_id': ObjectId('5e99034ba359803eff02b8da'), 'nombre': 'Angel', 'edad': 30},\n",
       " {'_id': 2, 'nombre': 'Yona', 'edad': 35},\n",
       " {'_id': 3, 'nombre': 'Esteban', 'edad': 45, 'altura': 1.7},\n",
       " {'_id': 4, 'nombre': 'Alicia', 'edad': 34, 'altura': 1.5}]"
      ]
     },
     "execution_count": 63,
     "metadata": {},
     "output_type": "execute_result"
    }
   ],
   "source": [
    "list(coleccion.find({'edad':{'$gte':30}}))"
   ]
  },
  {
   "cell_type": "code",
   "execution_count": 65,
   "metadata": {},
   "outputs": [
    {
     "data": {
      "text/plain": [
       "[{'_id': 2, 'nombre': 'Yona', 'edad': 35},\n",
       " {'_id': 3, 'nombre': 'Esteban', 'edad': 45, 'altura': 1.7}]"
      ]
     },
     "execution_count": 65,
     "metadata": {},
     "output_type": "execute_result"
    }
   ],
   "source": [
    "list(coleccion.find({'edad':{'$gte':35}}))"
   ]
  },
  {
   "cell_type": "code",
   "execution_count": 66,
   "metadata": {},
   "outputs": [
    {
     "data": {
      "text/plain": [
       "[]"
      ]
     },
     "execution_count": 66,
     "metadata": {},
     "output_type": "execute_result"
    }
   ],
   "source": [
    "list(coleccion.find({'Edad':{'$gte':35}}))"
   ]
  },
  {
   "cell_type": "code",
   "execution_count": 69,
   "metadata": {},
   "outputs": [
    {
     "data": {
      "text/plain": [
       "[{'_id': 3, 'nombre': 'Esteban', 'edad': 45, 'altura': 1.7},\n",
       " {'_id': 5, 'nombre': 'Luz', 'edad': 18, 'altura': 1.65}]"
      ]
     },
     "execution_count": 69,
     "metadata": {},
     "output_type": "execute_result"
    }
   ],
   "source": [
    "list(coleccion.find({'altura':{'$gte':1.51}}))"
   ]
  },
  {
   "cell_type": "code",
   "execution_count": 70,
   "metadata": {},
   "outputs": [
    {
     "data": {
      "text/plain": [
       "[{'_id': 3, 'nombre': 'Esteban', 'edad': 45, 'altura': 1.7},\n",
       " {'_id': 2, 'nombre': 'Yona', 'edad': 35},\n",
       " {'_id': 4, 'nombre': 'Alicia', 'edad': 34, 'altura': 1.5},\n",
       " {'_id': ObjectId('5e99034ba359803eff02b8da'), 'nombre': 'Angel', 'edad': 30},\n",
       " {'_id': 1, 'nombre': 'José Juan', 'edad': 28},\n",
       " {'_id': ObjectId('5e98fec6a359803eff02b8d8'), 'nombre': 'Juan', 'edad': 27},\n",
       " {'_id': ObjectId('5e9903a2a359803eff02b8db'), 'nombre': 'Diana', 'edad': 25},\n",
       " {'_id': ObjectId('5e99030aa359803eff02b8d9'), 'nombre': 'anai', 'edad': 24},\n",
       " {'_id': ObjectId('5e9903fda359803eff02b8dc'), 'nombre': 'Belen', 'edad': 20},\n",
       " {'_id': 5, 'nombre': 'Luz', 'edad': 18, 'altura': 1.65}]"
      ]
     },
     "execution_count": 70,
     "metadata": {},
     "output_type": "execute_result"
    }
   ],
   "source": [
    "list(coleccion.find().sort('edad',-1))"
   ]
  },
  {
   "cell_type": "code",
   "execution_count": 71,
   "metadata": {},
   "outputs": [
    {
     "data": {
      "text/plain": [
       "[{'_id': ObjectId('5e99030aa359803eff02b8d9'), 'nombre': 'anai', 'edad': 24},\n",
       " {'_id': 2, 'nombre': 'Yona', 'edad': 35},\n",
       " {'_id': 5, 'nombre': 'Luz', 'edad': 18, 'altura': 1.65},\n",
       " {'_id': ObjectId('5e98fec6a359803eff02b8d8'), 'nombre': 'Juan', 'edad': 27},\n",
       " {'_id': 1, 'nombre': 'José Juan', 'edad': 28},\n",
       " {'_id': 3, 'nombre': 'Esteban', 'edad': 45, 'altura': 1.7},\n",
       " {'_id': ObjectId('5e9903a2a359803eff02b8db'), 'nombre': 'Diana', 'edad': 25},\n",
       " {'_id': ObjectId('5e9903fda359803eff02b8dc'), 'nombre': 'Belen', 'edad': 20},\n",
       " {'_id': ObjectId('5e99034ba359803eff02b8da'), 'nombre': 'Angel', 'edad': 30},\n",
       " {'_id': 4, 'nombre': 'Alicia', 'edad': 34, 'altura': 1.5}]"
      ]
     },
     "execution_count": 71,
     "metadata": {},
     "output_type": "execute_result"
    }
   ],
   "source": [
    "list(coleccion.find().sort('nombre',-1))"
   ]
  },
  {
   "cell_type": "code",
   "execution_count": 72,
   "metadata": {},
   "outputs": [
    {
     "data": {
      "text/plain": [
       "<pymongo.results.DeleteResult at 0x10a0c4280>"
      ]
     },
     "execution_count": 72,
     "metadata": {},
     "output_type": "execute_result"
    }
   ],
   "source": [
    "coleccion.delete_one({'nombre':'anai'})"
   ]
  },
  {
   "cell_type": "code",
   "execution_count": 73,
   "metadata": {},
   "outputs": [
    {
     "data": {
      "text/plain": [
       "[{'_id': ObjectId('5e98fec6a359803eff02b8d8'), 'nombre': 'Juan', 'edad': 27},\n",
       " {'_id': ObjectId('5e99034ba359803eff02b8da'), 'nombre': 'Angel', 'edad': 30},\n",
       " {'_id': ObjectId('5e9903a2a359803eff02b8db'), 'nombre': 'Diana', 'edad': 25},\n",
       " {'_id': ObjectId('5e9903fda359803eff02b8dc'), 'nombre': 'Belen', 'edad': 20},\n",
       " {'_id': 1, 'nombre': 'José Juan', 'edad': 28},\n",
       " {'_id': 2, 'nombre': 'Yona', 'edad': 35},\n",
       " {'_id': 3, 'nombre': 'Esteban', 'edad': 45, 'altura': 1.7},\n",
       " {'_id': 4, 'nombre': 'Alicia', 'edad': 34, 'altura': 1.5},\n",
       " {'_id': 5, 'nombre': 'Luz', 'edad': 18, 'altura': 1.65}]"
      ]
     },
     "execution_count": 73,
     "metadata": {},
     "output_type": "execute_result"
    }
   ],
   "source": [
    "list(coleccion.find())"
   ]
  },
  {
   "cell_type": "code",
   "execution_count": 74,
   "metadata": {},
   "outputs": [
    {
     "data": {
      "text/plain": [
       "<pymongo.results.InsertOneResult at 0x10a054e10>"
      ]
     },
     "execution_count": 74,
     "metadata": {},
     "output_type": "execute_result"
    }
   ],
   "source": [
    "coleccion.insert_one({'nomre':'Anai', 'edad':24, 'altura':1.45})"
   ]
  },
  {
   "cell_type": "code",
   "execution_count": 75,
   "metadata": {},
   "outputs": [
    {
     "data": {
      "text/plain": [
       "[{'_id': ObjectId('5e98fec6a359803eff02b8d8'), 'nombre': 'Juan', 'edad': 27},\n",
       " {'_id': ObjectId('5e99034ba359803eff02b8da'), 'nombre': 'Angel', 'edad': 30},\n",
       " {'_id': ObjectId('5e9903a2a359803eff02b8db'), 'nombre': 'Diana', 'edad': 25},\n",
       " {'_id': ObjectId('5e9903fda359803eff02b8dc'), 'nombre': 'Belen', 'edad': 20},\n",
       " {'_id': 1, 'nombre': 'José Juan', 'edad': 28},\n",
       " {'_id': 2, 'nombre': 'Yona', 'edad': 35},\n",
       " {'_id': 3, 'nombre': 'Esteban', 'edad': 45, 'altura': 1.7},\n",
       " {'_id': 4, 'nombre': 'Alicia', 'edad': 34, 'altura': 1.5},\n",
       " {'_id': 5, 'nombre': 'Luz', 'edad': 18, 'altura': 1.65},\n",
       " {'_id': ObjectId('5e990c68a359803eff02b8dd'),\n",
       "  'nomre': 'Anai',\n",
       "  'edad': 24,\n",
       "  'altura': 1.45}]"
      ]
     },
     "execution_count": 75,
     "metadata": {},
     "output_type": "execute_result"
    }
   ],
   "source": [
    "list(coleccion.find())"
   ]
  },
  {
   "cell_type": "code",
   "execution_count": 77,
   "metadata": {},
   "outputs": [
    {
     "data": {
      "text/plain": [
       "[{'_id': 2, 'nombre': 'Yona', 'edad': 35},\n",
       " {'_id': 5, 'nombre': 'Luz', 'edad': 18, 'altura': 1.65},\n",
       " {'_id': ObjectId('5e98fec6a359803eff02b8d8'), 'nombre': 'Juan', 'edad': 27},\n",
       " {'_id': 1, 'nombre': 'José Juan', 'edad': 28},\n",
       " {'_id': 3, 'nombre': 'Esteban', 'edad': 45, 'altura': 1.7},\n",
       " {'_id': ObjectId('5e9903a2a359803eff02b8db'), 'nombre': 'Diana', 'edad': 25},\n",
       " {'_id': ObjectId('5e9903fda359803eff02b8dc'), 'nombre': 'Belen', 'edad': 20},\n",
       " {'_id': ObjectId('5e99034ba359803eff02b8da'), 'nombre': 'Angel', 'edad': 30},\n",
       " {'_id': 4, 'nombre': 'Alicia', 'edad': 34, 'altura': 1.5},\n",
       " {'_id': ObjectId('5e990c68a359803eff02b8dd'),\n",
       "  'nomre': 'Anai',\n",
       "  'edad': 24,\n",
       "  'altura': 1.45}]"
      ]
     },
     "execution_count": 77,
     "metadata": {},
     "output_type": "execute_result"
    }
   ],
   "source": [
    "list(coleccion.find().sort('nombre',-1))"
   ]
  },
  {
   "cell_type": "code",
   "execution_count": 78,
   "metadata": {},
   "outputs": [
    {
     "data": {
      "text/plain": [
       "[{'_id': ObjectId('5e990c68a359803eff02b8dd'),\n",
       "  'nomre': 'Anai',\n",
       "  'edad': 24,\n",
       "  'altura': 1.45},\n",
       " {'_id': 4, 'nombre': 'Alicia', 'edad': 34, 'altura': 1.5},\n",
       " {'_id': ObjectId('5e99034ba359803eff02b8da'), 'nombre': 'Angel', 'edad': 30},\n",
       " {'_id': ObjectId('5e9903fda359803eff02b8dc'), 'nombre': 'Belen', 'edad': 20},\n",
       " {'_id': ObjectId('5e9903a2a359803eff02b8db'), 'nombre': 'Diana', 'edad': 25},\n",
       " {'_id': 3, 'nombre': 'Esteban', 'edad': 45, 'altura': 1.7},\n",
       " {'_id': 1, 'nombre': 'José Juan', 'edad': 28},\n",
       " {'_id': ObjectId('5e98fec6a359803eff02b8d8'), 'nombre': 'Juan', 'edad': 27},\n",
       " {'_id': 5, 'nombre': 'Luz', 'edad': 18, 'altura': 1.65},\n",
       " {'_id': 2, 'nombre': 'Yona', 'edad': 35}]"
      ]
     },
     "execution_count": 78,
     "metadata": {},
     "output_type": "execute_result"
    }
   ],
   "source": [
    "list(coleccion.find().sort('nombre',1))"
   ]
  },
  {
   "cell_type": "code",
   "execution_count": 79,
   "metadata": {},
   "outputs": [
    {
     "data": {
      "text/plain": [
       "[{'_id': ObjectId('5e990c68a359803eff02b8dd'),\n",
       "  'nomre': 'Anai',\n",
       "  'edad': 24,\n",
       "  'altura': 1.45},\n",
       " {'_id': 4, 'nombre': 'Alicia', 'edad': 34, 'altura': 1.5},\n",
       " {'_id': ObjectId('5e99034ba359803eff02b8da'), 'nombre': 'Angel', 'edad': 30},\n",
       " {'_id': ObjectId('5e9903fda359803eff02b8dc'), 'nombre': 'Belen', 'edad': 20},\n",
       " {'_id': ObjectId('5e9903a2a359803eff02b8db'), 'nombre': 'Diana', 'edad': 25},\n",
       " {'_id': 3, 'nombre': 'Esteban', 'edad': 45, 'altura': 1.7},\n",
       " {'_id': 1, 'nombre': 'José Juan', 'edad': 28},\n",
       " {'_id': ObjectId('5e98fec6a359803eff02b8d8'), 'nombre': 'Juan', 'edad': 27},\n",
       " {'_id': 5, 'nombre': 'Luz', 'edad': 18, 'altura': 1.65},\n",
       " {'_id': 2, 'nombre': 'Yona', 'edad': 35}]"
      ]
     },
     "execution_count": 79,
     "metadata": {},
     "output_type": "execute_result"
    }
   ],
   "source": [
    "list(coleccion.find().sort('nombre'))"
   ]
  },
  {
   "cell_type": "code",
   "execution_count": 84,
   "metadata": {},
   "outputs": [
    {
     "data": {
      "text/plain": [
       "<pymongo.results.UpdateResult at 0x10a110cd0>"
      ]
     },
     "execution_count": 84,
     "metadata": {},
     "output_type": "execute_result"
    }
   ],
   "source": [
    "coleccion.update_one({'_id':'5e990c68a359803eff02b8dd'}, {'$set':{'_id':0}})"
   ]
  },
  {
   "cell_type": "code",
   "execution_count": 89,
   "metadata": {},
   "outputs": [
    {
     "data": {
      "text/plain": [
       "[{'_id': ObjectId('5e98fec6a359803eff02b8d8'), 'nombre': 'Juan', 'edad': 27},\n",
       " {'_id': ObjectId('5e99034ba359803eff02b8da'), 'nombre': 'Angel', 'edad': 30},\n",
       " {'_id': ObjectId('5e9903a2a359803eff02b8db'), 'nombre': 'Diana', 'edad': 25},\n",
       " {'_id': ObjectId('5e9903fda359803eff02b8dc'), 'nombre': 'Belen', 'edad': 20},\n",
       " {'_id': 1, 'nombre': 'José Juan', 'edad': 28},\n",
       " {'_id': 2, 'nombre': 'Yona', 'edad': 35},\n",
       " {'_id': 3, 'nombre': 'Esteban', 'edad': 45, 'altura': 1.7},\n",
       " {'_id': 4, 'nombre': 'Alicia', 'edad': 34, 'altura': 1.5},\n",
       " {'_id': 5, 'nombre': 'Luz', 'edad': 18, 'altura': 1.65},\n",
       " {'_id': ObjectId('5e990c68a359803eff02b8dd'),\n",
       "  'nomre': 'Anai',\n",
       "  'edad': 24,\n",
       "  'altura': 1.45}]"
      ]
     },
     "execution_count": 89,
     "metadata": {},
     "output_type": "execute_result"
    }
   ],
   "source": [
    "list(coleccion.find())"
   ]
  },
  {
   "cell_type": "code",
   "execution_count": 90,
   "metadata": {},
   "outputs": [
    {
     "data": {
      "text/plain": [
       "<pymongo.results.UpdateResult at 0x10a0b6c80>"
      ]
     },
     "execution_count": 90,
     "metadata": {},
     "output_type": "execute_result"
    }
   ],
   "source": [
    "coleccion.update_one({'nombre':'Anai'}, {'$set':{'nombre':'Argelia Anai'}})"
   ]
  },
  {
   "cell_type": "code",
   "execution_count": 91,
   "metadata": {},
   "outputs": [
    {
     "data": {
      "text/plain": [
       "[{'_id': ObjectId('5e98fec6a359803eff02b8d8'), 'nombre': 'Juan', 'edad': 27},\n",
       " {'_id': ObjectId('5e99034ba359803eff02b8da'), 'nombre': 'Angel', 'edad': 30},\n",
       " {'_id': ObjectId('5e9903a2a359803eff02b8db'), 'nombre': 'Diana', 'edad': 25},\n",
       " {'_id': ObjectId('5e9903fda359803eff02b8dc'), 'nombre': 'Belen', 'edad': 20},\n",
       " {'_id': 1, 'nombre': 'José Juan', 'edad': 28},\n",
       " {'_id': 2, 'nombre': 'Yona', 'edad': 35},\n",
       " {'_id': 3, 'nombre': 'Esteban', 'edad': 45, 'altura': 1.7},\n",
       " {'_id': 4, 'nombre': 'Alicia', 'edad': 34, 'altura': 1.5},\n",
       " {'_id': 5, 'nombre': 'Luz', 'edad': 18, 'altura': 1.65},\n",
       " {'_id': ObjectId('5e990c68a359803eff02b8dd'),\n",
       "  'nomre': 'Anai',\n",
       "  'edad': 24,\n",
       "  'altura': 1.45}]"
      ]
     },
     "execution_count": 91,
     "metadata": {},
     "output_type": "execute_result"
    }
   ],
   "source": [
    "list(coleccion.find())"
   ]
  },
  {
   "cell_type": "code",
   "execution_count": 92,
   "metadata": {},
   "outputs": [
    {
     "data": {
      "text/plain": [
       "<pymongo.results.UpdateResult at 0x10a0c2730>"
      ]
     },
     "execution_count": 92,
     "metadata": {},
     "output_type": "execute_result"
    }
   ],
   "source": [
    "coleccion.update_one({'nombre':'Juan'}, {'$set':{'nombre':'José Juan'}})"
   ]
  },
  {
   "cell_type": "code",
   "execution_count": 93,
   "metadata": {},
   "outputs": [
    {
     "data": {
      "text/plain": [
       "[{'_id': ObjectId('5e98fec6a359803eff02b8d8'),\n",
       "  'nombre': 'José Juan',\n",
       "  'edad': 27},\n",
       " {'_id': ObjectId('5e99034ba359803eff02b8da'), 'nombre': 'Angel', 'edad': 30},\n",
       " {'_id': ObjectId('5e9903a2a359803eff02b8db'), 'nombre': 'Diana', 'edad': 25},\n",
       " {'_id': ObjectId('5e9903fda359803eff02b8dc'), 'nombre': 'Belen', 'edad': 20},\n",
       " {'_id': 1, 'nombre': 'José Juan', 'edad': 28},\n",
       " {'_id': 2, 'nombre': 'Yona', 'edad': 35},\n",
       " {'_id': 3, 'nombre': 'Esteban', 'edad': 45, 'altura': 1.7},\n",
       " {'_id': 4, 'nombre': 'Alicia', 'edad': 34, 'altura': 1.5},\n",
       " {'_id': 5, 'nombre': 'Luz', 'edad': 18, 'altura': 1.65},\n",
       " {'_id': ObjectId('5e990c68a359803eff02b8dd'),\n",
       "  'nomre': 'Anai',\n",
       "  'edad': 24,\n",
       "  'altura': 1.45}]"
      ]
     },
     "execution_count": 93,
     "metadata": {},
     "output_type": "execute_result"
    }
   ],
   "source": [
    "list(coleccion.find())"
   ]
  },
  {
   "cell_type": "code",
   "execution_count": 94,
   "metadata": {},
   "outputs": [
    {
     "data": {
      "text/plain": [
       "<pymongo.results.UpdateResult at 0x10a0ab820>"
      ]
     },
     "execution_count": 94,
     "metadata": {},
     "output_type": "execute_result"
    }
   ],
   "source": [
    "coleccion.update_one({'nombre':'Anai'}, {'$set':{'nombre':'Argelia Anai'}})"
   ]
  },
  {
   "cell_type": "code",
   "execution_count": 95,
   "metadata": {},
   "outputs": [
    {
     "data": {
      "text/plain": [
       "[{'_id': ObjectId('5e98fec6a359803eff02b8d8'),\n",
       "  'nombre': 'José Juan',\n",
       "  'edad': 27},\n",
       " {'_id': ObjectId('5e99034ba359803eff02b8da'), 'nombre': 'Angel', 'edad': 30},\n",
       " {'_id': ObjectId('5e9903a2a359803eff02b8db'), 'nombre': 'Diana', 'edad': 25},\n",
       " {'_id': ObjectId('5e9903fda359803eff02b8dc'), 'nombre': 'Belen', 'edad': 20},\n",
       " {'_id': 1, 'nombre': 'José Juan', 'edad': 28},\n",
       " {'_id': 2, 'nombre': 'Yona', 'edad': 35},\n",
       " {'_id': 3, 'nombre': 'Esteban', 'edad': 45, 'altura': 1.7},\n",
       " {'_id': 4, 'nombre': 'Alicia', 'edad': 34, 'altura': 1.5},\n",
       " {'_id': 5, 'nombre': 'Luz', 'edad': 18, 'altura': 1.65},\n",
       " {'_id': ObjectId('5e990c68a359803eff02b8dd'),\n",
       "  'nomre': 'Anai',\n",
       "  'edad': 24,\n",
       "  'altura': 1.45}]"
      ]
     },
     "execution_count": 95,
     "metadata": {},
     "output_type": "execute_result"
    }
   ],
   "source": [
    "list(coleccion.find())"
   ]
  },
  {
   "cell_type": "code",
   "execution_count": 97,
   "metadata": {},
   "outputs": [
    {
     "data": {
      "text/plain": [
       "<pymongo.results.DeleteResult at 0x10a110410>"
      ]
     },
     "execution_count": 97,
     "metadata": {},
     "output_type": "execute_result"
    }
   ],
   "source": [
    "coleccion.delete_one({'nombre':'Anai'})  # borrar un elemento"
   ]
  },
  {
   "cell_type": "code",
   "execution_count": 98,
   "metadata": {},
   "outputs": [
    {
     "data": {
      "text/plain": [
       "[{'_id': ObjectId('5e98fec6a359803eff02b8d8'),\n",
       "  'nombre': 'José Juan',\n",
       "  'edad': 27},\n",
       " {'_id': ObjectId('5e99034ba359803eff02b8da'), 'nombre': 'Angel', 'edad': 30},\n",
       " {'_id': ObjectId('5e9903a2a359803eff02b8db'), 'nombre': 'Diana', 'edad': 25},\n",
       " {'_id': ObjectId('5e9903fda359803eff02b8dc'), 'nombre': 'Belen', 'edad': 20},\n",
       " {'_id': 1, 'nombre': 'José Juan', 'edad': 28},\n",
       " {'_id': 2, 'nombre': 'Yona', 'edad': 35},\n",
       " {'_id': 3, 'nombre': 'Esteban', 'edad': 45, 'altura': 1.7},\n",
       " {'_id': 4, 'nombre': 'Alicia', 'edad': 34, 'altura': 1.5},\n",
       " {'_id': 5, 'nombre': 'Luz', 'edad': 18, 'altura': 1.65},\n",
       " {'_id': ObjectId('5e990c68a359803eff02b8dd'),\n",
       "  'nomre': 'Anai',\n",
       "  'edad': 24,\n",
       "  'altura': 1.45}]"
      ]
     },
     "execution_count": 98,
     "metadata": {},
     "output_type": "execute_result"
    }
   ],
   "source": [
    "list(coleccion.find())"
   ]
  },
  {
   "cell_type": "code",
   "execution_count": 99,
   "metadata": {},
   "outputs": [
    {
     "data": {
      "text/plain": [
       "<pymongo.results.DeleteResult at 0x10a0fb910>"
      ]
     },
     "execution_count": 99,
     "metadata": {},
     "output_type": "execute_result"
    }
   ],
   "source": [
    "coleccion.delete_one({'nombre':'Anai'})  # borrar un elemento"
   ]
  },
  {
   "cell_type": "code",
   "execution_count": 100,
   "metadata": {},
   "outputs": [
    {
     "data": {
      "text/plain": [
       "<pymongo.results.DeleteResult at 0x10a1126e0>"
      ]
     },
     "execution_count": 100,
     "metadata": {},
     "output_type": "execute_result"
    }
   ],
   "source": [
    "coleccion.delete_one({'nombre':'Anai'})  # borrar un elemento"
   ]
  },
  {
   "cell_type": "code",
   "execution_count": 101,
   "metadata": {},
   "outputs": [
    {
     "data": {
      "text/plain": [
       "<pymongo.results.DeleteResult at 0x10a112b90>"
      ]
     },
     "execution_count": 101,
     "metadata": {},
     "output_type": "execute_result"
    }
   ],
   "source": [
    "coleccion.delete_one({'nombre':'Anai'})  # borrar un elemento"
   ]
  },
  {
   "cell_type": "code",
   "execution_count": 102,
   "metadata": {},
   "outputs": [
    {
     "data": {
      "text/plain": [
       "[{'_id': ObjectId('5e98fec6a359803eff02b8d8'),\n",
       "  'nombre': 'José Juan',\n",
       "  'edad': 27},\n",
       " {'_id': ObjectId('5e99034ba359803eff02b8da'), 'nombre': 'Angel', 'edad': 30},\n",
       " {'_id': ObjectId('5e9903a2a359803eff02b8db'), 'nombre': 'Diana', 'edad': 25},\n",
       " {'_id': ObjectId('5e9903fda359803eff02b8dc'), 'nombre': 'Belen', 'edad': 20},\n",
       " {'_id': 1, 'nombre': 'José Juan', 'edad': 28},\n",
       " {'_id': 2, 'nombre': 'Yona', 'edad': 35},\n",
       " {'_id': 3, 'nombre': 'Esteban', 'edad': 45, 'altura': 1.7},\n",
       " {'_id': 4, 'nombre': 'Alicia', 'edad': 34, 'altura': 1.5},\n",
       " {'_id': 5, 'nombre': 'Luz', 'edad': 18, 'altura': 1.65},\n",
       " {'_id': ObjectId('5e990c68a359803eff02b8dd'),\n",
       "  'nomre': 'Anai',\n",
       "  'edad': 24,\n",
       "  'altura': 1.45}]"
      ]
     },
     "execution_count": 102,
     "metadata": {},
     "output_type": "execute_result"
    }
   ],
   "source": [
    "list(coleccion.find())"
   ]
  },
  {
   "cell_type": "code",
   "execution_count": null,
   "metadata": {},
   "outputs": [],
   "source": []
  }
 ],
 "metadata": {
  "kernelspec": {
   "display_name": "Python 3",
   "language": "python",
   "name": "python3"
  },
  "language_info": {
   "codemirror_mode": {
    "name": "ipython",
    "version": 3
   },
   "file_extension": ".py",
   "mimetype": "text/x-python",
   "name": "python",
   "nbconvert_exporter": "python",
   "pygments_lexer": "ipython3",
   "version": "3.7.6"
  }
 },
 "nbformat": 4,
 "nbformat_minor": 4
}
