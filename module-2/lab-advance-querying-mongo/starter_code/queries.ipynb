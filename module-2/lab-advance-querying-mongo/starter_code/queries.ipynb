{
 "cells": [
  {
   "cell_type": "markdown",
   "metadata": {},
   "source": [
    "![Ironhack Logo](https://i.imgur.com/1QgrNNw.png)"
   ]
  },
  {
   "cell_type": "code",
   "execution_count": 5,
   "metadata": {},
   "outputs": [],
   "source": [
    "from pymongo import MongoClient\n",
    "client=MongoClient()\n",
    "db = client.db_companies\n",
    "collection_companies = db.companies"
   ]
  },
  {
   "cell_type": "markdown",
   "metadata": {},
   "source": [
    "# Answers\n",
    "### 1. All the companies that it's name match 'Babelgum'. Retrieve only their `name` field."
   ]
  },
  {
   "cell_type": "code",
   "execution_count": 15,
   "metadata": {
    "scrolled": true
   },
   "outputs": [
    {
     "data": {
      "text/plain": [
       "[{'name': 'Babelgum'}]"
      ]
     },
     "execution_count": 15,
     "metadata": {},
     "output_type": "execute_result"
    }
   ],
   "source": [
    "list(collection_companies.find({'name':'Babelgum'},{'_id':0,'name':1}))"
   ]
  },
  {
   "cell_type": "code",
   "execution_count": 56,
   "metadata": {},
   "outputs": [
    {
     "data": {
      "text/plain": [
       "['_id',\n",
       " 'name',\n",
       " 'permalink',\n",
       " 'crunchbase_url',\n",
       " 'homepage_url',\n",
       " 'blog_url',\n",
       " 'blog_feed_url',\n",
       " 'twitter_username',\n",
       " 'category_code',\n",
       " 'number_of_employees',\n",
       " 'founded_year',\n",
       " 'founded_month',\n",
       " 'founded_day',\n",
       " 'deadpooled_year',\n",
       " 'deadpooled_month',\n",
       " 'deadpooled_day',\n",
       " 'deadpooled_url',\n",
       " 'tag_list',\n",
       " 'alias_list',\n",
       " 'email_address',\n",
       " 'phone_number',\n",
       " 'description',\n",
       " 'created_at',\n",
       " 'updated_at',\n",
       " 'overview',\n",
       " 'image',\n",
       " 'products',\n",
       " 'relationships',\n",
       " 'competitions',\n",
       " 'providerships',\n",
       " 'total_money_raised',\n",
       " 'funding_rounds',\n",
       " 'investments',\n",
       " 'acquisition',\n",
       " 'acquisitions',\n",
       " 'offices',\n",
       " 'milestones',\n",
       " 'ipo',\n",
       " 'video_embeds',\n",
       " 'screenshots',\n",
       " 'external_links',\n",
       " 'partners']"
      ]
     },
     "execution_count": 56,
     "metadata": {},
     "output_type": "execute_result"
    }
   ],
   "source": [
    "list(collection_companies.find({'name':'Babelgum'})[0])"
   ]
  },
  {
   "cell_type": "markdown",
   "metadata": {},
   "source": [
    "### 2. All the companies that have more than 5000 employees. Limit the search to 20 companies and sort them by **number of employees**."
   ]
  },
  {
   "cell_type": "code",
   "execution_count": 80,
   "metadata": {},
   "outputs": [
    {
     "data": {
      "text/plain": [
       "[{'name': 'Siemens'},\n",
       " {'name': 'IBM'},\n",
       " {'name': 'Toyota'},\n",
       " {'name': 'PayPal'},\n",
       " {'name': 'Nippon Telegraph and Telephone Corporation'}]"
      ]
     },
     "execution_count": 80,
     "metadata": {},
     "output_type": "execute_result"
    }
   ],
   "source": [
    "list(collection_companies.find({ 'number_of_employees': { '$gt': 5000 }},{'_id':0,'name':1}).sort('number_of_employees', -1).limit(20))[:5]\n",
    "#.sort( { 'number_of_employees':-1 } )\n",
    "#list(collection_companies.find({ 'number_of_employees': { '$gt': 5000 }}).sort({'number_of_employees':-1}))"
   ]
  },
  {
   "cell_type": "markdown",
   "metadata": {},
   "source": [
    "### 3. All the companies founded between 2000 and 2005, both years included. Retrieve only the `name` and `founded_year` fileds."
   ]
  },
  {
   "cell_type": "code",
   "execution_count": 50,
   "metadata": {},
   "outputs": [
    {
     "data": {
      "text/plain": [
       "[{'name': 'Wetpaint', 'founded_year': 2005},\n",
       " {'name': 'Zoho', 'founded_year': 2005},\n",
       " {'name': 'Digg', 'founded_year': 2004},\n",
       " {'name': 'Facebook', 'founded_year': 2004},\n",
       " {'name': 'Omnidrive', 'founded_year': 2005}]"
      ]
     },
     "execution_count": 50,
     "metadata": {},
     "output_type": "execute_result"
    }
   ],
   "source": [
    "list(collection_companies.find({ 'founded_year' :{ '$gt': 1999, '$lt': 2006 }},{'_id':0,'name':1, 'founded_year':1}))[:5]"
   ]
  },
  {
   "cell_type": "markdown",
   "metadata": {},
   "source": [
    "### 4. All the companies that had a Valuation Amount of more than 100.000.000 and have been founded before 2010. Retrieve only the `name` and `ipo` fields."
   ]
  },
  {
   "cell_type": "code",
   "execution_count": 114,
   "metadata": {},
   "outputs": [
    {
     "data": {
      "text/plain": [
       "[{'name': 'Facebook', 'ipo': {'valuation_amount': 104000000000}},\n",
       " {'name': 'Twitter', 'ipo': {'valuation_amount': 18100000000}},\n",
       " {'name': 'Yelp', 'ipo': {'valuation_amount': 1300000000}},\n",
       " {'name': 'LinkedIn', 'ipo': {'valuation_amount': 9310000000}},\n",
       " {'name': 'Amazon', 'ipo': {'valuation_amount': 100000000000}}]"
      ]
     },
     "execution_count": 114,
     "metadata": {},
     "output_type": "execute_result"
    }
   ],
   "source": [
    "list(collection_companies.find({ 'founded_year' : {'$lt': 2010 }, 'ipo.valuation_amount':{'$gt': 100000000 }}, {'_id':0,'name':1, 'ipo.valuation_amount':1}))[:5] \n"
   ]
  },
  {
   "cell_type": "markdown",
   "metadata": {},
   "source": [
    "### 5. All the companies that have less than 1000 employees and have been founded before 2005. Order them by the number of employees and limit the search to 10 companies."
   ]
  },
  {
   "cell_type": "code",
   "execution_count": 81,
   "metadata": {},
   "outputs": [
    {
     "data": {
      "text/plain": [
       "[{'name': 'Infinera Corporation', 'number_of_employees': 974},\n",
       " {'name': 'NorthPoint Communications Group', 'number_of_employees': 948},\n",
       " {'name': '888 Holdings', 'number_of_employees': 931},\n",
       " {'name': 'Forrester Research', 'number_of_employees': 903},\n",
       " {'name': 'SonicWALL', 'number_of_employees': 900}]"
      ]
     },
     "execution_count": 81,
     "metadata": {},
     "output_type": "execute_result"
    }
   ],
   "source": [
    "list(collection_companies.find({ 'founded_year' : {'$lt': 2005 }, 'number_of_employees' : {'$lt': 1000 }}, {'_id':0,'name':1, 'number_of_employees':1}).sort('number_of_employees', -1).limit(10))[:5]"
   ]
  },
  {
   "cell_type": "markdown",
   "metadata": {},
   "source": [
    "### 6. All the companies that don't include the `partners` field."
   ]
  },
  {
   "cell_type": "code",
   "execution_count": 78,
   "metadata": {},
   "outputs": [
    {
     "data": {
      "text/plain": [
       "[]"
      ]
     },
     "execution_count": 78,
     "metadata": {},
     "output_type": "execute_result"
    }
   ],
   "source": [
    "list(collection_companies.find( { 'partners' : { '$exists' : False } },{'_id':0,'name':1}  ))"
   ]
  },
  {
   "cell_type": "markdown",
   "metadata": {},
   "source": [
    "### 7. All the companies that have a null type of value on the `category_code` field."
   ]
  },
  {
   "cell_type": "code",
   "execution_count": 65,
   "metadata": {},
   "outputs": [
    {
     "data": {
      "text/plain": [
       "[{'name': 'Collective'},\n",
       " {'name': 'Snimmer'},\n",
       " {'name': 'KoolIM'},\n",
       " {'name': 'Level9 Media'},\n",
       " {'name': 'VidKing'}]"
      ]
     },
     "execution_count": 65,
     "metadata": {},
     "output_type": "execute_result"
    }
   ],
   "source": [
    "list(collection_companies.find( { 'category_code' : { '$type': 'null' } },{'_id':0,'name':1} ))[:5]"
   ]
  },
  {
   "cell_type": "markdown",
   "metadata": {},
   "source": [
    "### 8. All the companies that have at least 100 employees but less than 1000. Retrieve only the `name` and `number of employees` fields."
   ]
  },
  {
   "cell_type": "code",
   "execution_count": 66,
   "metadata": {},
   "outputs": [
    {
     "data": {
      "text/plain": [
       "[{'name': 'AdventNet', 'number_of_employees': 600},\n",
       " {'name': 'AddThis', 'number_of_employees': 120},\n",
       " {'name': 'OpenX', 'number_of_employees': 305},\n",
       " {'name': 'LifeLock', 'number_of_employees': 644},\n",
       " {'name': 'Jajah', 'number_of_employees': 110}]"
      ]
     },
     "execution_count": 66,
     "metadata": {},
     "output_type": "execute_result"
    }
   ],
   "source": [
    "list(collection_companies.find({ 'number_of_employees' :{ '$gt': 100, '$lt': 1000 }},{'_id':0,'name':1, 'number_of_employees':1}))[:5]"
   ]
  },
  {
   "cell_type": "markdown",
   "metadata": {},
   "source": [
    "### 9. Order all the companies by their IPO price descendently."
   ]
  },
  {
   "cell_type": "code",
   "execution_count": 110,
   "metadata": {},
   "outputs": [
    {
     "data": {
      "text/plain": [
       "[{'name': 'Wetpaint'},\n",
       " {'name': 'AdventNet'},\n",
       " {'name': 'Zoho'},\n",
       " {'name': 'Digg'},\n",
       " {'name': 'Facebook'}]"
      ]
     },
     "execution_count": 110,
     "metadata": {},
     "output_type": "execute_result"
    }
   ],
   "source": [
    " list(collection_companies.find({}, {'_id':0,'name':1, 'ipo_price':1}))[:5]"
   ]
  },
  {
   "cell_type": "markdown",
   "metadata": {},
   "source": [
    "### 10. Retrieve the 10 companies with more employees, order by the `number of employees`"
   ]
  },
  {
   "cell_type": "code",
   "execution_count": 79,
   "metadata": {},
   "outputs": [
    {
     "data": {
      "text/plain": [
       "[{'name': 'Siemens', 'number_of_employees': 405000},\n",
       " {'name': 'IBM', 'number_of_employees': 388000},\n",
       " {'name': 'Toyota', 'number_of_employees': 320000},\n",
       " {'name': 'PayPal', 'number_of_employees': 300000},\n",
       " {'name': 'Nippon Telegraph and Telephone Corporation',\n",
       "  'number_of_employees': 227000},\n",
       " {'name': 'Samsung Electronics', 'number_of_employees': 221726},\n",
       " {'name': 'Accenture', 'number_of_employees': 205000},\n",
       " {'name': 'Tata Consultancy Services', 'number_of_employees': 200300},\n",
       " {'name': 'Flextronics International', 'number_of_employees': 200000},\n",
       " {'name': 'Safeway', 'number_of_employees': 186000}]"
      ]
     },
     "execution_count": 79,
     "metadata": {},
     "output_type": "execute_result"
    }
   ],
   "source": [
    "list(collection_companies.find({'number_of_employees':{ '$exists' : True }},{'_id':0,'name':1, 'number_of_employees':1}).sort('number_of_employees', -1).limit(10))"
   ]
  },
  {
   "cell_type": "markdown",
   "metadata": {},
   "source": [
    "### 11. All the companies founded on the second semester of the year. Limit your search to 1000 companies."
   ]
  },
  {
   "cell_type": "code",
   "execution_count": 82,
   "metadata": {},
   "outputs": [
    {
     "data": {
      "text/plain": [
       "[{'name': 'Wetpaint', 'founded_month': 10},\n",
       " {'name': 'Zoho', 'founded_month': 9},\n",
       " {'name': 'Digg', 'founded_month': 10},\n",
       " {'name': 'Omnidrive', 'founded_month': 11},\n",
       " {'name': 'Postini', 'founded_month': 6}]"
      ]
     },
     "execution_count": 82,
     "metadata": {},
     "output_type": "execute_result"
    }
   ],
   "source": [
    "list(collection_companies.find({ 'founded_month' :{ '$gt': 5, '$lt': 13 }},{'_id':0,'name':1, 'founded_month':1}).limit(10))[:5]"
   ]
  },
  {
   "cell_type": "markdown",
   "metadata": {},
   "source": [
    "### 12. All the companies that have been 'deadpooled' after the third year."
   ]
  },
  {
   "cell_type": "code",
   "execution_count": 115,
   "metadata": {},
   "outputs": [
    {
     "data": {
      "text/plain": [
       "[]"
      ]
     },
     "execution_count": 115,
     "metadata": {},
     "output_type": "execute_result"
    }
   ],
   "source": [
    "#founded_year - deadpooled_year\n",
    "#list(collection_companies.find({ 'founded_year' - 'deadpooled_year' :{ '$gt': 3}},{'_id':0,'name':1, 'deadpooled_year':1}))[:5]\n",
    "list(collection_companies.find({ 'deadpooled_year - deadpooled_year' :{ '$gt': 3}},{'_id':0,'name':1, 'deadpooled_year':1}))[:5]\n"
   ]
  },
  {
   "cell_type": "markdown",
   "metadata": {},
   "source": [
    "### 13. All the companies founded before 2000 that have and acquisition amount of more than 10.000.000"
   ]
  },
  {
   "cell_type": "code",
   "execution_count": 116,
   "metadata": {},
   "outputs": [
    {
     "data": {
      "text/plain": [
       "[{'name': 'Postini', 'acquisition': {'price_amount': 625000000}},\n",
       " {'name': 'SideStep', 'acquisition': {'price_amount': 180000000}},\n",
       " {'name': 'Recipezaar', 'acquisition': {'price_amount': 25000000}},\n",
       " {'name': 'PayPal', 'acquisition': {'price_amount': 1500000000}},\n",
       " {'name': 'Snapfish', 'acquisition': {'price_amount': 300000000}}]"
      ]
     },
     "execution_count": 116,
     "metadata": {},
     "output_type": "execute_result"
    }
   ],
   "source": [
    "#list(collection_companies.find({ 'founded_year' : {'$lt': 2000 }, 'acquisition' :{ '$elemMatch': {'price_amount': {'$gt': 10000000}}}}, {'_id':0,'name':1, 'acquisition':1}).limit(10))[:5]\n",
    "list(collection_companies.find({ 'founded_year' : {'$lt': 2000 }, 'acquisition.price_amount': {'$gt': 10000000}}, {'_id':0,'name':1, 'acquisition.price_amount':1}).limit(10))[:5]"
   ]
  },
  {
   "cell_type": "markdown",
   "metadata": {},
   "source": [
    "### 14. All the companies that have been acquired after 2015, order by the acquisition amount, and retrieve only their `name` and `acquisiton` field."
   ]
  },
  {
   "cell_type": "code",
   "execution_count": 132,
   "metadata": {},
   "outputs": [
    {
     "data": {
      "text/plain": [
       "[]"
      ]
     },
     "execution_count": 132,
     "metadata": {},
     "output_type": "execute_result"
    }
   ],
   "source": [
    "#list(collection_companies.find({ 'acquisition.acquired_year' : {'$gt': 2015 }}, {'_id':0,'name':1, 'acquisition.price_amount':1}).sort('acquisition.price_amount', -1).limit(10))[:5]\n",
    "list(collection_companies.find({ 'acquisition.acquired_year' : {'$gt': 2015 }}, {'_id':0,'name':1, 'acquisition.price_amount':1}).limit(10))[:5]"
   ]
  },
  {
   "cell_type": "markdown",
   "metadata": {},
   "source": [
    "### 15. Order the companies by their `founded year`, retrieving only their `name` and `founded year`."
   ]
  },
  {
   "cell_type": "code",
   "execution_count": 122,
   "metadata": {},
   "outputs": [
    {
     "data": {
      "text/plain": [
       "[{'name': 'Fixya', 'founded_year': 2013},\n",
       " {'name': 'Wamba', 'founded_year': 2013},\n",
       " {'name': 'Advaliant', 'founded_year': 2013},\n",
       " {'name': 'Fluc', 'founded_year': 2013},\n",
       " {'name': 'iBazar', 'founded_year': 2013}]"
      ]
     },
     "execution_count": 122,
     "metadata": {},
     "output_type": "execute_result"
    }
   ],
   "source": [
    "list(collection_companies.find( { 'founded_year' : { '$exists' : True } },{'_id':0,'name':1, 'founded_year':1}).sort('founded_year', -1).limit(10))[:5]"
   ]
  },
  {
   "cell_type": "markdown",
   "metadata": {},
   "source": [
    "### 16. All the companies that have been founded on the first seven days of the month, including the seventh. Sort them by their `aquisition price` descendently. Limit the search to 10 documents."
   ]
  },
  {
   "cell_type": "code",
   "execution_count": 133,
   "metadata": {},
   "outputs": [
    {
     "data": {
      "text/plain": [
       "[{'name': 'Netscape', 'founded_year': 1994},\n",
       " {'name': 'PayPal', 'founded_year': 1998},\n",
       " {'name': 'Zappos', 'founded_year': 1999},\n",
       " {'name': 'Alibaba', 'founded_year': 1999},\n",
       " {'name': 'Postini', 'founded_year': 1999}]"
      ]
     },
     "execution_count": 133,
     "metadata": {},
     "output_type": "execute_result"
    }
   ],
   "source": [
    "list(collection_companies.find( { 'founded_day' : {'$lt': 8} },{'_id':0,'name':1, 'founded_year':1}).sort('acquisition.price_amount', -1).limit(10))[:5]"
   ]
  },
  {
   "cell_type": "markdown",
   "metadata": {},
   "source": [
    "### 17. All the companies on the 'web' `category` that have more than 4000 employees. Sort them by the amount of employees in ascendant order."
   ]
  },
  {
   "cell_type": "code",
   "execution_count": 104,
   "metadata": {},
   "outputs": [
    {
     "data": {
      "text/plain": [
       "[{'name': 'Experian', 'number_of_employees': 15500},\n",
       " {'name': 'eBay', 'number_of_employees': 15000},\n",
       " {'name': 'Yahoo!', 'number_of_employees': 13600},\n",
       " {'name': 'Rakuten', 'number_of_employees': 10000},\n",
       " {'name': 'Los Angeles Times Media Group', 'number_of_employees': 10000}]"
      ]
     },
     "execution_count": 104,
     "metadata": {},
     "output_type": "execute_result"
    }
   ],
   "source": [
    "list(collection_companies.find({'category_code':'web', 'number_of_employees' :{ '$gt': 4000 }},{'_id':0,'name':1, 'number_of_employees':1}).sort('number_of_employees', -1).limit(10))[:5]"
   ]
  },
  {
   "cell_type": "markdown",
   "metadata": {},
   "source": [
    "### 18. All the companies which their acquisition amount is more than 10.000.000, and currency are 'EUR'.\n"
   ]
  },
  {
   "cell_type": "code",
   "execution_count": 134,
   "metadata": {},
   "outputs": [
    {
     "data": {
      "text/plain": [
       "[{'name': 'Mobile Trend'},\n",
       " {'name': 'Citizenside'},\n",
       " {'name': 'Excite Europe'},\n",
       " {'name': 'YelloYello'},\n",
       " {'name': 'Branded Payment Solutions'}]"
      ]
     },
     "execution_count": 134,
     "metadata": {},
     "output_type": "execute_result"
    }
   ],
   "source": [
    "list(collection_companies.find( { 'acquisition.price_amount' : {'$lt': 10000000}, 'acquisition.price_currency_code':\"EUR\"},{'_id':0,'name':1}).limit(10))[:5]"
   ]
  },
  {
   "cell_type": "markdown",
   "metadata": {},
   "source": [
    "### 19. All the companies that have been acquired on the first trimester of the year. Limit the search to 10 companies, and retrieve only their `name` and `acquisition` fields."
   ]
  },
  {
   "cell_type": "code",
   "execution_count": 136,
   "metadata": {},
   "outputs": [
    {
     "data": {
      "text/plain": [
       "[{'name': 'StumbleUpon', 'acquisition': {'acquired_month': 4}},\n",
       " {'name': 'Kyte', 'acquisition': {'acquired_month': 1}},\n",
       " {'name': 'Veoh', 'acquisition': {'acquired_month': 4}},\n",
       " {'name': 'Jingle Networks', 'acquisition': {'acquired_month': 4}},\n",
       " {'name': 'NetRatings', 'acquisition': {'acquired_month': 2}}]"
      ]
     },
     "execution_count": 136,
     "metadata": {},
     "output_type": "execute_result"
    }
   ],
   "source": [
    "list(collection_companies.find({ 'acquisition.acquired_month' :{ '$lt': 5 }},{'_id':0,'name':1, 'acquisition.acquired_month':1}).limit(10))[:5]"
   ]
  },
  {
   "cell_type": "markdown",
   "metadata": {},
   "source": [
    "### 20. All the companies that have been founded between 2000 and 2010, but have not been acquired before 2011."
   ]
  },
  {
   "cell_type": "code",
   "execution_count": 137,
   "metadata": {},
   "outputs": [
    {
     "data": {
      "text/plain": [
       "[{'name': 'Wetpaint'},\n",
       " {'name': 'Digg'},\n",
       " {'name': 'Geni'},\n",
       " {'name': 'Kyte'},\n",
       " {'name': 'Jingle Networks'}]"
      ]
     },
     "execution_count": 137,
     "metadata": {},
     "output_type": "execute_result"
    }
   ],
   "source": [
    "list(collection_companies.find( { 'founded_year' : {'$lt': 1999,'$lt': 2011 }, 'acquisition.acquired_year':{'$gt': 2010 }},{'_id':0,'name':1}).limit(10))[:5]\n"
   ]
  },
  {
   "cell_type": "code",
   "execution_count": null,
   "metadata": {},
   "outputs": [],
   "source": []
  }
 ],
 "metadata": {
  "kernelspec": {
   "display_name": "Python 3",
   "language": "python",
   "name": "python3"
  },
  "language_info": {
   "codemirror_mode": {
    "name": "ipython",
    "version": 3
   },
   "file_extension": ".py",
   "mimetype": "text/x-python",
   "name": "python",
   "nbconvert_exporter": "python",
   "pygments_lexer": "ipython3",
   "version": "3.7.4"
  }
 },
 "nbformat": 4,
 "nbformat_minor": 2
}
