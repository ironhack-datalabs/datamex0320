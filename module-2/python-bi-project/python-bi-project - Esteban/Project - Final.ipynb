{
 "cells": [
  {
   "cell_type": "markdown",
   "metadata": {},
   "source": [
    "# Exploring data"
   ]
  },
  {
   "cell_type": "code",
   "execution_count": 1,
   "metadata": {},
   "outputs": [],
   "source": [
    "import pandas as pd\n",
    "import pymongo\n",
    "from pymongo import MongoClient\n",
    "from tqdm import tqdm\n",
    "from tqdm import trange\n",
    "import folium\n",
    "from folium import plugins\n",
    "import numpy as np\n",
    "import warnings\n",
    "warnings.simplefilter('ignore')\n",
    "import re\n",
    "import pickle\n",
    "from opencage.geocoder import OpenCageGeocode"
   ]
  },
  {
   "cell_type": "code",
   "execution_count": 2,
   "metadata": {},
   "outputs": [],
   "source": [
    "#creating the Mongo conection\n",
    "cliente=MongoClient('mongodb://localhost:27017')\n",
    "db = cliente.companies\n",
    "col = db.companies"
   ]
  },
  {
   "cell_type": "code",
   "execution_count": 3,
   "metadata": {},
   "outputs": [
    {
     "data": {
      "text/html": [
       "<div>\n",
       "<style scoped>\n",
       "    .dataframe tbody tr th:only-of-type {\n",
       "        vertical-align: middle;\n",
       "    }\n",
       "\n",
       "    .dataframe tbody tr th {\n",
       "        vertical-align: top;\n",
       "    }\n",
       "\n",
       "    .dataframe thead th {\n",
       "        text-align: right;\n",
       "    }\n",
       "</style>\n",
       "<table border=\"1\" class=\"dataframe\">\n",
       "  <thead>\n",
       "    <tr style=\"text-align: right;\">\n",
       "      <th></th>\n",
       "      <th>_id</th>\n",
       "      <th>name</th>\n",
       "      <th>permalink</th>\n",
       "      <th>crunchbase_url</th>\n",
       "      <th>homepage_url</th>\n",
       "      <th>blog_url</th>\n",
       "      <th>blog_feed_url</th>\n",
       "      <th>twitter_username</th>\n",
       "      <th>category_code</th>\n",
       "      <th>number_of_employees</th>\n",
       "      <th>...</th>\n",
       "      <th>offices</th>\n",
       "      <th>milestones</th>\n",
       "      <th>video_embeds</th>\n",
       "      <th>screenshots</th>\n",
       "      <th>external_links</th>\n",
       "      <th>partners</th>\n",
       "      <th>deadpooled_month</th>\n",
       "      <th>deadpooled_day</th>\n",
       "      <th>deadpooled_url</th>\n",
       "      <th>ipo</th>\n",
       "    </tr>\n",
       "  </thead>\n",
       "  <tbody>\n",
       "    <tr>\n",
       "      <th>0</th>\n",
       "      <td>52cdef7c4bab8bd675297d8a</td>\n",
       "      <td>Wetpaint</td>\n",
       "      <td>abc2</td>\n",
       "      <td>http://www.crunchbase.com/company/wetpaint</td>\n",
       "      <td>http://wetpaint-inc.com</td>\n",
       "      <td>http://digitalquarters.net/</td>\n",
       "      <td>http://digitalquarters.net/feed/</td>\n",
       "      <td>BachelrWetpaint</td>\n",
       "      <td>web</td>\n",
       "      <td>47.0</td>\n",
       "      <td>...</td>\n",
       "      <td>[{'description': '', 'address1': '710 - 2nd Av...</td>\n",
       "      <td>[{'id': 5869, 'description': 'Wetpaint named i...</td>\n",
       "      <td>[]</td>\n",
       "      <td>[{'available_sizes': [[[150, 86], 'assets/imag...</td>\n",
       "      <td>[{'external_url': 'http://www.geekwire.com/201...</td>\n",
       "      <td>[]</td>\n",
       "      <td>NaN</td>\n",
       "      <td>NaN</td>\n",
       "      <td>NaN</td>\n",
       "      <td>NaN</td>\n",
       "    </tr>\n",
       "    <tr>\n",
       "      <th>1</th>\n",
       "      <td>52cdef7c4bab8bd675297d8b</td>\n",
       "      <td>AdventNet</td>\n",
       "      <td>abc3</td>\n",
       "      <td>http://www.crunchbase.com/company/adventnet</td>\n",
       "      <td>http://adventnet.com</td>\n",
       "      <td></td>\n",
       "      <td></td>\n",
       "      <td>manageengine</td>\n",
       "      <td>enterprise</td>\n",
       "      <td>600.0</td>\n",
       "      <td>...</td>\n",
       "      <td>[{'description': 'Headquarters', 'address1': '...</td>\n",
       "      <td>[]</td>\n",
       "      <td>[]</td>\n",
       "      <td>[{'available_sizes': [[[150, 94], 'assets/imag...</td>\n",
       "      <td>[]</td>\n",
       "      <td>[]</td>\n",
       "      <td>NaN</td>\n",
       "      <td>NaN</td>\n",
       "      <td>NaN</td>\n",
       "      <td>NaN</td>\n",
       "    </tr>\n",
       "    <tr>\n",
       "      <th>2</th>\n",
       "      <td>52cdef7c4bab8bd675297d8c</td>\n",
       "      <td>Zoho</td>\n",
       "      <td>abc4</td>\n",
       "      <td>http://www.crunchbase.com/company/zoho</td>\n",
       "      <td>http://zoho.com</td>\n",
       "      <td>http://blogs.zoho.com/</td>\n",
       "      <td>http://blogs.zoho.com/feed</td>\n",
       "      <td>zoho</td>\n",
       "      <td>software</td>\n",
       "      <td>1600.0</td>\n",
       "      <td>...</td>\n",
       "      <td>[{'description': 'Headquarters', 'address1': '...</td>\n",
       "      <td>[{'id': 388, 'description': 'Zoho Reaches 2 Mi...</td>\n",
       "      <td>[{'embed_code': '&lt;object width=\"430\" height=\"2...</td>\n",
       "      <td>[]</td>\n",
       "      <td>[{'external_url': 'http://www.online-tech-tips...</td>\n",
       "      <td>[]</td>\n",
       "      <td>NaN</td>\n",
       "      <td>NaN</td>\n",
       "      <td>NaN</td>\n",
       "      <td>NaN</td>\n",
       "    </tr>\n",
       "    <tr>\n",
       "      <th>3</th>\n",
       "      <td>52cdef7c4bab8bd675297d8d</td>\n",
       "      <td>Digg</td>\n",
       "      <td>digg</td>\n",
       "      <td>http://www.crunchbase.com/company/digg</td>\n",
       "      <td>http://www.digg.com</td>\n",
       "      <td>http://blog.digg.com/</td>\n",
       "      <td>http://blog.digg.com/?feed=rss2</td>\n",
       "      <td>digg</td>\n",
       "      <td>news</td>\n",
       "      <td>60.0</td>\n",
       "      <td>...</td>\n",
       "      <td>[{'description': None, 'address1': '135 Missis...</td>\n",
       "      <td>[{'id': 9588, 'description': 'Another Digg Exe...</td>\n",
       "      <td>[{'embed_code': '&lt;embed src=\"http://blip.tv/pl...</td>\n",
       "      <td>[{'available_sizes': [[[117, 150], 'assets/ima...</td>\n",
       "      <td>[{'external_url': 'http://www.sociableblog.com...</td>\n",
       "      <td>[]</td>\n",
       "      <td>NaN</td>\n",
       "      <td>NaN</td>\n",
       "      <td>None</td>\n",
       "      <td>None</td>\n",
       "    </tr>\n",
       "    <tr>\n",
       "      <th>4</th>\n",
       "      <td>52cdef7c4bab8bd675297d8e</td>\n",
       "      <td>Facebook</td>\n",
       "      <td>facebook</td>\n",
       "      <td>http://www.crunchbase.com/company/facebook</td>\n",
       "      <td>http://facebook.com</td>\n",
       "      <td>http://blog.facebook.com</td>\n",
       "      <td>http://blog.facebook.com/atom.php</td>\n",
       "      <td>facebook</td>\n",
       "      <td>social</td>\n",
       "      <td>5299.0</td>\n",
       "      <td>...</td>\n",
       "      <td>[{'description': 'Headquarters', 'address1': '...</td>\n",
       "      <td>[{'id': 108, 'description': 'Facebook adds com...</td>\n",
       "      <td>[]</td>\n",
       "      <td>[{'available_sizes': [[[150, 68], 'assets/imag...</td>\n",
       "      <td>[{'external_url': 'http://latimesblogs.latimes...</td>\n",
       "      <td>[]</td>\n",
       "      <td>NaN</td>\n",
       "      <td>NaN</td>\n",
       "      <td></td>\n",
       "      <td>{'valuation_amount': 104000000000, 'valuation_...</td>\n",
       "    </tr>\n",
       "  </tbody>\n",
       "</table>\n",
       "<p>5 rows × 42 columns</p>\n",
       "</div>"
      ],
      "text/plain": [
       "                        _id       name permalink  \\\n",
       "0  52cdef7c4bab8bd675297d8a   Wetpaint      abc2   \n",
       "1  52cdef7c4bab8bd675297d8b  AdventNet      abc3   \n",
       "2  52cdef7c4bab8bd675297d8c       Zoho      abc4   \n",
       "3  52cdef7c4bab8bd675297d8d       Digg      digg   \n",
       "4  52cdef7c4bab8bd675297d8e   Facebook  facebook   \n",
       "\n",
       "                                crunchbase_url             homepage_url  \\\n",
       "0   http://www.crunchbase.com/company/wetpaint  http://wetpaint-inc.com   \n",
       "1  http://www.crunchbase.com/company/adventnet     http://adventnet.com   \n",
       "2       http://www.crunchbase.com/company/zoho          http://zoho.com   \n",
       "3       http://www.crunchbase.com/company/digg      http://www.digg.com   \n",
       "4   http://www.crunchbase.com/company/facebook      http://facebook.com   \n",
       "\n",
       "                      blog_url                      blog_feed_url  \\\n",
       "0  http://digitalquarters.net/   http://digitalquarters.net/feed/   \n",
       "1                                                                   \n",
       "2       http://blogs.zoho.com/         http://blogs.zoho.com/feed   \n",
       "3        http://blog.digg.com/    http://blog.digg.com/?feed=rss2   \n",
       "4     http://blog.facebook.com  http://blog.facebook.com/atom.php   \n",
       "\n",
       "  twitter_username category_code  number_of_employees  ...  \\\n",
       "0  BachelrWetpaint           web                 47.0  ...   \n",
       "1     manageengine    enterprise                600.0  ...   \n",
       "2             zoho      software               1600.0  ...   \n",
       "3             digg          news                 60.0  ...   \n",
       "4         facebook        social               5299.0  ...   \n",
       "\n",
       "                                             offices  \\\n",
       "0  [{'description': '', 'address1': '710 - 2nd Av...   \n",
       "1  [{'description': 'Headquarters', 'address1': '...   \n",
       "2  [{'description': 'Headquarters', 'address1': '...   \n",
       "3  [{'description': None, 'address1': '135 Missis...   \n",
       "4  [{'description': 'Headquarters', 'address1': '...   \n",
       "\n",
       "                                          milestones  \\\n",
       "0  [{'id': 5869, 'description': 'Wetpaint named i...   \n",
       "1                                                 []   \n",
       "2  [{'id': 388, 'description': 'Zoho Reaches 2 Mi...   \n",
       "3  [{'id': 9588, 'description': 'Another Digg Exe...   \n",
       "4  [{'id': 108, 'description': 'Facebook adds com...   \n",
       "\n",
       "                                        video_embeds  \\\n",
       "0                                                 []   \n",
       "1                                                 []   \n",
       "2  [{'embed_code': '<object width=\"430\" height=\"2...   \n",
       "3  [{'embed_code': '<embed src=\"http://blip.tv/pl...   \n",
       "4                                                 []   \n",
       "\n",
       "                                         screenshots  \\\n",
       "0  [{'available_sizes': [[[150, 86], 'assets/imag...   \n",
       "1  [{'available_sizes': [[[150, 94], 'assets/imag...   \n",
       "2                                                 []   \n",
       "3  [{'available_sizes': [[[117, 150], 'assets/ima...   \n",
       "4  [{'available_sizes': [[[150, 68], 'assets/imag...   \n",
       "\n",
       "                                      external_links partners  \\\n",
       "0  [{'external_url': 'http://www.geekwire.com/201...       []   \n",
       "1                                                 []       []   \n",
       "2  [{'external_url': 'http://www.online-tech-tips...       []   \n",
       "3  [{'external_url': 'http://www.sociableblog.com...       []   \n",
       "4  [{'external_url': 'http://latimesblogs.latimes...       []   \n",
       "\n",
       "  deadpooled_month deadpooled_day deadpooled_url  \\\n",
       "0              NaN            NaN            NaN   \n",
       "1              NaN            NaN            NaN   \n",
       "2              NaN            NaN            NaN   \n",
       "3              NaN            NaN           None   \n",
       "4              NaN            NaN                  \n",
       "\n",
       "                                                 ipo  \n",
       "0                                                NaN  \n",
       "1                                                NaN  \n",
       "2                                                NaN  \n",
       "3                                               None  \n",
       "4  {'valuation_amount': 104000000000, 'valuation_...  \n",
       "\n",
       "[5 rows x 42 columns]"
      ]
     },
     "execution_count": 3,
     "metadata": {},
     "output_type": "execute_result"
    }
   ],
   "source": [
    "cole = col.find({})\n",
    "data = pd.DataFrame(cole)\n",
    "data.head()"
   ]
  },
  {
   "cell_type": "code",
   "execution_count": 4,
   "metadata": {},
   "outputs": [
    {
     "name": "stdout",
     "output_type": "stream",
     "text": [
      "<class 'pandas.core.frame.DataFrame'>\n",
      "RangeIndex: 18801 entries, 0 to 18800\n",
      "Data columns (total 42 columns):\n",
      " #   Column               Non-Null Count  Dtype  \n",
      "---  ------               --------------  -----  \n",
      " 0   _id                  18801 non-null  object \n",
      " 1   name                 18801 non-null  object \n",
      " 2   permalink            18801 non-null  object \n",
      " 3   crunchbase_url       18801 non-null  object \n",
      " 4   homepage_url         16895 non-null  object \n",
      " 5   blog_url             16890 non-null  object \n",
      " 6   blog_feed_url        16757 non-null  object \n",
      " 7   twitter_username     11383 non-null  object \n",
      " 8   category_code        16050 non-null  object \n",
      " 9   number_of_employees  8889 non-null   float64\n",
      " 10  founded_year         13136 non-null  float64\n",
      " 11  founded_month        7898 non-null   float64\n",
      " 12  founded_day          5569 non-null   float64\n",
      " 13  deadpooled_year      929 non-null    float64\n",
      " 14  tag_list             14748 non-null  object \n",
      " 15  alias_list           8932 non-null   object \n",
      " 16  email_address        16793 non-null  object \n",
      " 17  phone_number         16778 non-null  object \n",
      " 18  description          12360 non-null  object \n",
      " 19  created_at           18801 non-null  object \n",
      " 20  updated_at           18801 non-null  object \n",
      " 21  overview             16820 non-null  object \n",
      " 22  image                16175 non-null  object \n",
      " 23  products             18801 non-null  object \n",
      " 24  relationships        18801 non-null  object \n",
      " 25  competitions         18801 non-null  object \n",
      " 26  providerships        18801 non-null  object \n",
      " 27  total_money_raised   18801 non-null  object \n",
      " 28  funding_rounds       18801 non-null  object \n",
      " 29  investments          18801 non-null  object \n",
      " 30  acquisition          2677 non-null   object \n",
      " 31  acquisitions         18801 non-null  object \n",
      " 32  offices              18801 non-null  object \n",
      " 33  milestones           18801 non-null  object \n",
      " 34  video_embeds         18801 non-null  object \n",
      " 35  screenshots          18801 non-null  object \n",
      " 36  external_links       18801 non-null  object \n",
      " 37  partners             18801 non-null  object \n",
      " 38  deadpooled_month     765 non-null    float64\n",
      " 39  deadpooled_day       648 non-null    float64\n",
      " 40  deadpooled_url       1079 non-null   object \n",
      " 41  ipo                  390 non-null    object \n",
      "dtypes: float64(7), object(35)\n",
      "memory usage: 6.0+ MB\n"
     ]
    }
   ],
   "source": [
    "data.info()"
   ]
  },
  {
   "cell_type": "markdown",
   "metadata": {},
   "source": [
    "# Step 1\n",
    "#### Define client type: as I mentioned in the README ,they want to be sorrounded with Small and Medium Business, they want to have a coffee shop nearby and they want to be in San Diego California"
   ]
  },
  {
   "cell_type": "markdown",
   "metadata": {},
   "source": [
    "# Step 2. \n",
    "#### Correctly query the data I want. "
   ]
  },
  {
   "cell_type": "code",
   "execution_count": 5,
   "metadata": {},
   "outputs": [
    {
     "data": {
      "text/html": [
       "<div>\n",
       "<style scoped>\n",
       "    .dataframe tbody tr th:only-of-type {\n",
       "        vertical-align: middle;\n",
       "    }\n",
       "\n",
       "    .dataframe tbody tr th {\n",
       "        vertical-align: top;\n",
       "    }\n",
       "\n",
       "    .dataframe thead th {\n",
       "        text-align: right;\n",
       "    }\n",
       "</style>\n",
       "<table border=\"1\" class=\"dataframe\">\n",
       "  <thead>\n",
       "    <tr style=\"text-align: right;\">\n",
       "      <th></th>\n",
       "      <th>name</th>\n",
       "      <th>category_code</th>\n",
       "      <th>number_of_employees</th>\n",
       "      <th>founded_year</th>\n",
       "      <th>deadpooled_year</th>\n",
       "      <th>total_money_raised</th>\n",
       "      <th>offices</th>\n",
       "    </tr>\n",
       "  </thead>\n",
       "  <tbody>\n",
       "    <tr>\n",
       "      <th>0</th>\n",
       "      <td>Digg</td>\n",
       "      <td>news</td>\n",
       "      <td>60.0</td>\n",
       "      <td>2004.0</td>\n",
       "      <td>None</td>\n",
       "      <td>$45M</td>\n",
       "      <td>[{'description': None, 'address1': '135 Missis...</td>\n",
       "    </tr>\n",
       "    <tr>\n",
       "      <th>1</th>\n",
       "      <td>Facebook</td>\n",
       "      <td>social</td>\n",
       "      <td>5299.0</td>\n",
       "      <td>2004.0</td>\n",
       "      <td>None</td>\n",
       "      <td>$2.43B</td>\n",
       "      <td>[{'description': 'Headquarters', 'address1': '...</td>\n",
       "    </tr>\n",
       "    <tr>\n",
       "      <th>2</th>\n",
       "      <td>Postini</td>\n",
       "      <td>web</td>\n",
       "      <td>NaN</td>\n",
       "      <td>1999.0</td>\n",
       "      <td>None</td>\n",
       "      <td>$0</td>\n",
       "      <td>[{'description': None, 'address1': '959 Skyway...</td>\n",
       "    </tr>\n",
       "    <tr>\n",
       "      <th>3</th>\n",
       "      <td>Geni</td>\n",
       "      <td>web</td>\n",
       "      <td>18.0</td>\n",
       "      <td>2006.0</td>\n",
       "      <td>None</td>\n",
       "      <td>$16.5M</td>\n",
       "      <td>[{'description': 'Headquarters', 'address1': '...</td>\n",
       "    </tr>\n",
       "    <tr>\n",
       "      <th>4</th>\n",
       "      <td>Flektor</td>\n",
       "      <td>games_video</td>\n",
       "      <td>NaN</td>\n",
       "      <td>NaN</td>\n",
       "      <td>None</td>\n",
       "      <td>$0</td>\n",
       "      <td>[{'description': None, 'address1': '8536 Natio...</td>\n",
       "    </tr>\n",
       "  </tbody>\n",
       "</table>\n",
       "</div>"
      ],
      "text/plain": [
       "       name category_code  number_of_employees  founded_year deadpooled_year  \\\n",
       "0      Digg          news                 60.0        2004.0            None   \n",
       "1  Facebook        social               5299.0        2004.0            None   \n",
       "2   Postini           web                  NaN        1999.0            None   \n",
       "3      Geni           web                 18.0        2006.0            None   \n",
       "4   Flektor   games_video                  NaN           NaN            None   \n",
       "\n",
       "  total_money_raised                                            offices  \n",
       "0               $45M  [{'description': None, 'address1': '135 Missis...  \n",
       "1             $2.43B  [{'description': 'Headquarters', 'address1': '...  \n",
       "2                 $0  [{'description': None, 'address1': '959 Skyway...  \n",
       "3             $16.5M  [{'description': 'Headquarters', 'address1': '...  \n",
       "4                 $0  [{'description': None, 'address1': '8536 Natio...  "
      ]
     },
     "execution_count": 5,
     "metadata": {},
     "output_type": "execute_result"
    }
   ],
   "source": [
    "#Selecting only the ones that have offices and do not have deadpool year\n",
    "cole = col.find({'offices': {'$not': {'$size':0}},\n",
    "                'deadpooled_year':{'$type':'null'}},\n",
    "                {'_id':0 ,'name':1,'category_code':1,'number_of_employees':1,\n",
    "                 'offices':1,'founded_year':1,'deadpooled_year':1,'total_money_raised':1})\n",
    "data = pd.DataFrame(cole)\n",
    "data.head()"
   ]
  },
  {
   "cell_type": "code",
   "execution_count": 6,
   "metadata": {},
   "outputs": [
    {
     "name": "stdout",
     "output_type": "stream",
     "text": [
      "<class 'pandas.core.frame.DataFrame'>\n",
      "RangeIndex: 12957 entries, 0 to 12956\n",
      "Data columns (total 7 columns):\n",
      " #   Column               Non-Null Count  Dtype  \n",
      "---  ------               --------------  -----  \n",
      " 0   name                 12957 non-null  object \n",
      " 1   category_code        12310 non-null  object \n",
      " 2   number_of_employees  7039 non-null   float64\n",
      " 3   founded_year         10630 non-null  float64\n",
      " 4   deadpooled_year      0 non-null      object \n",
      " 5   total_money_raised   12957 non-null  object \n",
      " 6   offices              12957 non-null  object \n",
      "dtypes: float64(2), object(5)\n",
      "memory usage: 708.7+ KB\n"
     ]
    }
   ],
   "source": [
    "data.info()"
   ]
  },
  {
   "cell_type": "code",
   "execution_count": 7,
   "metadata": {},
   "outputs": [
    {
     "data": {
      "text/plain": [
       "(12957, 7)"
      ]
     },
     "execution_count": 7,
     "metadata": {},
     "output_type": "execute_result"
    }
   ],
   "source": [
    "data.shape"
   ]
  },
  {
   "cell_type": "markdown",
   "metadata": {},
   "source": [
    "# Step 3\n",
    "#### Transforming data according to client needs"
   ]
  },
  {
   "cell_type": "code",
   "execution_count": 8,
   "metadata": {},
   "outputs": [
    {
     "name": "stderr",
     "output_type": "stream",
     "text": [
      "100%|██████████| 12957/12957 [02:05<00:00, 102.86it/s]\n"
     ]
    }
   ],
   "source": [
    "#Generate a list with dataframes with office information.\n",
    "#adding a column with name, total employees, category and number of offices\n",
    "\n",
    "lista_df=[] \n",
    "\n",
    "for i in tqdm(range(len(data.offices))):\n",
    "    df = pd.DataFrame(data.iloc[i].offices)\n",
    "    df['name'] = str(data.loc[i,['name'][0]])\n",
    "    df['total_employees'] = data.iloc[i].number_of_employees\n",
    "    df['category'] = str(data.loc[i,['category_code'][0]])\n",
    "    df['total_offices'] = len(data.iloc[i].offices)\n",
    "    lista_df.append(df)"
   ]
  },
  {
   "cell_type": "code",
   "execution_count": 9,
   "metadata": {},
   "outputs": [
    {
     "data": {
      "text/plain": [
       "12957"
      ]
     },
     "execution_count": 9,
     "metadata": {},
     "output_type": "execute_result"
    }
   ],
   "source": [
    "len(lista_df)"
   ]
  },
  {
   "cell_type": "code",
   "execution_count": 10,
   "metadata": {},
   "outputs": [
    {
     "data": {
      "text/html": [
       "<div>\n",
       "<style scoped>\n",
       "    .dataframe tbody tr th:only-of-type {\n",
       "        vertical-align: middle;\n",
       "    }\n",
       "\n",
       "    .dataframe tbody tr th {\n",
       "        vertical-align: top;\n",
       "    }\n",
       "\n",
       "    .dataframe thead th {\n",
       "        text-align: right;\n",
       "    }\n",
       "</style>\n",
       "<table border=\"1\" class=\"dataframe\">\n",
       "  <thead>\n",
       "    <tr style=\"text-align: right;\">\n",
       "      <th></th>\n",
       "      <th>description</th>\n",
       "      <th>address1</th>\n",
       "      <th>address2</th>\n",
       "      <th>zip_code</th>\n",
       "      <th>city</th>\n",
       "      <th>state_code</th>\n",
       "      <th>country_code</th>\n",
       "      <th>latitude</th>\n",
       "      <th>longitude</th>\n",
       "      <th>name</th>\n",
       "      <th>total_employees</th>\n",
       "      <th>category</th>\n",
       "      <th>total_offices</th>\n",
       "    </tr>\n",
       "  </thead>\n",
       "  <tbody>\n",
       "    <tr>\n",
       "      <th>0</th>\n",
       "      <td>None</td>\n",
       "      <td>135 Mississippi St</td>\n",
       "      <td></td>\n",
       "      <td>94107</td>\n",
       "      <td>San Francisco</td>\n",
       "      <td>CA</td>\n",
       "      <td>USA</td>\n",
       "      <td>37.7647</td>\n",
       "      <td>-122.395</td>\n",
       "      <td>Digg</td>\n",
       "      <td>60.0</td>\n",
       "      <td>news</td>\n",
       "      <td>1</td>\n",
       "    </tr>\n",
       "    <tr>\n",
       "      <th>1</th>\n",
       "      <td>Headquarters</td>\n",
       "      <td>1601 Willow Road</td>\n",
       "      <td></td>\n",
       "      <td>94025</td>\n",
       "      <td>Menlo Park</td>\n",
       "      <td>CA</td>\n",
       "      <td>USA</td>\n",
       "      <td>37.416</td>\n",
       "      <td>-122.152</td>\n",
       "      <td>Facebook</td>\n",
       "      <td>5299.0</td>\n",
       "      <td>social</td>\n",
       "      <td>3</td>\n",
       "    </tr>\n",
       "    <tr>\n",
       "      <th>2</th>\n",
       "      <td>Europe HQ</td>\n",
       "      <td></td>\n",
       "      <td></td>\n",
       "      <td></td>\n",
       "      <td>Dublin</td>\n",
       "      <td>None</td>\n",
       "      <td>IRL</td>\n",
       "      <td>53.3441</td>\n",
       "      <td>-6.26749</td>\n",
       "      <td>Facebook</td>\n",
       "      <td>5299.0</td>\n",
       "      <td>social</td>\n",
       "      <td>3</td>\n",
       "    </tr>\n",
       "    <tr>\n",
       "      <th>3</th>\n",
       "      <td>New York</td>\n",
       "      <td>340 Madison Ave</td>\n",
       "      <td></td>\n",
       "      <td>10017</td>\n",
       "      <td>New York</td>\n",
       "      <td>NY</td>\n",
       "      <td>USA</td>\n",
       "      <td>40.7557</td>\n",
       "      <td>-73.9792</td>\n",
       "      <td>Facebook</td>\n",
       "      <td>5299.0</td>\n",
       "      <td>social</td>\n",
       "      <td>3</td>\n",
       "    </tr>\n",
       "    <tr>\n",
       "      <th>4</th>\n",
       "      <td>None</td>\n",
       "      <td>959 Skyway Road, Suite 200</td>\n",
       "      <td>None</td>\n",
       "      <td>94070</td>\n",
       "      <td>San Carlos</td>\n",
       "      <td>CA</td>\n",
       "      <td>USA</td>\n",
       "      <td>37.5069</td>\n",
       "      <td>-122.248</td>\n",
       "      <td>Postini</td>\n",
       "      <td>NaN</td>\n",
       "      <td>web</td>\n",
       "      <td>1</td>\n",
       "    </tr>\n",
       "  </tbody>\n",
       "</table>\n",
       "</div>"
      ],
      "text/plain": [
       "    description                    address1 address2 zip_code           city  \\\n",
       "0          None          135 Mississippi St             94107  San Francisco   \n",
       "1  Headquarters            1601 Willow Road             94025     Menlo Park   \n",
       "2     Europe HQ                                                       Dublin   \n",
       "3      New York             340 Madison Ave             10017       New York   \n",
       "4          None  959 Skyway Road, Suite 200     None    94070     San Carlos   \n",
       "\n",
       "  state_code country_code latitude longitude      name  total_employees  \\\n",
       "0         CA          USA  37.7647  -122.395      Digg             60.0   \n",
       "1         CA          USA   37.416  -122.152  Facebook           5299.0   \n",
       "2       None          IRL  53.3441  -6.26749  Facebook           5299.0   \n",
       "3         NY          USA  40.7557  -73.9792  Facebook           5299.0   \n",
       "4         CA          USA  37.5069  -122.248   Postini              NaN   \n",
       "\n",
       "  category  total_offices  \n",
       "0     news              1  \n",
       "1   social              3  \n",
       "2   social              3  \n",
       "3   social              3  \n",
       "4      web              1  "
      ]
     },
     "execution_count": 10,
     "metadata": {},
     "output_type": "execute_result"
    }
   ],
   "source": [
    "final = pd.concat(lista_df).reset_index(drop=True)\n",
    "final.head()"
   ]
  },
  {
   "cell_type": "code",
   "execution_count": 11,
   "metadata": {},
   "outputs": [
    {
     "data": {
      "text/plain": [
       "(15848, 13)"
      ]
     },
     "execution_count": 11,
     "metadata": {},
     "output_type": "execute_result"
    }
   ],
   "source": [
    "final.shape"
   ]
  },
  {
   "cell_type": "code",
   "execution_count": 12,
   "metadata": {},
   "outputs": [
    {
     "data": {
      "text/plain": [
       "country_code\n",
       "USA    9652\n",
       "GBR    1327\n",
       "CAN     591\n",
       "IND     509\n",
       "DEU     392\n",
       "FRA     359\n",
       "AUS     263\n",
       "ESP     232\n",
       "ISR     213\n",
       "CHN     196\n",
       "Name: name, dtype: int64"
      ]
     },
     "execution_count": 12,
     "metadata": {},
     "output_type": "execute_result"
    }
   ],
   "source": [
    "final.groupby('country_code')['name'].count().sort_values(ascending=False).head(10)"
   ]
  },
  {
   "cell_type": "code",
   "execution_count": 13,
   "metadata": {},
   "outputs": [
    {
     "name": "stderr",
     "output_type": "stream",
     "text": [
      "100%|██████████| 15848/15848 [00:01<00:00, 8747.27it/s]\n"
     ]
    }
   ],
   "source": [
    "#genero una lista con los geopuntos en formato de diccionario\n",
    "lista_points = []\n",
    "for i in tqdm(range(len(final.longitude))):\n",
    "    \n",
    "    lista_points.append(dict({'type':'Point',\n",
    "                          'coordinates': [final.longitude[i],\n",
    "                                         final.latitude[i]]}))"
   ]
  },
  {
   "cell_type": "code",
   "execution_count": 14,
   "metadata": {},
   "outputs": [
    {
     "data": {
      "text/plain": [
       "15848"
      ]
     },
     "execution_count": 14,
     "metadata": {},
     "output_type": "execute_result"
    }
   ],
   "source": [
    "len(lista_points)"
   ]
  },
  {
   "cell_type": "code",
   "execution_count": 15,
   "metadata": {},
   "outputs": [],
   "source": [
    "#agrego los puntos al DataFrame \n",
    "final['principal'] = pd.Series(lista_points)"
   ]
  },
  {
   "cell_type": "code",
   "execution_count": 16,
   "metadata": {},
   "outputs": [
    {
     "data": {
      "text/plain": [
       "Index(['description', 'address1', 'address2', 'zip_code', 'city', 'state_code',\n",
       "       'country_code', 'latitude', 'longitude', 'name', 'total_employees',\n",
       "       'category', 'total_offices', 'principal'],\n",
       "      dtype='object')"
      ]
     },
     "execution_count": 16,
     "metadata": {},
     "output_type": "execute_result"
    }
   ],
   "source": [
    "final.columns"
   ]
  },
  {
   "cell_type": "code",
   "execution_count": 17,
   "metadata": {},
   "outputs": [
    {
     "data": {
      "text/plain": [
       "(15848, 14)"
      ]
     },
     "execution_count": 17,
     "metadata": {},
     "output_type": "execute_result"
    }
   ],
   "source": [
    "final.shape"
   ]
  },
  {
   "cell_type": "code",
   "execution_count": 18,
   "metadata": {},
   "outputs": [],
   "source": [
    "#reordeno el dataframe\n",
    "final = final[['name','total_employees','category','total_offices','description','address1',\n",
    "              'address2','zip_code','city','state_code','country_code','latitude','longitude','principal']]"
   ]
  },
  {
   "cell_type": "code",
   "execution_count": 19,
   "metadata": {},
   "outputs": [
    {
     "data": {
      "text/html": [
       "<div>\n",
       "<style scoped>\n",
       "    .dataframe tbody tr th:only-of-type {\n",
       "        vertical-align: middle;\n",
       "    }\n",
       "\n",
       "    .dataframe tbody tr th {\n",
       "        vertical-align: top;\n",
       "    }\n",
       "\n",
       "    .dataframe thead th {\n",
       "        text-align: right;\n",
       "    }\n",
       "</style>\n",
       "<table border=\"1\" class=\"dataframe\">\n",
       "  <thead>\n",
       "    <tr style=\"text-align: right;\">\n",
       "      <th></th>\n",
       "      <th>name</th>\n",
       "      <th>total_employees</th>\n",
       "      <th>category</th>\n",
       "      <th>total_offices</th>\n",
       "      <th>description</th>\n",
       "      <th>address1</th>\n",
       "      <th>address2</th>\n",
       "      <th>zip_code</th>\n",
       "      <th>city</th>\n",
       "      <th>state_code</th>\n",
       "      <th>country_code</th>\n",
       "      <th>latitude</th>\n",
       "      <th>longitude</th>\n",
       "      <th>principal</th>\n",
       "      <th>company_size</th>\n",
       "    </tr>\n",
       "  </thead>\n",
       "  <tbody>\n",
       "    <tr>\n",
       "      <th>0</th>\n",
       "      <td>Digg</td>\n",
       "      <td>60.0</td>\n",
       "      <td>news</td>\n",
       "      <td>1</td>\n",
       "      <td>None</td>\n",
       "      <td>135 Mississippi St</td>\n",
       "      <td></td>\n",
       "      <td>94107</td>\n",
       "      <td>San Francisco</td>\n",
       "      <td>CA</td>\n",
       "      <td>USA</td>\n",
       "      <td>37.7647</td>\n",
       "      <td>-122.395</td>\n",
       "      <td>{'type': 'Point', 'coordinates': [-122.394523,...</td>\n",
       "      <td>SMB</td>\n",
       "    </tr>\n",
       "    <tr>\n",
       "      <th>1</th>\n",
       "      <td>Facebook</td>\n",
       "      <td>5299.0</td>\n",
       "      <td>social</td>\n",
       "      <td>3</td>\n",
       "      <td>Headquarters</td>\n",
       "      <td>1601 Willow Road</td>\n",
       "      <td></td>\n",
       "      <td>94025</td>\n",
       "      <td>Menlo Park</td>\n",
       "      <td>CA</td>\n",
       "      <td>USA</td>\n",
       "      <td>37.416</td>\n",
       "      <td>-122.152</td>\n",
       "      <td>{'type': 'Point', 'coordinates': [-122.151801,...</td>\n",
       "      <td>JUMBO</td>\n",
       "    </tr>\n",
       "    <tr>\n",
       "      <th>2</th>\n",
       "      <td>Facebook</td>\n",
       "      <td>5299.0</td>\n",
       "      <td>social</td>\n",
       "      <td>3</td>\n",
       "      <td>Europe HQ</td>\n",
       "      <td></td>\n",
       "      <td></td>\n",
       "      <td></td>\n",
       "      <td>Dublin</td>\n",
       "      <td>None</td>\n",
       "      <td>IRL</td>\n",
       "      <td>53.3441</td>\n",
       "      <td>-6.26749</td>\n",
       "      <td>{'type': 'Point', 'coordinates': [-6.267494, 5...</td>\n",
       "      <td>JUMBO</td>\n",
       "    </tr>\n",
       "    <tr>\n",
       "      <th>3</th>\n",
       "      <td>Facebook</td>\n",
       "      <td>5299.0</td>\n",
       "      <td>social</td>\n",
       "      <td>3</td>\n",
       "      <td>New York</td>\n",
       "      <td>340 Madison Ave</td>\n",
       "      <td></td>\n",
       "      <td>10017</td>\n",
       "      <td>New York</td>\n",
       "      <td>NY</td>\n",
       "      <td>USA</td>\n",
       "      <td>40.7557</td>\n",
       "      <td>-73.9792</td>\n",
       "      <td>{'type': 'Point', 'coordinates': [-73.9792469,...</td>\n",
       "      <td>JUMBO</td>\n",
       "    </tr>\n",
       "    <tr>\n",
       "      <th>4</th>\n",
       "      <td>Postini</td>\n",
       "      <td>NaN</td>\n",
       "      <td>web</td>\n",
       "      <td>1</td>\n",
       "      <td>None</td>\n",
       "      <td>959 Skyway Road, Suite 200</td>\n",
       "      <td>None</td>\n",
       "      <td>94070</td>\n",
       "      <td>San Carlos</td>\n",
       "      <td>CA</td>\n",
       "      <td>USA</td>\n",
       "      <td>37.5069</td>\n",
       "      <td>-122.248</td>\n",
       "      <td>{'type': 'Point', 'coordinates': [-122.247573,...</td>\n",
       "      <td>SMB</td>\n",
       "    </tr>\n",
       "  </tbody>\n",
       "</table>\n",
       "</div>"
      ],
      "text/plain": [
       "       name  total_employees category  total_offices   description  \\\n",
       "0      Digg             60.0     news              1          None   \n",
       "1  Facebook           5299.0   social              3  Headquarters   \n",
       "2  Facebook           5299.0   social              3     Europe HQ   \n",
       "3  Facebook           5299.0   social              3      New York   \n",
       "4   Postini              NaN      web              1          None   \n",
       "\n",
       "                     address1 address2 zip_code           city state_code  \\\n",
       "0          135 Mississippi St             94107  San Francisco         CA   \n",
       "1            1601 Willow Road             94025     Menlo Park         CA   \n",
       "2                                                       Dublin       None   \n",
       "3             340 Madison Ave             10017       New York         NY   \n",
       "4  959 Skyway Road, Suite 200     None    94070     San Carlos         CA   \n",
       "\n",
       "  country_code latitude longitude  \\\n",
       "0          USA  37.7647  -122.395   \n",
       "1          USA   37.416  -122.152   \n",
       "2          IRL  53.3441  -6.26749   \n",
       "3          USA  40.7557  -73.9792   \n",
       "4          USA  37.5069  -122.248   \n",
       "\n",
       "                                           principal company_size  \n",
       "0  {'type': 'Point', 'coordinates': [-122.394523,...          SMB  \n",
       "1  {'type': 'Point', 'coordinates': [-122.151801,...        JUMBO  \n",
       "2  {'type': 'Point', 'coordinates': [-6.267494, 5...        JUMBO  \n",
       "3  {'type': 'Point', 'coordinates': [-73.9792469,...        JUMBO  \n",
       "4  {'type': 'Point', 'coordinates': [-122.247573,...          SMB  "
      ]
     },
     "execution_count": 19,
     "metadata": {},
     "output_type": "execute_result"
    }
   ],
   "source": [
    "#agrego columna JUMBO o SMB dependiendo de la cantidad de empleados\n",
    "final['company_size'] = np.where(final.total_employees>1000,'JUMBO','SMB')\n",
    "\n",
    "final.head()"
   ]
  },
  {
   "cell_type": "code",
   "execution_count": 20,
   "metadata": {},
   "outputs": [
    {
     "data": {
      "text/html": [
       "<div>\n",
       "<style scoped>\n",
       "    .dataframe tbody tr th:only-of-type {\n",
       "        vertical-align: middle;\n",
       "    }\n",
       "\n",
       "    .dataframe tbody tr th {\n",
       "        vertical-align: top;\n",
       "    }\n",
       "\n",
       "    .dataframe thead th {\n",
       "        text-align: right;\n",
       "    }\n",
       "</style>\n",
       "<table border=\"1\" class=\"dataframe\">\n",
       "  <thead>\n",
       "    <tr style=\"text-align: right;\">\n",
       "      <th></th>\n",
       "      <th>name</th>\n",
       "      <th>total_employees</th>\n",
       "      <th>category</th>\n",
       "      <th>total_offices</th>\n",
       "      <th>description</th>\n",
       "      <th>address1</th>\n",
       "      <th>address2</th>\n",
       "      <th>zip_code</th>\n",
       "      <th>city</th>\n",
       "      <th>state_code</th>\n",
       "      <th>country_code</th>\n",
       "      <th>latitude</th>\n",
       "      <th>longitude</th>\n",
       "      <th>principal</th>\n",
       "      <th>company_size</th>\n",
       "    </tr>\n",
       "  </thead>\n",
       "  <tbody>\n",
       "    <tr>\n",
       "      <th>0</th>\n",
       "      <td>Digg</td>\n",
       "      <td>60.0</td>\n",
       "      <td>news</td>\n",
       "      <td>1</td>\n",
       "      <td>None</td>\n",
       "      <td>135 Mississippi St</td>\n",
       "      <td></td>\n",
       "      <td>94107</td>\n",
       "      <td>San Francisco</td>\n",
       "      <td>CA</td>\n",
       "      <td>USA</td>\n",
       "      <td>37.7647</td>\n",
       "      <td>-122.395</td>\n",
       "      <td>{'type': 'Point', 'coordinates': [-122.394523,...</td>\n",
       "      <td>SMB</td>\n",
       "    </tr>\n",
       "    <tr>\n",
       "      <th>4</th>\n",
       "      <td>Postini</td>\n",
       "      <td>NaN</td>\n",
       "      <td>web</td>\n",
       "      <td>1</td>\n",
       "      <td>None</td>\n",
       "      <td>959 Skyway Road, Suite 200</td>\n",
       "      <td>None</td>\n",
       "      <td>94070</td>\n",
       "      <td>San Carlos</td>\n",
       "      <td>CA</td>\n",
       "      <td>USA</td>\n",
       "      <td>37.5069</td>\n",
       "      <td>-122.248</td>\n",
       "      <td>{'type': 'Point', 'coordinates': [-122.247573,...</td>\n",
       "      <td>SMB</td>\n",
       "    </tr>\n",
       "    <tr>\n",
       "      <th>5</th>\n",
       "      <td>Geni</td>\n",
       "      <td>18.0</td>\n",
       "      <td>web</td>\n",
       "      <td>1</td>\n",
       "      <td>Headquarters</td>\n",
       "      <td>9229 W. Sunset Blvd.</td>\n",
       "      <td></td>\n",
       "      <td>90069</td>\n",
       "      <td>West Hollywood</td>\n",
       "      <td>CA</td>\n",
       "      <td>USA</td>\n",
       "      <td>34.0904</td>\n",
       "      <td>-118.393</td>\n",
       "      <td>{'type': 'Point', 'coordinates': [-118.393064,...</td>\n",
       "      <td>SMB</td>\n",
       "    </tr>\n",
       "    <tr>\n",
       "      <th>6</th>\n",
       "      <td>Flektor</td>\n",
       "      <td>NaN</td>\n",
       "      <td>games_video</td>\n",
       "      <td>1</td>\n",
       "      <td>None</td>\n",
       "      <td>8536 National Blvd, Suite A</td>\n",
       "      <td>None</td>\n",
       "      <td>90232</td>\n",
       "      <td>Culver City</td>\n",
       "      <td>CA</td>\n",
       "      <td>USA</td>\n",
       "      <td>34.026</td>\n",
       "      <td>-118.38</td>\n",
       "      <td>{'type': 'Point', 'coordinates': [-118.379768,...</td>\n",
       "      <td>SMB</td>\n",
       "    </tr>\n",
       "    <tr>\n",
       "      <th>7</th>\n",
       "      <td>Fox Interactive Media</td>\n",
       "      <td>0.0</td>\n",
       "      <td>web</td>\n",
       "      <td>1</td>\n",
       "      <td></td>\n",
       "      <td>407 N Maple Dr</td>\n",
       "      <td></td>\n",
       "      <td>90210</td>\n",
       "      <td>Beverly Hills</td>\n",
       "      <td>CA</td>\n",
       "      <td>USA</td>\n",
       "      <td>34.0762</td>\n",
       "      <td>-118.394</td>\n",
       "      <td>{'type': 'Point', 'coordinates': [-118.39417, ...</td>\n",
       "      <td>SMB</td>\n",
       "    </tr>\n",
       "  </tbody>\n",
       "</table>\n",
       "</div>"
      ],
      "text/plain": [
       "                    name  total_employees     category  total_offices  \\\n",
       "0                   Digg             60.0         news              1   \n",
       "4                Postini              NaN          web              1   \n",
       "5                   Geni             18.0          web              1   \n",
       "6                Flektor              NaN  games_video              1   \n",
       "7  Fox Interactive Media              0.0          web              1   \n",
       "\n",
       "    description                     address1 address2 zip_code  \\\n",
       "0          None           135 Mississippi St             94107   \n",
       "4          None   959 Skyway Road, Suite 200     None    94070   \n",
       "5  Headquarters         9229 W. Sunset Blvd.             90069   \n",
       "6          None  8536 National Blvd, Suite A     None    90232   \n",
       "7                             407 N Maple Dr             90210   \n",
       "\n",
       "             city state_code country_code latitude longitude  \\\n",
       "0   San Francisco         CA          USA  37.7647  -122.395   \n",
       "4      San Carlos         CA          USA  37.5069  -122.248   \n",
       "5  West Hollywood         CA          USA  34.0904  -118.393   \n",
       "6     Culver City         CA          USA   34.026   -118.38   \n",
       "7   Beverly Hills         CA          USA  34.0762  -118.394   \n",
       "\n",
       "                                           principal company_size  \n",
       "0  {'type': 'Point', 'coordinates': [-122.394523,...          SMB  \n",
       "4  {'type': 'Point', 'coordinates': [-122.247573,...          SMB  \n",
       "5  {'type': 'Point', 'coordinates': [-118.393064,...          SMB  \n",
       "6  {'type': 'Point', 'coordinates': [-118.379768,...          SMB  \n",
       "7  {'type': 'Point', 'coordinates': [-118.39417, ...          SMB  "
      ]
     },
     "execution_count": 20,
     "metadata": {},
     "output_type": "execute_result"
    }
   ],
   "source": [
    "#elimino a las empresas JUMBO\n",
    "final = final[final.company_size == 'SMB']\n",
    "final.head()\n"
   ]
  },
  {
   "cell_type": "code",
   "execution_count": 21,
   "metadata": {},
   "outputs": [
    {
     "data": {
      "text/plain": [
       "(15383, 15)"
      ]
     },
     "execution_count": 21,
     "metadata": {},
     "output_type": "execute_result"
    }
   ],
   "source": [
    "final.shape"
   ]
  },
  {
   "cell_type": "code",
   "execution_count": 22,
   "metadata": {},
   "outputs": [],
   "source": [
    "final.dropna(subset=['latitude','longitude'],inplace=True) "
   ]
  },
  {
   "cell_type": "code",
   "execution_count": 23,
   "metadata": {},
   "outputs": [
    {
     "data": {
      "text/plain": [
       "(9919, 15)"
      ]
     },
     "execution_count": 23,
     "metadata": {},
     "output_type": "execute_result"
    }
   ],
   "source": [
    "final.shape"
   ]
  },
  {
   "cell_type": "markdown",
   "metadata": {},
   "source": [
    "# Step 4\n",
    "#### Create a new collection with the final DataFrame in MongoCompass so we can add a 2dsphere index. "
   ]
  },
  {
   "cell_type": "code",
   "execution_count": 33,
   "metadata": {},
   "outputs": [
    {
     "data": {
      "text/plain": [
       "<pymongo.results.InsertManyResult at 0x124059240>"
      ]
     },
     "execution_count": 33,
     "metadata": {},
     "output_type": "execute_result"
    }
   ],
   "source": [
    "#inserto en compass el data frame resultante en una nueva coleccion\n",
    "db.project.insert_many(final.to_dict('records')) "
   ]
  },
  {
   "cell_type": "code",
   "execution_count": 34,
   "metadata": {},
   "outputs": [
    {
     "data": {
      "text/plain": [
       "'principal_2dsphere'"
      ]
     },
     "execution_count": 34,
     "metadata": {},
     "output_type": "execute_result"
    }
   ],
   "source": [
    "#creo el índice 2dsphere para poder hacer geoqueries\n",
    "db.project.create_index([('principal', '2dsphere')])"
   ]
  },
  {
   "cell_type": "markdown",
   "metadata": {},
   "source": [
    "# Step 5\n",
    "\n",
    "#### Make geoqueries of the new collection with client conditions"
   ]
  },
  {
   "cell_type": "code",
   "execution_count": 26,
   "metadata": {},
   "outputs": [],
   "source": [
    "cole = db.project"
   ]
  },
  {
   "cell_type": "code",
   "execution_count": 27,
   "metadata": {},
   "outputs": [],
   "source": [
    "#funcion que me permite encontrar puntos cercanos con radio por default de 1000 metros\n",
    "def find_near(geopoint, radio=10000):\n",
    "    \n",
    "    return cole.find({'principal':{\n",
    "        '$near': {'$geometry': geopoint, '$maxDistance':radio}\n",
    "    }})"
   ]
  },
  {
   "cell_type": "code",
   "execution_count": 28,
   "metadata": {},
   "outputs": [],
   "source": [
    "#inicializo la conexión con geocoder\n",
    "key = 'd8314354b31d46a298e0f21ffb920a34'\n",
    "geocoder = OpenCageGeocode(key)"
   ]
  },
  {
   "cell_type": "code",
   "execution_count": 29,
   "metadata": {},
   "outputs": [],
   "source": [
    "#función que permite al usuario elegir una dirección y en base a la misma devuelve los datos necesarios para hacer la geoquery\n",
    "def getting_coor():\n",
    "    try:\n",
    "        x = input('Where would you like your office? ')\n",
    "        m = input('Whats the max distance you would like to evaluate: ')\n",
    "        results = geocoder.geocode(x)\n",
    "        fcoordinates=[]\n",
    "        coordinates=[]\n",
    "        coordinates.append(results[0]['geometry']['lng'])\n",
    "        coordinates.append(results[0]['geometry']['lat']) \n",
    "        bandera = results[0]['annotations']['flag']\n",
    "        country = results[0]['components']['country']\n",
    "        city=results[0]['components']['city']\n",
    "        localidad = country+', '+city\n",
    "        fcoordinates.append(coordinates)\n",
    "        fcoordinates.append(m)\n",
    "        fcoordinates.append(localidad)\n",
    "        fcoordinates.append(x)\n",
    "        fcoordinates.append(bandera)\n",
    "        return fcoordinates\n",
    "    except:\n",
    "        return 'Not a valid address'"
   ]
  },
  {
   "cell_type": "code",
   "execution_count": 36,
   "metadata": {},
   "outputs": [
    {
     "name": "stdout",
     "output_type": "stream",
     "text": [
      "Where would you like your office? San Diego California\n",
      "Whats the max distance you would like to evaluate: 2500\n",
      "Amount of offices near San Diego California are: 24\n"
     ]
    },
    {
     "data": {
      "text/html": [
       "<div style=\"width:100%;\"><div style=\"position:relative;width:100%;height:0;padding-bottom:60%;\"><iframe src=\"about:blank\" style=\"position:absolute;width:100%;height:100%;left:0;top:0;border:none !important;\" data-html=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 onload=\"this.contentDocument.open();this.contentDocument.write(atob(this.getAttribute('data-html')));this.contentDocument.close();\" allowfullscreen webkitallowfullscreen mozallowfullscreen></iframe></div></div>"
      ],
      "text/plain": [
       "<folium.folium.Map at 0x113948100>"
      ]
     },
     "execution_count": 36,
     "metadata": {},
     "output_type": "execute_result"
    }
   ],
   "source": [
    "#este podría ser el código principal que solicita el input del usuario y devuelve el mapa\n",
    "\n",
    "coordenadas = getting_coor() #acá inicializa la funcion creada arriba\n",
    "longlat = coordenadas[0]\n",
    "latlong = longlat[::-1]\n",
    "radio = int(coordenadas[1])\n",
    "pais = coordenadas[4]\n",
    "localidad = coordenadas[2]\n",
    "direccion_solicitud = coordenadas[3]\n",
    "\n",
    "address={'type': 'Point', 'coordinates':longlat}  # geopoint\n",
    "\n",
    "ratio=radio  # radio de busqueda\n",
    "\n",
    "n_ofi=find_near(address, ratio).count()\n",
    "ofi = find_near(address, ratio)\n",
    "ofi=pd.DataFrame(ofi)\n",
    "\n",
    "#creating map object\n",
    "tooltip = 'Location you chose: {} \\n {}'.format(direccion_solicitud,localidad)\n",
    "mapa=folium.Map(latlong, zoom_start=12, width='100%', height='100%')\n",
    "datamapa=ofi[['latitude', 'longitude']].values\n",
    "mapa.add_child(plugins.HeatMap(datamapa, radius=15))\n",
    "folium.Marker(latlong, tooltip=tooltip, icon=folium.Icon()).add_to(mapa)\n",
    "mapa.save('MapaFinal.html')\n",
    "print('Amount of offices near {} are: {}'.format(direccion_solicitud,n_ofi))\n",
    "mapa\n"
   ]
  },
  {
   "cell_type": "markdown",
   "metadata": {},
   "source": [
    "# Step 6\n",
    "#### Get more information about restaurants in the area and display them with the heatmap mentioned above and marking where the restaurants of coffee shops are. "
   ]
  },
  {
   "cell_type": "markdown",
   "metadata": {},
   "source": [
    "#### Found a DB in Kaggle with California restaurants. I proceed to explore and clean data"
   ]
  },
  {
   "cell_type": "code",
   "execution_count": 37,
   "metadata": {},
   "outputs": [],
   "source": [
    "#https://www.kaggle.com/vaibhavsxn/restaurants-in-california\n",
    "\n",
    "with open('rest_data_ca.pkl', 'rb') as rest:\n",
    "    data = pickle.load(rest)\n",
    "    \n",
    "dfrest = pd.DataFrame(data)\n"
   ]
  },
  {
   "cell_type": "code",
   "execution_count": 38,
   "metadata": {},
   "outputs": [
    {
     "name": "stdout",
     "output_type": "stream",
     "text": [
      "<class 'pandas.core.frame.DataFrame'>\n",
      "Int64Index: 52477 entries, 0 to 56157\n",
      "Data columns (total 6 columns):\n",
      " #   Column      Non-Null Count  Dtype \n",
      "---  ------      --------------  ----- \n",
      " 0   Cuisine     52477 non-null  object\n",
      " 1   address     52477 non-null  object\n",
      " 2   name        52477 non-null  object\n",
      " 3   postalCode  52477 non-null  object\n",
      " 4   Tag         52477 non-null  object\n",
      " 5   ratings     52477 non-null  int64 \n",
      "dtypes: int64(1), object(5)\n",
      "memory usage: 2.8+ MB\n"
     ]
    }
   ],
   "source": [
    "dfrest.info()"
   ]
  },
  {
   "cell_type": "code",
   "execution_count": 39,
   "metadata": {},
   "outputs": [
    {
     "data": {
      "text/plain": [
       "All          47851\n",
       "Mexican       4530\n",
       "Fast Food       64\n",
       "Veg             32\n",
       "Name: Cuisine, dtype: int64"
      ]
     },
     "execution_count": 39,
     "metadata": {},
     "output_type": "execute_result"
    }
   ],
   "source": [
    "dfrest.Cuisine.value_counts()"
   ]
  },
  {
   "cell_type": "code",
   "execution_count": 40,
   "metadata": {},
   "outputs": [
    {
     "data": {
      "text/plain": [
       "Food    52477\n",
       "Name: Tag, dtype: int64"
      ]
     },
     "execution_count": 40,
     "metadata": {},
     "output_type": "execute_result"
    }
   ],
   "source": [
    "dfrest.Tag.value_counts()"
   ]
  },
  {
   "cell_type": "code",
   "execution_count": 41,
   "metadata": {},
   "outputs": [
    {
     "data": {
      "text/plain": [
       "4    26428\n",
       "3    26049\n",
       "Name: ratings, dtype: int64"
      ]
     },
     "execution_count": 41,
     "metadata": {},
     "output_type": "execute_result"
    }
   ],
   "source": [
    "dfrest.ratings.value_counts()"
   ]
  },
  {
   "cell_type": "code",
   "execution_count": 42,
   "metadata": {},
   "outputs": [
    {
     "data": {
      "text/html": [
       "<div>\n",
       "<style scoped>\n",
       "    .dataframe tbody tr th:only-of-type {\n",
       "        vertical-align: middle;\n",
       "    }\n",
       "\n",
       "    .dataframe tbody tr th {\n",
       "        vertical-align: top;\n",
       "    }\n",
       "\n",
       "    .dataframe thead th {\n",
       "        text-align: right;\n",
       "    }\n",
       "</style>\n",
       "<table border=\"1\" class=\"dataframe\">\n",
       "  <thead>\n",
       "    <tr style=\"text-align: right;\">\n",
       "      <th></th>\n",
       "      <th>Cuisine</th>\n",
       "      <th>address</th>\n",
       "      <th>name</th>\n",
       "      <th>postalCode</th>\n",
       "      <th>Tag</th>\n",
       "      <th>ratings</th>\n",
       "    </tr>\n",
       "  </thead>\n",
       "  <tbody>\n",
       "    <tr>\n",
       "      <th>0</th>\n",
       "      <td>Fast Food</td>\n",
       "      <td>925 Blossom Hill Road Oakridge Mall</td>\n",
       "      <td>Buca Di Beppo - San Jose - Oakridge</td>\n",
       "      <td>95123</td>\n",
       "      <td>Food</td>\n",
       "      <td>4</td>\n",
       "    </tr>\n",
       "    <tr>\n",
       "      <th>1</th>\n",
       "      <td>Fast Food</td>\n",
       "      <td>555 Soquel Ave</td>\n",
       "      <td>Ristorante Italiano</td>\n",
       "      <td>95062</td>\n",
       "      <td>Food</td>\n",
       "      <td>4</td>\n",
       "    </tr>\n",
       "    <tr>\n",
       "      <th>2</th>\n",
       "      <td>Fast Food</td>\n",
       "      <td>9822 Libra Ave</td>\n",
       "      <td>Milanos Pizza</td>\n",
       "      <td>95827</td>\n",
       "      <td>Food</td>\n",
       "      <td>4</td>\n",
       "    </tr>\n",
       "    <tr>\n",
       "      <th>3</th>\n",
       "      <td>Fast Food</td>\n",
       "      <td>1640 Camino Del Rio N</td>\n",
       "      <td>Tilted Kilt Mission Valley</td>\n",
       "      <td>92108</td>\n",
       "      <td>Food</td>\n",
       "      <td>4</td>\n",
       "    </tr>\n",
       "    <tr>\n",
       "      <th>4</th>\n",
       "      <td>Fast Food</td>\n",
       "      <td>1231 Park St</td>\n",
       "      <td>The Fire Den</td>\n",
       "      <td>94501</td>\n",
       "      <td>Food</td>\n",
       "      <td>4</td>\n",
       "    </tr>\n",
       "    <tr>\n",
       "      <th>...</th>\n",
       "      <td>...</td>\n",
       "      <td>...</td>\n",
       "      <td>...</td>\n",
       "      <td>...</td>\n",
       "      <td>...</td>\n",
       "      <td>...</td>\n",
       "    </tr>\n",
       "    <tr>\n",
       "      <th>26423</th>\n",
       "      <td>All</td>\n",
       "      <td>6719 LA TIJERA BLVD # A-B</td>\n",
       "      <td>CHIPOTLE #3094</td>\n",
       "      <td>90045</td>\n",
       "      <td>Food</td>\n",
       "      <td>4</td>\n",
       "    </tr>\n",
       "    <tr>\n",
       "      <th>26424</th>\n",
       "      <td>All</td>\n",
       "      <td>100 1/2 7TH ST</td>\n",
       "      <td>BRAAZO PIZZA</td>\n",
       "      <td>90014</td>\n",
       "      <td>Food</td>\n",
       "      <td>4</td>\n",
       "    </tr>\n",
       "    <tr>\n",
       "      <th>26425</th>\n",
       "      <td>All</td>\n",
       "      <td>1244 WESTWOOD BLVD</td>\n",
       "      <td>POKE'ME</td>\n",
       "      <td>90024</td>\n",
       "      <td>Food</td>\n",
       "      <td>4</td>\n",
       "    </tr>\n",
       "    <tr>\n",
       "      <th>26426</th>\n",
       "      <td>All</td>\n",
       "      <td>217 W TEMPLE AVE</td>\n",
       "      <td>HALL OF JUSTICE</td>\n",
       "      <td>90012</td>\n",
       "      <td>Food</td>\n",
       "      <td>4</td>\n",
       "    </tr>\n",
       "    <tr>\n",
       "      <th>26427</th>\n",
       "      <td>All</td>\n",
       "      <td>6741 HOLLYWOOD BLVD</td>\n",
       "      <td>JUICY WINGZ</td>\n",
       "      <td>90028</td>\n",
       "      <td>Food</td>\n",
       "      <td>4</td>\n",
       "    </tr>\n",
       "  </tbody>\n",
       "</table>\n",
       "<p>26428 rows × 6 columns</p>\n",
       "</div>"
      ],
      "text/plain": [
       "         Cuisine                              address  \\\n",
       "0      Fast Food  925 Blossom Hill Road Oakridge Mall   \n",
       "1      Fast Food                       555 Soquel Ave   \n",
       "2      Fast Food                       9822 Libra Ave   \n",
       "3      Fast Food                1640 Camino Del Rio N   \n",
       "4      Fast Food                         1231 Park St   \n",
       "...          ...                                  ...   \n",
       "26423        All            6719 LA TIJERA BLVD # A-B   \n",
       "26424        All                       100 1/2 7TH ST   \n",
       "26425        All                   1244 WESTWOOD BLVD   \n",
       "26426        All                     217 W TEMPLE AVE   \n",
       "26427        All                  6741 HOLLYWOOD BLVD   \n",
       "\n",
       "                                      name postalCode   Tag  ratings  \n",
       "0      Buca Di Beppo - San Jose - Oakridge      95123  Food        4  \n",
       "1                      Ristorante Italiano      95062  Food        4  \n",
       "2                            Milanos Pizza      95827  Food        4  \n",
       "3               Tilted Kilt Mission Valley      92108  Food        4  \n",
       "4                             The Fire Den      94501  Food        4  \n",
       "...                                    ...        ...   ...      ...  \n",
       "26423                       CHIPOTLE #3094      90045  Food        4  \n",
       "26424                         BRAAZO PIZZA      90014  Food        4  \n",
       "26425                              POKE'ME      90024  Food        4  \n",
       "26426                      HALL OF JUSTICE      90012  Food        4  \n",
       "26427                          JUICY WINGZ      90028  Food        4  \n",
       "\n",
       "[26428 rows x 6 columns]"
      ]
     },
     "execution_count": 42,
     "metadata": {},
     "output_type": "execute_result"
    }
   ],
   "source": [
    "#removing restaurants with low ratings\n",
    "dfrest = dfrest[dfrest.ratings>=4]\n",
    "dfrest.reset_index(drop = True, inplace = True)\n",
    "dfrest"
   ]
  },
  {
   "cell_type": "code",
   "execution_count": 43,
   "metadata": {},
   "outputs": [],
   "source": [
    "# Using REGEX so I can categorize the restaurant type\n",
    "\n",
    "def typerest(x):\n",
    "    if re.search(r'pizza',x.lower()) or re.search(r'pasta',x.lower()) or re.search(r'italia',x.lower()):\n",
    "        x='Italian'\n",
    "    elif re.search(r'burger',x.lower()):\n",
    "        x='Burger'\n",
    "    elif re.search(r'coffee',x.lower()):\n",
    "        x='CoffeeShop'\n",
    "    elif re.search(r'coffee',x.lower()):\n",
    "        x='CoffeeShop'\n",
    "    elif re.search(r'pie',x.lower()) or  re.search(r'cake',x.lower()) or re.search(r'dess?ert',x.lower()):\n",
    "        x='Dessert'\n",
    "    elif re.search(r'mex',x.lower()) or  re.search(r'taco',x.lower()):\n",
    "        x='Mexican'\n",
    "    elif re.search(r'sushi',x.lower()) or  re.search(r'poke',x.lower()) or re.search(r'dumpling',x.lower())\\\n",
    "        or re.search(r'asia',x.lower()) or re.search(r'china?e?',x.lower()) or re.search(r'japan',x.lower())\\\n",
    "        or re.search(r'korea',x.lower()):\n",
    "        x='Asian'\n",
    "    else:\n",
    "        x='other'\n",
    "        \n",
    "    return x  "
   ]
  },
  {
   "cell_type": "code",
   "execution_count": 44,
   "metadata": {},
   "outputs": [
    {
     "name": "stderr",
     "output_type": "stream",
     "text": [
      "100%|██████████| 26428/26428 [00:00<00:00, 27249.91it/s]\n"
     ]
    }
   ],
   "source": [
    "#applying the above function to the data frame using TQDM\n",
    "tqdm.pandas()\n",
    "dfrest['type'] = dfrest['name'].progress_apply(typerest)"
   ]
  },
  {
   "cell_type": "code",
   "execution_count": 45,
   "metadata": {},
   "outputs": [
    {
     "data": {
      "text/html": [
       "<div>\n",
       "<style scoped>\n",
       "    .dataframe tbody tr th:only-of-type {\n",
       "        vertical-align: middle;\n",
       "    }\n",
       "\n",
       "    .dataframe tbody tr th {\n",
       "        vertical-align: top;\n",
       "    }\n",
       "\n",
       "    .dataframe thead th {\n",
       "        text-align: right;\n",
       "    }\n",
       "</style>\n",
       "<table border=\"1\" class=\"dataframe\">\n",
       "  <thead>\n",
       "    <tr style=\"text-align: right;\">\n",
       "      <th></th>\n",
       "      <th>Cuisine</th>\n",
       "      <th>address</th>\n",
       "      <th>name</th>\n",
       "      <th>postalCode</th>\n",
       "      <th>Tag</th>\n",
       "      <th>ratings</th>\n",
       "      <th>type</th>\n",
       "    </tr>\n",
       "  </thead>\n",
       "  <tbody>\n",
       "    <tr>\n",
       "      <th>0</th>\n",
       "      <td>Fast Food</td>\n",
       "      <td>925 Blossom Hill Road Oakridge Mall</td>\n",
       "      <td>Buca Di Beppo - San Jose - Oakridge</td>\n",
       "      <td>95123</td>\n",
       "      <td>Food</td>\n",
       "      <td>4</td>\n",
       "      <td>other</td>\n",
       "    </tr>\n",
       "    <tr>\n",
       "      <th>1</th>\n",
       "      <td>Fast Food</td>\n",
       "      <td>555 Soquel Ave</td>\n",
       "      <td>Ristorante Italiano</td>\n",
       "      <td>95062</td>\n",
       "      <td>Food</td>\n",
       "      <td>4</td>\n",
       "      <td>Italian</td>\n",
       "    </tr>\n",
       "    <tr>\n",
       "      <th>2</th>\n",
       "      <td>Fast Food</td>\n",
       "      <td>9822 Libra Ave</td>\n",
       "      <td>Milanos Pizza</td>\n",
       "      <td>95827</td>\n",
       "      <td>Food</td>\n",
       "      <td>4</td>\n",
       "      <td>Italian</td>\n",
       "    </tr>\n",
       "    <tr>\n",
       "      <th>3</th>\n",
       "      <td>Fast Food</td>\n",
       "      <td>1640 Camino Del Rio N</td>\n",
       "      <td>Tilted Kilt Mission Valley</td>\n",
       "      <td>92108</td>\n",
       "      <td>Food</td>\n",
       "      <td>4</td>\n",
       "      <td>other</td>\n",
       "    </tr>\n",
       "    <tr>\n",
       "      <th>4</th>\n",
       "      <td>Fast Food</td>\n",
       "      <td>1231 Park St</td>\n",
       "      <td>The Fire Den</td>\n",
       "      <td>94501</td>\n",
       "      <td>Food</td>\n",
       "      <td>4</td>\n",
       "      <td>other</td>\n",
       "    </tr>\n",
       "  </tbody>\n",
       "</table>\n",
       "</div>"
      ],
      "text/plain": [
       "     Cuisine                              address  \\\n",
       "0  Fast Food  925 Blossom Hill Road Oakridge Mall   \n",
       "1  Fast Food                       555 Soquel Ave   \n",
       "2  Fast Food                       9822 Libra Ave   \n",
       "3  Fast Food                1640 Camino Del Rio N   \n",
       "4  Fast Food                         1231 Park St   \n",
       "\n",
       "                                  name postalCode   Tag  ratings     type  \n",
       "0  Buca Di Beppo - San Jose - Oakridge      95123  Food        4    other  \n",
       "1                  Ristorante Italiano      95062  Food        4  Italian  \n",
       "2                        Milanos Pizza      95827  Food        4  Italian  \n",
       "3           Tilted Kilt Mission Valley      92108  Food        4    other  \n",
       "4                         The Fire Den      94501  Food        4    other  "
      ]
     },
     "execution_count": 45,
     "metadata": {},
     "output_type": "execute_result"
    }
   ],
   "source": [
    "dfrest.head()"
   ]
  },
  {
   "cell_type": "code",
   "execution_count": 46,
   "metadata": {},
   "outputs": [
    {
     "data": {
      "text/plain": [
       "other         22147\n",
       "Mexican        1165\n",
       "Asian           929\n",
       "Italian         833\n",
       "CoffeeShop      632\n",
       "Burger          552\n",
       "Dessert         170\n",
       "Name: type, dtype: int64"
      ]
     },
     "execution_count": 46,
     "metadata": {},
     "output_type": "execute_result"
    }
   ],
   "source": [
    "dfrest.type.value_counts()"
   ]
  },
  {
   "cell_type": "code",
   "execution_count": 47,
   "metadata": {},
   "outputs": [
    {
     "data": {
      "text/html": [
       "<div>\n",
       "<style scoped>\n",
       "    .dataframe tbody tr th:only-of-type {\n",
       "        vertical-align: middle;\n",
       "    }\n",
       "\n",
       "    .dataframe tbody tr th {\n",
       "        vertical-align: top;\n",
       "    }\n",
       "\n",
       "    .dataframe thead th {\n",
       "        text-align: right;\n",
       "    }\n",
       "</style>\n",
       "<table border=\"1\" class=\"dataframe\">\n",
       "  <thead>\n",
       "    <tr style=\"text-align: right;\">\n",
       "      <th></th>\n",
       "      <th>Cuisine</th>\n",
       "      <th>address</th>\n",
       "      <th>name</th>\n",
       "      <th>postalCode</th>\n",
       "      <th>Tag</th>\n",
       "      <th>ratings</th>\n",
       "      <th>type</th>\n",
       "    </tr>\n",
       "  </thead>\n",
       "  <tbody>\n",
       "    <tr>\n",
       "      <th>0</th>\n",
       "      <td>Fast Food</td>\n",
       "      <td>555 Soquel Ave</td>\n",
       "      <td>Ristorante Italiano</td>\n",
       "      <td>95062</td>\n",
       "      <td>Food</td>\n",
       "      <td>4</td>\n",
       "      <td>Italian</td>\n",
       "    </tr>\n",
       "    <tr>\n",
       "      <th>1</th>\n",
       "      <td>Fast Food</td>\n",
       "      <td>9822 Libra Ave</td>\n",
       "      <td>Milanos Pizza</td>\n",
       "      <td>95827</td>\n",
       "      <td>Food</td>\n",
       "      <td>4</td>\n",
       "      <td>Italian</td>\n",
       "    </tr>\n",
       "    <tr>\n",
       "      <th>2</th>\n",
       "      <td>Fast Food</td>\n",
       "      <td>5365 Alton Pkwy</td>\n",
       "      <td>Zpizza</td>\n",
       "      <td>92604</td>\n",
       "      <td>Food</td>\n",
       "      <td>4</td>\n",
       "      <td>Italian</td>\n",
       "    </tr>\n",
       "    <tr>\n",
       "      <th>3</th>\n",
       "      <td>Fast Food</td>\n",
       "      <td>6593 Collins Dr</td>\n",
       "      <td>Custom Pie</td>\n",
       "      <td>93021</td>\n",
       "      <td>Food</td>\n",
       "      <td>4</td>\n",
       "      <td>Dessert</td>\n",
       "    </tr>\n",
       "    <tr>\n",
       "      <th>4</th>\n",
       "      <td>Fast Food</td>\n",
       "      <td>820 N Alta Ave</td>\n",
       "      <td>You-be's U-bake Pizza</td>\n",
       "      <td>93618</td>\n",
       "      <td>Food</td>\n",
       "      <td>4</td>\n",
       "      <td>Italian</td>\n",
       "    </tr>\n",
       "  </tbody>\n",
       "</table>\n",
       "</div>"
      ],
      "text/plain": [
       "     Cuisine          address                   name postalCode   Tag  \\\n",
       "0  Fast Food   555 Soquel Ave    Ristorante Italiano      95062  Food   \n",
       "1  Fast Food   9822 Libra Ave          Milanos Pizza      95827  Food   \n",
       "2  Fast Food  5365 Alton Pkwy                 Zpizza      92604  Food   \n",
       "3  Fast Food  6593 Collins Dr             Custom Pie      93021  Food   \n",
       "4  Fast Food   820 N Alta Ave  You-be's U-bake Pizza      93618  Food   \n",
       "\n",
       "   ratings     type  \n",
       "0        4  Italian  \n",
       "1        4  Italian  \n",
       "2        4  Italian  \n",
       "3        4  Dessert  \n",
       "4        4  Italian  "
      ]
     },
     "execution_count": 47,
     "metadata": {},
     "output_type": "execute_result"
    }
   ],
   "source": [
    "#Because of the request number restriction, \n",
    "#Im deleting every \"other\" type restaurant in database\n",
    "dfrest = dfrest[dfrest.type != 'other']\n",
    "dfrest.reset_index(drop = True, inplace = True)\n",
    "dfrest.head()"
   ]
  },
  {
   "cell_type": "code",
   "execution_count": 48,
   "metadata": {},
   "outputs": [
    {
     "data": {
      "text/html": [
       "<div>\n",
       "<style scoped>\n",
       "    .dataframe tbody tr th:only-of-type {\n",
       "        vertical-align: middle;\n",
       "    }\n",
       "\n",
       "    .dataframe tbody tr th {\n",
       "        vertical-align: top;\n",
       "    }\n",
       "\n",
       "    .dataframe thead th {\n",
       "        text-align: right;\n",
       "    }\n",
       "</style>\n",
       "<table border=\"1\" class=\"dataframe\">\n",
       "  <thead>\n",
       "    <tr style=\"text-align: right;\">\n",
       "      <th></th>\n",
       "      <th>Cuisine</th>\n",
       "      <th>address</th>\n",
       "      <th>name</th>\n",
       "      <th>postalCode</th>\n",
       "      <th>Tag</th>\n",
       "      <th>ratings</th>\n",
       "      <th>type</th>\n",
       "    </tr>\n",
       "  </thead>\n",
       "  <tbody>\n",
       "    <tr>\n",
       "      <th>0</th>\n",
       "      <td>All</td>\n",
       "      <td>2068 N GAREY AVE</td>\n",
       "      <td>ANGELES LA MEJOR MEXICAN FOOD</td>\n",
       "      <td>91767</td>\n",
       "      <td>Food</td>\n",
       "      <td>4</td>\n",
       "      <td>Mexican</td>\n",
       "    </tr>\n",
       "    <tr>\n",
       "      <th>1</th>\n",
       "      <td>All</td>\n",
       "      <td>8742 GLENOAKS BLVD</td>\n",
       "      <td>OLD TIME BURGERS</td>\n",
       "      <td>91352</td>\n",
       "      <td>Food</td>\n",
       "      <td>4</td>\n",
       "      <td>Burger</td>\n",
       "    </tr>\n",
       "    <tr>\n",
       "      <th>2</th>\n",
       "      <td>All</td>\n",
       "      <td>4242 N ROSEMEAD BLVD</td>\n",
       "      <td>IN-N-OUT BURGER #20</td>\n",
       "      <td>91770</td>\n",
       "      <td>Food</td>\n",
       "      <td>4</td>\n",
       "      <td>Burger</td>\n",
       "    </tr>\n",
       "    <tr>\n",
       "      <th>3</th>\n",
       "      <td>All</td>\n",
       "      <td>15307 PARTHENIA ST</td>\n",
       "      <td>DANIEL'S TACOS</td>\n",
       "      <td>91343</td>\n",
       "      <td>Food</td>\n",
       "      <td>4</td>\n",
       "      <td>Mexican</td>\n",
       "    </tr>\n",
       "    <tr>\n",
       "      <th>4</th>\n",
       "      <td>All</td>\n",
       "      <td>3748 SLAUSON AVE</td>\n",
       "      <td>BURGER KING  #11298</td>\n",
       "      <td>90270</td>\n",
       "      <td>Food</td>\n",
       "      <td>4</td>\n",
       "      <td>Burger</td>\n",
       "    </tr>\n",
       "  </tbody>\n",
       "</table>\n",
       "</div>"
      ],
      "text/plain": [
       "  Cuisine               address                           name postalCode  \\\n",
       "0     All      2068 N GAREY AVE  ANGELES LA MEJOR MEXICAN FOOD      91767   \n",
       "1     All    8742 GLENOAKS BLVD               OLD TIME BURGERS      91352   \n",
       "2     All  4242 N ROSEMEAD BLVD            IN-N-OUT BURGER #20      91770   \n",
       "3     All    15307 PARTHENIA ST                 DANIEL'S TACOS      91343   \n",
       "4     All      3748 SLAUSON AVE            BURGER KING  #11298      90270   \n",
       "\n",
       "    Tag  ratings     type  \n",
       "0  Food        4  Mexican  \n",
       "1  Food        4   Burger  \n",
       "2  Food        4   Burger  \n",
       "3  Food        4  Mexican  \n",
       "4  Food        4   Burger  "
      ]
     },
     "execution_count": 48,
     "metadata": {},
     "output_type": "execute_result"
    }
   ],
   "source": [
    "#getting a sample of 2000 restaurantes because of api restriction\n",
    "dfrest = dfrest.sample(2000)\n",
    "dfrest.reset_index(drop = True, inplace = True)\n",
    "dfrest.head()"
   ]
  },
  {
   "cell_type": "code",
   "execution_count": 49,
   "metadata": {},
   "outputs": [
    {
     "data": {
      "text/plain": [
       "(2000, 7)"
      ]
     },
     "execution_count": 49,
     "metadata": {},
     "output_type": "execute_result"
    }
   ],
   "source": [
    "dfrest.shape"
   ]
  },
  {
   "cell_type": "code",
   "execution_count": 50,
   "metadata": {},
   "outputs": [],
   "source": [
    "#function to obtain latitude and longitude of the addresses in DF\n",
    "def gettingres_coor(x):\n",
    "    try:\n",
    "        results = geocoder.geocode(x)\n",
    "        coordinates=[]\n",
    "        coordinates.append(results[0]['geometry']['lng'])\n",
    "        coordinates.append(results[0]['geometry']['lat']) \n",
    "        return coordinates\n",
    "    except:\n",
    "        return np.nan"
   ]
  },
  {
   "cell_type": "code",
   "execution_count": 52,
   "metadata": {},
   "outputs": [
    {
     "name": "stderr",
     "output_type": "stream",
     "text": [
      "100%|██████████| 2000/2000 [39:35<00:00,  1.19s/it]  \n"
     ]
    }
   ],
   "source": [
    "#applying function to DF\n",
    "tqdm.pandas()\n",
    "dfrest['coordinates'] = dfrest.address.progress_apply(gettingres_coor)"
   ]
  },
  {
   "cell_type": "code",
   "execution_count": 53,
   "metadata": {},
   "outputs": [],
   "source": [
    "#removing nan values\n",
    "dfrest.dropna(inplace=True)\n",
    "dfrest.reset_index(drop = True, inplace = True)"
   ]
  },
  {
   "cell_type": "code",
   "execution_count": 54,
   "metadata": {},
   "outputs": [],
   "source": [
    "#splitting columns\n",
    "dfrest['latitude'] = dfrest.coordinates.apply(lambda x:x[1])\n",
    "dfrest['longitude'] = dfrest.coordinates.apply(lambda x:x[0])"
   ]
  },
  {
   "cell_type": "code",
   "execution_count": 55,
   "metadata": {},
   "outputs": [
    {
     "data": {
      "text/html": [
       "<div>\n",
       "<style scoped>\n",
       "    .dataframe tbody tr th:only-of-type {\n",
       "        vertical-align: middle;\n",
       "    }\n",
       "\n",
       "    .dataframe tbody tr th {\n",
       "        vertical-align: top;\n",
       "    }\n",
       "\n",
       "    .dataframe thead th {\n",
       "        text-align: right;\n",
       "    }\n",
       "</style>\n",
       "<table border=\"1\" class=\"dataframe\">\n",
       "  <thead>\n",
       "    <tr style=\"text-align: right;\">\n",
       "      <th></th>\n",
       "      <th>Cuisine</th>\n",
       "      <th>address</th>\n",
       "      <th>name</th>\n",
       "      <th>postalCode</th>\n",
       "      <th>Tag</th>\n",
       "      <th>ratings</th>\n",
       "      <th>type</th>\n",
       "      <th>coordinates</th>\n",
       "      <th>latitude</th>\n",
       "      <th>longitude</th>\n",
       "    </tr>\n",
       "  </thead>\n",
       "  <tbody>\n",
       "    <tr>\n",
       "      <th>0</th>\n",
       "      <td>All</td>\n",
       "      <td>2068 N GAREY AVE</td>\n",
       "      <td>ANGELES LA MEJOR MEXICAN FOOD</td>\n",
       "      <td>91767</td>\n",
       "      <td>Food</td>\n",
       "      <td>4</td>\n",
       "      <td>Mexican</td>\n",
       "      <td>[-117.7520488, 34.0684236]</td>\n",
       "      <td>34.068424</td>\n",
       "      <td>-117.752049</td>\n",
       "    </tr>\n",
       "    <tr>\n",
       "      <th>1</th>\n",
       "      <td>All</td>\n",
       "      <td>8742 GLENOAKS BLVD</td>\n",
       "      <td>OLD TIME BURGERS</td>\n",
       "      <td>91352</td>\n",
       "      <td>Food</td>\n",
       "      <td>4</td>\n",
       "      <td>Burger</td>\n",
       "      <td>[-118.3018267, 34.1799755]</td>\n",
       "      <td>34.179975</td>\n",
       "      <td>-118.301827</td>\n",
       "    </tr>\n",
       "    <tr>\n",
       "      <th>2</th>\n",
       "      <td>All</td>\n",
       "      <td>4242 N ROSEMEAD BLVD</td>\n",
       "      <td>IN-N-OUT BURGER #20</td>\n",
       "      <td>91770</td>\n",
       "      <td>Food</td>\n",
       "      <td>4</td>\n",
       "      <td>Burger</td>\n",
       "      <td>[-118.0734294, 34.0840807]</td>\n",
       "      <td>34.084081</td>\n",
       "      <td>-118.073429</td>\n",
       "    </tr>\n",
       "    <tr>\n",
       "      <th>3</th>\n",
       "      <td>All</td>\n",
       "      <td>15307 PARTHENIA ST</td>\n",
       "      <td>DANIEL'S TACOS</td>\n",
       "      <td>91343</td>\n",
       "      <td>Food</td>\n",
       "      <td>4</td>\n",
       "      <td>Mexican</td>\n",
       "      <td>[-118.5031071, 34.2285216]</td>\n",
       "      <td>34.228522</td>\n",
       "      <td>-118.503107</td>\n",
       "    </tr>\n",
       "    <tr>\n",
       "      <th>4</th>\n",
       "      <td>All</td>\n",
       "      <td>3748 SLAUSON AVE</td>\n",
       "      <td>BURGER KING  #11298</td>\n",
       "      <td>90270</td>\n",
       "      <td>Food</td>\n",
       "      <td>4</td>\n",
       "      <td>Burger</td>\n",
       "      <td>[-75.926111, 42.105103]</td>\n",
       "      <td>42.105103</td>\n",
       "      <td>-75.926111</td>\n",
       "    </tr>\n",
       "  </tbody>\n",
       "</table>\n",
       "</div>"
      ],
      "text/plain": [
       "  Cuisine               address                           name postalCode  \\\n",
       "0     All      2068 N GAREY AVE  ANGELES LA MEJOR MEXICAN FOOD      91767   \n",
       "1     All    8742 GLENOAKS BLVD               OLD TIME BURGERS      91352   \n",
       "2     All  4242 N ROSEMEAD BLVD            IN-N-OUT BURGER #20      91770   \n",
       "3     All    15307 PARTHENIA ST                 DANIEL'S TACOS      91343   \n",
       "4     All      3748 SLAUSON AVE            BURGER KING  #11298      90270   \n",
       "\n",
       "    Tag  ratings     type                 coordinates   latitude   longitude  \n",
       "0  Food        4  Mexican  [-117.7520488, 34.0684236]  34.068424 -117.752049  \n",
       "1  Food        4   Burger  [-118.3018267, 34.1799755]  34.179975 -118.301827  \n",
       "2  Food        4   Burger  [-118.0734294, 34.0840807]  34.084081 -118.073429  \n",
       "3  Food        4  Mexican  [-118.5031071, 34.2285216]  34.228522 -118.503107  \n",
       "4  Food        4   Burger     [-75.926111, 42.105103]  42.105103  -75.926111  "
      ]
     },
     "execution_count": 55,
     "metadata": {},
     "output_type": "execute_result"
    }
   ],
   "source": [
    "dfrest.head()"
   ]
  },
  {
   "cell_type": "code",
   "execution_count": 56,
   "metadata": {},
   "outputs": [
    {
     "name": "stderr",
     "output_type": "stream",
     "text": [
      "100%|██████████| 1995/1995 [00:00<00:00, 4321.81it/s]\n"
     ]
    }
   ],
   "source": [
    "#getting a list of the geopoints\n",
    "lista_pointsres = []\n",
    "for i in tqdm(range(len(dfrest.latitude))):\n",
    "    lista_pointsres.append(dict({'type':'Point',\n",
    "                          'coordinates': [dfrest.longitude[i],\n",
    "                                         dfrest.latitude[i]]}))"
   ]
  },
  {
   "cell_type": "code",
   "execution_count": 57,
   "metadata": {},
   "outputs": [],
   "source": [
    "#adding geopoints to main DF\n",
    "dfrest['principal'] = pd.Series(lista_pointsres)"
   ]
  },
  {
   "cell_type": "code",
   "execution_count": 58,
   "metadata": {},
   "outputs": [
    {
     "data": {
      "text/html": [
       "<div>\n",
       "<style scoped>\n",
       "    .dataframe tbody tr th:only-of-type {\n",
       "        vertical-align: middle;\n",
       "    }\n",
       "\n",
       "    .dataframe tbody tr th {\n",
       "        vertical-align: top;\n",
       "    }\n",
       "\n",
       "    .dataframe thead th {\n",
       "        text-align: right;\n",
       "    }\n",
       "</style>\n",
       "<table border=\"1\" class=\"dataframe\">\n",
       "  <thead>\n",
       "    <tr style=\"text-align: right;\">\n",
       "      <th></th>\n",
       "      <th>Cuisine</th>\n",
       "      <th>address</th>\n",
       "      <th>name</th>\n",
       "      <th>postalCode</th>\n",
       "      <th>Tag</th>\n",
       "      <th>ratings</th>\n",
       "      <th>type</th>\n",
       "      <th>coordinates</th>\n",
       "      <th>latitude</th>\n",
       "      <th>longitude</th>\n",
       "      <th>principal</th>\n",
       "    </tr>\n",
       "  </thead>\n",
       "  <tbody>\n",
       "    <tr>\n",
       "      <th>0</th>\n",
       "      <td>All</td>\n",
       "      <td>2068 N GAREY AVE</td>\n",
       "      <td>ANGELES LA MEJOR MEXICAN FOOD</td>\n",
       "      <td>91767</td>\n",
       "      <td>Food</td>\n",
       "      <td>4</td>\n",
       "      <td>Mexican</td>\n",
       "      <td>[-117.7520488, 34.0684236]</td>\n",
       "      <td>34.068424</td>\n",
       "      <td>-117.752049</td>\n",
       "      <td>{'type': 'Point', 'coordinates': [-117.7520488...</td>\n",
       "    </tr>\n",
       "    <tr>\n",
       "      <th>1</th>\n",
       "      <td>All</td>\n",
       "      <td>8742 GLENOAKS BLVD</td>\n",
       "      <td>OLD TIME BURGERS</td>\n",
       "      <td>91352</td>\n",
       "      <td>Food</td>\n",
       "      <td>4</td>\n",
       "      <td>Burger</td>\n",
       "      <td>[-118.3018267, 34.1799755]</td>\n",
       "      <td>34.179975</td>\n",
       "      <td>-118.301827</td>\n",
       "      <td>{'type': 'Point', 'coordinates': [-118.3018267...</td>\n",
       "    </tr>\n",
       "    <tr>\n",
       "      <th>2</th>\n",
       "      <td>All</td>\n",
       "      <td>4242 N ROSEMEAD BLVD</td>\n",
       "      <td>IN-N-OUT BURGER #20</td>\n",
       "      <td>91770</td>\n",
       "      <td>Food</td>\n",
       "      <td>4</td>\n",
       "      <td>Burger</td>\n",
       "      <td>[-118.0734294, 34.0840807]</td>\n",
       "      <td>34.084081</td>\n",
       "      <td>-118.073429</td>\n",
       "      <td>{'type': 'Point', 'coordinates': [-118.0734294...</td>\n",
       "    </tr>\n",
       "    <tr>\n",
       "      <th>3</th>\n",
       "      <td>All</td>\n",
       "      <td>15307 PARTHENIA ST</td>\n",
       "      <td>DANIEL'S TACOS</td>\n",
       "      <td>91343</td>\n",
       "      <td>Food</td>\n",
       "      <td>4</td>\n",
       "      <td>Mexican</td>\n",
       "      <td>[-118.5031071, 34.2285216]</td>\n",
       "      <td>34.228522</td>\n",
       "      <td>-118.503107</td>\n",
       "      <td>{'type': 'Point', 'coordinates': [-118.5031071...</td>\n",
       "    </tr>\n",
       "    <tr>\n",
       "      <th>4</th>\n",
       "      <td>All</td>\n",
       "      <td>3748 SLAUSON AVE</td>\n",
       "      <td>BURGER KING  #11298</td>\n",
       "      <td>90270</td>\n",
       "      <td>Food</td>\n",
       "      <td>4</td>\n",
       "      <td>Burger</td>\n",
       "      <td>[-75.926111, 42.105103]</td>\n",
       "      <td>42.105103</td>\n",
       "      <td>-75.926111</td>\n",
       "      <td>{'type': 'Point', 'coordinates': [-75.926111, ...</td>\n",
       "    </tr>\n",
       "  </tbody>\n",
       "</table>\n",
       "</div>"
      ],
      "text/plain": [
       "  Cuisine               address                           name postalCode  \\\n",
       "0     All      2068 N GAREY AVE  ANGELES LA MEJOR MEXICAN FOOD      91767   \n",
       "1     All    8742 GLENOAKS BLVD               OLD TIME BURGERS      91352   \n",
       "2     All  4242 N ROSEMEAD BLVD            IN-N-OUT BURGER #20      91770   \n",
       "3     All    15307 PARTHENIA ST                 DANIEL'S TACOS      91343   \n",
       "4     All      3748 SLAUSON AVE            BURGER KING  #11298      90270   \n",
       "\n",
       "    Tag  ratings     type                 coordinates   latitude   longitude  \\\n",
       "0  Food        4  Mexican  [-117.7520488, 34.0684236]  34.068424 -117.752049   \n",
       "1  Food        4   Burger  [-118.3018267, 34.1799755]  34.179975 -118.301827   \n",
       "2  Food        4   Burger  [-118.0734294, 34.0840807]  34.084081 -118.073429   \n",
       "3  Food        4  Mexican  [-118.5031071, 34.2285216]  34.228522 -118.503107   \n",
       "4  Food        4   Burger     [-75.926111, 42.105103]  42.105103  -75.926111   \n",
       "\n",
       "                                           principal  \n",
       "0  {'type': 'Point', 'coordinates': [-117.7520488...  \n",
       "1  {'type': 'Point', 'coordinates': [-118.3018267...  \n",
       "2  {'type': 'Point', 'coordinates': [-118.0734294...  \n",
       "3  {'type': 'Point', 'coordinates': [-118.5031071...  \n",
       "4  {'type': 'Point', 'coordinates': [-75.926111, ...  "
      ]
     },
     "execution_count": 58,
     "metadata": {},
     "output_type": "execute_result"
    }
   ],
   "source": [
    "dfrest.head()"
   ]
  },
  {
   "cell_type": "code",
   "execution_count": 59,
   "metadata": {},
   "outputs": [
    {
     "data": {
      "text/plain": [
       "<pymongo.results.InsertManyResult at 0x124635f40>"
      ]
     },
     "execution_count": 59,
     "metadata": {},
     "output_type": "execute_result"
    }
   ],
   "source": [
    "#inserting to Compass\n",
    "db.restaurantes.insert_many(dfrest.to_dict('records')) \n"
   ]
  },
  {
   "cell_type": "code",
   "execution_count": 60,
   "metadata": {},
   "outputs": [
    {
     "data": {
      "text/plain": [
       "'principal_2dsphere'"
      ]
     },
     "execution_count": 60,
     "metadata": {},
     "output_type": "execute_result"
    }
   ],
   "source": [
    "#creating 2dsphere index\n",
    "db.restaurantes.create_index([('principal', '2dsphere')])"
   ]
  },
  {
   "cell_type": "code",
   "execution_count": 61,
   "metadata": {},
   "outputs": [],
   "source": [
    "#function to find restaurants near clients input\n",
    "coleres = db.restaurantes\n",
    "def find_near_res(geopoint, radio=10000):\n",
    "    \n",
    "    return coleres.find({'principal':{\n",
    "        '$near': {'$geometry': geopoint, '$maxDistance':radio}\n",
    "    }})"
   ]
  },
  {
   "cell_type": "code",
   "execution_count": 62,
   "metadata": {},
   "outputs": [
    {
     "name": "stdout",
     "output_type": "stream",
     "text": [
      "Where would you like your office? San Diego California\n",
      "Whats the max distance you would like to evaluate: 2500\n"
     ]
    },
    {
     "name": "stderr",
     "output_type": "stream",
     "text": [
      "100%|██████████| 2/2 [00:00<00:00, 411.63it/s]"
     ]
    },
    {
     "name": "stdout",
     "output_type": "stream",
     "text": [
      "Amount of offices near San Diego California are: 24\n",
      "Amount of restaurants near San Diego California are: 2\n"
     ]
    },
    {
     "name": "stderr",
     "output_type": "stream",
     "text": [
      "\n"
     ]
    },
    {
     "data": {
      "text/html": [
       "<div style=\"width:100%;\"><div style=\"position:relative;width:100%;height:0;padding-bottom:60%;\"><iframe src=\"about:blank\" style=\"position:absolute;width:100%;height:100%;left:0;top:0;border:none !important;\" data-html=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 onload=\"this.contentDocument.open();this.contentDocument.write(atob(this.getAttribute('data-html')));this.contentDocument.close();\" allowfullscreen webkitallowfullscreen mozallowfullscreen></iframe></div></div>"
      ],
      "text/plain": [
       "<folium.folium.Map at 0x12c9dfac0>"
      ]
     },
     "execution_count": 62,
     "metadata": {},
     "output_type": "execute_result"
    }
   ],
   "source": [
    "#main code to ask client where they want the office and getting all the needed information\n",
    "\n",
    "coordenadas = getting_coor() #function discribed above\n",
    "longlat = coordenadas[0]\n",
    "latlong = longlat[::-1]\n",
    "radio = int(coordenadas[1])\n",
    "pais = coordenadas[4]\n",
    "localidad = coordenadas[2]\n",
    "direccion_solicitud = coordenadas[3]\n",
    "\n",
    "address={'type': 'Point', 'coordinates':longlat}  # geopoint\n",
    "\n",
    "ratio=radio  # radio de busqueda\n",
    "\n",
    "#query for offices\n",
    "n_ofi=find_near(address, ratio).count()\n",
    "ofi = find_near(address, ratio)\n",
    "ofi=pd.DataFrame(ofi)\n",
    "\n",
    "#query for restaurants\n",
    "n_res=find_near_res(address, ratio).count()\n",
    "restaurant = find_near_res(address, ratio)\n",
    "restaurant = pd.DataFrame(restaurant)\n",
    "\n",
    "#creating map object\n",
    "tooltip = 'Location you chose: {} \\n {}'.format(direccion_solicitud,localidad)\n",
    "mapa=folium.Map(latlong, zoom_start=11)\n",
    "datamapa=ofi[['latitude', 'longitude']].values\n",
    "mapa.add_child(plugins.HeatMap(datamapa, radius=15))\n",
    "folium.Marker(latlong, tooltip=tooltip, icon=folium.Icon(color='red')).add_to(mapa)\n",
    "for i in trange(len(restaurant.latitude)):\n",
    "    folium.Marker([restaurant.latitude[i],restaurant.longitude[i]],\n",
    "                      tooltip = restaurant.name[i], icon = folium.Icon()).add_to(mapa)\n",
    "\n",
    "mapa.save('MapaFinalRestaurantes.html')\n",
    "print('Amount of offices near {} are: {}'.format(direccion_solicitud,n_ofi))\n",
    "print('Amount of restaurants near {} are: {}'.format(direccion_solicitud,n_res))\n",
    "mapa"
   ]
  },
  {
   "cell_type": "code",
   "execution_count": 63,
   "metadata": {},
   "outputs": [
    {
     "data": {
      "text/html": [
       "<div>\n",
       "<style scoped>\n",
       "    .dataframe tbody tr th:only-of-type {\n",
       "        vertical-align: middle;\n",
       "    }\n",
       "\n",
       "    .dataframe tbody tr th {\n",
       "        vertical-align: top;\n",
       "    }\n",
       "\n",
       "    .dataframe thead th {\n",
       "        text-align: right;\n",
       "    }\n",
       "</style>\n",
       "<table border=\"1\" class=\"dataframe\">\n",
       "  <thead>\n",
       "    <tr style=\"text-align: right;\">\n",
       "      <th></th>\n",
       "      <th>_id</th>\n",
       "      <th>Cuisine</th>\n",
       "      <th>address</th>\n",
       "      <th>name</th>\n",
       "      <th>postalCode</th>\n",
       "      <th>Tag</th>\n",
       "      <th>ratings</th>\n",
       "      <th>type</th>\n",
       "      <th>coordinates</th>\n",
       "      <th>latitude</th>\n",
       "      <th>longitude</th>\n",
       "      <th>principal</th>\n",
       "    </tr>\n",
       "  </thead>\n",
       "  <tbody>\n",
       "    <tr>\n",
       "      <th>0</th>\n",
       "      <td>5e9db680e283983c43b35a8e</td>\n",
       "      <td>All</td>\n",
       "      <td>740 W BROADWAY</td>\n",
       "      <td>FRANK'S BURGER</td>\n",
       "      <td>91204</td>\n",
       "      <td>Food</td>\n",
       "      <td>4</td>\n",
       "      <td>Burger</td>\n",
       "      <td>[-117.1701501, 32.7156373]</td>\n",
       "      <td>32.715637</td>\n",
       "      <td>-117.17015</td>\n",
       "      <td>{'type': 'Point', 'coordinates': [-117.1701501...</td>\n",
       "    </tr>\n",
       "    <tr>\n",
       "      <th>1</th>\n",
       "      <td>5e9db680e283983c43b35e67</td>\n",
       "      <td>All</td>\n",
       "      <td>3995 24th St</td>\n",
       "      <td>STARBUCKS COFFEE #545</td>\n",
       "      <td>94114</td>\n",
       "      <td>Food</td>\n",
       "      <td>4</td>\n",
       "      <td>CoffeeShop</td>\n",
       "      <td>[-117.14241, 32.706318]</td>\n",
       "      <td>32.706318</td>\n",
       "      <td>-117.14241</td>\n",
       "      <td>{'type': 'Point', 'coordinates': [-117.14241, ...</td>\n",
       "    </tr>\n",
       "  </tbody>\n",
       "</table>\n",
       "</div>"
      ],
      "text/plain": [
       "                        _id Cuisine         address                   name  \\\n",
       "0  5e9db680e283983c43b35a8e     All  740 W BROADWAY         FRANK'S BURGER   \n",
       "1  5e9db680e283983c43b35e67     All    3995 24th St  STARBUCKS COFFEE #545   \n",
       "\n",
       "  postalCode   Tag  ratings        type                 coordinates  \\\n",
       "0      91204  Food        4      Burger  [-117.1701501, 32.7156373]   \n",
       "1      94114  Food        4  CoffeeShop     [-117.14241, 32.706318]   \n",
       "\n",
       "    latitude  longitude                                          principal  \n",
       "0  32.715637 -117.17015  {'type': 'Point', 'coordinates': [-117.1701501...  \n",
       "1  32.706318 -117.14241  {'type': 'Point', 'coordinates': [-117.14241, ...  "
      ]
     },
     "execution_count": 63,
     "metadata": {},
     "output_type": "execute_result"
    }
   ],
   "source": [
    "restaurant.head()"
   ]
  },
  {
   "cell_type": "code",
   "execution_count": null,
   "metadata": {},
   "outputs": [],
   "source": []
  }
 ],
 "metadata": {
  "kernelspec": {
   "display_name": "Python 3",
   "language": "python",
   "name": "python3"
  },
  "language_info": {
   "codemirror_mode": {
    "name": "ipython",
    "version": 3
   },
   "file_extension": ".py",
   "mimetype": "text/x-python",
   "name": "python",
   "nbconvert_exporter": "python",
   "pygments_lexer": "ipython3",
   "version": "3.8.0"
  }
 },
 "nbformat": 4,
 "nbformat_minor": 4
}
