{
 "cells": [
  {
   "cell_type": "code",
   "execution_count": 7,
   "metadata": {},
   "outputs": [],
   "source": [
    "from pygeocoder import Geocoder\n",
    "import pandas as pd\n",
    "import numpy as np\n"
   ]
  },
  {
   "cell_type": "code",
   "execution_count": 8,
   "metadata": {},
   "outputs": [
    {
     "ename": "GeocoderError",
     "evalue": "Error REQUEST_DENIED\nQuery: https://maps.google.com/maps/api/geocode/json?address=4207+N+Washington+Ave%2C+Douglas%2C+AZ+85607&sensor=false&bounds=&region=&language=&components=",
     "output_type": "error",
     "traceback": [
      "\u001b[0;31m---------------------------------------------------------------------------\u001b[0m",
      "\u001b[0;31mGeocoderError\u001b[0m                             Traceback (most recent call last)",
      "\u001b[0;32m<ipython-input-8-d3bbfc4bacdc>\u001b[0m in \u001b[0;36m<module>\u001b[0;34m\u001b[0m\n\u001b[0;32m----> 1\u001b[0;31m \u001b[0mGeocoder\u001b[0m\u001b[0;34m.\u001b[0m\u001b[0mgeocode\u001b[0m\u001b[0;34m(\u001b[0m\u001b[0;34m\"4207 N Washington Ave, Douglas, AZ 85607\"\u001b[0m\u001b[0;34m)\u001b[0m\u001b[0;34m.\u001b[0m\u001b[0mvalid_address\u001b[0m\u001b[0;34m\u001b[0m\u001b[0;34m\u001b[0m\u001b[0m\n\u001b[0m",
      "\u001b[0;32m/Library/Frameworks/Python.framework/Versions/3.8/lib/python3.8/site-packages/pygeocoder.py\u001b[0m in \u001b[0;36mgeocode\u001b[0;34m(self, address, sensor, bounds, region, language, components)\u001b[0m\n\u001b[1;32m    127\u001b[0m             \u001b[0;32mreturn\u001b[0m \u001b[0mGeocoderResult\u001b[0m\u001b[0;34m(\u001b[0m\u001b[0mself\u001b[0m\u001b[0;34m.\u001b[0m\u001b[0mget_data\u001b[0m\u001b[0;34m(\u001b[0m\u001b[0mparams\u001b[0m\u001b[0;34m=\u001b[0m\u001b[0mparams\u001b[0m\u001b[0;34m)\u001b[0m\u001b[0;34m)\u001b[0m\u001b[0;34m\u001b[0m\u001b[0;34m\u001b[0m\u001b[0m\n\u001b[1;32m    128\u001b[0m         \u001b[0;32melse\u001b[0m\u001b[0;34m:\u001b[0m\u001b[0;34m\u001b[0m\u001b[0;34m\u001b[0m\u001b[0m\n\u001b[0;32m--> 129\u001b[0;31m             \u001b[0;32mreturn\u001b[0m \u001b[0mGeocoderResult\u001b[0m\u001b[0;34m(\u001b[0m\u001b[0mGeocoder\u001b[0m\u001b[0;34m.\u001b[0m\u001b[0mget_data\u001b[0m\u001b[0;34m(\u001b[0m\u001b[0mparams\u001b[0m\u001b[0;34m=\u001b[0m\u001b[0mparams\u001b[0m\u001b[0;34m)\u001b[0m\u001b[0;34m)\u001b[0m\u001b[0;34m\u001b[0m\u001b[0;34m\u001b[0m\u001b[0m\n\u001b[0m\u001b[1;32m    130\u001b[0m \u001b[0;34m\u001b[0m\u001b[0m\n\u001b[1;32m    131\u001b[0m     \u001b[0;34m@\u001b[0m\u001b[0momnimethod\u001b[0m\u001b[0;34m\u001b[0m\u001b[0;34m\u001b[0m\u001b[0m\n",
      "\u001b[0;32m/Library/Frameworks/Python.framework/Versions/3.8/lib/python3.8/site-packages/pygeocoder.py\u001b[0m in \u001b[0;36mget_data\u001b[0;34m(self, params)\u001b[0m\n\u001b[1;32m    210\u001b[0m \u001b[0;34m\u001b[0m\u001b[0m\n\u001b[1;32m    211\u001b[0m         \u001b[0;32mif\u001b[0m \u001b[0mresponse_json\u001b[0m\u001b[0;34m[\u001b[0m\u001b[0;34m'status'\u001b[0m\u001b[0;34m]\u001b[0m \u001b[0;34m!=\u001b[0m \u001b[0mGeocoderError\u001b[0m\u001b[0;34m.\u001b[0m\u001b[0mG_GEO_OK\u001b[0m\u001b[0;34m:\u001b[0m\u001b[0;34m\u001b[0m\u001b[0;34m\u001b[0m\u001b[0m\n\u001b[0;32m--> 212\u001b[0;31m             \u001b[0;32mraise\u001b[0m \u001b[0mGeocoderError\u001b[0m\u001b[0;34m(\u001b[0m\u001b[0mresponse_json\u001b[0m\u001b[0;34m[\u001b[0m\u001b[0;34m'status'\u001b[0m\u001b[0;34m]\u001b[0m\u001b[0;34m,\u001b[0m \u001b[0mresponse\u001b[0m\u001b[0;34m.\u001b[0m\u001b[0murl\u001b[0m\u001b[0;34m)\u001b[0m\u001b[0;34m\u001b[0m\u001b[0;34m\u001b[0m\u001b[0m\n\u001b[0m\u001b[1;32m    213\u001b[0m         \u001b[0;32mreturn\u001b[0m \u001b[0mresponse_json\u001b[0m\u001b[0;34m[\u001b[0m\u001b[0;34m'results'\u001b[0m\u001b[0;34m]\u001b[0m\u001b[0;34m\u001b[0m\u001b[0;34m\u001b[0m\u001b[0m\n\u001b[1;32m    214\u001b[0m \u001b[0;34m\u001b[0m\u001b[0m\n",
      "\u001b[0;31mGeocoderError\u001b[0m: Error REQUEST_DENIED\nQuery: https://maps.google.com/maps/api/geocode/json?address=4207+N+Washington+Ave%2C+Douglas%2C+AZ+85607&sensor=false&bounds=&region=&language=&components="
     ]
    }
   ],
   "source": []
  },
  {
   "cell_type": "code",
   "execution_count": 11,
   "metadata": {},
   "outputs": [
    {
     "name": "stdout",
     "output_type": "stream",
     "text": [
      "Collecting opencage\n",
      "  Downloading opencage-1.2-py3-none-any.whl (5.6 kB)\n",
      "Requirement already satisfied: six>=1.4.0 in /Library/Frameworks/Python.framework/Versions/3.8/lib/python3.8/site-packages (from opencage) (1.14.0)\n",
      "Requirement already satisfied: Requests>=2.2.0 in /Library/Frameworks/Python.framework/Versions/3.8/lib/python3.8/site-packages (from opencage) (2.23.0)\n",
      "Requirement already satisfied: chardet<4,>=3.0.2 in /Library/Frameworks/Python.framework/Versions/3.8/lib/python3.8/site-packages (from Requests>=2.2.0->opencage) (3.0.4)\n",
      "Requirement already satisfied: idna<3,>=2.5 in /Library/Frameworks/Python.framework/Versions/3.8/lib/python3.8/site-packages (from Requests>=2.2.0->opencage) (2.9)\n",
      "Requirement already satisfied: certifi>=2017.4.17 in /Library/Frameworks/Python.framework/Versions/3.8/lib/python3.8/site-packages (from Requests>=2.2.0->opencage) (2020.4.5.1)\n",
      "Requirement already satisfied: urllib3!=1.25.0,!=1.25.1,<1.26,>=1.21.1 in /Library/Frameworks/Python.framework/Versions/3.8/lib/python3.8/site-packages (from Requests>=2.2.0->opencage) (1.25.8)\n",
      "Installing collected packages: opencage\n",
      "Successfully installed opencage-1.2\n"
     ]
    }
   ],
   "source": [
    "!pip3 install opencage"
   ]
  },
  {
   "cell_type": "code",
   "execution_count": 14,
   "metadata": {},
   "outputs": [],
   "source": [
    "from opencage.geocoder import OpenCageGeocode\n",
    "\n",
    "\n",
    "key = 'd8314354b31d46a298e0f21ffb920a34'\n",
    "geocoder = OpenCageGeocode(key)\n",
    "\n",
    "results = geocoder.reverse_geocode(44.8303087, -0.5761911)\n"
   ]
  },
  {
   "cell_type": "code",
   "execution_count": 17,
   "metadata": {},
   "outputs": [
    {
     "data": {
      "text/plain": [
       "list"
      ]
     },
     "execution_count": 17,
     "metadata": {},
     "output_type": "execute_result"
    }
   ],
   "source": [
    "type(results)"
   ]
  },
  {
   "cell_type": "code",
   "execution_count": 21,
   "metadata": {},
   "outputs": [
    {
     "data": {
      "text/plain": [
       "dict_keys(['annotations', 'bounds', 'components', 'confidence', 'formatted', 'geometry'])"
      ]
     },
     "execution_count": 21,
     "metadata": {},
     "output_type": "execute_result"
    }
   ],
   "source": [
    "results[0].keys()"
   ]
  },
  {
   "cell_type": "code",
   "execution_count": 22,
   "metadata": {},
   "outputs": [
    {
     "data": {
      "text/plain": [
       "[{'annotations': {'DMS': {'lat': \"44° 49' 49.11132'' N\",\n",
       "    'lng': \"0° 34' 34.28796'' E\"},\n",
       "   'MGRS': '30TXQ9159666958',\n",
       "   'Maidenhead': 'IN94rt09ug',\n",
       "   'Mercator': {'x': -64141.3, 'y': 5564710.789},\n",
       "   'OSM': {'edit_url': 'https://www.openstreetmap.org/edit?node=2754853042#map=16/44.83031/-0.57619',\n",
       "    'note_url': 'https://www.openstreetmap.org/note/new#map=16/44.83031/-0.57619&layers=N',\n",
       "    'url': 'https://www.openstreetmap.org/?mlat=44.83031&mlon=-0.57619#map=16/44.83031/-0.57619'},\n",
       "   'UN_M49': {'regions': {'EUROPE': '150',\n",
       "     'FR': '250',\n",
       "     'WESTERN_EUROPE': '155',\n",
       "     'WORLD': '001'},\n",
       "    'statistical_groupings': ['MEDC']},\n",
       "   'callingcode': 33,\n",
       "   'currency': {'alternate_symbols': [],\n",
       "    'decimal_mark': ',',\n",
       "    'html_entity': '&#x20AC;',\n",
       "    'iso_code': 'EUR',\n",
       "    'iso_numeric': '978',\n",
       "    'name': 'Euro',\n",
       "    'smallest_denomination': 1,\n",
       "    'subunit': 'Cent',\n",
       "    'subunit_to_unit': 100,\n",
       "    'symbol': '€',\n",
       "    'symbol_first': 1,\n",
       "    'thousands_separator': '.'},\n",
       "   'flag': '🇫🇷',\n",
       "   'geohash': 'ezzx4ch7mz0zbyftcpdf',\n",
       "   'qibla': 111.75,\n",
       "   'roadinfo': {'drive_on': 'right',\n",
       "    'road': 'Rue Sauteyron',\n",
       "    'speed_in': 'km/h'},\n",
       "   'sun': {'rise': {'apparent': 1587273120,\n",
       "     'astronomical': 1587266580,\n",
       "     'civil': 1587271260,\n",
       "     'nautical': 1587268980},\n",
       "    'set': {'apparent': 1587322320,\n",
       "     'astronomical': 1587328860,\n",
       "     'civil': 1587324180,\n",
       "     'nautical': 1587326460}},\n",
       "   'timezone': {'name': 'Europe/Paris',\n",
       "    'now_in_dst': 1,\n",
       "    'offset_sec': 7200,\n",
       "    'offset_string': '+0200',\n",
       "    'short_name': 'CEST'},\n",
       "   'what3words': {'words': 'advice.quiet.surveyed'}},\n",
       "  'bounds': {'northeast': {'lat': 44.8304087, 'lng': -0.5760911},\n",
       "   'southwest': {'lat': 44.8302087, 'lng': -0.5762911}},\n",
       "  'components': {'ISO_3166-1_alpha-2': 'FR',\n",
       "   'ISO_3166-1_alpha-3': 'FRA',\n",
       "   '_category': 'building',\n",
       "   '_type': 'building',\n",
       "   'city': 'Bordeaux',\n",
       "   'continent': 'Europe',\n",
       "   'country': 'France',\n",
       "   'country_code': 'fr',\n",
       "   'county': 'Bordeaux',\n",
       "   'house_number': '11',\n",
       "   'political_union': 'European Union',\n",
       "   'postcode': '33000',\n",
       "   'road': 'Rue Sauteyron',\n",
       "   'state': 'New Aquitaine',\n",
       "   'state_district': 'Gironde',\n",
       "   'suburb': 'Bordeaux Sud'},\n",
       "  'confidence': 10,\n",
       "  'formatted': '11 Rue Sauteyron, 33000 Bordeaux, France',\n",
       "  'geometry': {'lat': 44.8303087, 'lng': -0.5761911}}]"
      ]
     },
     "execution_count": 22,
     "metadata": {},
     "output_type": "execute_result"
    }
   ],
   "source": [
    "results"
   ]
  },
  {
   "cell_type": "code",
   "execution_count": 23,
   "metadata": {},
   "outputs": [
    {
     "ename": "TypeError",
     "evalue": "'OpenCageGeocode' object is not callable",
     "output_type": "error",
     "traceback": [
      "\u001b[0;31m---------------------------------------------------------------------------\u001b[0m",
      "\u001b[0;31mTypeError\u001b[0m                                 Traceback (most recent call last)",
      "\u001b[0;32m<ipython-input-23-5e06e9daa870>\u001b[0m in \u001b[0;36m<module>\u001b[0;34m\u001b[0m\n\u001b[0;32m----> 1\u001b[0;31m \u001b[0mresults\u001b[0m \u001b[0;34m=\u001b[0m \u001b[0mgeocoder\u001b[0m\u001b[0;34m(\u001b[0m\u001b[0;34m'175 5th Avenue NYC'\u001b[0m\u001b[0;34m)\u001b[0m\u001b[0;34m\u001b[0m\u001b[0;34m\u001b[0m\u001b[0m\n\u001b[0m\u001b[1;32m      2\u001b[0m \u001b[0mresults\u001b[0m\u001b[0;34m\u001b[0m\u001b[0;34m\u001b[0m\u001b[0m\n",
      "\u001b[0;31mTypeError\u001b[0m: 'OpenCageGeocode' object is not callable"
     ]
    }
   ],
   "source": [
    "results = geocoder('175 5th Avenue NYC')\n",
    "results"
   ]
  },
  {
   "cell_type": "code",
   "execution_count": 24,
   "metadata": {},
   "outputs": [
    {
     "data": {
      "text/plain": [
       "[{'annotations': {'DMS': {'lat': \"40° 44' 27.81312'' N\",\n",
       "    'lng': \"73° 59' 22.70976'' W\"},\n",
       "   'FIPS': {'county': '36061', 'state': '36'},\n",
       "   'MGRS': '18TWL8530510503',\n",
       "   'Maidenhead': 'FN30ar17fu',\n",
       "   'Mercator': {'x': -8236489.229, 'y': 4946329.848},\n",
       "   'OSM': {'edit_url': 'https://www.openstreetmap.org/edit?way=264768896#map=16/40.74106/-73.98964',\n",
       "    'note_url': 'https://www.openstreetmap.org/note/new#map=16/40.74106/-73.98964&layers=N',\n",
       "    'url': 'https://www.openstreetmap.org/?mlat=40.74106&mlon=-73.98964#map=16/40.74106/-73.98964'},\n",
       "   'UN_M49': {'regions': {'AMERICAS': '019',\n",
       "     'NORTHERN_AMERICA': '021',\n",
       "     'US': '840',\n",
       "     'WORLD': '001'},\n",
       "    'statistical_groupings': ['MEDC']},\n",
       "   'callingcode': 1,\n",
       "   'currency': {'alternate_symbols': ['US$'],\n",
       "    'decimal_mark': '.',\n",
       "    'disambiguate_symbol': 'US$',\n",
       "    'html_entity': '$',\n",
       "    'iso_code': 'USD',\n",
       "    'iso_numeric': '840',\n",
       "    'name': 'United States Dollar',\n",
       "    'smallest_denomination': 1,\n",
       "    'subunit': 'Cent',\n",
       "    'subunit_to_unit': 100,\n",
       "    'symbol': '$',\n",
       "    'symbol_first': 1,\n",
       "    'thousands_separator': ','},\n",
       "   'flag': '🇺🇸',\n",
       "   'geohash': 'dr5ru2dmu7ukx328qsw0',\n",
       "   'qibla': 58.49,\n",
       "   'roadinfo': {'drive_on': 'right', 'road': '5th Avenue', 'speed_in': 'mph'},\n",
       "   'sun': {'rise': {'apparent': 1587291060,\n",
       "     'astronomical': 1587285120,\n",
       "     'civil': 1587289380,\n",
       "     'nautical': 1587287280},\n",
       "    'set': {'apparent': 1587339540,\n",
       "     'astronomical': 1587259140,\n",
       "     'civil': 1587254880,\n",
       "     'nautical': 1587256980}},\n",
       "   'timezone': {'name': 'America/New_York',\n",
       "    'now_in_dst': 1,\n",
       "    'offset_sec': -14400,\n",
       "    'offset_string': '-0400',\n",
       "    'short_name': 'EDT'},\n",
       "   'what3words': {'words': 'news.lung.bossy'},\n",
       "   'wikidata': 'Q220728'},\n",
       "  'bounds': {'northeast': {'lat': 40.7413004, 'lng': -73.9895014},\n",
       "   'southwest': {'lat': 40.7407597, 'lng': -73.9898715}},\n",
       "  'components': {'ISO_3166-1_alpha-2': 'US',\n",
       "   'ISO_3166-1_alpha-3': 'USA',\n",
       "   '_category': 'travel/tourism',\n",
       "   '_type': 'attraction',\n",
       "   'attraction': 'Flatiron Building',\n",
       "   'city': 'New York',\n",
       "   'continent': 'North America',\n",
       "   'country': 'United States of America',\n",
       "   'country_code': 'us',\n",
       "   'county': 'New York County',\n",
       "   'house_number': '175',\n",
       "   'postcode': '10010',\n",
       "   'road': '5th Avenue',\n",
       "   'state': 'New York',\n",
       "   'state_code': 'NY',\n",
       "   'suburb': 'Manhattan'},\n",
       "  'confidence': 9,\n",
       "  'formatted': 'Flatiron Building, 175 5th Avenue, New York, NY 10010, United States of America',\n",
       "  'geometry': {'lat': 40.7410592, 'lng': -73.9896416}},\n",
       " {'annotations': {'DMS': {'lat': \"40° 44' 27.85992'' N\",\n",
       "    'lng': \"73° 59' 22.75224'' W\"},\n",
       "   'FIPS': {'county': '36061', 'state': '36'},\n",
       "   'MGRS': '18TWL8530410505',\n",
       "   'Maidenhead': 'FN30ar17fu',\n",
       "   'Mercator': {'x': -8236490.54, 'y': 4946331.751},\n",
       "   'OSM': {'edit_url': 'https://www.openstreetmap.org/edit?node=2517056822#map=16/40.74107/-73.98965',\n",
       "    'note_url': 'https://www.openstreetmap.org/note/new#map=16/40.74107/-73.98965&layers=N',\n",
       "    'url': 'https://www.openstreetmap.org/?mlat=40.74107&mlon=-73.98965#map=16/40.74107/-73.98965'},\n",
       "   'UN_M49': {'regions': {'AMERICAS': '019',\n",
       "     'NORTHERN_AMERICA': '021',\n",
       "     'US': '840',\n",
       "     'WORLD': '001'},\n",
       "    'statistical_groupings': ['MEDC']},\n",
       "   'callingcode': 1,\n",
       "   'currency': {'alternate_symbols': ['US$'],\n",
       "    'decimal_mark': '.',\n",
       "    'disambiguate_symbol': 'US$',\n",
       "    'html_entity': '$',\n",
       "    'iso_code': 'USD',\n",
       "    'iso_numeric': '840',\n",
       "    'name': 'United States Dollar',\n",
       "    'smallest_denomination': 1,\n",
       "    'subunit': 'Cent',\n",
       "    'subunit_to_unit': 100,\n",
       "    'symbol': '$',\n",
       "    'symbol_first': 1,\n",
       "    'thousands_separator': ','},\n",
       "   'flag': '🇺🇸',\n",
       "   'geohash': 'dr5ru2dmun7dn4zctf59',\n",
       "   'qibla': 58.49,\n",
       "   'roadinfo': {'drive_on': 'right', 'road': '5th Avenue', 'speed_in': 'mph'},\n",
       "   'sun': {'rise': {'apparent': 1587291060,\n",
       "     'astronomical': 1587285120,\n",
       "     'civil': 1587289380,\n",
       "     'nautical': 1587287280},\n",
       "    'set': {'apparent': 1587339540,\n",
       "     'astronomical': 1587259140,\n",
       "     'civil': 1587254880,\n",
       "     'nautical': 1587256980}},\n",
       "   'timezone': {'name': 'America/New_York',\n",
       "    'now_in_dst': 1,\n",
       "    'offset_sec': -14400,\n",
       "    'offset_string': '-0400',\n",
       "    'short_name': 'EDT'},\n",
       "   'what3words': {'words': 'mute.liver.spoke'},\n",
       "   'wikidata': 'Q1427377'},\n",
       "  'bounds': {'northeast': {'lat': 40.7411222, 'lng': -73.9896034},\n",
       "   'southwest': {'lat': 40.7410222, 'lng': -73.9897034}},\n",
       "  'components': {'ISO_3166-1_alpha-2': 'US',\n",
       "   'ISO_3166-1_alpha-3': 'USA',\n",
       "   '_category': 'travel/tourism',\n",
       "   '_type': 'attraction',\n",
       "   'attraction': 'Flatiron District',\n",
       "   'city': 'New York',\n",
       "   'continent': 'North America',\n",
       "   'country': 'United States of America',\n",
       "   'country_code': 'us',\n",
       "   'county': 'New York County',\n",
       "   'house_number': '175',\n",
       "   'postcode': '10010',\n",
       "   'road': '5th Avenue',\n",
       "   'state': 'New York',\n",
       "   'state_code': 'NY',\n",
       "   'suburb': 'Manhattan'},\n",
       "  'confidence': 9,\n",
       "  'formatted': 'Flatiron District, 175 5th Avenue, New York, NY 10010, United States of America',\n",
       "  'geometry': {'lat': 40.7410722, 'lng': -73.9896534}},\n",
       " {'annotations': {'DMS': {'lat': \"40° 40' 38.10144'' N\",\n",
       "    'lng': \"73° 58' 46.65180'' W\"},\n",
       "   'FIPS': {'county': '36047', 'state': '36'},\n",
       "   'MGRS': '18TWL8623203430',\n",
       "   'Maidenhead': 'FN30aq22km',\n",
       "   'Mercator': {'x': -8235374.234, 'y': 4936995.433},\n",
       "   'OSM': {'edit_url': 'https://www.openstreetmap.org/edit?way=250014491#map=16/40.67725/-73.97963',\n",
       "    'note_url': 'https://www.openstreetmap.org/note/new#map=16/40.67725/-73.97963&layers=N',\n",
       "    'url': 'https://www.openstreetmap.org/?mlat=40.67725&mlon=-73.97963#map=16/40.67725/-73.97963'},\n",
       "   'UN_M49': {'regions': {'AMERICAS': '019',\n",
       "     'NORTHERN_AMERICA': '021',\n",
       "     'US': '840',\n",
       "     'WORLD': '001'},\n",
       "    'statistical_groupings': ['MEDC']},\n",
       "   'callingcode': 1,\n",
       "   'currency': {'alternate_symbols': ['US$'],\n",
       "    'decimal_mark': '.',\n",
       "    'disambiguate_symbol': 'US$',\n",
       "    'html_entity': '$',\n",
       "    'iso_code': 'USD',\n",
       "    'iso_numeric': '840',\n",
       "    'name': 'United States Dollar',\n",
       "    'smallest_denomination': 1,\n",
       "    'subunit': 'Cent',\n",
       "    'subunit_to_unit': 100,\n",
       "    'symbol': '$',\n",
       "    'symbol_first': 1,\n",
       "    'thousands_separator': ','},\n",
       "   'flag': '🇺🇸',\n",
       "   'geohash': 'dr5rkt1djv11fmw94014',\n",
       "   'qibla': 58.5,\n",
       "   'roadinfo': {'drive_on': 'right', 'road': '5th Avenue', 'speed_in': 'mph'},\n",
       "   'sun': {'rise': {'apparent': 1587291060,\n",
       "     'astronomical': 1587285120,\n",
       "     'civil': 1587289380,\n",
       "     'nautical': 1587287280},\n",
       "    'set': {'apparent': 1587339540,\n",
       "     'astronomical': 1587259140,\n",
       "     'civil': 1587254880,\n",
       "     'nautical': 1587256920}},\n",
       "   'timezone': {'name': 'America/New_York',\n",
       "    'now_in_dst': 1,\n",
       "    'offset_sec': -14400,\n",
       "    'offset_string': '-0400',\n",
       "    'short_name': 'EDT'},\n",
       "   'what3words': {'words': 'values.bills.part'}},\n",
       "  'bounds': {'northeast': {'lat': 40.6773242, 'lng': -73.979504},\n",
       "   'southwest': {'lat': 40.6771765, 'lng': -73.9797469}},\n",
       "  'components': {'ISO_3166-1_alpha-2': 'US',\n",
       "   'ISO_3166-1_alpha-3': 'USA',\n",
       "   '_category': 'place_of_worship',\n",
       "   '_type': 'place_of_worship',\n",
       "   'city': 'New York',\n",
       "   'continent': 'North America',\n",
       "   'country': 'United States of America',\n",
       "   'country_code': 'us',\n",
       "   'county': 'Kings County',\n",
       "   'house_number': '175',\n",
       "   'neighbourhood': 'Park Slope',\n",
       "   'place_of_worship': 'Iglesia Pentecostal De Jesu Cristo',\n",
       "   'postcode': '11217',\n",
       "   'road': '5th Avenue',\n",
       "   'state': 'New York',\n",
       "   'state_code': 'NY',\n",
       "   'suburb': 'Brooklyn'},\n",
       "  'confidence': 9,\n",
       "  'formatted': 'Iglesia Pentecostal De Jesu Cristo, 175 5th Avenue, New York, NY 11217, United States of America',\n",
       "  'geometry': {'lat': 40.6772504, 'lng': -73.9796255}},\n",
       " {'annotations': {'DMS': {'lat': \"40° 44' 27.95208'' N\",\n",
       "    'lng': \"73° 59' 23.00856'' W\"},\n",
       "   'FIPS': {'county': '36061', 'state': '36'},\n",
       "   'MGRS': '18TWL8529710507',\n",
       "   'Maidenhead': 'FN30ar17fu',\n",
       "   'Mercator': {'x': -8236498.466, 'y': 4946335.498},\n",
       "   'OSM': {'edit_url': 'https://www.openstreetmap.org/edit?node=7139825363#map=16/40.74110/-73.98972',\n",
       "    'note_url': 'https://www.openstreetmap.org/note/new#map=16/40.74110/-73.98972&layers=N',\n",
       "    'url': 'https://www.openstreetmap.org/?mlat=40.74110&mlon=-73.98972#map=16/40.74110/-73.98972'},\n",
       "   'UN_M49': {'regions': {'AMERICAS': '019',\n",
       "     'NORTHERN_AMERICA': '021',\n",
       "     'US': '840',\n",
       "     'WORLD': '001'},\n",
       "    'statistical_groupings': ['MEDC']},\n",
       "   'callingcode': 1,\n",
       "   'currency': {'alternate_symbols': ['US$'],\n",
       "    'decimal_mark': '.',\n",
       "    'disambiguate_symbol': 'US$',\n",
       "    'html_entity': '$',\n",
       "    'iso_code': 'USD',\n",
       "    'iso_numeric': '840',\n",
       "    'name': 'United States Dollar',\n",
       "    'smallest_denomination': 1,\n",
       "    'subunit': 'Cent',\n",
       "    'subunit_to_unit': 100,\n",
       "    'symbol': '$',\n",
       "    'symbol_first': 1,\n",
       "    'thousands_separator': ','},\n",
       "   'flag': '🇺🇸',\n",
       "   'geohash': 'dr5ru2dq47ndg3e0w1sk',\n",
       "   'qibla': 58.49,\n",
       "   'roadinfo': {'drive_on': 'right', 'road': '5th Avenue', 'speed_in': 'mph'},\n",
       "   'sun': {'rise': {'apparent': 1587291060,\n",
       "     'astronomical': 1587285120,\n",
       "     'civil': 1587289380,\n",
       "     'nautical': 1587287280},\n",
       "    'set': {'apparent': 1587339540,\n",
       "     'astronomical': 1587259140,\n",
       "     'civil': 1587254880,\n",
       "     'nautical': 1587256980}},\n",
       "   'timezone': {'name': 'America/New_York',\n",
       "    'now_in_dst': 1,\n",
       "    'offset_sec': -14400,\n",
       "    'offset_string': '-0400',\n",
       "    'short_name': 'EDT'},\n",
       "   'what3words': {'words': 'fits.lime.trying'}},\n",
       "  'bounds': {'northeast': {'lat': 40.7411478, 'lng': -73.9896746},\n",
       "   'southwest': {'lat': 40.7410478, 'lng': -73.9897746}},\n",
       "  'components': {'ISO_3166-1_alpha-2': 'US',\n",
       "   'ISO_3166-1_alpha-3': 'USA',\n",
       "   '_category': 'building',\n",
       "   '_type': 'building',\n",
       "   'city': 'New York',\n",
       "   'continent': 'North America',\n",
       "   'country': 'United States of America',\n",
       "   'country_code': 'us',\n",
       "   'county': 'New York County',\n",
       "   'house_number': '175',\n",
       "   'postcode': '10035',\n",
       "   'road': '5th Avenue',\n",
       "   'state': 'New York',\n",
       "   'state_code': 'NY',\n",
       "   'suburb': 'Manhattan'},\n",
       "  'confidence': 10,\n",
       "  'formatted': '175 5th Avenue, New York, NY 10035, United States of America',\n",
       "  'geometry': {'lat': 40.7410978, 'lng': -73.9897246}},\n",
       " {'annotations': {'DMS': {'lat': \"40° 46' 17.29200'' N\",\n",
       "    'lng': \"73° 58' 3.79200'' W\"},\n",
       "   'FIPS': {'county': '36061', 'state': '36'},\n",
       "   'MGRS': '18TWL8711613901',\n",
       "   'Maidenhead': 'FN30as35ud',\n",
       "   'Mercator': {'x': -8234048.926, 'y': 4950781.733},\n",
       "   'OSM': {'note_url': 'https://www.openstreetmap.org/note/new#map=16/40.77147/-73.96772&layers=N',\n",
       "    'url': 'https://www.openstreetmap.org/?mlat=40.77147&mlon=-73.96772#map=16/40.77147/-73.96772'},\n",
       "   'UN_M49': {'regions': {'AMERICAS': '019',\n",
       "     'NORTHERN_AMERICA': '021',\n",
       "     'US': '840',\n",
       "     'WORLD': '001'},\n",
       "    'statistical_groupings': ['MEDC']},\n",
       "   'callingcode': 1,\n",
       "   'currency': {'alternate_symbols': ['US$'],\n",
       "    'decimal_mark': '.',\n",
       "    'disambiguate_symbol': 'US$',\n",
       "    'html_entity': '$',\n",
       "    'iso_code': 'USD',\n",
       "    'iso_numeric': '840',\n",
       "    'name': 'United States Dollar',\n",
       "    'smallest_denomination': 1,\n",
       "    'subunit': 'Cent',\n",
       "    'subunit_to_unit': 100,\n",
       "    'symbol': '$',\n",
       "    'symbol_first': 1,\n",
       "    'thousands_separator': ','},\n",
       "   'flag': '🇺🇸',\n",
       "   'geohash': 'dr5ruy4r50ykj8cu4xjv',\n",
       "   'qibla': 58.51,\n",
       "   'roadinfo': {'drive_on': 'right', 'speed_in': 'mph'},\n",
       "   'sun': {'rise': {'apparent': 1587291060,\n",
       "     'astronomical': 1587285060,\n",
       "     'civil': 1587289320,\n",
       "     'nautical': 1587287280},\n",
       "    'set': {'apparent': 1587339540,\n",
       "     'astronomical': 1587259140,\n",
       "     'civil': 1587254880,\n",
       "     'nautical': 1587256980}},\n",
       "   'timezone': {'name': 'America/New_York',\n",
       "    'now_in_dst': 1,\n",
       "    'offset_sec': -14400,\n",
       "    'offset_string': '-0400',\n",
       "    'short_name': 'EDT'},\n",
       "   'what3words': {'words': 'reader.packet.pitch'}},\n",
       "  'components': {'ISO_3166-1_alpha-2': 'US',\n",
       "   'ISO_3166-1_alpha-3': 'USA',\n",
       "   '_category': 'place',\n",
       "   '_type': 'county',\n",
       "   'continent': 'North America',\n",
       "   'country': 'United States of America',\n",
       "   'country_code': 'us',\n",
       "   'county': 'New York',\n",
       "   'state': 'New York',\n",
       "   'state_code': 'NY'},\n",
       "  'confidence': 9,\n",
       "  'formatted': 'New York, NY, United States of America',\n",
       "  'geometry': {'lat': 40.77147, 'lng': -73.96772}}]"
      ]
     },
     "execution_count": 24,
     "metadata": {},
     "output_type": "execute_result"
    }
   ],
   "source": [
    "query = '175 5th Avenue NYC'\n",
    "results = geocoder.geocode(query)\n",
    "results"
   ]
  },
  {
   "cell_type": "code",
   "execution_count": 25,
   "metadata": {},
   "outputs": [
    {
     "name": "stdout",
     "output_type": "stream",
     "text": [
      "40.7410592 -73.9896416\n"
     ]
    }
   ],
   "source": [
    "print(results[0]['geometry']['lat'], results[0]['geometry']['lng'])"
   ]
  },
  {
   "cell_type": "code",
   "execution_count": null,
   "metadata": {},
   "outputs": [],
   "source": []
  },
  {
   "cell_type": "code",
   "execution_count": 28,
   "metadata": {},
   "outputs": [
    {
     "data": {
      "text/plain": [
       "'🇺🇸'"
      ]
     },
     "execution_count": 28,
     "metadata": {},
     "output_type": "execute_result"
    }
   ],
   "source": [
    "results[0]['annotations']['flag']"
   ]
  },
  {
   "cell_type": "code",
   "execution_count": 36,
   "metadata": {},
   "outputs": [],
   "source": [
    "def getting_coor():\n",
    "    try:\n",
    "        x = input('Where would you like your office? ')\n",
    "        results = geocoder.geocode(x)\n",
    "        coordinates=[]\n",
    "        coordinates.append(results[0]['geometry']['lat']) \n",
    "        coordinates.append(results[0]['geometry']['lng'])\n",
    "        coordinates.append(results[0]['annotations']['flag'])\n",
    "        return coordinates\n",
    "    except:\n",
    "        return 'Not a valid address'"
   ]
  },
  {
   "cell_type": "code",
   "execution_count": 39,
   "metadata": {},
   "outputs": [],
   "source": [
    "def getting_coor():\n",
    "    try:\n",
    "        x = input('Where would you like your office? ')\n",
    "        results = geocoder.geocode(x)\n",
    "        coordinates=[]\n",
    "        coordinates.append(results[0]['geometry']['lat']) \n",
    "        coordinates.append(results[0]['geometry']['lng'])\n",
    "        country = results[0]['annotations']['flag']\n",
    "        return list(coordinates,country)\n",
    "    except:\n",
    "        return 'Not a valid address'"
   ]
  },
  {
   "cell_type": "code",
   "execution_count": 40,
   "metadata": {},
   "outputs": [
    {
     "name": "stdout",
     "output_type": "stream",
     "text": [
      "Where would you like your office? avenida sonora 113 roma norte\n"
     ]
    },
    {
     "data": {
      "text/plain": [
       "'Not a valid address'"
      ]
     },
     "execution_count": 40,
     "metadata": {},
     "output_type": "execute_result"
    }
   ],
   "source": [
    "getting_coor()"
   ]
  },
  {
   "cell_type": "code",
   "execution_count": 57,
   "metadata": {},
   "outputs": [],
   "source": [
    "def getting_coor():\n",
    "    try:\n",
    "        x = input('Where would you like your office? ')\n",
    "        results = geocoder.geocode(x)\n",
    "        fcoordinates=[]\n",
    "        coordinates=[]\n",
    "        coordinates.append(results[0]['geometry']['lng'])\n",
    "        coordinates.append(results[0]['geometry']['lat']) \n",
    "        country = results[0]['annotations']['flag']\n",
    "        fcoordinates.append(coordinates)\n",
    "        fcoordinates.append(country)\n",
    "        return fcoordinates\n",
    "    except:\n",
    "        return 'Not a valid address'\n"
   ]
  },
  {
   "cell_type": "code",
   "execution_count": 59,
   "metadata": {},
   "outputs": [
    {
     "name": "stdout",
     "output_type": "stream",
     "text": [
      "Where would you like your office? avenida sonora 113\n"
     ]
    },
    {
     "data": {
      "text/plain": [
       "[-99.1711985, 19.4173531]"
      ]
     },
     "execution_count": 59,
     "metadata": {},
     "output_type": "execute_result"
    }
   ],
   "source": [
    "getting_coor()[0]"
   ]
  },
  {
   "cell_type": "code",
   "execution_count": 60,
   "metadata": {},
   "outputs": [],
   "source": [
    "results = geocoder.geocode(x)"
   ]
  },
  {
   "cell_type": "code",
   "execution_count": 64,
   "metadata": {},
   "outputs": [
    {
     "data": {
      "text/plain": [
       "dict_keys(['annotations', 'bounds', 'components', 'confidence', 'formatted', 'geometry'])"
      ]
     },
     "execution_count": 64,
     "metadata": {},
     "output_type": "execute_result"
    }
   ],
   "source": [
    "results[0].keys()"
   ]
  },
  {
   "cell_type": "code",
   "execution_count": 70,
   "metadata": {},
   "outputs": [
    {
     "data": {
      "text/plain": [
       "{'ISO_3166-1_alpha-2': 'MX',\n",
       " 'ISO_3166-1_alpha-3': 'MEX',\n",
       " '_category': 'road',\n",
       " '_type': 'road',\n",
       " 'city': 'Mexico City',\n",
       " 'continent': 'North America',\n",
       " 'country': 'Mexico',\n",
       " 'country_code': 'mx',\n",
       " 'county': 'Cuauhtémoc',\n",
       " 'neighbourhood': 'Condesa',\n",
       " 'postcode': '06140',\n",
       " 'road': 'Avenida Sonora',\n",
       " 'road_type': 'tertiary',\n",
       " 'state': 'Mexico City'}"
      ]
     },
     "execution_count": 70,
     "metadata": {},
     "output_type": "execute_result"
    }
   ],
   "source": [
    "results[0]['components']"
   ]
  },
  {
   "cell_type": "code",
   "execution_count": 74,
   "metadata": {},
   "outputs": [
    {
     "ename": "KeyError",
     "evalue": "'neighbourhood'",
     "output_type": "error",
     "traceback": [
      "\u001b[0;31m---------------------------------------------------------------------------\u001b[0m",
      "\u001b[0;31mKeyError\u001b[0m                                  Traceback (most recent call last)",
      "\u001b[0;32m<ipython-input-74-88b48998b555>\u001b[0m in \u001b[0;36m<module>\u001b[0;34m\u001b[0m\n\u001b[1;32m      2\u001b[0m \u001b[0mcity\u001b[0m\u001b[0;34m=\u001b[0m\u001b[0mresults\u001b[0m\u001b[0;34m[\u001b[0m\u001b[0;36m0\u001b[0m\u001b[0;34m]\u001b[0m\u001b[0;34m[\u001b[0m\u001b[0;34m'components'\u001b[0m\u001b[0;34m]\u001b[0m\u001b[0;34m[\u001b[0m\u001b[0;34m'city'\u001b[0m\u001b[0;34m]\u001b[0m\u001b[0;34m\u001b[0m\u001b[0;34m\u001b[0m\u001b[0m\n\u001b[1;32m      3\u001b[0m \u001b[0mcounty\u001b[0m \u001b[0;34m=\u001b[0m \u001b[0mresults\u001b[0m\u001b[0;34m[\u001b[0m\u001b[0;36m0\u001b[0m\u001b[0;34m]\u001b[0m\u001b[0;34m[\u001b[0m\u001b[0;34m'components'\u001b[0m\u001b[0;34m]\u001b[0m\u001b[0;34m[\u001b[0m\u001b[0;34m'county'\u001b[0m\u001b[0;34m]\u001b[0m\u001b[0;34m\u001b[0m\u001b[0;34m\u001b[0m\u001b[0m\n\u001b[0;32m----> 4\u001b[0;31m \u001b[0mnei\u001b[0m \u001b[0;34m=\u001b[0m \u001b[0mresults\u001b[0m\u001b[0;34m[\u001b[0m\u001b[0;36m0\u001b[0m\u001b[0;34m]\u001b[0m\u001b[0;34m[\u001b[0m\u001b[0;34m'components'\u001b[0m\u001b[0;34m]\u001b[0m\u001b[0;34m[\u001b[0m\u001b[0;34m'neighbourhood'\u001b[0m\u001b[0;34m]\u001b[0m\u001b[0;34m\u001b[0m\u001b[0;34m\u001b[0m\u001b[0m\n\u001b[0m\u001b[1;32m      5\u001b[0m \u001b[0;34m\u001b[0m\u001b[0m\n\u001b[1;32m      6\u001b[0m \u001b[0mlocalidad\u001b[0m \u001b[0;34m=\u001b[0m \u001b[0mcountry\u001b[0m\u001b[0;34m+\u001b[0m\u001b[0;34m', '\u001b[0m\u001b[0;34m+\u001b[0m\u001b[0mcity\u001b[0m\u001b[0;34m+\u001b[0m\u001b[0;34m', '\u001b[0m\u001b[0;34m+\u001b[0m\u001b[0mcounty\u001b[0m\u001b[0;34m+\u001b[0m\u001b[0;34m', '\u001b[0m\u001b[0;34m+\u001b[0m\u001b[0mnei\u001b[0m\u001b[0;34m\u001b[0m\u001b[0;34m\u001b[0m\u001b[0m\n",
      "\u001b[0;31mKeyError\u001b[0m: 'neighbourhood'"
     ]
    }
   ],
   "source": [
    "country = results[0]['components']['country']\n",
    "city=results[0]['components']['city']\n",
    "county = results[0]['components']['county']\n",
    "nei = results[0]['components']['neighbourhood']\n",
    "\n",
    "localidad = country+', '+city+', '+county+', '+nei\n",
    "localidad"
   ]
  },
  {
   "cell_type": "code",
   "execution_count": 77,
   "metadata": {},
   "outputs": [
    {
     "data": {
      "text/plain": [
       "{'ISO_3166-1_alpha-2': 'US',\n",
       " 'ISO_3166-1_alpha-3': 'USA',\n",
       " '_category': 'outdoors/recreation',\n",
       " '_type': 'park',\n",
       " 'city': 'New York',\n",
       " 'continent': 'North America',\n",
       " 'country': 'United States of America',\n",
       " 'country_code': 'us',\n",
       " 'county': 'New York County',\n",
       " 'park': 'Central Park',\n",
       " 'state': 'New York',\n",
       " 'state_code': 'NY',\n",
       " 'suburb': 'Manhattan'}"
      ]
     },
     "execution_count": 77,
     "metadata": {},
     "output_type": "execute_result"
    }
   ],
   "source": [
    "nei = results[0]['components']\n",
    "nei"
   ]
  },
  {
   "cell_type": "code",
   "execution_count": 73,
   "metadata": {},
   "outputs": [
    {
     "name": "stdout",
     "output_type": "stream",
     "text": [
      "Where would you like your office? central park\n",
      "Whats the max distance you would like to evaluate: 4000\n"
     ]
    },
    {
     "ename": "KeyError",
     "evalue": "'neighbourhood'",
     "output_type": "error",
     "traceback": [
      "\u001b[0;31m---------------------------------------------------------------------------\u001b[0m",
      "\u001b[0;31mKeyError\u001b[0m                                  Traceback (most recent call last)",
      "\u001b[0;32m<ipython-input-73-ff8ef520b0e6>\u001b[0m in \u001b[0;36m<module>\u001b[0;34m\u001b[0m\n\u001b[1;32m     10\u001b[0m \u001b[0mcity\u001b[0m\u001b[0;34m=\u001b[0m\u001b[0mresults\u001b[0m\u001b[0;34m[\u001b[0m\u001b[0;36m0\u001b[0m\u001b[0;34m]\u001b[0m\u001b[0;34m[\u001b[0m\u001b[0;34m'components'\u001b[0m\u001b[0;34m]\u001b[0m\u001b[0;34m[\u001b[0m\u001b[0;34m'city'\u001b[0m\u001b[0;34m]\u001b[0m\u001b[0;34m\u001b[0m\u001b[0;34m\u001b[0m\u001b[0m\n\u001b[1;32m     11\u001b[0m \u001b[0mcounty\u001b[0m \u001b[0;34m=\u001b[0m \u001b[0mresults\u001b[0m\u001b[0;34m[\u001b[0m\u001b[0;36m0\u001b[0m\u001b[0;34m]\u001b[0m\u001b[0;34m[\u001b[0m\u001b[0;34m'components'\u001b[0m\u001b[0;34m]\u001b[0m\u001b[0;34m[\u001b[0m\u001b[0;34m'county'\u001b[0m\u001b[0;34m]\u001b[0m\u001b[0;34m\u001b[0m\u001b[0;34m\u001b[0m\u001b[0m\n\u001b[0;32m---> 12\u001b[0;31m \u001b[0mnei\u001b[0m \u001b[0;34m=\u001b[0m \u001b[0mresults\u001b[0m\u001b[0;34m[\u001b[0m\u001b[0;36m0\u001b[0m\u001b[0;34m]\u001b[0m\u001b[0;34m[\u001b[0m\u001b[0;34m'components'\u001b[0m\u001b[0;34m]\u001b[0m\u001b[0;34m[\u001b[0m\u001b[0;34m'neighbourhood'\u001b[0m\u001b[0;34m]\u001b[0m\u001b[0;34m\u001b[0m\u001b[0;34m\u001b[0m\u001b[0m\n\u001b[0m\u001b[1;32m     13\u001b[0m \u001b[0mlocalidad\u001b[0m \u001b[0;34m=\u001b[0m \u001b[0mcountry\u001b[0m\u001b[0;34m+\u001b[0m\u001b[0;34m', '\u001b[0m\u001b[0;34m+\u001b[0m\u001b[0mcity\u001b[0m\u001b[0;34m+\u001b[0m\u001b[0;34m', '\u001b[0m\u001b[0;34m+\u001b[0m\u001b[0mcounty\u001b[0m\u001b[0;34m+\u001b[0m\u001b[0;34m', '\u001b[0m\u001b[0;34m+\u001b[0m\u001b[0mnei\u001b[0m\u001b[0;34m\u001b[0m\u001b[0;34m\u001b[0m\u001b[0m\n\u001b[1;32m     14\u001b[0m \u001b[0mfcoordinates\u001b[0m\u001b[0;34m.\u001b[0m\u001b[0mappend\u001b[0m\u001b[0;34m(\u001b[0m\u001b[0mcoordinates\u001b[0m\u001b[0;34m)\u001b[0m\u001b[0;34m\u001b[0m\u001b[0;34m\u001b[0m\u001b[0m\n",
      "\u001b[0;31mKeyError\u001b[0m: 'neighbourhood'"
     ]
    }
   ],
   "source": [
    "x = input('Where would you like your office? ')\n",
    "m = input('Whats the max distance you would like to evaluate: ')\n",
    "results = geocoder.geocode(x)\n",
    "fcoordinates=[]\n",
    "coordinates=[]\n",
    "coordinates.append(results[0]['geometry']['lng'])\n",
    "coordinates.append(results[0]['geometry']['lat']) \n",
    "bandera = results[0]['annotations']['flag']\n",
    "country = results[0]['components']['country']\n",
    "city=results[0]['components']['city']\n",
    "county = results[0]['components']['county']\n",
    "nei = results[0]['components']['neighbourhood']\n",
    "localidad = country+', '+city+', '+county+', '+nei\n",
    "fcoordinates.append(coordinates)\n",
    "fcoordinates.append(m)\n",
    "fcoordinates.append(localidad)\n",
    "fcoordinates.append(x)\n",
    "fcoordinates.append(bandera)\n",
    "fcoordinates"
   ]
  },
  {
   "cell_type": "code",
   "execution_count": 78,
   "metadata": {},
   "outputs": [],
   "source": [
    "import pickle"
   ]
  },
  {
   "cell_type": "code",
   "execution_count": 79,
   "metadata": {},
   "outputs": [],
   "source": [
    "with open('rest_data_ca.pkl', 'rb') as f:\n",
    "    data = pickle.load(f)\n",
    "    "
   ]
  },
  {
   "cell_type": "code",
   "execution_count": 80,
   "metadata": {},
   "outputs": [],
   "source": [
    "df = pd.DataFrame(data)"
   ]
  },
  {
   "cell_type": "code",
   "execution_count": 81,
   "metadata": {},
   "outputs": [
    {
     "data": {
      "text/html": [
       "<div>\n",
       "<style scoped>\n",
       "    .dataframe tbody tr th:only-of-type {\n",
       "        vertical-align: middle;\n",
       "    }\n",
       "\n",
       "    .dataframe tbody tr th {\n",
       "        vertical-align: top;\n",
       "    }\n",
       "\n",
       "    .dataframe thead th {\n",
       "        text-align: right;\n",
       "    }\n",
       "</style>\n",
       "<table border=\"1\" class=\"dataframe\">\n",
       "  <thead>\n",
       "    <tr style=\"text-align: right;\">\n",
       "      <th></th>\n",
       "      <th>Cuisine</th>\n",
       "      <th>address</th>\n",
       "      <th>name</th>\n",
       "      <th>postalCode</th>\n",
       "      <th>Tag</th>\n",
       "      <th>ratings</th>\n",
       "    </tr>\n",
       "  </thead>\n",
       "  <tbody>\n",
       "    <tr>\n",
       "      <th>0</th>\n",
       "      <td>Fast Food</td>\n",
       "      <td>925 Blossom Hill Road Oakridge Mall</td>\n",
       "      <td>Buca Di Beppo - San Jose - Oakridge</td>\n",
       "      <td>95123</td>\n",
       "      <td>Food</td>\n",
       "      <td>4</td>\n",
       "    </tr>\n",
       "    <tr>\n",
       "      <th>1</th>\n",
       "      <td>Fast Food</td>\n",
       "      <td>26900 Newport Rd</td>\n",
       "      <td>Giovanni's Pizza and Pasta</td>\n",
       "      <td>92584</td>\n",
       "      <td>Food</td>\n",
       "      <td>3</td>\n",
       "    </tr>\n",
       "    <tr>\n",
       "      <th>2</th>\n",
       "      <td>Fast Food</td>\n",
       "      <td>3060 Naglee Rd</td>\n",
       "      <td>Applebee's Tracy</td>\n",
       "      <td>95304</td>\n",
       "      <td>Food</td>\n",
       "      <td>3</td>\n",
       "    </tr>\n",
       "    <tr>\n",
       "      <th>3</th>\n",
       "      <td>Fast Food</td>\n",
       "      <td>50a</td>\n",
       "      <td>Patrick Molloy's Sports Pub</td>\n",
       "      <td>90254</td>\n",
       "      <td>Food</td>\n",
       "      <td>3</td>\n",
       "    </tr>\n",
       "    <tr>\n",
       "      <th>4</th>\n",
       "      <td>Fast Food</td>\n",
       "      <td>555 Soquel Ave</td>\n",
       "      <td>Ristorante Italiano</td>\n",
       "      <td>95062</td>\n",
       "      <td>Food</td>\n",
       "      <td>4</td>\n",
       "    </tr>\n",
       "    <tr>\n",
       "      <th>...</th>\n",
       "      <td>...</td>\n",
       "      <td>...</td>\n",
       "      <td>...</td>\n",
       "      <td>...</td>\n",
       "      <td>...</td>\n",
       "      <td>...</td>\n",
       "    </tr>\n",
       "    <tr>\n",
       "      <th>56153</th>\n",
       "      <td>All</td>\n",
       "      <td>3470 E 1ST ST</td>\n",
       "      <td>LA BUFADORA BAR</td>\n",
       "      <td>90063</td>\n",
       "      <td>Food</td>\n",
       "      <td>3</td>\n",
       "    </tr>\n",
       "    <tr>\n",
       "      <th>56154</th>\n",
       "      <td>All</td>\n",
       "      <td>10250 SANTA MONICA BLVD # 1025</td>\n",
       "      <td>SAINT MARC</td>\n",
       "      <td>90067</td>\n",
       "      <td>Food</td>\n",
       "      <td>3</td>\n",
       "    </tr>\n",
       "    <tr>\n",
       "      <th>56155</th>\n",
       "      <td>All</td>\n",
       "      <td>217 W TEMPLE AVE</td>\n",
       "      <td>HALL OF JUSTICE</td>\n",
       "      <td>90012</td>\n",
       "      <td>Food</td>\n",
       "      <td>4</td>\n",
       "    </tr>\n",
       "    <tr>\n",
       "      <th>56156</th>\n",
       "      <td>All</td>\n",
       "      <td>5750 MELROSE AVE</td>\n",
       "      <td>FIN-MELROSE</td>\n",
       "      <td>90038</td>\n",
       "      <td>Food</td>\n",
       "      <td>3</td>\n",
       "    </tr>\n",
       "    <tr>\n",
       "      <th>56157</th>\n",
       "      <td>All</td>\n",
       "      <td>6741 HOLLYWOOD BLVD</td>\n",
       "      <td>JUICY WINGZ</td>\n",
       "      <td>90028</td>\n",
       "      <td>Food</td>\n",
       "      <td>4</td>\n",
       "    </tr>\n",
       "  </tbody>\n",
       "</table>\n",
       "<p>52477 rows × 6 columns</p>\n",
       "</div>"
      ],
      "text/plain": [
       "         Cuisine                              address  \\\n",
       "0      Fast Food  925 Blossom Hill Road Oakridge Mall   \n",
       "1      Fast Food                     26900 Newport Rd   \n",
       "2      Fast Food                       3060 Naglee Rd   \n",
       "3      Fast Food                                  50a   \n",
       "4      Fast Food                       555 Soquel Ave   \n",
       "...          ...                                  ...   \n",
       "56153        All                        3470 E 1ST ST   \n",
       "56154        All       10250 SANTA MONICA BLVD # 1025   \n",
       "56155        All                     217 W TEMPLE AVE   \n",
       "56156        All                     5750 MELROSE AVE   \n",
       "56157        All                  6741 HOLLYWOOD BLVD   \n",
       "\n",
       "                                      name postalCode   Tag  ratings  \n",
       "0      Buca Di Beppo - San Jose - Oakridge      95123  Food        4  \n",
       "1               Giovanni's Pizza and Pasta      92584  Food        3  \n",
       "2                         Applebee's Tracy      95304  Food        3  \n",
       "3              Patrick Molloy's Sports Pub      90254  Food        3  \n",
       "4                      Ristorante Italiano      95062  Food        4  \n",
       "...                                    ...        ...   ...      ...  \n",
       "56153                      LA BUFADORA BAR      90063  Food        3  \n",
       "56154                           SAINT MARC      90067  Food        3  \n",
       "56155                      HALL OF JUSTICE      90012  Food        4  \n",
       "56156                          FIN-MELROSE      90038  Food        3  \n",
       "56157                          JUICY WINGZ      90028  Food        4  \n",
       "\n",
       "[52477 rows x 6 columns]"
      ]
     },
     "execution_count": 81,
     "metadata": {},
     "output_type": "execute_result"
    }
   ],
   "source": [
    "df"
   ]
  },
  {
   "cell_type": "code",
   "execution_count": null,
   "metadata": {},
   "outputs": [],
   "source": []
  }
 ],
 "metadata": {
  "kernelspec": {
   "display_name": "Python 3",
   "language": "python",
   "name": "python3"
  },
  "language_info": {
   "codemirror_mode": {
    "name": "ipython",
    "version": 3
   },
   "file_extension": ".py",
   "mimetype": "text/x-python",
   "name": "python",
   "nbconvert_exporter": "python",
   "pygments_lexer": "ipython3",
   "version": "3.8.0"
  }
 },
 "nbformat": 4,
 "nbformat_minor": 4
}
