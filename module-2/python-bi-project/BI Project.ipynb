{
 "cells": [
  {
   "cell_type": "code",
   "execution_count": 1,
   "metadata": {},
   "outputs": [],
   "source": [
    "from utils import *"
   ]
  },
  {
   "cell_type": "code",
   "execution_count": 2,
   "metadata": {},
   "outputs": [],
   "source": [
    "# Matplotlib parameters\n",
    "\n",
    "plt.rcParams['xtick.labelsize'] = 16\n",
    "plt.rcParams['ytick.labelsize'] = 16\n"
   ]
  },
  {
   "cell_type": "markdown",
   "metadata": {},
   "source": [
    "<br>\n",
    "<br>\n",
    "<br>\n",
    "<center>\n",
    "<font size='6' style=\"color:#4CAF50\"><b>Data Acquisition</b></font>\n",
    "<hr style= \"height:2px;\">\n",
    "</center>\n",
    "<br>\n",
    "<br>"
   ]
  },
  {
   "cell_type": "code",
   "execution_count": 3,
   "metadata": {},
   "outputs": [],
   "source": [
    "# Call MongoDB\n",
    "\n",
    "client = MongoClient()\n"
   ]
  },
  {
   "cell_type": "code",
   "execution_count": 4,
   "metadata": {},
   "outputs": [],
   "source": [
    "# Call the specific documents\n",
    "\n",
    "db = client['Companies']\n"
   ]
  },
  {
   "cell_type": "code",
   "execution_count": 5,
   "metadata": {},
   "outputs": [],
   "source": [
    "# Define the query\n",
    "\n",
    "query_bd = {'number_of_employees':{'$gt':99}, 'founded_year':{'$lt':2011}, 'deadpooled_year': {'$eq': None}}\n"
   ]
  },
  {
   "cell_type": "code",
   "execution_count": 6,
   "metadata": {},
   "outputs": [],
   "source": [
    "#Convert the query result to a list\n",
    "\n",
    "my_companies = list(db.Companies.find(query_bd, {'name':1, 'category_code':1, 'number_of_employees':1, 'founded_year':1, 'tag_list':1, 'description':1, 'overview':1, 'total_money_raised':1, 'offices':1, 'ipo':1 }))\n"
   ]
  },
  {
   "cell_type": "code",
   "execution_count": 7,
   "metadata": {},
   "outputs": [],
   "source": [
    "# Create a DataFrame from the query list\n",
    "\n",
    "df_raw_companies = pd.DataFrame(my_companies)\n"
   ]
  },
  {
   "cell_type": "code",
   "execution_count": 8,
   "metadata": {},
   "outputs": [
    {
     "data": {
      "text/html": [
       "<div>\n",
       "<style scoped>\n",
       "    .dataframe tbody tr th:only-of-type {\n",
       "        vertical-align: middle;\n",
       "    }\n",
       "\n",
       "    .dataframe tbody tr th {\n",
       "        vertical-align: top;\n",
       "    }\n",
       "\n",
       "    .dataframe thead th {\n",
       "        text-align: right;\n",
       "    }\n",
       "</style>\n",
       "<table border=\"1\" class=\"dataframe\">\n",
       "  <thead>\n",
       "    <tr style=\"text-align: right;\">\n",
       "      <th></th>\n",
       "      <th>_id</th>\n",
       "      <th>category_code</th>\n",
       "      <th>description</th>\n",
       "      <th>founded_year</th>\n",
       "      <th>ipo</th>\n",
       "      <th>name</th>\n",
       "      <th>number_of_employees</th>\n",
       "      <th>offices</th>\n",
       "      <th>overview</th>\n",
       "      <th>tag_list</th>\n",
       "      <th>total_money_raised</th>\n",
       "    </tr>\n",
       "  </thead>\n",
       "  <tbody>\n",
       "    <tr>\n",
       "      <th>0</th>\n",
       "      <td>52cdef7c4bab8bd675297d8e</td>\n",
       "      <td>social</td>\n",
       "      <td>Social network</td>\n",
       "      <td>2004</td>\n",
       "      <td>{'valuation_amount': 104000000000, 'valuation_...</td>\n",
       "      <td>Facebook</td>\n",
       "      <td>5299</td>\n",
       "      <td>[{'description': 'Headquarters', 'address1': '...</td>\n",
       "      <td>&lt;p&gt;Facebook is the world&amp;#8217;s largest socia...</td>\n",
       "      <td>facebook, college, students, profiles, network...</td>\n",
       "      <td>$2.43B</td>\n",
       "    </tr>\n",
       "    <tr>\n",
       "      <th>1</th>\n",
       "      <td>52cdef7c4bab8bd675297d94</td>\n",
       "      <td>social</td>\n",
       "      <td>Real time communication platform</td>\n",
       "      <td>2006</td>\n",
       "      <td>{'valuation_amount': 18100000000, 'valuation_c...</td>\n",
       "      <td>Twitter</td>\n",
       "      <td>1300</td>\n",
       "      <td>[{'description': '', 'address1': '1355 Market ...</td>\n",
       "      <td>&lt;p&gt;Created in 2006, Twitter is a global real-t...</td>\n",
       "      <td>text, messaging, social, community, twitter, t...</td>\n",
       "      <td>$1.16B</td>\n",
       "    </tr>\n",
       "    <tr>\n",
       "      <th>2</th>\n",
       "      <td>52cdef7c4bab8bd675297d9b</td>\n",
       "      <td>web</td>\n",
       "      <td>Online Marketplace</td>\n",
       "      <td>1995</td>\n",
       "      <td>{'valuation_amount': None, 'valuation_currency...</td>\n",
       "      <td>eBay</td>\n",
       "      <td>15000</td>\n",
       "      <td>[{'description': 'Headquarters', 'address1': '...</td>\n",
       "      <td>&lt;p&gt;Founded in 1995 in San Jose, CA, eBay conne...</td>\n",
       "      <td>auction, bid, search, market</td>\n",
       "      <td>$6.7M</td>\n",
       "    </tr>\n",
       "  </tbody>\n",
       "</table>\n",
       "</div>"
      ],
      "text/plain": [
       "                        _id category_code                       description  \\\n",
       "0  52cdef7c4bab8bd675297d8e        social                    Social network   \n",
       "1  52cdef7c4bab8bd675297d94        social  Real time communication platform   \n",
       "2  52cdef7c4bab8bd675297d9b           web                Online Marketplace   \n",
       "\n",
       "   founded_year                                                ipo      name  \\\n",
       "0          2004  {'valuation_amount': 104000000000, 'valuation_...  Facebook   \n",
       "1          2006  {'valuation_amount': 18100000000, 'valuation_c...   Twitter   \n",
       "2          1995  {'valuation_amount': None, 'valuation_currency...      eBay   \n",
       "\n",
       "   number_of_employees                                            offices  \\\n",
       "0                 5299  [{'description': 'Headquarters', 'address1': '...   \n",
       "1                 1300  [{'description': '', 'address1': '1355 Market ...   \n",
       "2                15000  [{'description': 'Headquarters', 'address1': '...   \n",
       "\n",
       "                                            overview  \\\n",
       "0  <p>Facebook is the world&#8217;s largest socia...   \n",
       "1  <p>Created in 2006, Twitter is a global real-t...   \n",
       "2  <p>Founded in 1995 in San Jose, CA, eBay conne...   \n",
       "\n",
       "                                            tag_list total_money_raised  \n",
       "0  facebook, college, students, profiles, network...             $2.43B  \n",
       "1  text, messaging, social, community, twitter, t...             $1.16B  \n",
       "2                       auction, bid, search, market              $6.7M  "
      ]
     },
     "execution_count": 8,
     "metadata": {},
     "output_type": "execute_result"
    }
   ],
   "source": [
    "\n",
    "df_raw_companies.head(3)\n"
   ]
  },
  {
   "cell_type": "code",
   "execution_count": 9,
   "metadata": {},
   "outputs": [],
   "source": [
    "# Create a dataframe to make a metric-analysis\n",
    "# Here we add the cities with the most companies\n",
    "\n",
    "metric_df = pd.DataFrame.from_dict(top_cities(df_raw_companies), orient='index', columns=['local_comp'])\n"
   ]
  },
  {
   "cell_type": "code",
   "execution_count": 10,
   "metadata": {},
   "outputs": [],
   "source": [
    "# Here we analysi the connectivity of each city\n",
    "\n",
    "metric_df['dist_param'] = pd.DataFrame.from_dict(get_dist_param(df_raw_companies), orient='index').set_index(metric_df.index)\n"
   ]
  },
  {
   "cell_type": "code",
   "execution_count": 11,
   "metadata": {},
   "outputs": [],
   "source": [
    "# Here we analyze the cost of living for each city\n",
    "\n",
    "metric_df['cost_param'] = pd.DataFrame([cost_cities[i.split(',')[0]] for i in metric_df.index]).set_index(metric_df.index)\n"
   ]
  },
  {
   "cell_type": "markdown",
   "metadata": {},
   "source": [
    "<br>\n",
    "<br>\n",
    "<br>\n",
    "<center>\n",
    "<font size='6' style=\"color:#00A6D6\"><b>Application of the Metric</b></font>\n",
    "<hr style= \"height:2px;\">\n",
    "</center>\n",
    "<br>\n",
    "<br>"
   ]
  },
  {
   "cell_type": "code",
   "execution_count": 12,
   "metadata": {},
   "outputs": [],
   "source": [
    "# The following code applies the metric to the dataframe and returns the final score\n",
    "\n",
    "scores = pd.DataFrame(metric_df.apply(metric_score, axis=1))\n"
   ]
  },
  {
   "cell_type": "code",
   "execution_count": 13,
   "metadata": {},
   "outputs": [],
   "source": [
    "# Add the scores columns\n",
    "\n",
    "metric_df['score'] = scores\n"
   ]
  },
  {
   "cell_type": "code",
   "execution_count": 23,
   "metadata": {},
   "outputs": [
    {
     "data": {
      "text/plain": [
       "New York, USA          7.987872\n",
       "San Francisco, USA    11.195347\n",
       "London, GBR            4.018391\n",
       "Chicago, USA           0.201205\n",
       "San Jose, USA          7.605419\n",
       "Paris, FRA             0.000031\n",
       "Tokyo, JPN             2.018585\n",
       "Seattle, USA           0.000022\n",
       "Beijing, CHN           0.000102\n",
       "Austin, USA            0.000051\n",
       "San Mateo, USA         0.214499\n",
       "Los Angeles, USA      14.443960\n",
       "Shanghai, CHN          0.000048\n",
       "Singapore, SGP         0.000005\n",
       "Mountain View, USA     3.355493\n",
       "Cambridge, USA         0.836807\n",
       "Palo Alto, USA         1.319316\n",
       "San Diego, USA         0.102755\n",
       "Santa Clara, USA       4.374977\n",
       "Sunnyvale, USA         3.249886\n",
       "Bangalore, IND         0.020318\n",
       "Madrid, ESP            0.000077\n",
       "Berlin, DEU            0.048062\n",
       "Chennai, IND           0.124367\n",
       "Fremont, USA           0.370841\n",
       "Boston, USA            0.129722\n",
       "Santa Monica, USA      2.717978\n",
       "Toronto, CAN           0.516925\n",
       "Irvine, USA            0.000010\n",
       "Atlanta, USA           0.900879\n",
       "Amsterdam, NLD         1.480752\n",
       "Scottsdale, USA        0.004872\n",
       "Mumbai, IND            3.024501\n",
       "Reston, USA            0.473553\n",
       "dtype: float64"
      ]
     },
     "execution_count": 23,
     "metadata": {},
     "output_type": "execute_result"
    }
   ],
   "source": [
    "metric_df.apply(metric_score, axis=1)"
   ]
  },
  {
   "cell_type": "code",
   "execution_count": 14,
   "metadata": {},
   "outputs": [],
   "source": [
    "# Top cities by number of companies\n",
    "\n",
    "top_comp = metric_df.sort_values('local_comp', ascending=False)[:10]\n"
   ]
  },
  {
   "cell_type": "code",
   "execution_count": 15,
   "metadata": {},
   "outputs": [
    {
     "data": {
      "image/png": "[encoded data removed]",
      "text/plain": [
       "<Figure size 1800x1080 with 1 Axes>"
      ]
     },
     "metadata": {
      "needs_background": "light"
     },
     "output_type": "display_data"
    }
   ],
   "source": [
    "# Plot the TOP 10 cities by number of companies\n",
    "\n",
    "plt.figure(figsize=(25,15))\n",
    "sns.barplot(x = top_comp.index , y='local_comp', data = top_comp, palette='bwr', saturation=3)\n",
    "plt.ylabel('Number of Cities', fontsize=30)\n",
    "\n",
    "plt.show()"
   ]
  },
  {
   "cell_type": "markdown",
   "metadata": {},
   "source": [
    "<br>\n",
    "<br>\n",
    "<br>"
   ]
  },
  {
   "cell_type": "code",
   "execution_count": 16,
   "metadata": {},
   "outputs": [],
   "source": [
    "# TOP 10 Connectected cities\n",
    "\n",
    "top_con = metric_df.sort_values('dist_param', ascending=False)[:10]\n"
   ]
  },
  {
   "cell_type": "code",
   "execution_count": 17,
   "metadata": {},
   "outputs": [
    {
     "data": {
      "image/png": "[encoded data removed]",
      "text/plain": [
       "<Figure size 2160x1080 with 1 Axes>"
      ]
     },
     "metadata": {
      "needs_background": "light"
     },
     "output_type": "display_data"
    }
   ],
   "source": [
    "# Plot TOP 10 companies by connectivity\n",
    "\n",
    "plt.figure(figsize=(30,15))\n",
    "sns.barplot(x = top_con.index , y='dist_param', data = top_con, palette='cool', saturation=3)\n",
    "plt.ylabel('Index of Connectivty', fontsize=30)\n",
    "plt.show()\n"
   ]
  },
  {
   "cell_type": "markdown",
   "metadata": {},
   "source": [
    "<br>\n",
    "<br>\n",
    "<br>"
   ]
  },
  {
   "cell_type": "code",
   "execution_count": 18,
   "metadata": {},
   "outputs": [],
   "source": [
    "# TOP Companies by cost of living\n",
    "\n",
    "top_cost = metric_df.sort_values('cost_param', ascending=True)[:10]\n"
   ]
  },
  {
   "cell_type": "code",
   "execution_count": 19,
   "metadata": {},
   "outputs": [
    {
     "data": {
      "image/png": "[encoded data removed]",
      "text/plain": [
       "<Figure size 1800x1080 with 1 Axes>"
      ]
     },
     "metadata": {
      "needs_background": "light"
     },
     "output_type": "display_data"
    }
   ],
   "source": [
    "plt.figure(figsize=(25,15))\n",
    "sns.barplot(x = top_cost.index , y='cost_param', data= top_cost, palette='seismic', saturation=3)\n",
    "plt.ylabel('Cost of Living', fontsize=30)\n",
    "plt.show()"
   ]
  },
  {
   "cell_type": "markdown",
   "metadata": {},
   "source": [
    "<br>\n",
    "<br>\n",
    "<br>"
   ]
  },
  {
   "cell_type": "code",
   "execution_count": 20,
   "metadata": {},
   "outputs": [],
   "source": [
    "# Top 10 Metric Scores\n",
    "\n",
    "top_scores = metric_df.sort_values('score', ascending=False)[:10]\n"
   ]
  },
  {
   "cell_type": "code",
   "execution_count": 21,
   "metadata": {},
   "outputs": [
    {
     "data": {
      "image/png": "[encoded data removed]",
      "text/plain": [
       "<Figure size 2160x1080 with 1 Axes>"
      ]
     },
     "metadata": {
      "needs_background": "light"
     },
     "output_type": "display_data"
    }
   ],
   "source": [
    "# Plot the TOP 10 Cities by their Metric Score\n",
    "\n",
    "plt.figure(figsize=(30,15))\n",
    "sns.barplot(x = top_scores.index , y='score', data= top_scores, palette='rainbow', saturation=3)\n",
    "plt.ylabel('Metric Score', fontsize=30)\n",
    "plt.show()\n"
   ]
  },
  {
   "cell_type": "code",
   "execution_count": 22,
   "metadata": {},
   "outputs": [
    {
     "data": {
      "text/html": [
       "<div>\n",
       "<style scoped>\n",
       "    .dataframe tbody tr th:only-of-type {\n",
       "        vertical-align: middle;\n",
       "    }\n",
       "\n",
       "    .dataframe tbody tr th {\n",
       "        vertical-align: top;\n",
       "    }\n",
       "\n",
       "    .dataframe thead th {\n",
       "        text-align: right;\n",
       "    }\n",
       "</style>\n",
       "<table border=\"1\" class=\"dataframe\">\n",
       "  <thead>\n",
       "    <tr style=\"text-align: right;\">\n",
       "      <th></th>\n",
       "      <th>local_comp</th>\n",
       "      <th>dist_param</th>\n",
       "      <th>cost_param</th>\n",
       "      <th>score</th>\n",
       "    </tr>\n",
       "  </thead>\n",
       "  <tbody>\n",
       "    <tr>\n",
       "      <th>New York, USA</th>\n",
       "      <td>127</td>\n",
       "      <td>0.720206</td>\n",
       "      <td>187.2000</td>\n",
       "      <td>7.987872</td>\n",
       "    </tr>\n",
       "    <tr>\n",
       "      <th>San Francisco, USA</th>\n",
       "      <td>127</td>\n",
       "      <td>0.809472</td>\n",
       "      <td>269.3000</td>\n",
       "      <td>11.195347</td>\n",
       "    </tr>\n",
       "    <tr>\n",
       "      <th>London, GBR</th>\n",
       "      <td>86</td>\n",
       "      <td>0.608738</td>\n",
       "      <td>140.4000</td>\n",
       "      <td>4.018391</td>\n",
       "    </tr>\n",
       "    <tr>\n",
       "      <th>Chicago, USA</th>\n",
       "      <td>32</td>\n",
       "      <td>0.360587</td>\n",
       "      <td>106.9000</td>\n",
       "      <td>0.201205</td>\n",
       "    </tr>\n",
       "    <tr>\n",
       "      <th>San Jose, USA</th>\n",
       "      <td>31</td>\n",
       "      <td>0.793672</td>\n",
       "      <td>214.5000</td>\n",
       "      <td>7.605419</td>\n",
       "    </tr>\n",
       "    <tr>\n",
       "      <th>Paris, FRA</th>\n",
       "      <td>29</td>\n",
       "      <td>0.100000</td>\n",
       "      <td>156.0000</td>\n",
       "      <td>0.000031</td>\n",
       "    </tr>\n",
       "    <tr>\n",
       "      <th>Tokyo, JPN</th>\n",
       "      <td>29</td>\n",
       "      <td>0.568953</td>\n",
       "      <td>124.8000</td>\n",
       "      <td>2.018585</td>\n",
       "    </tr>\n",
       "    <tr>\n",
       "      <th>Seattle, USA</th>\n",
       "      <td>25</td>\n",
       "      <td>0.100000</td>\n",
       "      <td>172.3000</td>\n",
       "      <td>0.000022</td>\n",
       "    </tr>\n",
       "    <tr>\n",
       "      <th>Beijing, CHN</th>\n",
       "      <td>21</td>\n",
       "      <td>0.100000</td>\n",
       "      <td>93.6000</td>\n",
       "      <td>0.000102</td>\n",
       "    </tr>\n",
       "    <tr>\n",
       "      <th>Austin, USA</th>\n",
       "      <td>20</td>\n",
       "      <td>0.100000</td>\n",
       "      <td>119.3000</td>\n",
       "      <td>0.000051</td>\n",
       "    </tr>\n",
       "    <tr>\n",
       "      <th>San Mateo, USA</th>\n",
       "      <td>20</td>\n",
       "      <td>0.562873</td>\n",
       "      <td>270.6000</td>\n",
       "      <td>0.214499</td>\n",
       "    </tr>\n",
       "    <tr>\n",
       "      <th>Los Angeles, USA</th>\n",
       "      <td>20</td>\n",
       "      <td>0.818372</td>\n",
       "      <td>173.3000</td>\n",
       "      <td>14.443960</td>\n",
       "    </tr>\n",
       "    <tr>\n",
       "      <th>Shanghai, CHN</th>\n",
       "      <td>18</td>\n",
       "      <td>0.100000</td>\n",
       "      <td>118.6848</td>\n",
       "      <td>0.000048</td>\n",
       "    </tr>\n",
       "    <tr>\n",
       "      <th>Singapore, SGP</th>\n",
       "      <td>18</td>\n",
       "      <td>0.100000</td>\n",
       "      <td>280.8000</td>\n",
       "      <td>0.000005</td>\n",
       "    </tr>\n",
       "    <tr>\n",
       "      <th>Mountain View, USA</th>\n",
       "      <td>17</td>\n",
       "      <td>0.823824</td>\n",
       "      <td>315.4000</td>\n",
       "      <td>3.355493</td>\n",
       "    </tr>\n",
       "    <tr>\n",
       "      <th>Cambridge, USA</th>\n",
       "      <td>17</td>\n",
       "      <td>0.608637</td>\n",
       "      <td>181.8000</td>\n",
       "      <td>0.836807</td>\n",
       "    </tr>\n",
       "    <tr>\n",
       "      <th>Palo Alto, USA</th>\n",
       "      <td>16</td>\n",
       "      <td>0.823732</td>\n",
       "      <td>471.0000</td>\n",
       "      <td>1.319316</td>\n",
       "    </tr>\n",
       "    <tr>\n",
       "      <th>San Diego, USA</th>\n",
       "      <td>15</td>\n",
       "      <td>0.418538</td>\n",
       "      <td>160.1000</td>\n",
       "      <td>0.102755</td>\n",
       "    </tr>\n",
       "    <tr>\n",
       "      <th>Santa Clara, USA</th>\n",
       "      <td>15</td>\n",
       "      <td>0.812497</td>\n",
       "      <td>250.0000</td>\n",
       "      <td>4.374977</td>\n",
       "    </tr>\n",
       "    <tr>\n",
       "      <th>Sunnyvale, USA</th>\n",
       "      <td>14</td>\n",
       "      <td>0.823579</td>\n",
       "      <td>300.1000</td>\n",
       "      <td>3.249886</td>\n",
       "    </tr>\n",
       "    <tr>\n",
       "      <th>Bangalore, IND</th>\n",
       "      <td>14</td>\n",
       "      <td>0.100000</td>\n",
       "      <td>18.7200</td>\n",
       "      <td>0.020318</td>\n",
       "    </tr>\n",
       "    <tr>\n",
       "      <th>Madrid, ESP</th>\n",
       "      <td>14</td>\n",
       "      <td>0.100000</td>\n",
       "      <td>93.6000</td>\n",
       "      <td>0.000077</td>\n",
       "    </tr>\n",
       "    <tr>\n",
       "      <th>Berlin, DEU</th>\n",
       "      <td>14</td>\n",
       "      <td>0.292358</td>\n",
       "      <td>93.6000</td>\n",
       "      <td>0.048062</td>\n",
       "    </tr>\n",
       "    <tr>\n",
       "      <th>Chennai, IND</th>\n",
       "      <td>13</td>\n",
       "      <td>0.100000</td>\n",
       "      <td>12.4800</td>\n",
       "      <td>0.124367</td>\n",
       "    </tr>\n",
       "    <tr>\n",
       "      <th>Fremont, USA</th>\n",
       "      <td>12</td>\n",
       "      <td>0.608421</td>\n",
       "      <td>227.3000</td>\n",
       "      <td>0.370841</td>\n",
       "    </tr>\n",
       "    <tr>\n",
       "      <th>Boston, USA</th>\n",
       "      <td>12</td>\n",
       "      <td>0.450243</td>\n",
       "      <td>162.4000</td>\n",
       "      <td>0.129722</td>\n",
       "    </tr>\n",
       "    <tr>\n",
       "      <th>Santa Monica, USA</th>\n",
       "      <td>12</td>\n",
       "      <td>0.822090</td>\n",
       "      <td>304.5000</td>\n",
       "      <td>2.717978</td>\n",
       "    </tr>\n",
       "    <tr>\n",
       "      <th>Toronto, CAN</th>\n",
       "      <td>12</td>\n",
       "      <td>0.569036</td>\n",
       "      <td>166.6080</td>\n",
       "      <td>0.516925</td>\n",
       "    </tr>\n",
       "    <tr>\n",
       "      <th>Irvine, USA</th>\n",
       "      <td>11</td>\n",
       "      <td>0.100000</td>\n",
       "      <td>187.1000</td>\n",
       "      <td>0.000010</td>\n",
       "    </tr>\n",
       "    <tr>\n",
       "      <th>Atlanta, USA</th>\n",
       "      <td>11</td>\n",
       "      <td>0.522633</td>\n",
       "      <td>107.5000</td>\n",
       "      <td>0.900879</td>\n",
       "    </tr>\n",
       "    <tr>\n",
       "      <th>Amsterdam, NLD</th>\n",
       "      <td>11</td>\n",
       "      <td>0.550581</td>\n",
       "      <td>101.0880</td>\n",
       "      <td>1.480752</td>\n",
       "    </tr>\n",
       "    <tr>\n",
       "      <th>Scottsdale, USA</th>\n",
       "      <td>11</td>\n",
       "      <td>0.242242</td>\n",
       "      <td>133.2000</td>\n",
       "      <td>0.004872</td>\n",
       "    </tr>\n",
       "    <tr>\n",
       "      <th>Mumbai, IND</th>\n",
       "      <td>11</td>\n",
       "      <td>0.421997</td>\n",
       "      <td>46.8000</td>\n",
       "      <td>3.024501</td>\n",
       "    </tr>\n",
       "    <tr>\n",
       "      <th>Reston, USA</th>\n",
       "      <td>10</td>\n",
       "      <td>0.533608</td>\n",
       "      <td>138.9000</td>\n",
       "      <td>0.473553</td>\n",
       "    </tr>\n",
       "  </tbody>\n",
       "</table>\n",
       "</div>"
      ],
      "text/plain": [
       "                    local_comp  dist_param  cost_param      score\n",
       "New York, USA              127    0.720206    187.2000   7.987872\n",
       "San Francisco, USA         127    0.809472    269.3000  11.195347\n",
       "London, GBR                 86    0.608738    140.4000   4.018391\n",
       "Chicago, USA                32    0.360587    106.9000   0.201205\n",
       "San Jose, USA               31    0.793672    214.5000   7.605419\n",
       "Paris, FRA                  29    0.100000    156.0000   0.000031\n",
       "Tokyo, JPN                  29    0.568953    124.8000   2.018585\n",
       "Seattle, USA                25    0.100000    172.3000   0.000022\n",
       "Beijing, CHN                21    0.100000     93.6000   0.000102\n",
       "Austin, USA                 20    0.100000    119.3000   0.000051\n",
       "San Mateo, USA              20    0.562873    270.6000   0.214499\n",
       "Los Angeles, USA            20    0.818372    173.3000  14.443960\n",
       "Shanghai, CHN               18    0.100000    118.6848   0.000048\n",
       "Singapore, SGP              18    0.100000    280.8000   0.000005\n",
       "Mountain View, USA          17    0.823824    315.4000   3.355493\n",
       "Cambridge, USA              17    0.608637    181.8000   0.836807\n",
       "Palo Alto, USA              16    0.823732    471.0000   1.319316\n",
       "San Diego, USA              15    0.418538    160.1000   0.102755\n",
       "Santa Clara, USA            15    0.812497    250.0000   4.374977\n",
       "Sunnyvale, USA              14    0.823579    300.1000   3.249886\n",
       "Bangalore, IND              14    0.100000     18.7200   0.020318\n",
       "Madrid, ESP                 14    0.100000     93.6000   0.000077\n",
       "Berlin, DEU                 14    0.292358     93.6000   0.048062\n",
       "Chennai, IND                13    0.100000     12.4800   0.124367\n",
       "Fremont, USA                12    0.608421    227.3000   0.370841\n",
       "Boston, USA                 12    0.450243    162.4000   0.129722\n",
       "Santa Monica, USA           12    0.822090    304.5000   2.717978\n",
       "Toronto, CAN                12    0.569036    166.6080   0.516925\n",
       "Irvine, USA                 11    0.100000    187.1000   0.000010\n",
       "Atlanta, USA                11    0.522633    107.5000   0.900879\n",
       "Amsterdam, NLD              11    0.550581    101.0880   1.480752\n",
       "Scottsdale, USA             11    0.242242    133.2000   0.004872\n",
       "Mumbai, IND                 11    0.421997     46.8000   3.024501\n",
       "Reston, USA                 10    0.533608    138.9000   0.473553"
      ]
     },
     "execution_count": 22,
     "metadata": {},
     "output_type": "execute_result"
    }
   ],
   "source": [
    "metric_df"
   ]
  },
  {
   "cell_type": "code",
   "execution_count": null,
   "metadata": {},
   "outputs": [],
   "source": []
  }
 ],
 "metadata": {
  "kernelspec": {
   "display_name": "Python 3",
   "language": "python",
   "name": "python3"
  },
  "language_info": {
   "codemirror_mode": {
    "name": "ipython",
    "version": 3
   },
   "file_extension": ".py",
   "mimetype": "text/x-python",
   "name": "python",
   "nbconvert_exporter": "python",
   "pygments_lexer": "ipython3",
   "version": "3.7.3"
  }
 },
 "nbformat": 4,
 "nbformat_minor": 2
}
